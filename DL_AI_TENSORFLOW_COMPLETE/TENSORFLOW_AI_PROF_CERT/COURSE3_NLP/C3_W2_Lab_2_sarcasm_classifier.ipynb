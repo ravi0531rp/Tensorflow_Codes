{
  "nbformat": 4,
  "nbformat_minor": 0,
  "metadata": {
    "accelerator": "GPU",
    "colab": {
      "name": "C3_W2_Lab_2_sarcasm_classifier.ipynb",
      "provenance": [],
      "collapsed_sections": [],
      "toc_visible": true
    },
    "kernelspec": {
      "name": "python3",
      "display_name": "Python 3"
    },
    "language_info": {
      "name": "python"
    }
  },
  "cells": [
    {
      "cell_type": "code",
      "metadata": {
        "id": "XYYDvoskkE61"
      },
      "source": [
        "import json\n",
        "import tensorflow as tf\n",
        "\n",
        "from tensorflow.keras.preprocessing.text import Tokenizer\n",
        "from tensorflow.keras.preprocessing.sequence import pad_sequences"
      ],
      "execution_count": 1,
      "outputs": []
    },
    {
      "cell_type": "code",
      "metadata": {
        "id": "0eJSTTYnkJQd"
      },
      "source": [
        "vocab_size = 10000\n",
        "embedding_dim = 32\n",
        "max_length = 200\n",
        "trunc_type='post'\n",
        "padding_type='post'\n",
        "oov_tok = \"<OOV>\"\n",
        "training_size = 20000\n"
      ],
      "execution_count": 2,
      "outputs": []
    },
    {
      "cell_type": "code",
      "metadata": {
        "id": "BQVuQrZNkPn9",
        "colab": {
          "base_uri": "https://localhost:8080/"
        },
        "outputId": "fa26a091-66ac-4b9d-e78a-2077a6e61a6e"
      },
      "source": [
        "# sarcasm.json\n",
        "!gdown --id 1xRU3xY5-tkiPGvlz5xBJ18_pHWSRzI4v"
      ],
      "execution_count": 3,
      "outputs": [
        {
          "output_type": "stream",
          "name": "stdout",
          "text": [
            "Downloading...\n",
            "From: https://drive.google.com/uc?id=1xRU3xY5-tkiPGvlz5xBJ18_pHWSRzI4v\n",
            "To: /content/sarcasm.json\n",
            "\r  0% 0.00/5.64M [00:00<?, ?B/s]\r100% 5.64M/5.64M [00:00<00:00, 49.4MB/s]\n"
          ]
        }
      ]
    },
    {
      "cell_type": "code",
      "metadata": {
        "id": "oaLaaqhNkUPd"
      },
      "source": [
        "with open(\"./sarcasm.json\", 'r') as f:\n",
        "    datastore = json.load(f)\n",
        "\n",
        "sentences = []\n",
        "labels = []\n",
        "\n",
        "for item in datastore:\n",
        "    sentences.append(item['headline'])\n",
        "    labels.append(item['is_sarcastic'])"
      ],
      "execution_count": 4,
      "outputs": []
    },
    {
      "cell_type": "code",
      "metadata": {
        "colab": {
          "base_uri": "https://localhost:8080/",
          "height": 35
        },
        "id": "4qXd1Solm2ex",
        "outputId": "ee9fd5c3-1721-4416-d8ce-ef1e49becac1"
      },
      "source": [
        "sentences[0]"
      ],
      "execution_count": 5,
      "outputs": [
        {
          "output_type": "execute_result",
          "data": {
            "application/vnd.google.colaboratory.intrinsic+json": {
              "type": "string"
            },
            "text/plain": [
              "\"former versace store clerk sues over secret 'black code' for minority shoppers\""
            ]
          },
          "metadata": {},
          "execution_count": 5
        }
      ]
    },
    {
      "cell_type": "code",
      "metadata": {
        "colab": {
          "base_uri": "https://localhost:8080/"
        },
        "id": "vGq9ZaLCm2YZ",
        "outputId": "4607dcb4-dc30-40a3-bc4e-f8445ebe0001"
      },
      "source": [
        "labels[0]"
      ],
      "execution_count": 6,
      "outputs": [
        {
          "output_type": "execute_result",
          "data": {
            "text/plain": [
              "0"
            ]
          },
          "metadata": {},
          "execution_count": 6
        }
      ]
    },
    {
      "cell_type": "code",
      "metadata": {
        "id": "S1sD-7v0kYWk"
      },
      "source": [
        "training_sentences = sentences[0:training_size]\n",
        "testing_sentences = sentences[training_size:]\n",
        "training_labels = labels[0:training_size]\n",
        "testing_labels = labels[training_size:]"
      ],
      "execution_count": 7,
      "outputs": []
    },
    {
      "cell_type": "code",
      "metadata": {
        "id": "3u8UB0MCkZ5N"
      },
      "source": [
        "tokenizer = Tokenizer(num_words=vocab_size, oov_token=oov_tok)\n",
        "tokenizer.fit_on_texts(training_sentences)\n",
        "\n",
        "word_index = tokenizer.word_index\n",
        "\n",
        "training_sequences = tokenizer.texts_to_sequences(training_sentences)\n",
        "training_padded = pad_sequences(training_sequences, maxlen=max_length, padding=padding_type, truncating=trunc_type)\n",
        "\n",
        "testing_sequences = tokenizer.texts_to_sequences(testing_sentences)\n",
        "testing_padded = pad_sequences(testing_sequences, maxlen=max_length, padding=padding_type, truncating=trunc_type)"
      ],
      "execution_count": 8,
      "outputs": []
    },
    {
      "cell_type": "code",
      "metadata": {
        "id": "GrAlWBKf99Ya"
      },
      "source": [
        "import numpy as np\n",
        "training_padded = np.array(training_padded)\n",
        "training_labels = np.array(training_labels)\n",
        "testing_padded = np.array(testing_padded)\n",
        "testing_labels = np.array(testing_labels)"
      ],
      "execution_count": 9,
      "outputs": []
    },
    {
      "cell_type": "code",
      "metadata": {
        "id": "FufaT4vlkiDE"
      },
      "source": [
        "model = tf.keras.Sequential([\n",
        "    tf.keras.layers.Embedding(vocab_size, embedding_dim, input_length=max_length),\n",
        "    tf.keras.layers.GlobalAveragePooling1D(),\n",
        "    tf.keras.layers.Dense(24, activation='relu'),\n",
        "    tf.keras.layers.Dense(1, activation='sigmoid')\n",
        "])\n",
        "model.compile(loss='binary_crossentropy',optimizer='adam',metrics=['accuracy'])"
      ],
      "execution_count": 10,
      "outputs": []
    },
    {
      "cell_type": "code",
      "metadata": {
        "id": "XfDt1hmYkiys",
        "colab": {
          "base_uri": "https://localhost:8080/"
        },
        "outputId": "a975bded-81b0-48db-ace9-ef6f6c32445e"
      },
      "source": [
        "model.summary()\n"
      ],
      "execution_count": 11,
      "outputs": [
        {
          "output_type": "stream",
          "name": "stdout",
          "text": [
            "Model: \"sequential\"\n",
            "_________________________________________________________________\n",
            "Layer (type)                 Output Shape              Param #   \n",
            "=================================================================\n",
            "embedding (Embedding)        (None, 200, 32)           320000    \n",
            "_________________________________________________________________\n",
            "global_average_pooling1d (Gl (None, 32)                0         \n",
            "_________________________________________________________________\n",
            "dense (Dense)                (None, 24)                792       \n",
            "_________________________________________________________________\n",
            "dense_1 (Dense)              (None, 1)                 25        \n",
            "=================================================================\n",
            "Total params: 320,817\n",
            "Trainable params: 320,817\n",
            "Non-trainable params: 0\n",
            "_________________________________________________________________\n"
          ]
        }
      ]
    },
    {
      "cell_type": "markdown",
      "metadata": {
        "id": "AmKj8FV6nKU7"
      },
      "source": [
        "## SEE THE DIFFERENCE BROUGHT IN BY \"GlobalAveragePooling1D\"\n",
        "Instead of flattening out the 200,32 array as 200*32=6400 length vector ; it found the avergae value in each dimension & generated a 32 length vector ;\n",
        "Same purpose served (to flatten) ; but faster & a different method!!"
      ]
    },
    {
      "cell_type": "code",
      "metadata": {
        "id": "2DTKQFf1kkyc",
        "colab": {
          "base_uri": "https://localhost:8080/"
        },
        "outputId": "be4307b1-aa00-40e7-84fc-965a2b08c55a"
      },
      "source": [
        "num_epochs = 30\n",
        "history = model.fit(training_padded, training_labels, epochs=num_epochs, validation_data=(testing_padded, testing_labels), verbose=2)"
      ],
      "execution_count": 12,
      "outputs": [
        {
          "output_type": "stream",
          "name": "stdout",
          "text": [
            "Epoch 1/30\n",
            "625/625 - 6s - loss: 0.6675 - accuracy: 0.5804 - val_loss: 0.5876 - val_accuracy: 0.7332\n",
            "Epoch 2/30\n",
            "625/625 - 3s - loss: 0.4336 - accuracy: 0.8260 - val_loss: 0.3872 - val_accuracy: 0.8384\n",
            "Epoch 3/30\n",
            "625/625 - 3s - loss: 0.3152 - accuracy: 0.8737 - val_loss: 0.3669 - val_accuracy: 0.8371\n",
            "Epoch 4/30\n",
            "625/625 - 3s - loss: 0.2684 - accuracy: 0.8924 - val_loss: 0.3517 - val_accuracy: 0.8501\n",
            "Epoch 5/30\n",
            "625/625 - 3s - loss: 0.2293 - accuracy: 0.9121 - val_loss: 0.3490 - val_accuracy: 0.8506\n",
            "Epoch 6/30\n",
            "625/625 - 3s - loss: 0.2047 - accuracy: 0.9214 - val_loss: 0.3624 - val_accuracy: 0.8445\n",
            "Epoch 7/30\n",
            "625/625 - 2s - loss: 0.1827 - accuracy: 0.9318 - val_loss: 0.3810 - val_accuracy: 0.8454\n",
            "Epoch 8/30\n",
            "625/625 - 2s - loss: 0.1626 - accuracy: 0.9403 - val_loss: 0.3721 - val_accuracy: 0.8547\n",
            "Epoch 9/30\n",
            "625/625 - 2s - loss: 0.1481 - accuracy: 0.9459 - val_loss: 0.4255 - val_accuracy: 0.8357\n",
            "Epoch 10/30\n",
            "625/625 - 3s - loss: 0.1360 - accuracy: 0.9511 - val_loss: 0.4424 - val_accuracy: 0.8335\n",
            "Epoch 11/30\n",
            "625/625 - 2s - loss: 0.1248 - accuracy: 0.9550 - val_loss: 0.4247 - val_accuracy: 0.8502\n",
            "Epoch 12/30\n",
            "625/625 - 2s - loss: 0.1143 - accuracy: 0.9597 - val_loss: 0.4616 - val_accuracy: 0.8407\n",
            "Epoch 13/30\n",
            "625/625 - 3s - loss: 0.1051 - accuracy: 0.9629 - val_loss: 0.4700 - val_accuracy: 0.8450\n",
            "Epoch 14/30\n",
            "625/625 - 3s - loss: 0.0996 - accuracy: 0.9650 - val_loss: 0.5023 - val_accuracy: 0.8405\n",
            "Epoch 15/30\n",
            "625/625 - 3s - loss: 0.0894 - accuracy: 0.9696 - val_loss: 0.5412 - val_accuracy: 0.8331\n",
            "Epoch 16/30\n",
            "625/625 - 2s - loss: 0.0830 - accuracy: 0.9724 - val_loss: 0.5448 - val_accuracy: 0.8360\n",
            "Epoch 17/30\n",
            "625/625 - 2s - loss: 0.0790 - accuracy: 0.9731 - val_loss: 0.5763 - val_accuracy: 0.8322\n",
            "Epoch 18/30\n",
            "625/625 - 3s - loss: 0.0741 - accuracy: 0.9751 - val_loss: 0.6264 - val_accuracy: 0.8317\n",
            "Epoch 19/30\n",
            "625/625 - 3s - loss: 0.0679 - accuracy: 0.9776 - val_loss: 0.6272 - val_accuracy: 0.8323\n",
            "Epoch 20/30\n",
            "625/625 - 3s - loss: 0.0622 - accuracy: 0.9795 - val_loss: 0.7047 - val_accuracy: 0.8267\n",
            "Epoch 21/30\n",
            "625/625 - 3s - loss: 0.0621 - accuracy: 0.9787 - val_loss: 0.7134 - val_accuracy: 0.8268\n",
            "Epoch 22/30\n",
            "625/625 - 3s - loss: 0.0540 - accuracy: 0.9829 - val_loss: 0.7220 - val_accuracy: 0.8281\n",
            "Epoch 23/30\n",
            "625/625 - 2s - loss: 0.0509 - accuracy: 0.9830 - val_loss: 0.7467 - val_accuracy: 0.8213\n",
            "Epoch 24/30\n",
            "625/625 - 2s - loss: 0.0472 - accuracy: 0.9847 - val_loss: 0.7939 - val_accuracy: 0.8243\n",
            "Epoch 25/30\n",
            "625/625 - 3s - loss: 0.0442 - accuracy: 0.9858 - val_loss: 0.8063 - val_accuracy: 0.8250\n",
            "Epoch 26/30\n",
            "625/625 - 2s - loss: 0.0436 - accuracy: 0.9857 - val_loss: 0.8394 - val_accuracy: 0.8235\n",
            "Epoch 27/30\n",
            "625/625 - 2s - loss: 0.0394 - accuracy: 0.9879 - val_loss: 0.9003 - val_accuracy: 0.8171\n",
            "Epoch 28/30\n",
            "625/625 - 2s - loss: 0.0374 - accuracy: 0.9883 - val_loss: 0.9118 - val_accuracy: 0.8201\n",
            "Epoch 29/30\n",
            "625/625 - 2s - loss: 0.0353 - accuracy: 0.9889 - val_loss: 0.9361 - val_accuracy: 0.8196\n",
            "Epoch 30/30\n",
            "625/625 - 3s - loss: 0.0317 - accuracy: 0.9905 - val_loss: 0.9644 - val_accuracy: 0.8170\n"
          ]
        }
      ]
    },
    {
      "cell_type": "code",
      "metadata": {
        "id": "2HYfBKXjkmU8",
        "colab": {
          "base_uri": "https://localhost:8080/",
          "height": 543
        },
        "outputId": "02be282b-07f3-46b4-d907-cea0e1298ba9"
      },
      "source": [
        "import matplotlib.pyplot as plt\n",
        "\n",
        "\n",
        "def plot_graphs(history, string):\n",
        "  plt.plot(history.history[string])\n",
        "  plt.plot(history.history['val_'+string])\n",
        "  plt.xlabel(\"Epochs\")\n",
        "  plt.ylabel(string)\n",
        "  plt.legend([string, 'val_'+string])\n",
        "  plt.show()\n",
        "  \n",
        "plot_graphs(history, \"accuracy\")\n",
        "plot_graphs(history, \"loss\")"
      ],
      "execution_count": 13,
      "outputs": [
        {
          "output_type": "display_data",
          "data": {
            "image/png": "[encoded data removed]",
            "text/plain": [
              "<Figure size 432x288 with 1 Axes>"
            ]
          },
          "metadata": {
            "needs_background": "light"
          }
        },
        {
          "output_type": "display_data",
          "data": {
            "image/png": "[encoded data removed]",
            "text/plain": [
              "<Figure size 432x288 with 1 Axes>"
            ]
          },
          "metadata": {
            "needs_background": "light"
          }
        }
      ]
    },
    {
      "cell_type": "code",
      "metadata": {
        "id": "7SBdAZAenvzL",
        "colab": {
          "base_uri": "https://localhost:8080/"
        },
        "outputId": "064848c7-fcf8-4bed-c5a5-a228e4600f33"
      },
      "source": [
        "reverse_word_index = dict([(value, key) for (key, value) in word_index.items()])\n",
        "\n",
        "def decode_sentence(text):\n",
        "    return ' '.join([reverse_word_index.get(i, '?') for i in text])\n",
        "\n",
        "print(decode_sentence(training_padded[0]))\n",
        "print(training_sentences[2])\n",
        "print(labels[2])"
      ],
      "execution_count": 14,
      "outputs": [
        {
          "output_type": "stream",
          "name": "stdout",
          "text": [
            "former <OOV> store clerk sues over secret 'black <OOV> for minority shoppers ? ? ? ? ? ? ? ? ? ? ? ? ? ? ? ? ? ? ? ? ? ? ? ? ? ? ? ? ? ? ? ? ? ? ? ? ? ? ? ? ? ? ? ? ? ? ? ? ? ? ? ? ? ? ? ? ? ? ? ? ? ? ? ? ? ? ? ? ? ? ? ? ? ? ? ? ? ? ? ? ? ? ? ? ? ? ? ? ? ? ? ? ? ? ? ? ? ? ? ? ? ? ? ? ? ? ? ? ? ? ? ? ? ? ? ? ? ? ? ? ? ? ? ? ? ? ? ? ? ? ? ? ? ? ? ? ? ? ? ? ? ? ? ? ? ? ? ? ? ? ? ? ? ? ? ? ? ? ? ? ? ? ? ? ? ? ? ? ? ? ? ? ? ? ? ? ? ? ? ? ? ? ? ? ? ? ? ?\n",
            "mom starting to fear son's web series closest thing she will have to grandchild\n",
            "1\n"
          ]
        }
      ]
    },
    {
      "cell_type": "code",
      "metadata": {
        "id": "c9MqihtEkzQ9",
        "colab": {
          "base_uri": "https://localhost:8080/"
        },
        "outputId": "5c3f2046-9046-4b86-d951-3df4e8a73a1e"
      },
      "source": [
        "e = model.layers[0]\n",
        "weights = e.get_weights()[0]\n",
        "print(weights.shape) # shape: (vocab_size, embedding_dim)\n"
      ],
      "execution_count": 15,
      "outputs": [
        {
          "output_type": "stream",
          "name": "stdout",
          "text": [
            "(10000, 32)\n"
          ]
        }
      ]
    },
    {
      "cell_type": "code",
      "metadata": {
        "id": "LoBXVffknldU"
      },
      "source": [
        "import io\n",
        "\n",
        "out_v = io.open('vecs.tsv', 'w', encoding='utf-8')\n",
        "out_m = io.open('meta.tsv', 'w', encoding='utf-8')\n",
        "for word_num in range(1, vocab_size):\n",
        "  word = reverse_word_index[word_num]\n",
        "  embeddings = weights[word_num]\n",
        "  out_m.write(word + \"\\n\")\n",
        "  out_v.write('\\t'.join([str(x) for x in embeddings]) + \"\\n\")\n",
        "out_v.close()\n",
        "out_m.close()"
      ],
      "execution_count": 16,
      "outputs": []
    },
    {
      "cell_type": "code",
      "metadata": {
        "id": "U4eZ5HtVnnEE"
      },
      "source": [
        "try:\n",
        "  from google.colab import files\n",
        "except ImportError:\n",
        "  pass\n",
        "else:\n",
        "  files.download('vecs.tsv')\n",
        "  files.download('meta.tsv')"
      ],
      "execution_count": null,
      "outputs": []
    },
    {
      "cell_type": "code",
      "metadata": {
        "id": "cG8-ArY-qDcz"
      },
      "source": [
        "sentence = [\"granny starting to fear spiders in the garden might be real\", \"game of thrones season finale showing this sunday night\"]\n",
        "sequences = tokenizer.texts_to_sequences(sentence)\n",
        "padded = pad_sequences(sequences, maxlen=max_length, padding=padding_type, truncating=trunc_type)\n",
        "results = model.predict(padded)"
      ],
      "execution_count": 19,
      "outputs": []
    },
    {
      "cell_type": "code",
      "metadata": {
        "id": "xPFObL3nSM2m",
        "colab": {
          "base_uri": "https://localhost:8080/"
        },
        "outputId": "855324ee-3947-42bd-858f-05ff3c1b4adf"
      },
      "source": [
        "thresholding_value = 0.5\n",
        "\n",
        "for idx, res in enumerate(results):\n",
        "  if np.squeeze(res) > thresholding_value:\n",
        "    print(sentence[idx], \" : \", \"Sarcasm\")\n",
        "  else:\n",
        "    print(sentence[idx], \" : \", \"Not Sarcasm\")"
      ],
      "execution_count": 21,
      "outputs": [
        {
          "output_type": "stream",
          "name": "stdout",
          "text": [
            "granny starting to fear spiders in the garden might be real  :  Sarcasm\n",
            "game of thrones season finale showing this sunday night  :  Not Sarcasm\n"
          ]
        }
      ]
    },
    {
      "cell_type": "code",
      "metadata": {
        "id": "Qcmejb-kohyc"
      },
      "source": [
        ""
      ],
      "execution_count": null,
      "outputs": []
    }
  ]
}