{
  "nbformat": 4,
  "nbformat_minor": 0,
  "metadata": {
    "accelerator": "GPU",
    "colab": {
      "name": "C3_W4_Lab_1_Generating_Poetry.ipynb",
      "provenance": [],
      "collapsed_sections": [],
      "toc_visible": true
    },
    "kernelspec": {
      "name": "python3",
      "display_name": "Python 3"
    },
    "language_info": {
      "name": "python"
    }
  },
  "cells": [
    {
      "cell_type": "code",
      "metadata": {
        "id": "BOwsuGQQY9OL"
      },
      "source": [
        "import tensorflow as tf\n",
        "\n",
        "from tensorflow.keras.preprocessing.sequence import pad_sequences\n",
        "from tensorflow.keras.layers import Embedding, LSTM, Dense, Bidirectional\n",
        "from tensorflow.keras.preprocessing.text import Tokenizer\n",
        "from tensorflow.keras.models import Sequential\n",
        "from tensorflow.keras.optimizers import Adam\n",
        "import numpy as np "
      ],
      "execution_count": 1,
      "outputs": []
    },
    {
      "cell_type": "code",
      "metadata": {
        "id": "PRnDnCW-Z7qv",
        "colab": {
          "base_uri": "https://localhost:8080/"
        },
        "outputId": "9d9fb388-96ac-4c3a-cd9e-e3ab6e6e7c16"
      },
      "source": [
        "tokenizer = Tokenizer()\n",
        "\n",
        "data=\"In the town of Athy one Jeremy Lanigan \\n Battered away til he hadnt a pound. \\nHis father died and made him a man again \\n Left him a farm and ten acres of ground. \\nHe gave a grand party for friends and relations \\nWho didnt forget him when come to the wall, \\nAnd if youll but listen Ill make your eyes glisten \\nOf the rows and the ructions of Lanigans Ball. \\nMyself to be sure got free invitation, \\nFor all the nice girls and boys I might ask, \\nAnd just in a minute both friends and relations \\nWere dancing round merry as bees round a cask. \\nJudy ODaly, that nice little milliner, \\nShe tipped me a wink for to give her a call, \\nAnd I soon arrived with Peggy McGilligan \\nJust in time for Lanigans Ball. \\nThere were lashings of punch and wine for the ladies, \\nPotatoes and cakes; there was bacon and tea, \\nThere were the Nolans, Dolans, OGradys \\nCourting the girls and dancing away. \\nSongs they went round as plenty as water, \\nThe harp that once sounded in Taras old hall,\\nSweet Nelly Gray and The Rat Catchers Daughter,\\nAll singing together at Lanigans Ball. \\nThey were doing all kinds of nonsensical polkas \\nAll round the room in a whirligig. \\nJulia and I, we banished their nonsense \\nAnd tipped them the twist of a reel and a jig. \\nAch mavrone, how the girls got all mad at me \\nDanced til youd think the ceiling would fall. \\nFor I spent three weeks at Brooks Academy \\nLearning new steps for Lanigans Ball. \\nThree long weeks I spent up in Dublin, \\nThree long weeks to learn nothing at all,\\n Three long weeks I spent up in Dublin, \\nLearning new steps for Lanigans Ball. \\nShe stepped out and I stepped in again, \\nI stepped out and she stepped in again, \\nShe stepped out and I stepped in again, \\nLearning new steps for Lanigans Ball. \\nBoys were all merry and the girls they were hearty \\nAnd danced all around in couples and groups, \\nTil an accident happened, young Terrance McCarthy \\nPut his right leg through miss Finnertys hoops. \\nPoor creature fainted and cried Meelia murther, \\nCalled for her brothers and gathered them all. \\nCarmody swore that hed go no further \\nTil he had satisfaction at Lanigans Ball. \\nIn the midst of the row miss Kerrigan fainted, \\nHer cheeks at the same time as red as a rose. \\nSome of the lads declared she was painted, \\nShe took a small drop too much, I suppose. \\nHer sweetheart, Ned Morgan, so powerful and able, \\nWhen he saw his fair colleen stretched out by the wall, \\nTore the left leg from under the table \\nAnd smashed all the Chaneys at Lanigans Ball. \\nBoys, oh boys, twas then there were runctions. \\nMyself got a lick from big Phelim McHugh. \\nI soon replied to his introduction \\nAnd kicked up a terrible hullabaloo. \\nOld Casey, the piper, was near being strangled. \\nThey squeezed up his pipes, bellows, chanters and all. \\nThe girls, in their ribbons, they got all entangled \\nAnd that put an end to Lanigans Ball.\"\n",
        "\n",
        "corpus = data.lower().split(\"\\n\")\n",
        "\n",
        "tokenizer.fit_on_texts(corpus)\n",
        "total_words = len(tokenizer.word_index) + 1\n",
        "\n",
        "print(tokenizer.word_index)\n",
        "print(total_words)\n"
      ],
      "execution_count": 2,
      "outputs": [
        {
          "output_type": "stream",
          "name": "stdout",
          "text": [
            "{'and': 1, 'the': 2, 'a': 3, 'in': 4, 'all': 5, 'i': 6, 'for': 7, 'of': 8, 'lanigans': 9, 'ball': 10, 'were': 11, 'at': 12, 'to': 13, 'she': 14, 'stepped': 15, 'his': 16, 'girls': 17, 'as': 18, 'they': 19, 'til': 20, 'he': 21, 'again': 22, 'got': 23, 'boys': 24, 'round': 25, 'that': 26, 'her': 27, 'there': 28, 'three': 29, 'weeks': 30, 'up': 31, 'out': 32, 'him': 33, 'was': 34, 'spent': 35, 'learning': 36, 'new': 37, 'steps': 38, 'long': 39, 'away': 40, 'left': 41, 'friends': 42, 'relations': 43, 'when': 44, 'wall': 45, 'myself': 46, 'nice': 47, 'just': 48, 'dancing': 49, 'merry': 50, 'tipped': 51, 'me': 52, 'soon': 53, 'time': 54, 'old': 55, 'their': 56, 'them': 57, 'danced': 58, 'dublin': 59, 'an': 60, 'put': 61, 'leg': 62, 'miss': 63, 'fainted': 64, 'from': 65, 'town': 66, 'athy': 67, 'one': 68, 'jeremy': 69, 'lanigan': 70, 'battered': 71, 'hadnt': 72, 'pound': 73, 'father': 74, 'died': 75, 'made': 76, 'man': 77, 'farm': 78, 'ten': 79, 'acres': 80, 'ground': 81, 'gave': 82, 'grand': 83, 'party': 84, 'who': 85, 'didnt': 86, 'forget': 87, 'come': 88, 'if': 89, 'youll': 90, 'but': 91, 'listen': 92, 'ill': 93, 'make': 94, 'your': 95, 'eyes': 96, 'glisten': 97, 'rows': 98, 'ructions': 99, 'be': 100, 'sure': 101, 'free': 102, 'invitation': 103, 'might': 104, 'ask': 105, 'minute': 106, 'both': 107, 'bees': 108, 'cask': 109, 'judy': 110, 'odaly': 111, 'little': 112, 'milliner': 113, 'wink': 114, 'give': 115, 'call': 116, 'arrived': 117, 'with': 118, 'peggy': 119, 'mcgilligan': 120, 'lashings': 121, 'punch': 122, 'wine': 123, 'ladies': 124, 'potatoes': 125, 'cakes': 126, 'bacon': 127, 'tea': 128, 'nolans': 129, 'dolans': 130, 'ogradys': 131, 'courting': 132, 'songs': 133, 'went': 134, 'plenty': 135, 'water': 136, 'harp': 137, 'once': 138, 'sounded': 139, 'taras': 140, 'hall': 141, 'sweet': 142, 'nelly': 143, 'gray': 144, 'rat': 145, 'catchers': 146, 'daughter': 147, 'singing': 148, 'together': 149, 'doing': 150, 'kinds': 151, 'nonsensical': 152, 'polkas': 153, 'room': 154, 'whirligig': 155, 'julia': 156, 'we': 157, 'banished': 158, 'nonsense': 159, 'twist': 160, 'reel': 161, 'jig': 162, 'ach': 163, 'mavrone': 164, 'how': 165, 'mad': 166, 'youd': 167, 'think': 168, 'ceiling': 169, 'would': 170, 'fall': 171, 'brooks': 172, 'academy': 173, 'learn': 174, 'nothing': 175, 'hearty': 176, 'around': 177, 'couples': 178, 'groups': 179, 'accident': 180, 'happened': 181, 'young': 182, 'terrance': 183, 'mccarthy': 184, 'right': 185, 'through': 186, 'finnertys': 187, 'hoops': 188, 'poor': 189, 'creature': 190, 'cried': 191, 'meelia': 192, 'murther': 193, 'called': 194, 'brothers': 195, 'gathered': 196, 'carmody': 197, 'swore': 198, 'hed': 199, 'go': 200, 'no': 201, 'further': 202, 'had': 203, 'satisfaction': 204, 'midst': 205, 'row': 206, 'kerrigan': 207, 'cheeks': 208, 'same': 209, 'red': 210, 'rose': 211, 'some': 212, 'lads': 213, 'declared': 214, 'painted': 215, 'took': 216, 'small': 217, 'drop': 218, 'too': 219, 'much': 220, 'suppose': 221, 'sweetheart': 222, 'ned': 223, 'morgan': 224, 'so': 225, 'powerful': 226, 'able': 227, 'saw': 228, 'fair': 229, 'colleen': 230, 'stretched': 231, 'by': 232, 'tore': 233, 'under': 234, 'table': 235, 'smashed': 236, 'chaneys': 237, 'oh': 238, 'twas': 239, 'then': 240, 'runctions': 241, 'lick': 242, 'big': 243, 'phelim': 244, 'mchugh': 245, 'replied': 246, 'introduction': 247, 'kicked': 248, 'terrible': 249, 'hullabaloo': 250, 'casey': 251, 'piper': 252, 'near': 253, 'being': 254, 'strangled': 255, 'squeezed': 256, 'pipes': 257, 'bellows': 258, 'chanters': 259, 'ribbons': 260, 'entangled': 261, 'end': 262}\n",
            "263\n"
          ]
        }
      ]
    },
    {
      "cell_type": "code",
      "metadata": {
        "colab": {
          "base_uri": "https://localhost:8080/",
          "height": 35
        },
        "id": "6tAWgO_Vp3y4",
        "outputId": "9263312f-ed3f-4299-df13-c1025a14ebb4"
      },
      "source": [
        "corpus[0]"
      ],
      "execution_count": 3,
      "outputs": [
        {
          "output_type": "execute_result",
          "data": {
            "application/vnd.google.colaboratory.intrinsic+json": {
              "type": "string"
            },
            "text/plain": [
              "'in the town of athy one jeremy lanigan '"
            ]
          },
          "metadata": {},
          "execution_count": 3
        }
      ]
    },
    {
      "cell_type": "code",
      "metadata": {
        "id": "soPGVheskaQP"
      },
      "source": [
        "input_sequences = []\n",
        "for line in corpus: # one sample line like 'in the town of athy one jeremy lanigan'\n",
        "\ttoken_list = tokenizer.texts_to_sequences([line])[0] #\n",
        "\tfor i in range(1, len(token_list)):\n",
        "\t\tn_gram_sequence = token_list[:i+1]\n",
        "\t\tinput_sequences.append(n_gram_sequence)\n",
        "\n",
        "# pad sequences \n",
        "max_sequence_len = max([len(x) for x in input_sequences])\n",
        "input_sequences = np.array(pad_sequences(input_sequences, maxlen=max_sequence_len, padding='pre'))\n",
        "\n",
        "# create predictors and label\n",
        "xs, labels = input_sequences[:,:-1],input_sequences[:,-1]\n",
        "\n",
        "ys = tf.keras.utils.to_categorical(labels, num_classes=total_words)"
      ],
      "execution_count": 4,
      "outputs": []
    },
    {
      "cell_type": "code",
      "metadata": {
        "colab": {
          "base_uri": "https://localhost:8080/"
        },
        "id": "z3_e3ttDuf-d",
        "outputId": "5a91eab3-7abc-430d-ef0d-b32a52d9a573"
      },
      "source": [
        "token_list"
      ],
      "execution_count": 28,
      "outputs": [
        {
          "output_type": "execute_result",
          "data": {
            "text/plain": [
              "array([[  0,   0,   0,   0,   0,   0,   0, 134,  13,  59]], dtype=int32)"
            ]
          },
          "metadata": {},
          "execution_count": 28
        }
      ]
    },
    {
      "cell_type": "markdown",
      "metadata": {
        "id": "BbS9YEc9q9Mf"
      },
      "source": [
        "# EXPLORING THE ABOVE LINES OF CODE AS SEPARATE *LINES*"
      ]
    },
    {
      "cell_type": "code",
      "metadata": {
        "colab": {
          "base_uri": "https://localhost:8080/",
          "height": 35
        },
        "id": "Zb9VsYmUqyvk",
        "outputId": "cf88893e-f87a-42c0-ece4-5737fad880a8"
      },
      "source": [
        "corpus[0]"
      ],
      "execution_count": 7,
      "outputs": [
        {
          "output_type": "execute_result",
          "data": {
            "application/vnd.google.colaboratory.intrinsic+json": {
              "type": "string"
            },
            "text/plain": [
              "'in the town of athy one jeremy lanigan '"
            ]
          },
          "metadata": {},
          "execution_count": 7
        }
      ]
    },
    {
      "cell_type": "code",
      "metadata": {
        "colab": {
          "base_uri": "https://localhost:8080/"
        },
        "id": "VqBJ3GxGquD_",
        "outputId": "489f7e0e-ed05-457c-efee-e6e0b773e45e"
      },
      "source": [
        "temp_token_list = tokenizer.texts_to_sequences([corpus[0]])[0]\n",
        "temp_token_list"
      ],
      "execution_count": 9,
      "outputs": [
        {
          "output_type": "execute_result",
          "data": {
            "text/plain": [
              "[4, 2, 66, 8, 67, 68, 69, 70]"
            ]
          },
          "metadata": {},
          "execution_count": 9
        }
      ]
    },
    {
      "cell_type": "code",
      "metadata": {
        "colab": {
          "base_uri": "https://localhost:8080/"
        },
        "id": "rP1vH2zbqttz",
        "outputId": "d129de6f-28c2-401d-b671-e40e40f5a354"
      },
      "source": [
        "for i in range(1, len(temp_token_list)):  # Such extracted values for each senrtence go to input_sequence paramerter\n",
        "  print(temp_token_list[:i+1])"
      ],
      "execution_count": 10,
      "outputs": [
        {
          "output_type": "stream",
          "name": "stdout",
          "text": [
            "[4, 2]\n",
            "[4, 2, 66]\n",
            "[4, 2, 66, 8]\n",
            "[4, 2, 66, 8, 67]\n",
            "[4, 2, 66, 8, 67, 68]\n",
            "[4, 2, 66, 8, 67, 68, 69]\n",
            "[4, 2, 66, 8, 67, 68, 69, 70]\n"
          ]
        }
      ]
    },
    {
      "cell_type": "code",
      "metadata": {
        "colab": {
          "base_uri": "https://localhost:8080/"
        },
        "id": "LU6O4IJ0qWbS",
        "outputId": "2864e310-9678-4acb-e0f9-bf7cb8ae6ef3"
      },
      "source": [
        "temp_token_list[:i+1]  # values like this vectr will then get padded as per maxlen"
      ],
      "execution_count": 11,
      "outputs": [
        {
          "output_type": "execute_result",
          "data": {
            "text/plain": [
              "[4, 2, 66, 8, 67, 68, 69, 70]"
            ]
          },
          "metadata": {},
          "execution_count": 11
        }
      ]
    },
    {
      "cell_type": "code",
      "metadata": {
        "colab": {
          "base_uri": "https://localhost:8080/"
        },
        "id": "9taPVbYFqWUa",
        "outputId": "7e7b1450-3aed-4b94-88d8-b9d37498bd4b"
      },
      "source": [
        "input_sequences[0] # See 2 cells above, this was the first vector [4,2] generated from first sentence"
      ],
      "execution_count": 12,
      "outputs": [
        {
          "output_type": "execute_result",
          "data": {
            "text/plain": [
              "array([0, 0, 0, 0, 0, 0, 0, 0, 0, 4, 2], dtype=int32)"
            ]
          },
          "metadata": {},
          "execution_count": 12
        }
      ]
    },
    {
      "cell_type": "code",
      "metadata": {
        "colab": {
          "base_uri": "https://localhost:8080/"
        },
        "id": "VVobfk9CqWM3",
        "outputId": "0918b6ed-c756-4e4c-ff47-2669ccaf94f5"
      },
      "source": [
        "input_sequences.shape"
      ],
      "execution_count": 13,
      "outputs": [
        {
          "output_type": "execute_result",
          "data": {
            "text/plain": [
              "(453, 11)"
            ]
          },
          "metadata": {},
          "execution_count": 13
        }
      ]
    },
    {
      "cell_type": "code",
      "metadata": {
        "colab": {
          "base_uri": "https://localhost:8080/"
        },
        "id": "S9o2wNKatNwh",
        "outputId": "24ba29e9-57ae-4ef7-eb87-8c8b294c0e22"
      },
      "source": [
        "labels.shape"
      ],
      "execution_count": 20,
      "outputs": [
        {
          "output_type": "execute_result",
          "data": {
            "text/plain": [
              "(453,)"
            ]
          },
          "metadata": {},
          "execution_count": 20
        }
      ]
    },
    {
      "cell_type": "code",
      "metadata": {
        "colab": {
          "base_uri": "https://localhost:8080/"
        },
        "id": "VuEb-xkntT6e",
        "outputId": "928f30a2-de89-4dfd-a4b0-1255e0d1e5d8"
      },
      "source": [
        "ys.shape"
      ],
      "execution_count": 21,
      "outputs": [
        {
          "output_type": "execute_result",
          "data": {
            "text/plain": [
              "(453, 263)"
            ]
          },
          "metadata": {},
          "execution_count": 21
        }
      ]
    },
    {
      "cell_type": "code",
      "metadata": {
        "colab": {
          "base_uri": "https://localhost:8080/"
        },
        "id": "mntjKWLsqWDc",
        "outputId": "d6e0f02f-9efa-476e-8f9d-b9a3786cfb15"
      },
      "source": [
        "print(input_sequences[:,:-1][0])\n",
        "print(input_sequences[:,-1][0])  # See , it was originally [4,2] ; which means given 4 as input, we should get 2 as output"
      ],
      "execution_count": 15,
      "outputs": [
        {
          "output_type": "stream",
          "name": "stdout",
          "text": [
            "[0 0 0 0 0 0 0 0 0 4]\n",
            "2\n"
          ]
        }
      ]
    },
    {
      "cell_type": "code",
      "metadata": {
        "colab": {
          "base_uri": "https://localhost:8080/"
        },
        "id": "MVdQFPYWs-AY",
        "outputId": "5e13ed65-5be4-4a43-d1bb-466cc6a7f00a"
      },
      "source": [
        "print(input_sequences[:,:-1][1])\n",
        "print(input_sequences[:,-1][1])  # See , it was originally [4,2,66] ; which means given [4,2] as input, we should get 66 as output"
      ],
      "execution_count": 16,
      "outputs": [
        {
          "output_type": "stream",
          "name": "stdout",
          "text": [
            "[0 0 0 0 0 0 0 0 4 2]\n",
            "66\n"
          ]
        }
      ]
    },
    {
      "cell_type": "code",
      "metadata": {
        "id": "pJtwVB2NbOAP",
        "colab": {
          "base_uri": "https://localhost:8080/"
        },
        "outputId": "a07a61f4-de6f-4e2f-f5b6-4ff13ae9a091"
      },
      "source": [
        "print(tokenizer.word_index['in'])\n",
        "print(tokenizer.word_index['the'])\n",
        "print(tokenizer.word_index['town'])\n",
        "print(tokenizer.word_index['of'])\n",
        "print(tokenizer.word_index['athy'])\n",
        "print(tokenizer.word_index['one'])\n",
        "print(tokenizer.word_index['jeremy'])\n",
        "print(tokenizer.word_index['lanigan'])"
      ],
      "execution_count": 17,
      "outputs": [
        {
          "output_type": "stream",
          "name": "stdout",
          "text": [
            "4\n",
            "2\n",
            "66\n",
            "8\n",
            "67\n",
            "68\n",
            "69\n",
            "70\n"
          ]
        }
      ]
    },
    {
      "cell_type": "code",
      "metadata": {
        "id": "49Cv68JOakwv",
        "colab": {
          "base_uri": "https://localhost:8080/"
        },
        "outputId": "12dc88e0-0deb-42fc-83fa-598b5eaf26c8"
      },
      "source": [
        "print(xs[6])"
      ],
      "execution_count": 18,
      "outputs": [
        {
          "output_type": "stream",
          "name": "stdout",
          "text": [
            "[ 0  0  0  4  2 66  8 67 68 69]\n"
          ]
        }
      ]
    },
    {
      "cell_type": "code",
      "metadata": {
        "id": "iY-jwvfgbEF8",
        "colab": {
          "base_uri": "https://localhost:8080/"
        },
        "outputId": "80635153-25c2-4178-dfb7-49efdf4c266f"
      },
      "source": [
        "print(ys[6]) # one hot encoded"
      ],
      "execution_count": 19,
      "outputs": [
        {
          "output_type": "stream",
          "name": "stdout",
          "text": [
            "[0. 0. 0. 0. 0. 0. 0. 0. 0. 0. 0. 0. 0. 0. 0. 0. 0. 0. 0. 0. 0. 0. 0. 0.\n",
            " 0. 0. 0. 0. 0. 0. 0. 0. 0. 0. 0. 0. 0. 0. 0. 0. 0. 0. 0. 0. 0. 0. 0. 0.\n",
            " 0. 0. 0. 0. 0. 0. 0. 0. 0. 0. 0. 0. 0. 0. 0. 0. 0. 0. 0. 0. 0. 0. 1. 0.\n",
            " 0. 0. 0. 0. 0. 0. 0. 0. 0. 0. 0. 0. 0. 0. 0. 0. 0. 0. 0. 0. 0. 0. 0. 0.\n",
            " 0. 0. 0. 0. 0. 0. 0. 0. 0. 0. 0. 0. 0. 0. 0. 0. 0. 0. 0. 0. 0. 0. 0. 0.\n",
            " 0. 0. 0. 0. 0. 0. 0. 0. 0. 0. 0. 0. 0. 0. 0. 0. 0. 0. 0. 0. 0. 0. 0. 0.\n",
            " 0. 0. 0. 0. 0. 0. 0. 0. 0. 0. 0. 0. 0. 0. 0. 0. 0. 0. 0. 0. 0. 0. 0. 0.\n",
            " 0. 0. 0. 0. 0. 0. 0. 0. 0. 0. 0. 0. 0. 0. 0. 0. 0. 0. 0. 0. 0. 0. 0. 0.\n",
            " 0. 0. 0. 0. 0. 0. 0. 0. 0. 0. 0. 0. 0. 0. 0. 0. 0. 0. 0. 0. 0. 0. 0. 0.\n",
            " 0. 0. 0. 0. 0. 0. 0. 0. 0. 0. 0. 0. 0. 0. 0. 0. 0. 0. 0. 0. 0. 0. 0. 0.\n",
            " 0. 0. 0. 0. 0. 0. 0. 0. 0. 0. 0. 0. 0. 0. 0. 0. 0. 0. 0. 0. 0. 0. 0.]\n"
          ]
        }
      ]
    },
    {
      "cell_type": "code",
      "metadata": {
        "id": "wtzlUMYadhKt",
        "colab": {
          "base_uri": "https://localhost:8080/"
        },
        "outputId": "a29df955-e158-4c37-8bde-1072dffa438b"
      },
      "source": [
        "print(xs[5])\n",
        "print(ys[5])"
      ],
      "execution_count": 22,
      "outputs": [
        {
          "output_type": "stream",
          "name": "stdout",
          "text": [
            "[ 0  0  0  0  4  2 66  8 67 68]\n",
            "[0. 0. 0. 0. 0. 0. 0. 0. 0. 0. 0. 0. 0. 0. 0. 0. 0. 0. 0. 0. 0. 0. 0. 0.\n",
            " 0. 0. 0. 0. 0. 0. 0. 0. 0. 0. 0. 0. 0. 0. 0. 0. 0. 0. 0. 0. 0. 0. 0. 0.\n",
            " 0. 0. 0. 0. 0. 0. 0. 0. 0. 0. 0. 0. 0. 0. 0. 0. 0. 0. 0. 0. 0. 1. 0. 0.\n",
            " 0. 0. 0. 0. 0. 0. 0. 0. 0. 0. 0. 0. 0. 0. 0. 0. 0. 0. 0. 0. 0. 0. 0. 0.\n",
            " 0. 0. 0. 0. 0. 0. 0. 0. 0. 0. 0. 0. 0. 0. 0. 0. 0. 0. 0. 0. 0. 0. 0. 0.\n",
            " 0. 0. 0. 0. 0. 0. 0. 0. 0. 0. 0. 0. 0. 0. 0. 0. 0. 0. 0. 0. 0. 0. 0. 0.\n",
            " 0. 0. 0. 0. 0. 0. 0. 0. 0. 0. 0. 0. 0. 0. 0. 0. 0. 0. 0. 0. 0. 0. 0. 0.\n",
            " 0. 0. 0. 0. 0. 0. 0. 0. 0. 0. 0. 0. 0. 0. 0. 0. 0. 0. 0. 0. 0. 0. 0. 0.\n",
            " 0. 0. 0. 0. 0. 0. 0. 0. 0. 0. 0. 0. 0. 0. 0. 0. 0. 0. 0. 0. 0. 0. 0. 0.\n",
            " 0. 0. 0. 0. 0. 0. 0. 0. 0. 0. 0. 0. 0. 0. 0. 0. 0. 0. 0. 0. 0. 0. 0. 0.\n",
            " 0. 0. 0. 0. 0. 0. 0. 0. 0. 0. 0. 0. 0. 0. 0. 0. 0. 0. 0. 0. 0. 0. 0.]\n"
          ]
        }
      ]
    },
    {
      "cell_type": "code",
      "metadata": {
        "id": "H4myRpB1c4Gg",
        "colab": {
          "base_uri": "https://localhost:8080/"
        },
        "outputId": "f8b55fc7-5e88-46e1-9de0-5a0228a66eaf"
      },
      "source": [
        "print(tokenizer.word_index)"
      ],
      "execution_count": 23,
      "outputs": [
        {
          "output_type": "stream",
          "name": "stdout",
          "text": [
            "{'and': 1, 'the': 2, 'a': 3, 'in': 4, 'all': 5, 'i': 6, 'for': 7, 'of': 8, 'lanigans': 9, 'ball': 10, 'were': 11, 'at': 12, 'to': 13, 'she': 14, 'stepped': 15, 'his': 16, 'girls': 17, 'as': 18, 'they': 19, 'til': 20, 'he': 21, 'again': 22, 'got': 23, 'boys': 24, 'round': 25, 'that': 26, 'her': 27, 'there': 28, 'three': 29, 'weeks': 30, 'up': 31, 'out': 32, 'him': 33, 'was': 34, 'spent': 35, 'learning': 36, 'new': 37, 'steps': 38, 'long': 39, 'away': 40, 'left': 41, 'friends': 42, 'relations': 43, 'when': 44, 'wall': 45, 'myself': 46, 'nice': 47, 'just': 48, 'dancing': 49, 'merry': 50, 'tipped': 51, 'me': 52, 'soon': 53, 'time': 54, 'old': 55, 'their': 56, 'them': 57, 'danced': 58, 'dublin': 59, 'an': 60, 'put': 61, 'leg': 62, 'miss': 63, 'fainted': 64, 'from': 65, 'town': 66, 'athy': 67, 'one': 68, 'jeremy': 69, 'lanigan': 70, 'battered': 71, 'hadnt': 72, 'pound': 73, 'father': 74, 'died': 75, 'made': 76, 'man': 77, 'farm': 78, 'ten': 79, 'acres': 80, 'ground': 81, 'gave': 82, 'grand': 83, 'party': 84, 'who': 85, 'didnt': 86, 'forget': 87, 'come': 88, 'if': 89, 'youll': 90, 'but': 91, 'listen': 92, 'ill': 93, 'make': 94, 'your': 95, 'eyes': 96, 'glisten': 97, 'rows': 98, 'ructions': 99, 'be': 100, 'sure': 101, 'free': 102, 'invitation': 103, 'might': 104, 'ask': 105, 'minute': 106, 'both': 107, 'bees': 108, 'cask': 109, 'judy': 110, 'odaly': 111, 'little': 112, 'milliner': 113, 'wink': 114, 'give': 115, 'call': 116, 'arrived': 117, 'with': 118, 'peggy': 119, 'mcgilligan': 120, 'lashings': 121, 'punch': 122, 'wine': 123, 'ladies': 124, 'potatoes': 125, 'cakes': 126, 'bacon': 127, 'tea': 128, 'nolans': 129, 'dolans': 130, 'ogradys': 131, 'courting': 132, 'songs': 133, 'went': 134, 'plenty': 135, 'water': 136, 'harp': 137, 'once': 138, 'sounded': 139, 'taras': 140, 'hall': 141, 'sweet': 142, 'nelly': 143, 'gray': 144, 'rat': 145, 'catchers': 146, 'daughter': 147, 'singing': 148, 'together': 149, 'doing': 150, 'kinds': 151, 'nonsensical': 152, 'polkas': 153, 'room': 154, 'whirligig': 155, 'julia': 156, 'we': 157, 'banished': 158, 'nonsense': 159, 'twist': 160, 'reel': 161, 'jig': 162, 'ach': 163, 'mavrone': 164, 'how': 165, 'mad': 166, 'youd': 167, 'think': 168, 'ceiling': 169, 'would': 170, 'fall': 171, 'brooks': 172, 'academy': 173, 'learn': 174, 'nothing': 175, 'hearty': 176, 'around': 177, 'couples': 178, 'groups': 179, 'accident': 180, 'happened': 181, 'young': 182, 'terrance': 183, 'mccarthy': 184, 'right': 185, 'through': 186, 'finnertys': 187, 'hoops': 188, 'poor': 189, 'creature': 190, 'cried': 191, 'meelia': 192, 'murther': 193, 'called': 194, 'brothers': 195, 'gathered': 196, 'carmody': 197, 'swore': 198, 'hed': 199, 'go': 200, 'no': 201, 'further': 202, 'had': 203, 'satisfaction': 204, 'midst': 205, 'row': 206, 'kerrigan': 207, 'cheeks': 208, 'same': 209, 'red': 210, 'rose': 211, 'some': 212, 'lads': 213, 'declared': 214, 'painted': 215, 'took': 216, 'small': 217, 'drop': 218, 'too': 219, 'much': 220, 'suppose': 221, 'sweetheart': 222, 'ned': 223, 'morgan': 224, 'so': 225, 'powerful': 226, 'able': 227, 'saw': 228, 'fair': 229, 'colleen': 230, 'stretched': 231, 'by': 232, 'tore': 233, 'under': 234, 'table': 235, 'smashed': 236, 'chaneys': 237, 'oh': 238, 'twas': 239, 'then': 240, 'runctions': 241, 'lick': 242, 'big': 243, 'phelim': 244, 'mchugh': 245, 'replied': 246, 'introduction': 247, 'kicked': 248, 'terrible': 249, 'hullabaloo': 250, 'casey': 251, 'piper': 252, 'near': 253, 'being': 254, 'strangled': 255, 'squeezed': 256, 'pipes': 257, 'bellows': 258, 'chanters': 259, 'ribbons': 260, 'entangled': 261, 'end': 262}\n"
          ]
        }
      ]
    },
    {
      "cell_type": "code",
      "metadata": {
        "id": "w9vH8Y59ajYL",
        "colab": {
          "base_uri": "https://localhost:8080/"
        },
        "outputId": "65ef2b0b-f9ec-47f8-9009-497acf418c30"
      },
      "source": [
        "  model = Sequential()\n",
        "  model.add(Embedding(total_words, 64, input_length=max_sequence_len-1))\n",
        "  model.add(Bidirectional(LSTM(20)))\n",
        "  model.add(Dense(total_words, activation='softmax'))\n",
        "  model.compile(loss='categorical_crossentropy', optimizer='adam', metrics=['accuracy'])\n",
        "  history = model.fit(xs, ys, epochs=500, verbose=1)\n"
      ],
      "execution_count": 24,
      "outputs": [
        {
          "output_type": "stream",
          "name": "stdout",
          "text": [
            "Epoch 1/500\n",
            "15/15 [==============================] - 9s 11ms/step - loss: 5.5683 - accuracy: 0.0110\n",
            "Epoch 2/500\n",
            "15/15 [==============================] - 0s 10ms/step - loss: 5.5422 - accuracy: 0.0486\n",
            "Epoch 3/500\n",
            "15/15 [==============================] - 0s 11ms/step - loss: 5.4831 - accuracy: 0.0530\n",
            "Epoch 4/500\n",
            "15/15 [==============================] - 0s 10ms/step - loss: 5.3073 - accuracy: 0.0486\n",
            "Epoch 5/500\n",
            "15/15 [==============================] - 0s 10ms/step - loss: 5.1282 - accuracy: 0.0508\n",
            "Epoch 6/500\n",
            "15/15 [==============================] - 0s 10ms/step - loss: 5.0706 - accuracy: 0.0508\n",
            "Epoch 7/500\n",
            "15/15 [==============================] - 0s 10ms/step - loss: 5.0299 - accuracy: 0.0508\n",
            "Epoch 8/500\n",
            "15/15 [==============================] - 0s 11ms/step - loss: 4.9994 - accuracy: 0.0552\n",
            "Epoch 9/500\n",
            "15/15 [==============================] - 0s 10ms/step - loss: 4.9695 - accuracy: 0.0706\n",
            "Epoch 10/500\n",
            "15/15 [==============================] - 0s 11ms/step - loss: 4.9381 - accuracy: 0.0552\n",
            "Epoch 11/500\n",
            "15/15 [==============================] - 0s 10ms/step - loss: 4.9052 - accuracy: 0.0706\n",
            "Epoch 12/500\n",
            "15/15 [==============================] - 0s 10ms/step - loss: 4.8622 - accuracy: 0.0552\n",
            "Epoch 13/500\n",
            "15/15 [==============================] - 0s 10ms/step - loss: 4.8163 - accuracy: 0.0773\n",
            "Epoch 14/500\n",
            "15/15 [==============================] - 0s 10ms/step - loss: 4.7698 - accuracy: 0.0684\n",
            "Epoch 15/500\n",
            "15/15 [==============================] - 0s 10ms/step - loss: 4.7242 - accuracy: 0.0751\n",
            "Epoch 16/500\n",
            "15/15 [==============================] - 0s 10ms/step - loss: 4.6706 - accuracy: 0.0728\n",
            "Epoch 17/500\n",
            "15/15 [==============================] - 0s 10ms/step - loss: 4.6232 - accuracy: 0.0706\n",
            "Epoch 18/500\n",
            "15/15 [==============================] - 0s 10ms/step - loss: 4.5690 - accuracy: 0.0773\n",
            "Epoch 19/500\n",
            "15/15 [==============================] - 0s 10ms/step - loss: 4.5239 - accuracy: 0.0883\n",
            "Epoch 20/500\n",
            "15/15 [==============================] - 0s 10ms/step - loss: 4.4811 - accuracy: 0.0751\n",
            "Epoch 21/500\n",
            "15/15 [==============================] - 0s 11ms/step - loss: 4.4481 - accuracy: 0.0817\n",
            "Epoch 22/500\n",
            "15/15 [==============================] - 0s 12ms/step - loss: 4.4085 - accuracy: 0.1082\n",
            "Epoch 23/500\n",
            "15/15 [==============================] - 0s 12ms/step - loss: 4.3796 - accuracy: 0.1104\n",
            "Epoch 24/500\n",
            "15/15 [==============================] - 0s 11ms/step - loss: 4.3363 - accuracy: 0.1148\n",
            "Epoch 25/500\n",
            "15/15 [==============================] - 0s 10ms/step - loss: 4.2954 - accuracy: 0.1214\n",
            "Epoch 26/500\n",
            "15/15 [==============================] - 0s 10ms/step - loss: 4.2545 - accuracy: 0.1236\n",
            "Epoch 27/500\n",
            "15/15 [==============================] - 0s 10ms/step - loss: 4.2173 - accuracy: 0.1347\n",
            "Epoch 28/500\n",
            "15/15 [==============================] - 0s 10ms/step - loss: 4.1789 - accuracy: 0.1258\n",
            "Epoch 29/500\n",
            "15/15 [==============================] - 0s 10ms/step - loss: 4.1333 - accuracy: 0.1391\n",
            "Epoch 30/500\n",
            "15/15 [==============================] - 0s 11ms/step - loss: 4.1059 - accuracy: 0.1457\n",
            "Epoch 31/500\n",
            "15/15 [==============================] - 0s 10ms/step - loss: 4.0720 - accuracy: 0.1501\n",
            "Epoch 32/500\n",
            "15/15 [==============================] - 0s 11ms/step - loss: 4.0322 - accuracy: 0.1656\n",
            "Epoch 33/500\n",
            "15/15 [==============================] - 0s 12ms/step - loss: 3.9882 - accuracy: 0.1589\n",
            "Epoch 34/500\n",
            "15/15 [==============================] - 0s 11ms/step - loss: 3.9489 - accuracy: 0.1700\n",
            "Epoch 35/500\n",
            "15/15 [==============================] - 0s 10ms/step - loss: 3.9038 - accuracy: 0.1832\n",
            "Epoch 36/500\n",
            "15/15 [==============================] - 0s 10ms/step - loss: 3.8633 - accuracy: 0.1678\n",
            "Epoch 37/500\n",
            "15/15 [==============================] - 0s 9ms/step - loss: 3.8201 - accuracy: 0.1876\n",
            "Epoch 38/500\n",
            "15/15 [==============================] - 0s 10ms/step - loss: 3.7752 - accuracy: 0.1987\n",
            "Epoch 39/500\n",
            "15/15 [==============================] - 0s 10ms/step - loss: 3.7253 - accuracy: 0.2141\n",
            "Epoch 40/500\n",
            "15/15 [==============================] - 0s 10ms/step - loss: 3.6892 - accuracy: 0.2119\n",
            "Epoch 41/500\n",
            "15/15 [==============================] - 0s 10ms/step - loss: 3.6502 - accuracy: 0.2119\n",
            "Epoch 42/500\n",
            "15/15 [==============================] - 0s 11ms/step - loss: 3.6106 - accuracy: 0.2230\n",
            "Epoch 43/500\n",
            "15/15 [==============================] - 0s 10ms/step - loss: 3.5570 - accuracy: 0.2362\n",
            "Epoch 44/500\n",
            "15/15 [==============================] - 0s 11ms/step - loss: 3.5258 - accuracy: 0.2494\n",
            "Epoch 45/500\n",
            "15/15 [==============================] - 0s 11ms/step - loss: 3.4893 - accuracy: 0.2406\n",
            "Epoch 46/500\n",
            "15/15 [==============================] - 0s 10ms/step - loss: 3.4371 - accuracy: 0.2649\n",
            "Epoch 47/500\n",
            "15/15 [==============================] - 0s 11ms/step - loss: 3.4085 - accuracy: 0.2671\n",
            "Epoch 48/500\n",
            "15/15 [==============================] - 0s 10ms/step - loss: 3.3656 - accuracy: 0.2826\n",
            "Epoch 49/500\n",
            "15/15 [==============================] - 0s 10ms/step - loss: 3.3249 - accuracy: 0.2848\n",
            "Epoch 50/500\n",
            "15/15 [==============================] - 0s 10ms/step - loss: 3.2980 - accuracy: 0.2914\n",
            "Epoch 51/500\n",
            "15/15 [==============================] - 0s 10ms/step - loss: 3.2635 - accuracy: 0.3267\n",
            "Epoch 52/500\n",
            "15/15 [==============================] - 0s 10ms/step - loss: 3.2333 - accuracy: 0.3311\n",
            "Epoch 53/500\n",
            "15/15 [==============================] - 0s 11ms/step - loss: 3.1910 - accuracy: 0.3642\n",
            "Epoch 54/500\n",
            "15/15 [==============================] - 0s 10ms/step - loss: 3.1491 - accuracy: 0.3620\n",
            "Epoch 55/500\n",
            "15/15 [==============================] - 0s 10ms/step - loss: 3.0973 - accuracy: 0.3863\n",
            "Epoch 56/500\n",
            "15/15 [==============================] - 0s 10ms/step - loss: 3.0636 - accuracy: 0.3885\n",
            "Epoch 57/500\n",
            "15/15 [==============================] - 0s 11ms/step - loss: 3.0316 - accuracy: 0.3996\n",
            "Epoch 58/500\n",
            "15/15 [==============================] - 0s 11ms/step - loss: 2.9958 - accuracy: 0.4260\n",
            "Epoch 59/500\n",
            "15/15 [==============================] - 0s 10ms/step - loss: 2.9759 - accuracy: 0.4305\n",
            "Epoch 60/500\n",
            "15/15 [==============================] - 0s 10ms/step - loss: 2.9299 - accuracy: 0.4327\n",
            "Epoch 61/500\n",
            "15/15 [==============================] - 0s 10ms/step - loss: 2.8945 - accuracy: 0.4393\n",
            "Epoch 62/500\n",
            "15/15 [==============================] - 0s 10ms/step - loss: 2.8628 - accuracy: 0.4393\n",
            "Epoch 63/500\n",
            "15/15 [==============================] - 0s 11ms/step - loss: 2.8417 - accuracy: 0.4415\n",
            "Epoch 64/500\n",
            "15/15 [==============================] - 0s 10ms/step - loss: 2.8003 - accuracy: 0.4481\n",
            "Epoch 65/500\n",
            "15/15 [==============================] - 0s 11ms/step - loss: 2.7705 - accuracy: 0.4636\n",
            "Epoch 66/500\n",
            "15/15 [==============================] - 0s 12ms/step - loss: 2.7369 - accuracy: 0.4724\n",
            "Epoch 67/500\n",
            "15/15 [==============================] - 0s 10ms/step - loss: 2.6986 - accuracy: 0.4614\n",
            "Epoch 68/500\n",
            "15/15 [==============================] - 0s 11ms/step - loss: 2.6823 - accuracy: 0.4857\n",
            "Epoch 69/500\n",
            "15/15 [==============================] - 0s 10ms/step - loss: 2.6427 - accuracy: 0.4901\n",
            "Epoch 70/500\n",
            "15/15 [==============================] - 0s 11ms/step - loss: 2.6198 - accuracy: 0.4923\n",
            "Epoch 71/500\n",
            "15/15 [==============================] - 0s 10ms/step - loss: 2.5917 - accuracy: 0.4989\n",
            "Epoch 72/500\n",
            "15/15 [==============================] - 0s 11ms/step - loss: 2.5683 - accuracy: 0.5055\n",
            "Epoch 73/500\n",
            "15/15 [==============================] - 0s 10ms/step - loss: 2.5516 - accuracy: 0.5121\n",
            "Epoch 74/500\n",
            "15/15 [==============================] - 0s 10ms/step - loss: 2.5170 - accuracy: 0.5188\n",
            "Epoch 75/500\n",
            "15/15 [==============================] - 0s 11ms/step - loss: 2.4807 - accuracy: 0.5320\n",
            "Epoch 76/500\n",
            "15/15 [==============================] - 0s 10ms/step - loss: 2.4604 - accuracy: 0.5453\n",
            "Epoch 77/500\n",
            "15/15 [==============================] - 0s 10ms/step - loss: 2.4226 - accuracy: 0.5430\n",
            "Epoch 78/500\n",
            "15/15 [==============================] - 0s 11ms/step - loss: 2.3894 - accuracy: 0.5430\n",
            "Epoch 79/500\n",
            "15/15 [==============================] - 0s 11ms/step - loss: 2.3615 - accuracy: 0.5541\n",
            "Epoch 80/500\n",
            "15/15 [==============================] - 0s 11ms/step - loss: 2.3428 - accuracy: 0.5651\n",
            "Epoch 81/500\n",
            "15/15 [==============================] - 0s 10ms/step - loss: 2.3169 - accuracy: 0.5629\n",
            "Epoch 82/500\n",
            "15/15 [==============================] - 0s 10ms/step - loss: 2.2919 - accuracy: 0.5717\n",
            "Epoch 83/500\n",
            "15/15 [==============================] - 0s 10ms/step - loss: 2.2928 - accuracy: 0.5629\n",
            "Epoch 84/500\n",
            "15/15 [==============================] - 0s 10ms/step - loss: 2.2851 - accuracy: 0.5563\n",
            "Epoch 85/500\n",
            "15/15 [==============================] - 0s 10ms/step - loss: 2.2934 - accuracy: 0.5673\n",
            "Epoch 86/500\n",
            "15/15 [==============================] - 0s 10ms/step - loss: 2.2594 - accuracy: 0.5828\n",
            "Epoch 87/500\n",
            "15/15 [==============================] - 0s 11ms/step - loss: 2.2215 - accuracy: 0.5872\n",
            "Epoch 88/500\n",
            "15/15 [==============================] - 0s 11ms/step - loss: 2.1972 - accuracy: 0.5982\n",
            "Epoch 89/500\n",
            "15/15 [==============================] - 0s 10ms/step - loss: 2.1629 - accuracy: 0.6004\n",
            "Epoch 90/500\n",
            "15/15 [==============================] - 0s 12ms/step - loss: 2.2258 - accuracy: 0.5740\n",
            "Epoch 91/500\n",
            "15/15 [==============================] - 0s 10ms/step - loss: 2.1755 - accuracy: 0.5806\n",
            "Epoch 92/500\n",
            "15/15 [==============================] - 0s 10ms/step - loss: 2.1350 - accuracy: 0.6004\n",
            "Epoch 93/500\n",
            "15/15 [==============================] - 0s 11ms/step - loss: 2.1220 - accuracy: 0.6159\n",
            "Epoch 94/500\n",
            "15/15 [==============================] - 0s 10ms/step - loss: 2.0561 - accuracy: 0.6225\n",
            "Epoch 95/500\n",
            "15/15 [==============================] - 0s 10ms/step - loss: 2.0329 - accuracy: 0.6336\n",
            "Epoch 96/500\n",
            "15/15 [==============================] - 0s 10ms/step - loss: 2.0040 - accuracy: 0.6402\n",
            "Epoch 97/500\n",
            "15/15 [==============================] - 0s 10ms/step - loss: 1.9772 - accuracy: 0.6512\n",
            "Epoch 98/500\n",
            "15/15 [==============================] - 0s 10ms/step - loss: 1.9552 - accuracy: 0.6645\n",
            "Epoch 99/500\n",
            "15/15 [==============================] - 0s 10ms/step - loss: 1.9313 - accuracy: 0.6777\n",
            "Epoch 100/500\n",
            "15/15 [==============================] - 0s 11ms/step - loss: 1.9077 - accuracy: 0.6799\n",
            "Epoch 101/500\n",
            "15/15 [==============================] - 0s 10ms/step - loss: 1.8887 - accuracy: 0.6799\n",
            "Epoch 102/500\n",
            "15/15 [==============================] - 0s 10ms/step - loss: 1.8725 - accuracy: 0.6777\n",
            "Epoch 103/500\n",
            "15/15 [==============================] - 0s 10ms/step - loss: 1.8489 - accuracy: 0.6932\n",
            "Epoch 104/500\n",
            "15/15 [==============================] - 0s 10ms/step - loss: 1.8323 - accuracy: 0.7042\n",
            "Epoch 105/500\n",
            "15/15 [==============================] - 0s 10ms/step - loss: 1.8060 - accuracy: 0.6976\n",
            "Epoch 106/500\n",
            "15/15 [==============================] - 0s 10ms/step - loss: 1.7945 - accuracy: 0.7196\n",
            "Epoch 107/500\n",
            "15/15 [==============================] - 0s 11ms/step - loss: 1.7795 - accuracy: 0.6998\n",
            "Epoch 108/500\n",
            "15/15 [==============================] - 0s 10ms/step - loss: 1.7611 - accuracy: 0.7042\n",
            "Epoch 109/500\n",
            "15/15 [==============================] - 0s 11ms/step - loss: 1.7408 - accuracy: 0.7263\n",
            "Epoch 110/500\n",
            "15/15 [==============================] - 0s 11ms/step - loss: 1.7166 - accuracy: 0.7373\n",
            "Epoch 111/500\n",
            "15/15 [==============================] - 0s 10ms/step - loss: 1.6970 - accuracy: 0.7285\n",
            "Epoch 112/500\n",
            "15/15 [==============================] - 0s 11ms/step - loss: 1.6846 - accuracy: 0.7219\n",
            "Epoch 113/500\n",
            "15/15 [==============================] - 0s 10ms/step - loss: 1.6641 - accuracy: 0.7196\n",
            "Epoch 114/500\n",
            "15/15 [==============================] - 0s 11ms/step - loss: 1.6569 - accuracy: 0.7219\n",
            "Epoch 115/500\n",
            "15/15 [==============================] - 0s 11ms/step - loss: 1.6344 - accuracy: 0.7241\n",
            "Epoch 116/500\n",
            "15/15 [==============================] - 0s 10ms/step - loss: 1.6177 - accuracy: 0.7373\n",
            "Epoch 117/500\n",
            "15/15 [==============================] - 0s 10ms/step - loss: 1.5947 - accuracy: 0.7373\n",
            "Epoch 118/500\n",
            "15/15 [==============================] - 0s 10ms/step - loss: 1.5830 - accuracy: 0.7506\n",
            "Epoch 119/500\n",
            "15/15 [==============================] - 0s 10ms/step - loss: 1.5644 - accuracy: 0.7528\n",
            "Epoch 120/500\n",
            "15/15 [==============================] - 0s 10ms/step - loss: 1.5542 - accuracy: 0.7528\n",
            "Epoch 121/500\n",
            "15/15 [==============================] - 0s 9ms/step - loss: 1.5267 - accuracy: 0.7682\n",
            "Epoch 122/500\n",
            "15/15 [==============================] - 0s 10ms/step - loss: 1.5106 - accuracy: 0.7704\n",
            "Epoch 123/500\n",
            "15/15 [==============================] - 0s 10ms/step - loss: 1.4897 - accuracy: 0.7704\n",
            "Epoch 124/500\n",
            "15/15 [==============================] - 0s 11ms/step - loss: 1.4768 - accuracy: 0.7616\n",
            "Epoch 125/500\n",
            "15/15 [==============================] - 0s 11ms/step - loss: 1.4692 - accuracy: 0.7704\n",
            "Epoch 126/500\n",
            "15/15 [==============================] - 0s 10ms/step - loss: 1.4800 - accuracy: 0.7726\n",
            "Epoch 127/500\n",
            "15/15 [==============================] - 0s 10ms/step - loss: 1.4616 - accuracy: 0.7770\n",
            "Epoch 128/500\n",
            "15/15 [==============================] - 0s 11ms/step - loss: 1.4341 - accuracy: 0.7903\n",
            "Epoch 129/500\n",
            "15/15 [==============================] - 0s 10ms/step - loss: 1.4196 - accuracy: 0.7815\n",
            "Epoch 130/500\n",
            "15/15 [==============================] - 0s 10ms/step - loss: 1.4030 - accuracy: 0.7903\n",
            "Epoch 131/500\n",
            "15/15 [==============================] - 0s 10ms/step - loss: 1.3854 - accuracy: 0.7925\n",
            "Epoch 132/500\n",
            "15/15 [==============================] - 0s 10ms/step - loss: 1.3681 - accuracy: 0.7947\n",
            "Epoch 133/500\n",
            "15/15 [==============================] - 0s 10ms/step - loss: 1.3544 - accuracy: 0.8013\n",
            "Epoch 134/500\n",
            "15/15 [==============================] - 0s 10ms/step - loss: 1.3485 - accuracy: 0.7969\n",
            "Epoch 135/500\n",
            "15/15 [==============================] - 0s 10ms/step - loss: 1.3386 - accuracy: 0.7859\n",
            "Epoch 136/500\n",
            "15/15 [==============================] - 0s 10ms/step - loss: 1.3304 - accuracy: 0.7881\n",
            "Epoch 137/500\n",
            "15/15 [==============================] - 0s 11ms/step - loss: 1.3086 - accuracy: 0.8035\n",
            "Epoch 138/500\n",
            "15/15 [==============================] - 0s 10ms/step - loss: 1.2924 - accuracy: 0.7925\n",
            "Epoch 139/500\n",
            "15/15 [==============================] - 0s 10ms/step - loss: 1.2784 - accuracy: 0.8057\n",
            "Epoch 140/500\n",
            "15/15 [==============================] - 0s 10ms/step - loss: 1.2671 - accuracy: 0.8013\n",
            "Epoch 141/500\n",
            "15/15 [==============================] - 0s 11ms/step - loss: 1.2505 - accuracy: 0.8035\n",
            "Epoch 142/500\n",
            "15/15 [==============================] - 0s 10ms/step - loss: 1.2348 - accuracy: 0.7991\n",
            "Epoch 143/500\n",
            "15/15 [==============================] - 0s 10ms/step - loss: 1.2230 - accuracy: 0.8057\n",
            "Epoch 144/500\n",
            "15/15 [==============================] - 0s 10ms/step - loss: 1.2089 - accuracy: 0.8146\n",
            "Epoch 145/500\n",
            "15/15 [==============================] - 0s 10ms/step - loss: 1.1965 - accuracy: 0.8146\n",
            "Epoch 146/500\n",
            "15/15 [==============================] - 0s 10ms/step - loss: 1.1836 - accuracy: 0.8212\n",
            "Epoch 147/500\n",
            "15/15 [==============================] - 0s 11ms/step - loss: 1.1751 - accuracy: 0.8146\n",
            "Epoch 148/500\n",
            "15/15 [==============================] - 0s 10ms/step - loss: 1.1611 - accuracy: 0.8234\n",
            "Epoch 149/500\n",
            "15/15 [==============================] - 0s 10ms/step - loss: 1.1491 - accuracy: 0.8344\n",
            "Epoch 150/500\n",
            "15/15 [==============================] - 0s 10ms/step - loss: 1.1371 - accuracy: 0.8234\n",
            "Epoch 151/500\n",
            "15/15 [==============================] - 0s 10ms/step - loss: 1.1258 - accuracy: 0.8344\n",
            "Epoch 152/500\n",
            "15/15 [==============================] - 0s 11ms/step - loss: 1.1143 - accuracy: 0.8389\n",
            "Epoch 153/500\n",
            "15/15 [==============================] - 0s 10ms/step - loss: 1.1041 - accuracy: 0.8411\n",
            "Epoch 154/500\n",
            "15/15 [==============================] - 0s 10ms/step - loss: 1.0920 - accuracy: 0.8499\n",
            "Epoch 155/500\n",
            "15/15 [==============================] - 0s 10ms/step - loss: 1.0874 - accuracy: 0.8389\n",
            "Epoch 156/500\n",
            "15/15 [==============================] - 0s 10ms/step - loss: 1.0722 - accuracy: 0.8521\n",
            "Epoch 157/500\n",
            "15/15 [==============================] - 0s 10ms/step - loss: 1.0655 - accuracy: 0.8543\n",
            "Epoch 158/500\n",
            "15/15 [==============================] - 0s 10ms/step - loss: 1.0563 - accuracy: 0.8477\n",
            "Epoch 159/500\n",
            "15/15 [==============================] - 0s 12ms/step - loss: 1.0493 - accuracy: 0.8499\n",
            "Epoch 160/500\n",
            "15/15 [==============================] - 0s 10ms/step - loss: 1.0359 - accuracy: 0.8521\n",
            "Epoch 161/500\n",
            "15/15 [==============================] - 0s 10ms/step - loss: 1.0281 - accuracy: 0.8587\n",
            "Epoch 162/500\n",
            "15/15 [==============================] - 0s 10ms/step - loss: 1.0140 - accuracy: 0.8653\n",
            "Epoch 163/500\n",
            "15/15 [==============================] - 0s 10ms/step - loss: 1.0070 - accuracy: 0.8653\n",
            "Epoch 164/500\n",
            "15/15 [==============================] - 0s 10ms/step - loss: 1.0011 - accuracy: 0.8698\n",
            "Epoch 165/500\n",
            "15/15 [==============================] - 0s 10ms/step - loss: 1.0004 - accuracy: 0.8653\n",
            "Epoch 166/500\n",
            "15/15 [==============================] - 0s 11ms/step - loss: 0.9881 - accuracy: 0.8653\n",
            "Epoch 167/500\n",
            "15/15 [==============================] - 0s 10ms/step - loss: 0.9821 - accuracy: 0.8631\n",
            "Epoch 168/500\n",
            "15/15 [==============================] - 0s 10ms/step - loss: 0.9723 - accuracy: 0.8675\n",
            "Epoch 169/500\n",
            "15/15 [==============================] - 0s 11ms/step - loss: 0.9549 - accuracy: 0.8764\n",
            "Epoch 170/500\n",
            "15/15 [==============================] - 0s 10ms/step - loss: 0.9486 - accuracy: 0.8720\n",
            "Epoch 171/500\n",
            "15/15 [==============================] - 0s 10ms/step - loss: 0.9371 - accuracy: 0.8742\n",
            "Epoch 172/500\n",
            "15/15 [==============================] - 0s 13ms/step - loss: 0.9202 - accuracy: 0.8808\n",
            "Epoch 173/500\n",
            "15/15 [==============================] - 0s 10ms/step - loss: 0.9157 - accuracy: 0.8764\n",
            "Epoch 174/500\n",
            "15/15 [==============================] - 0s 10ms/step - loss: 0.9008 - accuracy: 0.8874\n",
            "Epoch 175/500\n",
            "15/15 [==============================] - 0s 10ms/step - loss: 0.8909 - accuracy: 0.8852\n",
            "Epoch 176/500\n",
            "15/15 [==============================] - 0s 10ms/step - loss: 0.8806 - accuracy: 0.8874\n",
            "Epoch 177/500\n",
            "15/15 [==============================] - 0s 10ms/step - loss: 0.8798 - accuracy: 0.8874\n",
            "Epoch 178/500\n",
            "15/15 [==============================] - 0s 10ms/step - loss: 0.8735 - accuracy: 0.8874\n",
            "Epoch 179/500\n",
            "15/15 [==============================] - 0s 10ms/step - loss: 0.8590 - accuracy: 0.8940\n",
            "Epoch 180/500\n",
            "15/15 [==============================] - 0s 10ms/step - loss: 0.8463 - accuracy: 0.8962\n",
            "Epoch 181/500\n",
            "15/15 [==============================] - 0s 10ms/step - loss: 0.8387 - accuracy: 0.8962\n",
            "Epoch 182/500\n",
            "15/15 [==============================] - 0s 11ms/step - loss: 0.8362 - accuracy: 0.8940\n",
            "Epoch 183/500\n",
            "15/15 [==============================] - 0s 10ms/step - loss: 0.8289 - accuracy: 0.8918\n",
            "Epoch 184/500\n",
            "15/15 [==============================] - 0s 11ms/step - loss: 0.8327 - accuracy: 0.8962\n",
            "Epoch 185/500\n",
            "15/15 [==============================] - 0s 10ms/step - loss: 0.8213 - accuracy: 0.8962\n",
            "Epoch 186/500\n",
            "15/15 [==============================] - 0s 10ms/step - loss: 0.8128 - accuracy: 0.8918\n",
            "Epoch 187/500\n",
            "15/15 [==============================] - 0s 12ms/step - loss: 0.8524 - accuracy: 0.8874\n",
            "Epoch 188/500\n",
            "15/15 [==============================] - 0s 11ms/step - loss: 0.8521 - accuracy: 0.8786\n",
            "Epoch 189/500\n",
            "15/15 [==============================] - 0s 10ms/step - loss: 0.9164 - accuracy: 0.8631\n",
            "Epoch 190/500\n",
            "15/15 [==============================] - 0s 10ms/step - loss: 0.9141 - accuracy: 0.8720\n",
            "Epoch 191/500\n",
            "15/15 [==============================] - 0s 10ms/step - loss: 0.8503 - accuracy: 0.8808\n",
            "Epoch 192/500\n",
            "15/15 [==============================] - 0s 10ms/step - loss: 0.8264 - accuracy: 0.8852\n",
            "Epoch 193/500\n",
            "15/15 [==============================] - 0s 11ms/step - loss: 0.8040 - accuracy: 0.8874\n",
            "Epoch 194/500\n",
            "15/15 [==============================] - 0s 11ms/step - loss: 0.7822 - accuracy: 0.8962\n",
            "Epoch 195/500\n",
            "15/15 [==============================] - 0s 10ms/step - loss: 0.7735 - accuracy: 0.8940\n",
            "Epoch 196/500\n",
            "15/15 [==============================] - 0s 10ms/step - loss: 0.7573 - accuracy: 0.8962\n",
            "Epoch 197/500\n",
            "15/15 [==============================] - 0s 10ms/step - loss: 0.7477 - accuracy: 0.8985\n",
            "Epoch 198/500\n",
            "15/15 [==============================] - 0s 10ms/step - loss: 0.7437 - accuracy: 0.8985\n",
            "Epoch 199/500\n",
            "15/15 [==============================] - 0s 10ms/step - loss: 0.7265 - accuracy: 0.9073\n",
            "Epoch 200/500\n",
            "15/15 [==============================] - 0s 11ms/step - loss: 0.7156 - accuracy: 0.9117\n",
            "Epoch 201/500\n",
            "15/15 [==============================] - 0s 10ms/step - loss: 0.7087 - accuracy: 0.9029\n",
            "Epoch 202/500\n",
            "15/15 [==============================] - 0s 10ms/step - loss: 0.6994 - accuracy: 0.9117\n",
            "Epoch 203/500\n",
            "15/15 [==============================] - 0s 10ms/step - loss: 0.6886 - accuracy: 0.9095\n",
            "Epoch 204/500\n",
            "15/15 [==============================] - 0s 12ms/step - loss: 0.6808 - accuracy: 0.9051\n",
            "Epoch 205/500\n",
            "15/15 [==============================] - 0s 11ms/step - loss: 0.6749 - accuracy: 0.9007\n",
            "Epoch 206/500\n",
            "15/15 [==============================] - 0s 11ms/step - loss: 0.6667 - accuracy: 0.9117\n",
            "Epoch 207/500\n",
            "15/15 [==============================] - 0s 10ms/step - loss: 0.6592 - accuracy: 0.9095\n",
            "Epoch 208/500\n",
            "15/15 [==============================] - 0s 10ms/step - loss: 0.6543 - accuracy: 0.9095\n",
            "Epoch 209/500\n",
            "15/15 [==============================] - 0s 10ms/step - loss: 0.6462 - accuracy: 0.9073\n",
            "Epoch 210/500\n",
            "15/15 [==============================] - 0s 10ms/step - loss: 0.6413 - accuracy: 0.9117\n",
            "Epoch 211/500\n",
            "15/15 [==============================] - 0s 10ms/step - loss: 0.6370 - accuracy: 0.9161\n",
            "Epoch 212/500\n",
            "15/15 [==============================] - 0s 11ms/step - loss: 0.6319 - accuracy: 0.9139\n",
            "Epoch 213/500\n",
            "15/15 [==============================] - 0s 10ms/step - loss: 0.6250 - accuracy: 0.9117\n",
            "Epoch 214/500\n",
            "15/15 [==============================] - 0s 10ms/step - loss: 0.6164 - accuracy: 0.9227\n",
            "Epoch 215/500\n",
            "15/15 [==============================] - 0s 12ms/step - loss: 0.6110 - accuracy: 0.9205\n",
            "Epoch 216/500\n",
            "15/15 [==============================] - 0s 12ms/step - loss: 0.6058 - accuracy: 0.9161\n",
            "Epoch 217/500\n",
            "15/15 [==============================] - 0s 11ms/step - loss: 0.6014 - accuracy: 0.9183\n",
            "Epoch 218/500\n",
            "15/15 [==============================] - 0s 11ms/step - loss: 0.5954 - accuracy: 0.9205\n",
            "Epoch 219/500\n",
            "15/15 [==============================] - 0s 10ms/step - loss: 0.5929 - accuracy: 0.9205\n",
            "Epoch 220/500\n",
            "15/15 [==============================] - 0s 10ms/step - loss: 0.5888 - accuracy: 0.9205\n",
            "Epoch 221/500\n",
            "15/15 [==============================] - 0s 11ms/step - loss: 0.5841 - accuracy: 0.9205\n",
            "Epoch 222/500\n",
            "15/15 [==============================] - 0s 10ms/step - loss: 0.5764 - accuracy: 0.9227\n",
            "Epoch 223/500\n",
            "15/15 [==============================] - 0s 10ms/step - loss: 0.5705 - accuracy: 0.9227\n",
            "Epoch 224/500\n",
            "15/15 [==============================] - 0s 10ms/step - loss: 0.5663 - accuracy: 0.9205\n",
            "Epoch 225/500\n",
            "15/15 [==============================] - 0s 10ms/step - loss: 0.5610 - accuracy: 0.9205\n",
            "Epoch 226/500\n",
            "15/15 [==============================] - 0s 10ms/step - loss: 0.5559 - accuracy: 0.9205\n",
            "Epoch 227/500\n",
            "15/15 [==============================] - 0s 11ms/step - loss: 0.5505 - accuracy: 0.9227\n",
            "Epoch 228/500\n",
            "15/15 [==============================] - 0s 10ms/step - loss: 0.5467 - accuracy: 0.9227\n",
            "Epoch 229/500\n",
            "15/15 [==============================] - 0s 11ms/step - loss: 0.5417 - accuracy: 0.9249\n",
            "Epoch 230/500\n",
            "15/15 [==============================] - 0s 10ms/step - loss: 0.5375 - accuracy: 0.9249\n",
            "Epoch 231/500\n",
            "15/15 [==============================] - 0s 10ms/step - loss: 0.5307 - accuracy: 0.9272\n",
            "Epoch 232/500\n",
            "15/15 [==============================] - 0s 10ms/step - loss: 0.5264 - accuracy: 0.9227\n",
            "Epoch 233/500\n",
            "15/15 [==============================] - 0s 10ms/step - loss: 0.5213 - accuracy: 0.9249\n",
            "Epoch 234/500\n",
            "15/15 [==============================] - 0s 10ms/step - loss: 0.5184 - accuracy: 0.9272\n",
            "Epoch 235/500\n",
            "15/15 [==============================] - 0s 10ms/step - loss: 0.5180 - accuracy: 0.9249\n",
            "Epoch 236/500\n",
            "15/15 [==============================] - 0s 11ms/step - loss: 0.5138 - accuracy: 0.9249\n",
            "Epoch 237/500\n",
            "15/15 [==============================] - 0s 10ms/step - loss: 0.5126 - accuracy: 0.9205\n",
            "Epoch 238/500\n",
            "15/15 [==============================] - 0s 11ms/step - loss: 0.5059 - accuracy: 0.9249\n",
            "Epoch 239/500\n",
            "15/15 [==============================] - 0s 11ms/step - loss: 0.5059 - accuracy: 0.9227\n",
            "Epoch 240/500\n",
            "15/15 [==============================] - 0s 11ms/step - loss: 0.4965 - accuracy: 0.9294\n",
            "Epoch 241/500\n",
            "15/15 [==============================] - 0s 11ms/step - loss: 0.5060 - accuracy: 0.9205\n",
            "Epoch 242/500\n",
            "15/15 [==============================] - 0s 11ms/step - loss: 0.4937 - accuracy: 0.9205\n",
            "Epoch 243/500\n",
            "15/15 [==============================] - 0s 10ms/step - loss: 0.5009 - accuracy: 0.9227\n",
            "Epoch 244/500\n",
            "15/15 [==============================] - 0s 10ms/step - loss: 0.4913 - accuracy: 0.9249\n",
            "Epoch 245/500\n",
            "15/15 [==============================] - 0s 11ms/step - loss: 0.4953 - accuracy: 0.9227\n",
            "Epoch 246/500\n",
            "15/15 [==============================] - 0s 11ms/step - loss: 0.4866 - accuracy: 0.9227\n",
            "Epoch 247/500\n",
            "15/15 [==============================] - 0s 10ms/step - loss: 0.4837 - accuracy: 0.9249\n",
            "Epoch 248/500\n",
            "15/15 [==============================] - 0s 10ms/step - loss: 0.4793 - accuracy: 0.9227\n",
            "Epoch 249/500\n",
            "15/15 [==============================] - 0s 11ms/step - loss: 0.4699 - accuracy: 0.9249\n",
            "Epoch 250/500\n",
            "15/15 [==============================] - 0s 11ms/step - loss: 0.4606 - accuracy: 0.9294\n",
            "Epoch 251/500\n",
            "15/15 [==============================] - 0s 11ms/step - loss: 0.5457 - accuracy: 0.8985\n",
            "Epoch 252/500\n",
            "15/15 [==============================] - 0s 10ms/step - loss: 0.5075 - accuracy: 0.9161\n",
            "Epoch 253/500\n",
            "15/15 [==============================] - 0s 10ms/step - loss: 0.4747 - accuracy: 0.9227\n",
            "Epoch 254/500\n",
            "15/15 [==============================] - 0s 10ms/step - loss: 0.4706 - accuracy: 0.9205\n",
            "Epoch 255/500\n",
            "15/15 [==============================] - 0s 10ms/step - loss: 0.5419 - accuracy: 0.9029\n",
            "Epoch 256/500\n",
            "15/15 [==============================] - 0s 11ms/step - loss: 0.5853 - accuracy: 0.8985\n",
            "Epoch 257/500\n",
            "15/15 [==============================] - 0s 10ms/step - loss: 0.5034 - accuracy: 0.9161\n",
            "Epoch 258/500\n",
            "15/15 [==============================] - 0s 10ms/step - loss: 0.4654 - accuracy: 0.9294\n",
            "Epoch 259/500\n",
            "15/15 [==============================] - 0s 11ms/step - loss: 0.4675 - accuracy: 0.9294\n",
            "Epoch 260/500\n",
            "15/15 [==============================] - 0s 10ms/step - loss: 0.4427 - accuracy: 0.9360\n",
            "Epoch 261/500\n",
            "15/15 [==============================] - 0s 12ms/step - loss: 0.4355 - accuracy: 0.9360\n",
            "Epoch 262/500\n",
            "15/15 [==============================] - 0s 11ms/step - loss: 0.4272 - accuracy: 0.9360\n",
            "Epoch 263/500\n",
            "15/15 [==============================] - 0s 10ms/step - loss: 0.4221 - accuracy: 0.9338\n",
            "Epoch 264/500\n",
            "15/15 [==============================] - 0s 10ms/step - loss: 0.4205 - accuracy: 0.9316\n",
            "Epoch 265/500\n",
            "15/15 [==============================] - 0s 11ms/step - loss: 0.4157 - accuracy: 0.9360\n",
            "Epoch 266/500\n",
            "15/15 [==============================] - 0s 11ms/step - loss: 0.4109 - accuracy: 0.9360\n",
            "Epoch 267/500\n",
            "15/15 [==============================] - 0s 10ms/step - loss: 0.4079 - accuracy: 0.9316\n",
            "Epoch 268/500\n",
            "15/15 [==============================] - 0s 10ms/step - loss: 0.4062 - accuracy: 0.9382\n",
            "Epoch 269/500\n",
            "15/15 [==============================] - 0s 10ms/step - loss: 0.4040 - accuracy: 0.9360\n",
            "Epoch 270/500\n",
            "15/15 [==============================] - 0s 11ms/step - loss: 0.4055 - accuracy: 0.9360\n",
            "Epoch 271/500\n",
            "15/15 [==============================] - 0s 10ms/step - loss: 0.3959 - accuracy: 0.9382\n",
            "Epoch 272/500\n",
            "15/15 [==============================] - 0s 10ms/step - loss: 0.3948 - accuracy: 0.9360\n",
            "Epoch 273/500\n",
            "15/15 [==============================] - 0s 10ms/step - loss: 0.3896 - accuracy: 0.9404\n",
            "Epoch 274/500\n",
            "15/15 [==============================] - 0s 10ms/step - loss: 0.3845 - accuracy: 0.9360\n",
            "Epoch 275/500\n",
            "15/15 [==============================] - 0s 10ms/step - loss: 0.3795 - accuracy: 0.9338\n",
            "Epoch 276/500\n",
            "15/15 [==============================] - 0s 11ms/step - loss: 0.3757 - accuracy: 0.9338\n",
            "Epoch 277/500\n",
            "15/15 [==============================] - 0s 11ms/step - loss: 0.3726 - accuracy: 0.9382\n",
            "Epoch 278/500\n",
            "15/15 [==============================] - 0s 11ms/step - loss: 0.3709 - accuracy: 0.9382\n",
            "Epoch 279/500\n",
            "15/15 [==============================] - 0s 11ms/step - loss: 0.3687 - accuracy: 0.9382\n",
            "Epoch 280/500\n",
            "15/15 [==============================] - 0s 11ms/step - loss: 0.3648 - accuracy: 0.9426\n",
            "Epoch 281/500\n",
            "15/15 [==============================] - 0s 10ms/step - loss: 0.3628 - accuracy: 0.9404\n",
            "Epoch 282/500\n",
            "15/15 [==============================] - 0s 11ms/step - loss: 0.3640 - accuracy: 0.9492\n",
            "Epoch 283/500\n",
            "15/15 [==============================] - 0s 11ms/step - loss: 0.3607 - accuracy: 0.9448\n",
            "Epoch 284/500\n",
            "15/15 [==============================] - 0s 11ms/step - loss: 0.3560 - accuracy: 0.9470\n",
            "Epoch 285/500\n",
            "15/15 [==============================] - 0s 10ms/step - loss: 0.3536 - accuracy: 0.9470\n",
            "Epoch 286/500\n",
            "15/15 [==============================] - 0s 10ms/step - loss: 0.3506 - accuracy: 0.9426\n",
            "Epoch 287/500\n",
            "15/15 [==============================] - 0s 11ms/step - loss: 0.3463 - accuracy: 0.9470\n",
            "Epoch 288/500\n",
            "15/15 [==============================] - 0s 11ms/step - loss: 0.3436 - accuracy: 0.9448\n",
            "Epoch 289/500\n",
            "15/15 [==============================] - 0s 10ms/step - loss: 0.3418 - accuracy: 0.9448\n",
            "Epoch 290/500\n",
            "15/15 [==============================] - 0s 10ms/step - loss: 0.3405 - accuracy: 0.9426\n",
            "Epoch 291/500\n",
            "15/15 [==============================] - 0s 10ms/step - loss: 0.3366 - accuracy: 0.9426\n",
            "Epoch 292/500\n",
            "15/15 [==============================] - 0s 10ms/step - loss: 0.3357 - accuracy: 0.9426\n",
            "Epoch 293/500\n",
            "15/15 [==============================] - 0s 11ms/step - loss: 0.3319 - accuracy: 0.9448\n",
            "Epoch 294/500\n",
            "15/15 [==============================] - 0s 11ms/step - loss: 0.3299 - accuracy: 0.9470\n",
            "Epoch 295/500\n",
            "15/15 [==============================] - 0s 11ms/step - loss: 0.3264 - accuracy: 0.9470\n",
            "Epoch 296/500\n",
            "15/15 [==============================] - 0s 11ms/step - loss: 0.3240 - accuracy: 0.9470\n",
            "Epoch 297/500\n",
            "15/15 [==============================] - 0s 11ms/step - loss: 0.3215 - accuracy: 0.9426\n",
            "Epoch 298/500\n",
            "15/15 [==============================] - 0s 10ms/step - loss: 0.3194 - accuracy: 0.9382\n",
            "Epoch 299/500\n",
            "15/15 [==============================] - 0s 12ms/step - loss: 0.3175 - accuracy: 0.9470\n",
            "Epoch 300/500\n",
            "15/15 [==============================] - 0s 11ms/step - loss: 0.3143 - accuracy: 0.9470\n",
            "Epoch 301/500\n",
            "15/15 [==============================] - 0s 10ms/step - loss: 0.3126 - accuracy: 0.9470\n",
            "Epoch 302/500\n",
            "15/15 [==============================] - 0s 10ms/step - loss: 0.3115 - accuracy: 0.9426\n",
            "Epoch 303/500\n",
            "15/15 [==============================] - 0s 11ms/step - loss: 0.3106 - accuracy: 0.9470\n",
            "Epoch 304/500\n",
            "15/15 [==============================] - 0s 10ms/step - loss: 0.3065 - accuracy: 0.9448\n",
            "Epoch 305/500\n",
            "15/15 [==============================] - 0s 12ms/step - loss: 0.3057 - accuracy: 0.9492\n",
            "Epoch 306/500\n",
            "15/15 [==============================] - 0s 11ms/step - loss: 0.3028 - accuracy: 0.9448\n",
            "Epoch 307/500\n",
            "15/15 [==============================] - 0s 11ms/step - loss: 0.3006 - accuracy: 0.9448\n",
            "Epoch 308/500\n",
            "15/15 [==============================] - 0s 10ms/step - loss: 0.2997 - accuracy: 0.9470\n",
            "Epoch 309/500\n",
            "15/15 [==============================] - 0s 11ms/step - loss: 0.2986 - accuracy: 0.9470\n",
            "Epoch 310/500\n",
            "15/15 [==============================] - 0s 10ms/step - loss: 0.2965 - accuracy: 0.9470\n",
            "Epoch 311/500\n",
            "15/15 [==============================] - 0s 10ms/step - loss: 0.2939 - accuracy: 0.9470\n",
            "Epoch 312/500\n",
            "15/15 [==============================] - 0s 11ms/step - loss: 0.2916 - accuracy: 0.9448\n",
            "Epoch 313/500\n",
            "15/15 [==============================] - 0s 11ms/step - loss: 0.2891 - accuracy: 0.9382\n",
            "Epoch 314/500\n",
            "15/15 [==============================] - 0s 11ms/step - loss: 0.2875 - accuracy: 0.9492\n",
            "Epoch 315/500\n",
            "15/15 [==============================] - 0s 11ms/step - loss: 0.2853 - accuracy: 0.9514\n",
            "Epoch 316/500\n",
            "15/15 [==============================] - 0s 10ms/step - loss: 0.2842 - accuracy: 0.9470\n",
            "Epoch 317/500\n",
            "15/15 [==============================] - 0s 10ms/step - loss: 0.2846 - accuracy: 0.9492\n",
            "Epoch 318/500\n",
            "15/15 [==============================] - 0s 12ms/step - loss: 0.2840 - accuracy: 0.9492\n",
            "Epoch 319/500\n",
            "15/15 [==============================] - 0s 10ms/step - loss: 0.2856 - accuracy: 0.9426\n",
            "Epoch 320/500\n",
            "15/15 [==============================] - 0s 10ms/step - loss: 0.2922 - accuracy: 0.9426\n",
            "Epoch 321/500\n",
            "15/15 [==============================] - 0s 10ms/step - loss: 0.2840 - accuracy: 0.9470\n",
            "Epoch 322/500\n",
            "15/15 [==============================] - 0s 10ms/step - loss: 0.2824 - accuracy: 0.9470\n",
            "Epoch 323/500\n",
            "15/15 [==============================] - 0s 11ms/step - loss: 0.2771 - accuracy: 0.9492\n",
            "Epoch 324/500\n",
            "15/15 [==============================] - 0s 11ms/step - loss: 0.2726 - accuracy: 0.9448\n",
            "Epoch 325/500\n",
            "15/15 [==============================] - 0s 11ms/step - loss: 0.2699 - accuracy: 0.9470\n",
            "Epoch 326/500\n",
            "15/15 [==============================] - 0s 10ms/step - loss: 0.2697 - accuracy: 0.9492\n",
            "Epoch 327/500\n",
            "15/15 [==============================] - 0s 11ms/step - loss: 0.2668 - accuracy: 0.9448\n",
            "Epoch 328/500\n",
            "15/15 [==============================] - 0s 13ms/step - loss: 0.2661 - accuracy: 0.9470\n",
            "Epoch 329/500\n",
            "15/15 [==============================] - 0s 11ms/step - loss: 0.2632 - accuracy: 0.9448\n",
            "Epoch 330/500\n",
            "15/15 [==============================] - 0s 11ms/step - loss: 0.2644 - accuracy: 0.9492\n",
            "Epoch 331/500\n",
            "15/15 [==============================] - 0s 10ms/step - loss: 0.2613 - accuracy: 0.9492\n",
            "Epoch 332/500\n",
            "15/15 [==============================] - 0s 10ms/step - loss: 0.2595 - accuracy: 0.9492\n",
            "Epoch 333/500\n",
            "15/15 [==============================] - 0s 10ms/step - loss: 0.2566 - accuracy: 0.9492\n",
            "Epoch 334/500\n",
            "15/15 [==============================] - 0s 10ms/step - loss: 0.2553 - accuracy: 0.9448\n",
            "Epoch 335/500\n",
            "15/15 [==============================] - 0s 10ms/step - loss: 0.2554 - accuracy: 0.9470\n",
            "Epoch 336/500\n",
            "15/15 [==============================] - 0s 12ms/step - loss: 0.2557 - accuracy: 0.9426\n",
            "Epoch 337/500\n",
            "15/15 [==============================] - 0s 10ms/step - loss: 0.2640 - accuracy: 0.9492\n",
            "Epoch 338/500\n",
            "15/15 [==============================] - 0s 11ms/step - loss: 0.2588 - accuracy: 0.9470\n",
            "Epoch 339/500\n",
            "15/15 [==============================] - 0s 10ms/step - loss: 0.2546 - accuracy: 0.9492\n",
            "Epoch 340/500\n",
            "15/15 [==============================] - 0s 11ms/step - loss: 0.2496 - accuracy: 0.9492\n",
            "Epoch 341/500\n",
            "15/15 [==============================] - 0s 10ms/step - loss: 0.2480 - accuracy: 0.9514\n",
            "Epoch 342/500\n",
            "15/15 [==============================] - 0s 12ms/step - loss: 0.2462 - accuracy: 0.9514\n",
            "Epoch 343/500\n",
            "15/15 [==============================] - 0s 11ms/step - loss: 0.2438 - accuracy: 0.9470\n",
            "Epoch 344/500\n",
            "15/15 [==============================] - 0s 11ms/step - loss: 0.2426 - accuracy: 0.9514\n",
            "Epoch 345/500\n",
            "15/15 [==============================] - 0s 10ms/step - loss: 0.2411 - accuracy: 0.9470\n",
            "Epoch 346/500\n",
            "15/15 [==============================] - 0s 11ms/step - loss: 0.2393 - accuracy: 0.9514\n",
            "Epoch 347/500\n",
            "15/15 [==============================] - 0s 10ms/step - loss: 0.2387 - accuracy: 0.9470\n",
            "Epoch 348/500\n",
            "15/15 [==============================] - 0s 11ms/step - loss: 0.2367 - accuracy: 0.9514\n",
            "Epoch 349/500\n",
            "15/15 [==============================] - 0s 12ms/step - loss: 0.2354 - accuracy: 0.9492\n",
            "Epoch 350/500\n",
            "15/15 [==============================] - 0s 11ms/step - loss: 0.2342 - accuracy: 0.9492\n",
            "Epoch 351/500\n",
            "15/15 [==============================] - 0s 10ms/step - loss: 0.2324 - accuracy: 0.9536\n",
            "Epoch 352/500\n",
            "15/15 [==============================] - 0s 11ms/step - loss: 0.2303 - accuracy: 0.9470\n",
            "Epoch 353/500\n",
            "15/15 [==============================] - 0s 10ms/step - loss: 0.2293 - accuracy: 0.9492\n",
            "Epoch 354/500\n",
            "15/15 [==============================] - 0s 12ms/step - loss: 0.2274 - accuracy: 0.9492\n",
            "Epoch 355/500\n",
            "15/15 [==============================] - 0s 11ms/step - loss: 0.2261 - accuracy: 0.9492\n",
            "Epoch 356/500\n",
            "15/15 [==============================] - 0s 11ms/step - loss: 0.2253 - accuracy: 0.9470\n",
            "Epoch 357/500\n",
            "15/15 [==============================] - 0s 11ms/step - loss: 0.2237 - accuracy: 0.9448\n",
            "Epoch 358/500\n",
            "15/15 [==============================] - 0s 10ms/step - loss: 0.2230 - accuracy: 0.9470\n",
            "Epoch 359/500\n",
            "15/15 [==============================] - 0s 10ms/step - loss: 0.2211 - accuracy: 0.9514\n",
            "Epoch 360/500\n",
            "15/15 [==============================] - 0s 12ms/step - loss: 0.2205 - accuracy: 0.9514\n",
            "Epoch 361/500\n",
            "15/15 [==============================] - 0s 11ms/step - loss: 0.2188 - accuracy: 0.9492\n",
            "Epoch 362/500\n",
            "15/15 [==============================] - 0s 11ms/step - loss: 0.2181 - accuracy: 0.9492\n",
            "Epoch 363/500\n",
            "15/15 [==============================] - 0s 11ms/step - loss: 0.2174 - accuracy: 0.9514\n",
            "Epoch 364/500\n",
            "15/15 [==============================] - 0s 10ms/step - loss: 0.2156 - accuracy: 0.9514\n",
            "Epoch 365/500\n",
            "15/15 [==============================] - 0s 12ms/step - loss: 0.2184 - accuracy: 0.9448\n",
            "Epoch 366/500\n",
            "15/15 [==============================] - 0s 11ms/step - loss: 0.2170 - accuracy: 0.9514\n",
            "Epoch 367/500\n",
            "15/15 [==============================] - 0s 11ms/step - loss: 0.2184 - accuracy: 0.9470\n",
            "Epoch 368/500\n",
            "15/15 [==============================] - 0s 10ms/step - loss: 0.2166 - accuracy: 0.9470\n",
            "Epoch 369/500\n",
            "15/15 [==============================] - 0s 10ms/step - loss: 0.2133 - accuracy: 0.9492\n",
            "Epoch 370/500\n",
            "15/15 [==============================] - 0s 11ms/step - loss: 0.2135 - accuracy: 0.9448\n",
            "Epoch 371/500\n",
            "15/15 [==============================] - 0s 11ms/step - loss: 0.2117 - accuracy: 0.9536\n",
            "Epoch 372/500\n",
            "15/15 [==============================] - 0s 12ms/step - loss: 0.2089 - accuracy: 0.9492\n",
            "Epoch 373/500\n",
            "15/15 [==============================] - 0s 11ms/step - loss: 0.2080 - accuracy: 0.9448\n",
            "Epoch 374/500\n",
            "15/15 [==============================] - 0s 10ms/step - loss: 0.2056 - accuracy: 0.9448\n",
            "Epoch 375/500\n",
            "15/15 [==============================] - 0s 11ms/step - loss: 0.2065 - accuracy: 0.9470\n",
            "Epoch 376/500\n",
            "15/15 [==============================] - 0s 10ms/step - loss: 0.2038 - accuracy: 0.9470\n",
            "Epoch 377/500\n",
            "15/15 [==============================] - 0s 11ms/step - loss: 0.2154 - accuracy: 0.9448\n",
            "Epoch 378/500\n",
            "15/15 [==============================] - 0s 10ms/step - loss: 0.2131 - accuracy: 0.9470\n",
            "Epoch 379/500\n",
            "15/15 [==============================] - 0s 11ms/step - loss: 0.2158 - accuracy: 0.9448\n",
            "Epoch 380/500\n",
            "15/15 [==============================] - 0s 11ms/step - loss: 0.2097 - accuracy: 0.9470\n",
            "Epoch 381/500\n",
            "15/15 [==============================] - 0s 11ms/step - loss: 0.2078 - accuracy: 0.9492\n",
            "Epoch 382/500\n",
            "15/15 [==============================] - 0s 12ms/step - loss: 0.2591 - accuracy: 0.9426\n",
            "Epoch 383/500\n",
            "15/15 [==============================] - 0s 11ms/step - loss: 0.2544 - accuracy: 0.9382\n",
            "Epoch 384/500\n",
            "15/15 [==============================] - 0s 11ms/step - loss: 0.2427 - accuracy: 0.9426\n",
            "Epoch 385/500\n",
            "15/15 [==============================] - 0s 10ms/step - loss: 0.2280 - accuracy: 0.9404\n",
            "Epoch 386/500\n",
            "15/15 [==============================] - 0s 10ms/step - loss: 0.2249 - accuracy: 0.9426\n",
            "Epoch 387/500\n",
            "15/15 [==============================] - 0s 11ms/step - loss: 0.2120 - accuracy: 0.9470\n",
            "Epoch 388/500\n",
            "15/15 [==============================] - 0s 10ms/step - loss: 0.2060 - accuracy: 0.9470\n",
            "Epoch 389/500\n",
            "15/15 [==============================] - 0s 11ms/step - loss: 0.2035 - accuracy: 0.9470\n",
            "Epoch 390/500\n",
            "15/15 [==============================] - 0s 10ms/step - loss: 0.2001 - accuracy: 0.9448\n",
            "Epoch 391/500\n",
            "15/15 [==============================] - 0s 10ms/step - loss: 0.1970 - accuracy: 0.9514\n",
            "Epoch 392/500\n",
            "15/15 [==============================] - 0s 12ms/step - loss: 0.2016 - accuracy: 0.9470\n",
            "Epoch 393/500\n",
            "15/15 [==============================] - 0s 11ms/step - loss: 0.1983 - accuracy: 0.9448\n",
            "Epoch 394/500\n",
            "15/15 [==============================] - 0s 12ms/step - loss: 0.1958 - accuracy: 0.9536\n",
            "Epoch 395/500\n",
            "15/15 [==============================] - 0s 11ms/step - loss: 0.1921 - accuracy: 0.9536\n",
            "Epoch 396/500\n",
            "15/15 [==============================] - 0s 11ms/step - loss: 0.1899 - accuracy: 0.9470\n",
            "Epoch 397/500\n",
            "15/15 [==============================] - 0s 10ms/step - loss: 0.1876 - accuracy: 0.9514\n",
            "Epoch 398/500\n",
            "15/15 [==============================] - 0s 10ms/step - loss: 0.1858 - accuracy: 0.9514\n",
            "Epoch 399/500\n",
            "15/15 [==============================] - 0s 11ms/step - loss: 0.1854 - accuracy: 0.9514\n",
            "Epoch 400/500\n",
            "15/15 [==============================] - 0s 10ms/step - loss: 0.1837 - accuracy: 0.9492\n",
            "Epoch 401/500\n",
            "15/15 [==============================] - 0s 10ms/step - loss: 0.1817 - accuracy: 0.9536\n",
            "Epoch 402/500\n",
            "15/15 [==============================] - 0s 10ms/step - loss: 0.1828 - accuracy: 0.9514\n",
            "Epoch 403/500\n",
            "15/15 [==============================] - 0s 11ms/step - loss: 0.1818 - accuracy: 0.9492\n",
            "Epoch 404/500\n",
            "15/15 [==============================] - 0s 13ms/step - loss: 0.1795 - accuracy: 0.9470\n",
            "Epoch 405/500\n",
            "15/15 [==============================] - 0s 10ms/step - loss: 0.1788 - accuracy: 0.9514\n",
            "Epoch 406/500\n",
            "15/15 [==============================] - 0s 12ms/step - loss: 0.1776 - accuracy: 0.9536\n",
            "Epoch 407/500\n",
            "15/15 [==============================] - 0s 11ms/step - loss: 0.1761 - accuracy: 0.9536\n",
            "Epoch 408/500\n",
            "15/15 [==============================] - 0s 11ms/step - loss: 0.1754 - accuracy: 0.9536\n",
            "Epoch 409/500\n",
            "15/15 [==============================] - 0s 11ms/step - loss: 0.1762 - accuracy: 0.9492\n",
            "Epoch 410/500\n",
            "15/15 [==============================] - 0s 11ms/step - loss: 0.1736 - accuracy: 0.9536\n",
            "Epoch 411/500\n",
            "15/15 [==============================] - 0s 11ms/step - loss: 0.1739 - accuracy: 0.9470\n",
            "Epoch 412/500\n",
            "15/15 [==============================] - 0s 12ms/step - loss: 0.1739 - accuracy: 0.9470\n",
            "Epoch 413/500\n",
            "15/15 [==============================] - 0s 11ms/step - loss: 0.1727 - accuracy: 0.9492\n",
            "Epoch 414/500\n",
            "15/15 [==============================] - 0s 11ms/step - loss: 0.1729 - accuracy: 0.9470\n",
            "Epoch 415/500\n",
            "15/15 [==============================] - 0s 11ms/step - loss: 0.1734 - accuracy: 0.9492\n",
            "Epoch 416/500\n",
            "15/15 [==============================] - 0s 11ms/step - loss: 0.1708 - accuracy: 0.9470\n",
            "Epoch 417/500\n",
            "15/15 [==============================] - 0s 10ms/step - loss: 0.1691 - accuracy: 0.9448\n",
            "Epoch 418/500\n",
            "15/15 [==============================] - 0s 11ms/step - loss: 0.1678 - accuracy: 0.9536\n",
            "Epoch 419/500\n",
            "15/15 [==============================] - 0s 10ms/step - loss: 0.1678 - accuracy: 0.9492\n",
            "Epoch 420/500\n",
            "15/15 [==============================] - 0s 10ms/step - loss: 0.1671 - accuracy: 0.9470\n",
            "Epoch 421/500\n",
            "15/15 [==============================] - 0s 11ms/step - loss: 0.1661 - accuracy: 0.9470\n",
            "Epoch 422/500\n",
            "15/15 [==============================] - 0s 11ms/step - loss: 0.1653 - accuracy: 0.9536\n",
            "Epoch 423/500\n",
            "15/15 [==============================] - 0s 12ms/step - loss: 0.1644 - accuracy: 0.9514\n",
            "Epoch 424/500\n",
            "15/15 [==============================] - 0s 12ms/step - loss: 0.1635 - accuracy: 0.9514\n",
            "Epoch 425/500\n",
            "15/15 [==============================] - 0s 11ms/step - loss: 0.1628 - accuracy: 0.9536\n",
            "Epoch 426/500\n",
            "15/15 [==============================] - 0s 11ms/step - loss: 0.1621 - accuracy: 0.9492\n",
            "Epoch 427/500\n",
            "15/15 [==============================] - 0s 11ms/step - loss: 0.1621 - accuracy: 0.9514\n",
            "Epoch 428/500\n",
            "15/15 [==============================] - 0s 12ms/step - loss: 0.1615 - accuracy: 0.9536\n",
            "Epoch 429/500\n",
            "15/15 [==============================] - 0s 11ms/step - loss: 0.1621 - accuracy: 0.9470\n",
            "Epoch 430/500\n",
            "15/15 [==============================] - 0s 11ms/step - loss: 0.1625 - accuracy: 0.9514\n",
            "Epoch 431/500\n",
            "15/15 [==============================] - 0s 11ms/step - loss: 0.1638 - accuracy: 0.9514\n",
            "Epoch 432/500\n",
            "15/15 [==============================] - 0s 10ms/step - loss: 0.1619 - accuracy: 0.9514\n",
            "Epoch 433/500\n",
            "15/15 [==============================] - 0s 12ms/step - loss: 0.1608 - accuracy: 0.9514\n",
            "Epoch 434/500\n",
            "15/15 [==============================] - 0s 10ms/step - loss: 0.1591 - accuracy: 0.9536\n",
            "Epoch 435/500\n",
            "15/15 [==============================] - 0s 12ms/step - loss: 0.1593 - accuracy: 0.9514\n",
            "Epoch 436/500\n",
            "15/15 [==============================] - 0s 11ms/step - loss: 0.1578 - accuracy: 0.9536\n",
            "Epoch 437/500\n",
            "15/15 [==============================] - 0s 11ms/step - loss: 0.1575 - accuracy: 0.9536\n",
            "Epoch 438/500\n",
            "15/15 [==============================] - 0s 11ms/step - loss: 0.1563 - accuracy: 0.9514\n",
            "Epoch 439/500\n",
            "15/15 [==============================] - 0s 11ms/step - loss: 0.1556 - accuracy: 0.9492\n",
            "Epoch 440/500\n",
            "15/15 [==============================] - 0s 11ms/step - loss: 0.1551 - accuracy: 0.9536\n",
            "Epoch 441/500\n",
            "15/15 [==============================] - 0s 11ms/step - loss: 0.1540 - accuracy: 0.9536\n",
            "Epoch 442/500\n",
            "15/15 [==============================] - 0s 10ms/step - loss: 0.1537 - accuracy: 0.9492\n",
            "Epoch 443/500\n",
            "15/15 [==============================] - 0s 11ms/step - loss: 0.1541 - accuracy: 0.9536\n",
            "Epoch 444/500\n",
            "15/15 [==============================] - 0s 11ms/step - loss: 0.1527 - accuracy: 0.9514\n",
            "Epoch 445/500\n",
            "15/15 [==============================] - 0s 11ms/step - loss: 0.1531 - accuracy: 0.9514\n",
            "Epoch 446/500\n",
            "15/15 [==============================] - 0s 13ms/step - loss: 0.1526 - accuracy: 0.9492\n",
            "Epoch 447/500\n",
            "15/15 [==============================] - 0s 12ms/step - loss: 0.1524 - accuracy: 0.9514\n",
            "Epoch 448/500\n",
            "15/15 [==============================] - 0s 11ms/step - loss: 0.1513 - accuracy: 0.9492\n",
            "Epoch 449/500\n",
            "15/15 [==============================] - 0s 11ms/step - loss: 0.1517 - accuracy: 0.9492\n",
            "Epoch 450/500\n",
            "15/15 [==============================] - 0s 11ms/step - loss: 0.1508 - accuracy: 0.9514\n",
            "Epoch 451/500\n",
            "15/15 [==============================] - 0s 11ms/step - loss: 0.1501 - accuracy: 0.9470\n",
            "Epoch 452/500\n",
            "15/15 [==============================] - 0s 11ms/step - loss: 0.1495 - accuracy: 0.9470\n",
            "Epoch 453/500\n",
            "15/15 [==============================] - 0s 12ms/step - loss: 0.1565 - accuracy: 0.9448\n",
            "Epoch 454/500\n",
            "15/15 [==============================] - 0s 11ms/step - loss: 0.1523 - accuracy: 0.9492\n",
            "Epoch 455/500\n",
            "15/15 [==============================] - 0s 13ms/step - loss: 0.1515 - accuracy: 0.9492\n",
            "Epoch 456/500\n",
            "15/15 [==============================] - 0s 11ms/step - loss: 0.1486 - accuracy: 0.9470\n",
            "Epoch 457/500\n",
            "15/15 [==============================] - 0s 11ms/step - loss: 0.1476 - accuracy: 0.9514\n",
            "Epoch 458/500\n",
            "15/15 [==============================] - 0s 12ms/step - loss: 0.1533 - accuracy: 0.9470\n",
            "Epoch 459/500\n",
            "15/15 [==============================] - 0s 11ms/step - loss: 0.1529 - accuracy: 0.9492\n",
            "Epoch 460/500\n",
            "15/15 [==============================] - 0s 11ms/step - loss: 0.1468 - accuracy: 0.9492\n",
            "Epoch 461/500\n",
            "15/15 [==============================] - 0s 10ms/step - loss: 0.1485 - accuracy: 0.9536\n",
            "Epoch 462/500\n",
            "15/15 [==============================] - 0s 11ms/step - loss: 0.1540 - accuracy: 0.9448\n",
            "Epoch 463/500\n",
            "15/15 [==============================] - 0s 11ms/step - loss: 0.1579 - accuracy: 0.9470\n",
            "Epoch 464/500\n",
            "15/15 [==============================] - 0s 11ms/step - loss: 0.2454 - accuracy: 0.9205\n",
            "Epoch 465/500\n",
            "15/15 [==============================] - 0s 11ms/step - loss: 0.2442 - accuracy: 0.9227\n",
            "Epoch 466/500\n",
            "15/15 [==============================] - 0s 12ms/step - loss: 0.2634 - accuracy: 0.9272\n",
            "Epoch 467/500\n",
            "15/15 [==============================] - 0s 12ms/step - loss: 0.2153 - accuracy: 0.9338\n",
            "Epoch 468/500\n",
            "15/15 [==============================] - 0s 11ms/step - loss: 0.2239 - accuracy: 0.9382\n",
            "Epoch 469/500\n",
            "15/15 [==============================] - 0s 10ms/step - loss: 0.1950 - accuracy: 0.9404\n",
            "Epoch 470/500\n",
            "15/15 [==============================] - 0s 11ms/step - loss: 0.1746 - accuracy: 0.9448\n",
            "Epoch 471/500\n",
            "15/15 [==============================] - 0s 11ms/step - loss: 0.1623 - accuracy: 0.9448\n",
            "Epoch 472/500\n",
            "15/15 [==============================] - 0s 11ms/step - loss: 0.1618 - accuracy: 0.9492\n",
            "Epoch 473/500\n",
            "15/15 [==============================] - 0s 10ms/step - loss: 0.1613 - accuracy: 0.9514\n",
            "Epoch 474/500\n",
            "15/15 [==============================] - 0s 11ms/step - loss: 0.1562 - accuracy: 0.9492\n",
            "Epoch 475/500\n",
            "15/15 [==============================] - 0s 10ms/step - loss: 0.1535 - accuracy: 0.9492\n",
            "Epoch 476/500\n",
            "15/15 [==============================] - 0s 12ms/step - loss: 0.1496 - accuracy: 0.9492\n",
            "Epoch 477/500\n",
            "15/15 [==============================] - 0s 11ms/step - loss: 0.1480 - accuracy: 0.9514\n",
            "Epoch 478/500\n",
            "15/15 [==============================] - 0s 10ms/step - loss: 0.1595 - accuracy: 0.9514\n",
            "Epoch 479/500\n",
            "15/15 [==============================] - 0s 11ms/step - loss: 0.1498 - accuracy: 0.9536\n",
            "Epoch 480/500\n",
            "15/15 [==============================] - 0s 11ms/step - loss: 0.1462 - accuracy: 0.9492\n",
            "Epoch 481/500\n",
            "15/15 [==============================] - 0s 12ms/step - loss: 0.1451 - accuracy: 0.9470\n",
            "Epoch 482/500\n",
            "15/15 [==============================] - 0s 10ms/step - loss: 0.1432 - accuracy: 0.9514\n",
            "Epoch 483/500\n",
            "15/15 [==============================] - 0s 11ms/step - loss: 0.1442 - accuracy: 0.9448\n",
            "Epoch 484/500\n",
            "15/15 [==============================] - 0s 11ms/step - loss: 0.1474 - accuracy: 0.9492\n",
            "Epoch 485/500\n",
            "15/15 [==============================] - 0s 11ms/step - loss: 0.1415 - accuracy: 0.9448\n",
            "Epoch 486/500\n",
            "15/15 [==============================] - 0s 10ms/step - loss: 0.1417 - accuracy: 0.9426\n",
            "Epoch 487/500\n",
            "15/15 [==============================] - 0s 11ms/step - loss: 0.1397 - accuracy: 0.9536\n",
            "Epoch 488/500\n",
            "15/15 [==============================] - 0s 11ms/step - loss: 0.1371 - accuracy: 0.9470\n",
            "Epoch 489/500\n",
            "15/15 [==============================] - 0s 11ms/step - loss: 0.1365 - accuracy: 0.9448\n",
            "Epoch 490/500\n",
            "15/15 [==============================] - 0s 10ms/step - loss: 0.1354 - accuracy: 0.9514\n",
            "Epoch 491/500\n",
            "15/15 [==============================] - 0s 10ms/step - loss: 0.1364 - accuracy: 0.9514\n",
            "Epoch 492/500\n",
            "15/15 [==============================] - 0s 10ms/step - loss: 0.1355 - accuracy: 0.9514\n",
            "Epoch 493/500\n",
            "15/15 [==============================] - 0s 11ms/step - loss: 0.1346 - accuracy: 0.9492\n",
            "Epoch 494/500\n",
            "15/15 [==============================] - 0s 10ms/step - loss: 0.1336 - accuracy: 0.9492\n",
            "Epoch 495/500\n",
            "15/15 [==============================] - 0s 11ms/step - loss: 0.1331 - accuracy: 0.9470\n",
            "Epoch 496/500\n",
            "15/15 [==============================] - 0s 10ms/step - loss: 0.1328 - accuracy: 0.9426\n",
            "Epoch 497/500\n",
            "15/15 [==============================] - 0s 10ms/step - loss: 0.1321 - accuracy: 0.9470\n",
            "Epoch 498/500\n",
            "15/15 [==============================] - 0s 11ms/step - loss: 0.1317 - accuracy: 0.9426\n",
            "Epoch 499/500\n",
            "15/15 [==============================] - 0s 11ms/step - loss: 0.1312 - accuracy: 0.9404\n",
            "Epoch 500/500\n",
            "15/15 [==============================] - 0s 10ms/step - loss: 0.1312 - accuracy: 0.9404\n"
          ]
        }
      ]
    },
    {
      "cell_type": "code",
      "metadata": {
        "id": "3YXGelKThoTT"
      },
      "source": [
        "import matplotlib.pyplot as plt\n",
        "\n",
        "\n",
        "def plot_graphs(history, string):\n",
        "  plt.plot(history.history[string])\n",
        "  plt.xlabel(\"Epochs\")\n",
        "  plt.ylabel(string)\n",
        "  plt.show()"
      ],
      "execution_count": 25,
      "outputs": []
    },
    {
      "cell_type": "code",
      "metadata": {
        "id": "poeprYK8h-c7",
        "colab": {
          "base_uri": "https://localhost:8080/",
          "height": 283
        },
        "outputId": "d5cbd21d-8c7b-4d38-f3b9-8bf7f03acff2"
      },
      "source": [
        "plot_graphs(history, 'accuracy')\n"
      ],
      "execution_count": 26,
      "outputs": [
        {
          "output_type": "display_data",
          "data": {
            "image/png": "[encoded data removed]",
            "text/plain": [
              "<Figure size 432x288 with 1 Axes>"
            ]
          },
          "metadata": {
            "needs_background": "light"
          }
        }
      ]
    },
    {
      "cell_type": "code",
      "metadata": {
        "id": "6Vc6PHgxa6Hm",
        "colab": {
          "base_uri": "https://localhost:8080/"
        },
        "outputId": "3b86b4fd-80ea-4325-e4bc-7f803b3a77dc"
      },
      "source": [
        "seed_text = \"Laurence went to dublin\"\n",
        "next_words = 100\n",
        "  \n",
        "for _ in range(next_words):\n",
        "\ttoken_list = tokenizer.texts_to_sequences([seed_text])[0]\n",
        "\ttoken_list = pad_sequences([token_list], maxlen=max_sequence_len-1, padding='pre')\n",
        "\t#predicted = model.predict_classes(token_list, verbose=0)\n",
        "\tpredict_x=model.predict(token_list) \n",
        "\tpredicted=np.argmax(predict_x,axis=1)\n",
        "\toutput_word = \"\"\n",
        "\tfor word, index in tokenizer.word_index.items():\n",
        "\t\tif index == predicted:\n",
        "\t\t\toutput_word = word\n",
        "\t\t\tbreak\n",
        "\tseed_text += \" \" + output_word\n",
        "print(seed_text)"
      ],
      "execution_count": 29,
      "outputs": [
        {
          "output_type": "stream",
          "name": "stdout",
          "text": [
            "Laurence went to dublin round the room a whirligig lanigan glisten glisten ground ground glisten taras hall glisten glisten ground ground fainted nelly rose rose rose gathered nelly catchers daughter polkas daughter eyes glisten taras glisten glisten ground ground ground fainted nelly lanigan rose rose jig glisten ground was eyes glisten glisten ground ground ground fainted her rose jig hall glisten ground ground ground fainted long a suppose suppose suppose gathered weeks long weeks i dublin dublin dublin dublin academy brothers long at give entangled her call lanigans ball ball entangled entangled me fall fall fall up entangled lanigans ball entangled entangled entangled entangled\n"
          ]
        }
      ]
    },
    {
      "cell_type": "code",
      "metadata": {
        "id": "8g2vLjTUhgjT"
      },
      "source": [
        "# The poetry Sucks! But can be improved!!"
      ],
      "execution_count": 30,
      "outputs": []
    },
    {
      "cell_type": "code",
      "metadata": {
        "id": "4dC8yyDXhgjT"
      },
      "source": [
        "bf"
      ],
      "execution_count": null,
      "outputs": []
    }
  ]
}