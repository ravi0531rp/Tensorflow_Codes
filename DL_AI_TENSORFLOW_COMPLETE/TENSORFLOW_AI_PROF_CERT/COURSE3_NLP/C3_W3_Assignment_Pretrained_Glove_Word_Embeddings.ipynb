{
  "nbformat": 4,
  "nbformat_minor": 0,
  "metadata": {
    "accelerator": "GPU",
    "colab": {
      "name": "C3_W3_Assignment.ipynb",
      "provenance": [],
      "collapsed_sections": []
    },
    "kernelspec": {
      "display_name": "Python 3",
      "language": "python",
      "name": "python3"
    },
    "language_info": {
      "codemirror_mode": {
        "name": "ipython",
        "version": 3
      },
      "file_extension": ".py",
      "mimetype": "text/x-python",
      "name": "python",
      "nbconvert_exporter": "python",
      "pygments_lexer": "ipython3",
      "version": "3.8.5"
    }
  },
  "cells": [
    {
      "cell_type": "code",
      "metadata": {
        "id": "hmA6EzkQJ5jt"
      },
      "source": [
        "import json\n",
        "import tensorflow as tf\n",
        "import csv\n",
        "import random\n",
        "import numpy as np\n",
        "\n",
        "from tensorflow.keras.preprocessing.text import Tokenizer\n",
        "from tensorflow.keras.preprocessing.sequence import pad_sequences\n",
        "from tensorflow.keras.utils import to_categorical\n",
        "from tensorflow.keras import regularizers\n",
        "\n",
        "\n",
        "embedding_dim = 100\n",
        "max_length = 16\n",
        "trunc_type='post'\n",
        "padding_type='post'\n",
        "oov_tok = \"<OOV>\"\n",
        "training_size= 160000 #Your dataset size here. Experiment using smaller values (i.e. 16000), but don't forget to train on at least 160000 to see the best effects\n",
        "test_portion=.1\n",
        "\n",
        "corpus = []\n"
      ],
      "execution_count": 1,
      "outputs": []
    },
    {
      "cell_type": "code",
      "metadata": {
        "id": "bM0l_dORKqE0",
        "colab": {
          "base_uri": "https://localhost:8080/"
        },
        "outputId": "1586a0c3-715e-4095-cf60-61e3eaedf86e"
      },
      "source": [
        "# Note that I cleaned the Stanford dataset to remove LATIN1 encoding to make it easier for Python CSV reader\n",
        "# You can do that yourself with:\n",
        "# iconv -f LATIN1 -t UTF8 training.1600000.processed.noemoticon.csv -o training_cleaned.csv\n",
        "\n",
        "# training_cleaned.csv\n",
        "!gdown --id 1wd8KaeCSHxt-nEpMeuHFSNWrDp8joUXJ\n",
        "\n"
      ],
      "execution_count": 2,
      "outputs": [
        {
          "output_type": "stream",
          "name": "stdout",
          "text": [
            "Downloading...\n",
            "From: https://drive.google.com/uc?id=1wd8KaeCSHxt-nEpMeuHFSNWrDp8joUXJ\n",
            "To: /content/training_cleaned.csv\n",
            "100% 239M/239M [00:01<00:00, 170MB/s]\n"
          ]
        }
      ]
    },
    {
      "cell_type": "code",
      "metadata": {
        "colab": {
          "base_uri": "https://localhost:8080/"
        },
        "id": "gxdbxEc3dN49",
        "outputId": "88f23e1a-ad7f-406c-bff4-56f00334d126"
      },
      "source": [
        "ls"
      ],
      "execution_count": 3,
      "outputs": [
        {
          "output_type": "stream",
          "name": "stdout",
          "text": [
            "\u001b[0m\u001b[01;34msample_data\u001b[0m/  training_cleaned.csv\n"
          ]
        }
      ]
    },
    {
      "cell_type": "code",
      "metadata": {
        "id": "QrnDET-RdRdf"
      },
      "source": [
        "import pandas as pd\n",
        "\n",
        "df = pd.read_csv(\"/content/training_cleaned.csv\")"
      ],
      "execution_count": 4,
      "outputs": []
    },
    {
      "cell_type": "code",
      "metadata": {
        "colab": {
          "base_uri": "https://localhost:8080/",
          "height": 304
        },
        "id": "NcjHpuexdfIr",
        "outputId": "55b7a61d-a51a-4205-c121-10822f601d37"
      },
      "source": [
        "df.head()"
      ],
      "execution_count": 5,
      "outputs": [
        {
          "output_type": "execute_result",
          "data": {
            "text/html": [
              "<div>\n",
              "<style scoped>\n",
              "    .dataframe tbody tr th:only-of-type {\n",
              "        vertical-align: middle;\n",
              "    }\n",
              "\n",
              "    .dataframe tbody tr th {\n",
              "        vertical-align: top;\n",
              "    }\n",
              "\n",
              "    .dataframe thead th {\n",
              "        text-align: right;\n",
              "    }\n",
              "</style>\n",
              "<table border=\"1\" class=\"dataframe\">\n",
              "  <thead>\n",
              "    <tr style=\"text-align: right;\">\n",
              "      <th></th>\n",
              "      <th>0</th>\n",
              "      <th>1467810369</th>\n",
              "      <th>Mon Apr 06 22:19:45 PDT 2009</th>\n",
              "      <th>NO_QUERY</th>\n",
              "      <th>_TheSpecialOne_</th>\n",
              "      <th>@switchfoot http://twitpic.com/2y1zl - Awww, that's a bummer.  You shoulda got David Carr of Third Day to do it. ;D</th>\n",
              "    </tr>\n",
              "  </thead>\n",
              "  <tbody>\n",
              "    <tr>\n",
              "      <th>0</th>\n",
              "      <td>0</td>\n",
              "      <td>1467810672</td>\n",
              "      <td>Mon Apr 06 22:19:49 PDT 2009</td>\n",
              "      <td>NO_QUERY</td>\n",
              "      <td>scotthamilton</td>\n",
              "      <td>is upset that he can't update his Facebook by ...</td>\n",
              "    </tr>\n",
              "    <tr>\n",
              "      <th>1</th>\n",
              "      <td>0</td>\n",
              "      <td>1467810917</td>\n",
              "      <td>Mon Apr 06 22:19:53 PDT 2009</td>\n",
              "      <td>NO_QUERY</td>\n",
              "      <td>mattycus</td>\n",
              "      <td>@Kenichan I dived many times for the ball. Man...</td>\n",
              "    </tr>\n",
              "    <tr>\n",
              "      <th>2</th>\n",
              "      <td>0</td>\n",
              "      <td>1467811184</td>\n",
              "      <td>Mon Apr 06 22:19:57 PDT 2009</td>\n",
              "      <td>NO_QUERY</td>\n",
              "      <td>ElleCTF</td>\n",
              "      <td>my whole body feels itchy and like its on fire</td>\n",
              "    </tr>\n",
              "    <tr>\n",
              "      <th>3</th>\n",
              "      <td>0</td>\n",
              "      <td>1467811193</td>\n",
              "      <td>Mon Apr 06 22:19:57 PDT 2009</td>\n",
              "      <td>NO_QUERY</td>\n",
              "      <td>Karoli</td>\n",
              "      <td>@nationwideclass no, it's not behaving at all....</td>\n",
              "    </tr>\n",
              "    <tr>\n",
              "      <th>4</th>\n",
              "      <td>0</td>\n",
              "      <td>1467811372</td>\n",
              "      <td>Mon Apr 06 22:20:00 PDT 2009</td>\n",
              "      <td>NO_QUERY</td>\n",
              "      <td>joy_wolf</td>\n",
              "      <td>@Kwesidei not the whole crew</td>\n",
              "    </tr>\n",
              "  </tbody>\n",
              "</table>\n",
              "</div>"
            ],
            "text/plain": [
              "   0  ...  @switchfoot http://twitpic.com/2y1zl - Awww, that's a bummer.  You shoulda got David Carr of Third Day to do it. ;D\n",
              "0  0  ...  is upset that he can't update his Facebook by ...                                                                  \n",
              "1  0  ...  @Kenichan I dived many times for the ball. Man...                                                                  \n",
              "2  0  ...    my whole body feels itchy and like its on fire                                                                   \n",
              "3  0  ...  @nationwideclass no, it's not behaving at all....                                                                  \n",
              "4  0  ...                      @Kwesidei not the whole crew                                                                   \n",
              "\n",
              "[5 rows x 6 columns]"
            ]
          },
          "metadata": {},
          "execution_count": 5
        }
      ]
    },
    {
      "cell_type": "code",
      "metadata": {
        "id": "Zt9eQX7rJscS"
      },
      "source": [
        "num_sentences = 0\n",
        "\n",
        "with open(\"./training_cleaned.csv\") as csvfile:\n",
        "    reader = csv.reader(csvfile, delimiter=',')\n",
        "    for row in reader:\n",
        "        list_item=[]\n",
        "        list_item.append(row[5])\n",
        "        this_label=row[0]\n",
        "        if this_label=='0':\n",
        "            list_item.append(0)\n",
        "        else:\n",
        "            list_item.append(1)\n",
        "        ### START CODE HERE\n",
        "        #Create list items where the first item is the text, found in row[5], and the second is the label. Note that the label is a '0' or a '4' in the text. When it's the former, make\n",
        "        # your label to be 0, otherwise 1. Keep a count of the number of sentences in num_sentences\n",
        "        ### END CODE HERE\n",
        "        \n",
        "        num_sentences = num_sentences + 1\n",
        "        corpus.append(list_item)\n"
      ],
      "execution_count": 6,
      "outputs": []
    },
    {
      "cell_type": "code",
      "metadata": {
        "colab": {
          "base_uri": "https://localhost:8080/"
        },
        "id": "aRnpr81IeCFA",
        "outputId": "95a9a46b-e5ac-4aaa-87d2-e07ea897cc2f"
      },
      "source": [
        "len(corpus)"
      ],
      "execution_count": 7,
      "outputs": [
        {
          "output_type": "execute_result",
          "data": {
            "text/plain": [
              "1600000"
            ]
          },
          "metadata": {},
          "execution_count": 7
        }
      ]
    },
    {
      "cell_type": "code",
      "metadata": {
        "colab": {
          "base_uri": "https://localhost:8080/"
        },
        "id": "LYP33HLVeB8D",
        "outputId": "17b00e56-32af-4542-8a1f-1e7729732865"
      },
      "source": [
        "corpus[0]"
      ],
      "execution_count": 8,
      "outputs": [
        {
          "output_type": "execute_result",
          "data": {
            "text/plain": [
              "[\"@switchfoot http://twitpic.com/2y1zl - Awww, that's a bummer.  You shoulda got David Carr of Third Day to do it. ;D\",\n",
              " 0]"
            ]
          },
          "metadata": {},
          "execution_count": 8
        }
      ]
    },
    {
      "cell_type": "code",
      "metadata": {
        "colab": {
          "base_uri": "https://localhost:8080/"
        },
        "id": "77Ij3yUYeEra",
        "outputId": "9ac90dfd-0f4c-4214-920b-6a304399659c"
      },
      "source": [
        "type(corpus[20])"
      ],
      "execution_count": 10,
      "outputs": [
        {
          "output_type": "execute_result",
          "data": {
            "text/plain": [
              "list"
            ]
          },
          "metadata": {},
          "execution_count": 10
        }
      ]
    },
    {
      "cell_type": "code",
      "metadata": {
        "colab": {
          "base_uri": "https://localhost:8080/"
        },
        "id": "OttA7FrUeaP6",
        "outputId": "98170aed-3f31-48cd-c4e3-ea49c906fdb7"
      },
      "source": [
        "print(corpus[20][0], \" : \", corpus[20][1])"
      ],
      "execution_count": 12,
      "outputs": [
        {
          "output_type": "stream",
          "name": "stdout",
          "text": [
            "@alydesigns i was out most of the day so didn't get much done   :  0\n"
          ]
        }
      ]
    },
    {
      "cell_type": "code",
      "metadata": {
        "id": "3kxblBUjEUX-",
        "colab": {
          "base_uri": "https://localhost:8080/"
        },
        "outputId": "c2f15a67-18c2-4c10-a475-436a690bdf7d"
      },
      "source": [
        "print(num_sentences)\n",
        "print(len(corpus))\n",
        "print(corpus[1])\n",
        "\n",
        "# Expected Output:\n",
        "# 1600000\n",
        "# 1600000\n",
        "# [\"is upset that he can't update his Facebook by texting it... and might cry as a result  School today also. Blah!\", 0]"
      ],
      "execution_count": 13,
      "outputs": [
        {
          "output_type": "stream",
          "name": "stdout",
          "text": [
            "1600000\n",
            "1600000\n",
            "[\"is upset that he can't update his Facebook by texting it... and might cry as a result  School today also. Blah!\", 0]\n"
          ]
        }
      ]
    },
    {
      "cell_type": "code",
      "metadata": {
        "id": "ohOGz24lsNAD"
      },
      "source": [
        "sentences=[]\n",
        "labels=[]\n",
        "random.shuffle(corpus)\n",
        "for x in range(training_size):\n",
        "    sentences.append(corpus[x][0])\n",
        "    labels.append(corpus[x][1])\n",
        "\n",
        "\n",
        "tokenizer = Tokenizer(oov_token = oov_tok)\n",
        "tokenizer.fit_on_texts(sentences)\n",
        "\n",
        "word_index = tokenizer.word_index\n",
        "vocab_size=len(word_index)\n",
        "\n",
        "sequences = tokenizer.texts_to_sequences(sentences)\n",
        "padded = pad_sequences(sequences, padding = padding_type , maxlen = max_length , truncating = trunc_type   )\n",
        "\n",
        "split = int(test_portion * training_size)\n",
        "\n",
        "test_sequences = padded[0:split]\n",
        "training_sequences = padded[split:training_size]\n",
        "test_labels = labels[0:split]\n",
        "training_labels = labels[split:training_size]"
      ],
      "execution_count": 14,
      "outputs": []
    },
    {
      "cell_type": "code",
      "metadata": {
        "id": "gIrtRem1En3N",
        "colab": {
          "base_uri": "https://localhost:8080/"
        },
        "outputId": "8c1e5210-0309-4c43-8a08-16f3d81415cf"
      },
      "source": [
        "print(vocab_size)\n",
        "print(word_index['i'])\n",
        "# Expected Output\n",
        "# 138856\n",
        "# 1"
      ],
      "execution_count": 15,
      "outputs": [
        {
          "output_type": "stream",
          "name": "stdout",
          "text": [
            "138057\n",
            "2\n"
          ]
        }
      ]
    },
    {
      "cell_type": "markdown",
      "metadata": {
        "id": "6rlWafpowc9e"
      },
      "source": [
        "# GLOVE WORD EMBEDDINGS DOWNLOADED"
      ]
    },
    {
      "cell_type": "code",
      "metadata": {
        "id": "C1zdgJkusRh0",
        "colab": {
          "base_uri": "https://localhost:8080/"
        },
        "outputId": "f09760de-1058-4e4d-912a-32f7d9ed8568"
      },
      "source": [
        "# Note this is the 100 dimension version of GloVe from Stanford\n",
        "\n",
        "# glove.6B.100d.txt\n",
        "!gdown --id 1W5vZy2etitAblLdFn8_DxnsQKzfFJ98g\n",
        "\n",
        "embeddings_index = {}; # created a dict to store like { \"Apple\" : [v1 , v2 , .. , v100] , \"Banana\" : [.....] , ...}\n",
        "with open('./glove.6B.100d.txt') as f:\n",
        "    for line in f:\n",
        "        values = line.split();\n",
        "        word = values[0];\n",
        "        coefs = np.asarray(values[1:], dtype='float32');\n",
        "        embeddings_index[word] = coefs;\n",
        "\n",
        "embeddings_matrix = np.zeros((vocab_size+1, embedding_dim)); # (len(word_index) + 1 , 100) \n",
        "for word, i in word_index.items():\n",
        "    embedding_vector = embeddings_index.get(word);\n",
        "    if embedding_vector is not None:\n",
        "        embeddings_matrix[i] = embedding_vector;"
      ],
      "execution_count": 16,
      "outputs": [
        {
          "output_type": "stream",
          "name": "stdout",
          "text": [
            "Downloading...\n",
            "From: https://drive.google.com/uc?id=1W5vZy2etitAblLdFn8_DxnsQKzfFJ98g\n",
            "To: /content/glove.6B.100d.txt\n",
            "100% 347M/347M [00:02<00:00, 134MB/s]\n"
          ]
        }
      ]
    },
    {
      "cell_type": "code",
      "metadata": {
        "colab": {
          "base_uri": "https://localhost:8080/"
        },
        "id": "UuWBYiHDx6mF",
        "outputId": "e4107fd6-0c3d-4a76-cebc-b89a31d0fd63"
      },
      "source": [
        "embeddings_matrix.shape"
      ],
      "execution_count": 27,
      "outputs": [
        {
          "output_type": "execute_result",
          "data": {
            "text/plain": [
              "(138058, 100)"
            ]
          },
          "metadata": {},
          "execution_count": 27
        }
      ]
    },
    {
      "cell_type": "code",
      "metadata": {
        "colab": {
          "base_uri": "https://localhost:8080/"
        },
        "id": "V2Utl1q_x7B-",
        "outputId": "7a97dd61-c9c8-408e-ef4c-3d466d2dd4dd"
      },
      "source": [
        "len(word_index) + 1"
      ],
      "execution_count": 28,
      "outputs": [
        {
          "output_type": "execute_result",
          "data": {
            "text/plain": [
              "138058"
            ]
          },
          "metadata": {},
          "execution_count": 28
        }
      ]
    },
    {
      "cell_type": "code",
      "metadata": {
        "colab": {
          "base_uri": "https://localhost:8080/"
        },
        "id": "fzKDnXptx7QP",
        "outputId": "6cb47a58-5372-4741-c3c0-a29fbde18e09"
      },
      "source": [
        "embeddings_matrix[1, :]"
      ],
      "execution_count": 32,
      "outputs": [
        {
          "output_type": "execute_result",
          "data": {
            "text/plain": [
              "array([0., 0., 0., 0., 0., 0., 0., 0., 0., 0., 0., 0., 0., 0., 0., 0., 0.,\n",
              "       0., 0., 0., 0., 0., 0., 0., 0., 0., 0., 0., 0., 0., 0., 0., 0., 0.,\n",
              "       0., 0., 0., 0., 0., 0., 0., 0., 0., 0., 0., 0., 0., 0., 0., 0., 0.,\n",
              "       0., 0., 0., 0., 0., 0., 0., 0., 0., 0., 0., 0., 0., 0., 0., 0., 0.,\n",
              "       0., 0., 0., 0., 0., 0., 0., 0., 0., 0., 0., 0., 0., 0., 0., 0., 0.,\n",
              "       0., 0., 0., 0., 0., 0., 0., 0., 0., 0., 0., 0., 0., 0., 0.])"
            ]
          },
          "metadata": {},
          "execution_count": 32
        }
      ]
    },
    {
      "cell_type": "code",
      "metadata": {
        "colab": {
          "base_uri": "https://localhost:8080/"
        },
        "id": "F6u75SMJyFil",
        "outputId": "51279123-8e05-4ca1-b73a-7f4f4bb4fcf9"
      },
      "source": [
        "embeddings_matrix[2, :]"
      ],
      "execution_count": 30,
      "outputs": [
        {
          "output_type": "execute_result",
          "data": {
            "text/plain": [
              "array([-0.046539  ,  0.61966002,  0.56647003, -0.46584001, -1.18900001,\n",
              "        0.44599   ,  0.066035  ,  0.31909999,  0.14679   , -0.22119001,\n",
              "        0.79238999,  0.29905   ,  0.16073   ,  0.025324  ,  0.18678001,\n",
              "       -0.31000999, -0.28108001,  0.60514998, -1.0654    ,  0.52476001,\n",
              "        0.064152  ,  1.03579998, -0.40779001, -0.38011   ,  0.30801001,\n",
              "        0.59964001, -0.26991001, -0.76034999,  0.94221997, -0.46919   ,\n",
              "       -0.18278   ,  0.90652001,  0.79671001,  0.24824999,  0.25713   ,\n",
              "        0.6232    , -0.44768   ,  0.65357   ,  0.76902002, -0.51229   ,\n",
              "       -0.44332999, -0.21867   ,  0.38370001, -1.14830005, -0.94397998,\n",
              "       -0.15062   ,  0.30012   , -0.57805997,  0.20175   , -1.65910006,\n",
              "       -0.079195  ,  0.026423  ,  0.22051001,  0.99713999, -0.57538998,\n",
              "       -2.72659993,  0.31448001,  0.70521998,  1.43809998,  0.99125999,\n",
              "        0.13976   ,  1.34739995, -1.1753    ,  0.0039503 ,  1.02980006,\n",
              "        0.064637  ,  0.90886998,  0.82871997, -0.47003001, -0.10575   ,\n",
              "        0.5916    , -0.42210001,  0.57331002, -0.54114002,  0.10768   ,\n",
              "        0.39783999, -0.048744  ,  0.064596  , -0.61436999, -0.28600001,\n",
              "        0.50669998, -0.49757999, -0.81569999,  0.16407999, -1.96300006,\n",
              "       -0.26693001, -0.37593001, -0.95846999, -0.85839999, -0.71577001,\n",
              "       -0.32343   , -0.43121001,  0.41391999,  0.28374001, -0.70931   ,\n",
              "        0.15003   , -0.2154    , -0.37616   , -0.032502  ,  0.80620003])"
            ]
          },
          "metadata": {},
          "execution_count": 30
        }
      ]
    },
    {
      "cell_type": "code",
      "metadata": {
        "colab": {
          "base_uri": "https://localhost:8080/"
        },
        "id": "vv1qQHifyFpO",
        "outputId": "ad6b5c7e-8695-4849-a660-7152004d2ce1"
      },
      "source": [
        "for word, i in word_index.items():\n",
        "  if i >3:\n",
        "    break\n",
        "  print(word, \" : \", i)"
      ],
      "execution_count": 34,
      "outputs": [
        {
          "output_type": "stream",
          "name": "stdout",
          "text": [
            "<OOV>  :  1\n",
            "i  :  2\n",
            "to  :  3\n"
          ]
        }
      ]
    },
    {
      "cell_type": "markdown",
      "metadata": {
        "id": "d_B2-byyzJON"
      },
      "source": [
        "## Now we can see why 0th element is empty in our embedding_matrix\n",
        " * 0th element was never altered as our dictonary doesn't have a value 0\n",
        " * 1st element was full of 0s as it is reserved for OOV token\n",
        " * After that, we could see all the true vectors for other wordfs like i, to ,....."
      ]
    },
    {
      "cell_type": "code",
      "metadata": {
        "id": "71NLk_lpFLNt",
        "colab": {
          "base_uri": "https://localhost:8080/"
        },
        "outputId": "957eed4a-febe-4f4e-ea8c-4554cf3ab7d5"
      },
      "source": [
        "print(len(embeddings_matrix))\n",
        "# Expected Output\n",
        "# 138857"
      ],
      "execution_count": 17,
      "outputs": [
        {
          "output_type": "stream",
          "name": "stdout",
          "text": [
            "138058\n"
          ]
        }
      ]
    },
    {
      "cell_type": "markdown",
      "metadata": {
        "id": "R88MGebNjTsZ"
      },
      "source": [
        "# CONV-LSTM BASED MODEL WITH DROPOUT"
      ]
    },
    {
      "cell_type": "code",
      "metadata": {
        "id": "qUqqP3QIoICA"
      },
      "source": [
        "training_padded = np.array(training_sequences)\n",
        "training_labels = np.array(training_labels)\n",
        "testing_padded = np.array(test_sequences)\n",
        "testing_labels = np.array(test_labels)"
      ],
      "execution_count": null,
      "outputs": []
    },
    {
      "cell_type": "code",
      "metadata": {
        "id": "iKKvbuEBOGFz",
        "colab": {
          "base_uri": "https://localhost:8080/"
        },
        "outputId": "695e921a-9eca-438c-cb7a-16a430957491"
      },
      "source": [
        "model = tf.keras.Sequential([\n",
        "    # YOUR CODE HERE\n",
        "    tf.keras.layers.Embedding(vocab_size+1, embedding_dim, input_length=max_length, weights=[embeddings_matrix], trainable=False),\n",
        "    tf.keras.layers.Dropout(0.2),\n",
        "    tf.keras.layers.Conv1D(64, 5, activation='relu'),\n",
        "    tf.keras.layers.MaxPooling1D(pool_size=4),\n",
        "    tf.keras.layers.LSTM(64),\n",
        "    tf.keras.layers.Dense(1, activation='sigmoid')\n",
        "])\n",
        "model.compile(loss='binary_crossentropy',optimizer='adam',metrics=['accuracy'])\n",
        "model.summary()\n",
        "\n",
        "num_epochs = 50\n",
        "\n",
        "\n",
        "history = model.fit(training_padded, training_labels, epochs=num_epochs, validation_data=(testing_padded, testing_labels), verbose=2)\n",
        "\n",
        "print(\"Training Complete\")"
      ],
      "execution_count": 23,
      "outputs": [
        {
          "output_type": "stream",
          "name": "stdout",
          "text": [
            "Model: \"sequential_1\"\n",
            "_________________________________________________________________\n",
            "Layer (type)                 Output Shape              Param #   \n",
            "=================================================================\n",
            "embedding_5 (Embedding)      (None, 16, 100)           13805800  \n",
            "_________________________________________________________________\n",
            "dropout_5 (Dropout)          (None, 16, 100)           0         \n",
            "_________________________________________________________________\n",
            "conv1d_5 (Conv1D)            (None, 12, 64)            32064     \n",
            "_________________________________________________________________\n",
            "max_pooling1d_1 (MaxPooling1 (None, 3, 64)             0         \n",
            "_________________________________________________________________\n",
            "lstm_1 (LSTM)                (None, 64)                33024     \n",
            "_________________________________________________________________\n",
            "dense_2 (Dense)              (None, 1)                 65        \n",
            "=================================================================\n",
            "Total params: 13,870,953\n",
            "Trainable params: 65,153\n",
            "Non-trainable params: 13,805,800\n",
            "_________________________________________________________________\n",
            "Epoch 1/50\n",
            "4500/4500 - 50s - loss: 0.5675 - accuracy: 0.6989 - val_loss: 0.5294 - val_accuracy: 0.7253\n",
            "Epoch 2/50\n",
            "4500/4500 - 18s - loss: 0.5277 - accuracy: 0.7300 - val_loss: 0.5127 - val_accuracy: 0.7405\n",
            "Epoch 3/50\n",
            "4500/4500 - 18s - loss: 0.5111 - accuracy: 0.7440 - val_loss: 0.5086 - val_accuracy: 0.7446\n",
            "Epoch 4/50\n",
            "4500/4500 - 18s - loss: 0.5013 - accuracy: 0.7503 - val_loss: 0.5075 - val_accuracy: 0.7428\n",
            "Epoch 5/50\n",
            "4500/4500 - 17s - loss: 0.4916 - accuracy: 0.7559 - val_loss: 0.4974 - val_accuracy: 0.7523\n",
            "Epoch 6/50\n",
            "4500/4500 - 18s - loss: 0.4852 - accuracy: 0.7616 - val_loss: 0.5012 - val_accuracy: 0.7469\n",
            "Epoch 7/50\n",
            "4500/4500 - 17s - loss: 0.4792 - accuracy: 0.7660 - val_loss: 0.5003 - val_accuracy: 0.7542\n",
            "Epoch 8/50\n",
            "4500/4500 - 17s - loss: 0.4735 - accuracy: 0.7691 - val_loss: 0.4987 - val_accuracy: 0.7523\n",
            "Epoch 9/50\n",
            "4500/4500 - 18s - loss: 0.4683 - accuracy: 0.7730 - val_loss: 0.4969 - val_accuracy: 0.7501\n",
            "Epoch 10/50\n",
            "4500/4500 - 17s - loss: 0.4651 - accuracy: 0.7743 - val_loss: 0.5020 - val_accuracy: 0.7511\n",
            "Epoch 11/50\n",
            "4500/4500 - 18s - loss: 0.4620 - accuracy: 0.7762 - val_loss: 0.5002 - val_accuracy: 0.7554\n",
            "Epoch 12/50\n",
            "4500/4500 - 17s - loss: 0.4594 - accuracy: 0.7765 - val_loss: 0.5002 - val_accuracy: 0.7533\n",
            "Epoch 13/50\n",
            "4500/4500 - 18s - loss: 0.4566 - accuracy: 0.7796 - val_loss: 0.5105 - val_accuracy: 0.7461\n",
            "Epoch 14/50\n",
            "4500/4500 - 18s - loss: 0.4538 - accuracy: 0.7806 - val_loss: 0.5019 - val_accuracy: 0.7511\n",
            "Epoch 15/50\n",
            "4500/4500 - 18s - loss: 0.4501 - accuracy: 0.7837 - val_loss: 0.5059 - val_accuracy: 0.7563\n",
            "Epoch 16/50\n",
            "4500/4500 - 17s - loss: 0.4485 - accuracy: 0.7845 - val_loss: 0.5114 - val_accuracy: 0.7492\n",
            "Epoch 17/50\n",
            "4500/4500 - 18s - loss: 0.4474 - accuracy: 0.7843 - val_loss: 0.5077 - val_accuracy: 0.7500\n",
            "Epoch 18/50\n",
            "4500/4500 - 18s - loss: 0.4463 - accuracy: 0.7863 - val_loss: 0.5078 - val_accuracy: 0.7522\n",
            "Epoch 19/50\n",
            "4500/4500 - 17s - loss: 0.4439 - accuracy: 0.7879 - val_loss: 0.5120 - val_accuracy: 0.7527\n",
            "Epoch 20/50\n",
            "4500/4500 - 17s - loss: 0.4421 - accuracy: 0.7877 - val_loss: 0.5131 - val_accuracy: 0.7534\n",
            "Epoch 21/50\n",
            "4500/4500 - 18s - loss: 0.4414 - accuracy: 0.7893 - val_loss: 0.5170 - val_accuracy: 0.7510\n",
            "Epoch 22/50\n",
            "4500/4500 - 17s - loss: 0.4408 - accuracy: 0.7898 - val_loss: 0.5089 - val_accuracy: 0.7517\n",
            "Epoch 23/50\n",
            "4500/4500 - 17s - loss: 0.4379 - accuracy: 0.7902 - val_loss: 0.5156 - val_accuracy: 0.7494\n",
            "Epoch 24/50\n",
            "4500/4500 - 17s - loss: 0.4386 - accuracy: 0.7902 - val_loss: 0.5191 - val_accuracy: 0.7486\n",
            "Epoch 25/50\n",
            "4500/4500 - 17s - loss: 0.4373 - accuracy: 0.7917 - val_loss: 0.5132 - val_accuracy: 0.7518\n",
            "Epoch 26/50\n",
            "4500/4500 - 17s - loss: 0.4369 - accuracy: 0.7912 - val_loss: 0.5177 - val_accuracy: 0.7466\n",
            "Epoch 27/50\n",
            "4500/4500 - 18s - loss: 0.4344 - accuracy: 0.7927 - val_loss: 0.5202 - val_accuracy: 0.7488\n",
            "Epoch 28/50\n",
            "4500/4500 - 18s - loss: 0.4345 - accuracy: 0.7927 - val_loss: 0.5242 - val_accuracy: 0.7478\n",
            "Epoch 29/50\n",
            "4500/4500 - 18s - loss: 0.4335 - accuracy: 0.7940 - val_loss: 0.5199 - val_accuracy: 0.7479\n",
            "Epoch 30/50\n",
            "4500/4500 - 17s - loss: 0.4332 - accuracy: 0.7928 - val_loss: 0.5204 - val_accuracy: 0.7496\n",
            "Epoch 31/50\n",
            "4500/4500 - 18s - loss: 0.4332 - accuracy: 0.7927 - val_loss: 0.5169 - val_accuracy: 0.7467\n",
            "Epoch 32/50\n",
            "4500/4500 - 18s - loss: 0.4338 - accuracy: 0.7942 - val_loss: 0.5159 - val_accuracy: 0.7486\n",
            "Epoch 33/50\n",
            "4500/4500 - 18s - loss: 0.4325 - accuracy: 0.7944 - val_loss: 0.5140 - val_accuracy: 0.7508\n",
            "Epoch 34/50\n",
            "4500/4500 - 18s - loss: 0.4299 - accuracy: 0.7958 - val_loss: 0.5183 - val_accuracy: 0.7490\n",
            "Epoch 35/50\n",
            "4500/4500 - 17s - loss: 0.4310 - accuracy: 0.7954 - val_loss: 0.5167 - val_accuracy: 0.7487\n",
            "Epoch 36/50\n",
            "4500/4500 - 18s - loss: 0.4299 - accuracy: 0.7958 - val_loss: 0.5208 - val_accuracy: 0.7456\n",
            "Epoch 37/50\n",
            "4500/4500 - 18s - loss: 0.4306 - accuracy: 0.7952 - val_loss: 0.5202 - val_accuracy: 0.7518\n",
            "Epoch 38/50\n",
            "4500/4500 - 17s - loss: 0.4295 - accuracy: 0.7955 - val_loss: 0.5165 - val_accuracy: 0.7466\n",
            "Epoch 39/50\n",
            "4500/4500 - 18s - loss: 0.4295 - accuracy: 0.7949 - val_loss: 0.5213 - val_accuracy: 0.7473\n",
            "Epoch 40/50\n",
            "4500/4500 - 17s - loss: 0.4301 - accuracy: 0.7943 - val_loss: 0.5191 - val_accuracy: 0.7495\n",
            "Epoch 41/50\n",
            "4500/4500 - 17s - loss: 0.4297 - accuracy: 0.7961 - val_loss: 0.5216 - val_accuracy: 0.7497\n",
            "Epoch 42/50\n",
            "4500/4500 - 17s - loss: 0.4292 - accuracy: 0.7967 - val_loss: 0.5169 - val_accuracy: 0.7478\n",
            "Epoch 43/50\n",
            "4500/4500 - 17s - loss: 0.4276 - accuracy: 0.7968 - val_loss: 0.5268 - val_accuracy: 0.7454\n",
            "Epoch 44/50\n",
            "4500/4500 - 18s - loss: 0.4278 - accuracy: 0.7961 - val_loss: 0.5267 - val_accuracy: 0.7489\n",
            "Epoch 45/50\n",
            "4500/4500 - 18s - loss: 0.4278 - accuracy: 0.7961 - val_loss: 0.5242 - val_accuracy: 0.7439\n",
            "Epoch 46/50\n",
            "4500/4500 - 17s - loss: 0.4273 - accuracy: 0.7968 - val_loss: 0.5234 - val_accuracy: 0.7449\n",
            "Epoch 47/50\n",
            "4500/4500 - 17s - loss: 0.4263 - accuracy: 0.7970 - val_loss: 0.5204 - val_accuracy: 0.7479\n",
            "Epoch 48/50\n",
            "4500/4500 - 17s - loss: 0.4274 - accuracy: 0.7978 - val_loss: 0.5234 - val_accuracy: 0.7467\n",
            "Epoch 49/50\n",
            "4500/4500 - 17s - loss: 0.4266 - accuracy: 0.7983 - val_loss: 0.5204 - val_accuracy: 0.7469\n",
            "Epoch 50/50\n",
            "4500/4500 - 17s - loss: 0.4261 - accuracy: 0.7983 - val_loss: 0.5249 - val_accuracy: 0.7496\n",
            "Training Complete\n"
          ]
        }
      ]
    },
    {
      "cell_type": "code",
      "metadata": {
        "id": "qxju4ItJKO8F",
        "colab": {
          "base_uri": "https://localhost:8080/",
          "height": 606
        },
        "outputId": "687c26fa-0f5f-4840-82f2-4332fbe8d77a"
      },
      "source": [
        "import matplotlib.image  as mpimg\n",
        "import matplotlib.pyplot as plt\n",
        "\n",
        "#-----------------------------------------------------------\n",
        "# Retrieve a list of list results on training and test data\n",
        "# sets for each training epoch\n",
        "#-----------------------------------------------------------\n",
        "acc=history.history['accuracy']\n",
        "val_acc=history.history['val_accuracy']\n",
        "loss=history.history['loss']\n",
        "val_loss=history.history['val_loss']\n",
        "\n",
        "epochs=range(len(acc)) # Get number of epochs\n",
        "\n",
        "#------------------------------------------------\n",
        "# Plot training and validation accuracy per epoch\n",
        "#------------------------------------------------\n",
        "plt.plot(epochs, acc, 'r')\n",
        "plt.plot(epochs, val_acc, 'b')\n",
        "plt.title('Training and validation accuracy')\n",
        "plt.xlabel(\"Epochs\")\n",
        "plt.ylabel(\"Accuracy\")\n",
        "plt.legend([\"Accuracy\", \"Validation Accuracy\"])\n",
        "\n",
        "plt.figure()\n",
        "\n",
        "#------------------------------------------------\n",
        "# Plot training and validation loss per epoch\n",
        "#------------------------------------------------\n",
        "plt.plot(epochs, loss, 'r')\n",
        "plt.plot(epochs, val_loss, 'b')\n",
        "plt.title('Training and validation loss')\n",
        "plt.xlabel(\"Epochs\")\n",
        "plt.ylabel(\"Loss\")\n",
        "plt.legend([\"Loss\", \"Validation Loss\"])\n",
        "\n",
        "plt.figure()\n",
        "\n",
        "\n",
        "# Expected Output\n",
        "# A chart where the validation loss does not increase sharply!"
      ],
      "execution_count": 24,
      "outputs": [
        {
          "output_type": "execute_result",
          "data": {
            "text/plain": [
              "<Figure size 432x288 with 0 Axes>"
            ]
          },
          "metadata": {},
          "execution_count": 24
        },
        {
          "output_type": "display_data",
          "data": {
            "image/png": "[encoded data removed]",
            "text/plain": [
              "<Figure size 432x288 with 1 Axes>"
            ]
          },
          "metadata": {
            "needs_background": "light"
          }
        },
        {
          "output_type": "display_data",
          "data": {
            "image/png": "[encoded data removed]",
            "text/plain": [
              "<Figure size 432x288 with 1 Axes>"
            ]
          },
          "metadata": {
            "needs_background": "light"
          }
        },
        {
          "output_type": "display_data",
          "data": {
            "text/plain": [
              "<Figure size 432x288 with 0 Axes>"
            ]
          },
          "metadata": {}
        }
      ]
    },
    {
      "cell_type": "code",
      "metadata": {
        "colab": {
          "base_uri": "https://localhost:8080/"
        },
        "id": "C7QOYyJhoCUz",
        "outputId": "3c9da91b-3d00-4682-f5e6-e6a76e9917a7"
      },
      "source": [
        "model = tf.keras.Sequential([\n",
        "    tf.keras.layers.Embedding(vocab_size+1, embedding_dim, input_length=max_length, weights=[embeddings_matrix], trainable=False),\n",
        "    tf.keras.layers.Dropout(0.2),\n",
        "    tf.keras.layers.Conv1D(128, 5, activation='relu'),\n",
        "    tf.keras.layers.Dropout(0.2),\n",
        "    tf.keras.layers.MaxPooling1D(pool_size=4),\n",
        "    tf.keras.layers.Bidirectional(tf.keras.layers.LSTM(128, return_sequences=True)),\n",
        "    tf.keras.layers.Bidirectional(tf.keras.layers.LSTM(64)),\n",
        "    tf.keras.layers.Dense(1, activation='sigmoid')\n",
        "])\n",
        "model.compile(loss='binary_crossentropy',optimizer='adam',metrics=['accuracy'])\n",
        "model.summary()\n",
        "\n",
        "num_epochs = 50\n",
        "\n",
        "\n",
        "history = model.fit(training_padded, training_labels, epochs=num_epochs, validation_data=(testing_padded, testing_labels), verbose=2)\n",
        "\n",
        "print(\"Training Complete\")"
      ],
      "execution_count": 26,
      "outputs": [
        {
          "output_type": "stream",
          "name": "stdout",
          "text": [
            "Model: \"sequential_2\"\n",
            "_________________________________________________________________\n",
            "Layer (type)                 Output Shape              Param #   \n",
            "=================================================================\n",
            "embedding_7 (Embedding)      (None, 16, 100)           13805800  \n",
            "_________________________________________________________________\n",
            "dropout_8 (Dropout)          (None, 16, 100)           0         \n",
            "_________________________________________________________________\n",
            "conv1d_7 (Conv1D)            (None, 12, 128)           64128     \n",
            "_________________________________________________________________\n",
            "dropout_9 (Dropout)          (None, 12, 128)           0         \n",
            "_________________________________________________________________\n",
            "max_pooling1d_3 (MaxPooling1 (None, 3, 128)            0         \n",
            "_________________________________________________________________\n",
            "bidirectional (Bidirectional (None, 3, 256)            263168    \n",
            "_________________________________________________________________\n",
            "bidirectional_1 (Bidirection (None, 128)               164352    \n",
            "_________________________________________________________________\n",
            "dense_3 (Dense)              (None, 1)                 129       \n",
            "=================================================================\n",
            "Total params: 14,297,577\n",
            "Trainable params: 491,777\n",
            "Non-trainable params: 13,805,800\n",
            "_________________________________________________________________\n",
            "Epoch 1/50\n",
            "4500/4500 - 50s - loss: 0.5709 - accuracy: 0.6959 - val_loss: 0.5204 - val_accuracy: 0.7359\n",
            "Epoch 2/50\n",
            "4500/4500 - 43s - loss: 0.5329 - accuracy: 0.7283 - val_loss: 0.5094 - val_accuracy: 0.7448\n",
            "Epoch 3/50\n",
            "4500/4500 - 43s - loss: 0.5173 - accuracy: 0.7391 - val_loss: 0.5079 - val_accuracy: 0.7467\n",
            "Epoch 4/50\n",
            "4500/4500 - 43s - loss: 0.5061 - accuracy: 0.7477 - val_loss: 0.4975 - val_accuracy: 0.7513\n",
            "Epoch 5/50\n",
            "4500/4500 - 44s - loss: 0.4981 - accuracy: 0.7527 - val_loss: 0.5008 - val_accuracy: 0.7519\n",
            "Epoch 6/50\n",
            "4500/4500 - 44s - loss: 0.4899 - accuracy: 0.7583 - val_loss: 0.4946 - val_accuracy: 0.7567\n",
            "Epoch 7/50\n",
            "4500/4500 - 44s - loss: 0.4853 - accuracy: 0.7607 - val_loss: 0.5145 - val_accuracy: 0.7398\n",
            "Epoch 8/50\n",
            "4500/4500 - 44s - loss: 0.4807 - accuracy: 0.7650 - val_loss: 0.4946 - val_accuracy: 0.7574\n",
            "Epoch 9/50\n",
            "4500/4500 - 44s - loss: 0.4750 - accuracy: 0.7681 - val_loss: 0.4941 - val_accuracy: 0.7543\n",
            "Epoch 10/50\n",
            "4500/4500 - 44s - loss: 0.4699 - accuracy: 0.7716 - val_loss: 0.5001 - val_accuracy: 0.7552\n",
            "Epoch 11/50\n",
            "4500/4500 - 44s - loss: 0.4682 - accuracy: 0.7732 - val_loss: 0.4971 - val_accuracy: 0.7544\n",
            "Epoch 12/50\n",
            "4500/4500 - 44s - loss: 0.4651 - accuracy: 0.7742 - val_loss: 0.4986 - val_accuracy: 0.7555\n",
            "Epoch 13/50\n",
            "4500/4500 - 44s - loss: 0.4602 - accuracy: 0.7775 - val_loss: 0.4948 - val_accuracy: 0.7563\n",
            "Epoch 14/50\n",
            "4500/4500 - 44s - loss: 0.4582 - accuracy: 0.7791 - val_loss: 0.4920 - val_accuracy: 0.7566\n",
            "Epoch 15/50\n",
            "4500/4500 - 44s - loss: 0.4558 - accuracy: 0.7796 - val_loss: 0.4939 - val_accuracy: 0.7569\n",
            "Epoch 16/50\n",
            "4500/4500 - 44s - loss: 0.4541 - accuracy: 0.7797 - val_loss: 0.5024 - val_accuracy: 0.7554\n",
            "Epoch 17/50\n",
            "4500/4500 - 44s - loss: 0.4511 - accuracy: 0.7830 - val_loss: 0.4978 - val_accuracy: 0.7560\n",
            "Epoch 18/50\n",
            "4500/4500 - 45s - loss: 0.4497 - accuracy: 0.7839 - val_loss: 0.4959 - val_accuracy: 0.7542\n",
            "Epoch 19/50\n",
            "4500/4500 - 45s - loss: 0.4478 - accuracy: 0.7843 - val_loss: 0.4963 - val_accuracy: 0.7556\n",
            "Epoch 20/50\n",
            "4500/4500 - 44s - loss: 0.4451 - accuracy: 0.7859 - val_loss: 0.5075 - val_accuracy: 0.7565\n",
            "Epoch 21/50\n",
            "4500/4500 - 45s - loss: 0.4439 - accuracy: 0.7877 - val_loss: 0.4946 - val_accuracy: 0.7610\n",
            "Epoch 22/50\n",
            "4500/4500 - 45s - loss: 0.4428 - accuracy: 0.7873 - val_loss: 0.5036 - val_accuracy: 0.7566\n",
            "Epoch 23/50\n",
            "4500/4500 - 44s - loss: 0.4423 - accuracy: 0.7887 - val_loss: 0.5030 - val_accuracy: 0.7551\n",
            "Epoch 24/50\n",
            "4500/4500 - 44s - loss: 0.4421 - accuracy: 0.7887 - val_loss: 0.4939 - val_accuracy: 0.7559\n",
            "Epoch 25/50\n",
            "4500/4500 - 44s - loss: 0.4394 - accuracy: 0.7906 - val_loss: 0.5024 - val_accuracy: 0.7549\n",
            "Epoch 26/50\n",
            "4500/4500 - 43s - loss: 0.4386 - accuracy: 0.7913 - val_loss: 0.5033 - val_accuracy: 0.7521\n",
            "Epoch 27/50\n",
            "4500/4500 - 44s - loss: 0.4376 - accuracy: 0.7916 - val_loss: 0.5005 - val_accuracy: 0.7549\n",
            "Epoch 28/50\n",
            "4500/4500 - 43s - loss: 0.4367 - accuracy: 0.7908 - val_loss: 0.5042 - val_accuracy: 0.7556\n",
            "Epoch 29/50\n",
            "4500/4500 - 44s - loss: 0.4369 - accuracy: 0.7915 - val_loss: 0.4977 - val_accuracy: 0.7536\n",
            "Epoch 30/50\n",
            "4500/4500 - 43s - loss: 0.4351 - accuracy: 0.7914 - val_loss: 0.4997 - val_accuracy: 0.7564\n",
            "Epoch 31/50\n",
            "4500/4500 - 43s - loss: 0.4351 - accuracy: 0.7941 - val_loss: 0.4987 - val_accuracy: 0.7579\n",
            "Epoch 32/50\n",
            "4500/4500 - 43s - loss: 0.4327 - accuracy: 0.7949 - val_loss: 0.5039 - val_accuracy: 0.7561\n",
            "Epoch 33/50\n",
            "4500/4500 - 43s - loss: 0.4329 - accuracy: 0.7936 - val_loss: 0.5052 - val_accuracy: 0.7549\n",
            "Epoch 34/50\n",
            "4500/4500 - 44s - loss: 0.4334 - accuracy: 0.7938 - val_loss: 0.5022 - val_accuracy: 0.7569\n",
            "Epoch 35/50\n",
            "4500/4500 - 44s - loss: 0.4322 - accuracy: 0.7950 - val_loss: 0.5112 - val_accuracy: 0.7534\n",
            "Epoch 36/50\n",
            "4500/4500 - 44s - loss: 0.4290 - accuracy: 0.7962 - val_loss: 0.5054 - val_accuracy: 0.7553\n",
            "Epoch 37/50\n",
            "4500/4500 - 44s - loss: 0.4324 - accuracy: 0.7941 - val_loss: 0.5044 - val_accuracy: 0.7558\n",
            "Epoch 38/50\n",
            "4500/4500 - 44s - loss: 0.4298 - accuracy: 0.7953 - val_loss: 0.5049 - val_accuracy: 0.7571\n",
            "Epoch 39/50\n",
            "4500/4500 - 43s - loss: 0.4300 - accuracy: 0.7951 - val_loss: 0.5055 - val_accuracy: 0.7536\n",
            "Epoch 40/50\n",
            "4500/4500 - 44s - loss: 0.4296 - accuracy: 0.7956 - val_loss: 0.5112 - val_accuracy: 0.7551\n",
            "Epoch 41/50\n",
            "4500/4500 - 43s - loss: 0.4287 - accuracy: 0.7972 - val_loss: 0.5019 - val_accuracy: 0.7526\n",
            "Epoch 42/50\n",
            "4500/4500 - 43s - loss: 0.4276 - accuracy: 0.7982 - val_loss: 0.5046 - val_accuracy: 0.7584\n",
            "Epoch 43/50\n",
            "4500/4500 - 44s - loss: 0.4287 - accuracy: 0.7961 - val_loss: 0.5069 - val_accuracy: 0.7575\n",
            "Epoch 44/50\n",
            "4500/4500 - 43s - loss: 0.4286 - accuracy: 0.7979 - val_loss: 0.5011 - val_accuracy: 0.7571\n",
            "Epoch 45/50\n",
            "4500/4500 - 44s - loss: 0.4289 - accuracy: 0.7961 - val_loss: 0.5002 - val_accuracy: 0.7566\n",
            "Epoch 46/50\n",
            "4500/4500 - 45s - loss: 0.4283 - accuracy: 0.7965 - val_loss: 0.5023 - val_accuracy: 0.7572\n",
            "Epoch 47/50\n",
            "4500/4500 - 44s - loss: 0.4266 - accuracy: 0.7981 - val_loss: 0.5043 - val_accuracy: 0.7590\n",
            "Epoch 48/50\n",
            "4500/4500 - 44s - loss: 0.4257 - accuracy: 0.7983 - val_loss: 0.5068 - val_accuracy: 0.7571\n",
            "Epoch 49/50\n",
            "4500/4500 - 44s - loss: 0.4271 - accuracy: 0.7976 - val_loss: 0.5146 - val_accuracy: 0.7558\n",
            "Epoch 50/50\n",
            "4500/4500 - 45s - loss: 0.4244 - accuracy: 0.7991 - val_loss: 0.5097 - val_accuracy: 0.7555\n",
            "Training Complete\n"
          ]
        }
      ]
    },
    {
      "cell_type": "code",
      "metadata": {
        "colab": {
          "base_uri": "https://localhost:8080/",
          "height": 606
        },
        "id": "s5yNJshTo719",
        "outputId": "2cad551e-a9ee-4cd0-cf3b-cf252455497c"
      },
      "source": [
        "import matplotlib.image  as mpimg\n",
        "import matplotlib.pyplot as plt\n",
        "\n",
        "#-----------------------------------------------------------\n",
        "# Retrieve a list of list results on training and test data\n",
        "# sets for each training epoch\n",
        "#-----------------------------------------------------------\n",
        "acc=history.history['accuracy']\n",
        "val_acc=history.history['val_accuracy']\n",
        "loss=history.history['loss']\n",
        "val_loss=history.history['val_loss']\n",
        "\n",
        "epochs=range(len(acc)) # Get number of epochs\n",
        "\n",
        "#------------------------------------------------\n",
        "# Plot training and validation accuracy per epoch\n",
        "#------------------------------------------------\n",
        "plt.plot(epochs, acc, 'r')\n",
        "plt.plot(epochs, val_acc, 'b')\n",
        "plt.title('Training and validation accuracy')\n",
        "plt.xlabel(\"Epochs\")\n",
        "plt.ylabel(\"Accuracy\")\n",
        "plt.legend([\"Accuracy\", \"Validation Accuracy\"])\n",
        "\n",
        "plt.figure()\n",
        "\n",
        "#------------------------------------------------\n",
        "# Plot training and validation loss per epoch\n",
        "#------------------------------------------------\n",
        "plt.plot(epochs, loss, 'r')\n",
        "plt.plot(epochs, val_loss, 'b')\n",
        "plt.title('Training and validation loss')\n",
        "plt.xlabel(\"Epochs\")\n",
        "plt.ylabel(\"Loss\")\n",
        "plt.legend([\"Loss\", \"Validation Loss\"])\n",
        "\n",
        "plt.figure()\n",
        "\n",
        "\n",
        "# Expected Output\n",
        "# A chart where the validation loss does not increase sharply!"
      ],
      "execution_count": 36,
      "outputs": [
        {
          "output_type": "execute_result",
          "data": {
            "text/plain": [
              "<Figure size 432x288 with 0 Axes>"
            ]
          },
          "metadata": {},
          "execution_count": 36
        },
        {
          "output_type": "display_data",
          "data": {
            "image/png": "[encoded data removed]",
            "text/plain": [
              "<Figure size 432x288 with 1 Axes>"
            ]
          },
          "metadata": {
            "needs_background": "light"
          }
        },
        {
          "output_type": "display_data",
          "data": {
            "image/png": "[encoded data removed]",
            "text/plain": [
              "<Figure size 432x288 with 1 Axes>"
            ]
          },
          "metadata": {
            "needs_background": "light"
          }
        },
        {
          "output_type": "display_data",
          "data": {
            "text/plain": [
              "<Figure size 432x288 with 0 Axes>"
            ]
          },
          "metadata": {}
        }
      ]
    },
    {
      "cell_type": "code",
      "metadata": {
        "id": "w2PCqDbIzdvy"
      },
      "source": [
        ""
      ],
      "execution_count": null,
      "outputs": []
    }
  ]
}