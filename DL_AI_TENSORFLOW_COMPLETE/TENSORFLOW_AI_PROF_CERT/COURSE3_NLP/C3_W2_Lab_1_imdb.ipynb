{
  "nbformat": 4,
  "nbformat_minor": 0,
  "metadata": {
    "accelerator": "GPU",
    "colab": {
      "name": "C3_W2_Lab_1_imdb.ipynb",
      "provenance": [],
      "collapsed_sections": [],
      "toc_visible": true
    },
    "kernelspec": {
      "name": "python3",
      "display_name": "Python 3"
    },
    "language_info": {
      "name": "python"
    },
    "widgets": {
      "application/vnd.jupyter.widget-state+json": {
        "60d2f59eb1d44253ba5b364b9a16d1c4": {
          "model_module": "@jupyter-widgets/controls",
          "model_name": "HBoxModel",
          "model_module_version": "1.5.0",
          "state": {
            "_view_name": "HBoxView",
            "_dom_classes": [],
            "_model_name": "HBoxModel",
            "_view_module": "@jupyter-widgets/controls",
            "_model_module_version": "1.5.0",
            "_view_count": null,
            "_view_module_version": "1.5.0",
            "box_style": "",
            "layout": "IPY_MODEL_5e4b6e685aff4d4586e19401741cb44d",
            "_model_module": "@jupyter-widgets/controls",
            "children": [
              "IPY_MODEL_3e8b7ec6aee948a5a76d9a12242fd1ca",
              "IPY_MODEL_f1227656b2b749aea3ee8e5033243a18",
              "IPY_MODEL_ebf08a0bb3c94062b7fa30cd92f7ed83"
            ]
          }
        },
        "5e4b6e685aff4d4586e19401741cb44d": {
          "model_module": "@jupyter-widgets/base",
          "model_name": "LayoutModel",
          "model_module_version": "1.2.0",
          "state": {
            "_view_name": "LayoutView",
            "grid_template_rows": null,
            "right": null,
            "justify_content": null,
            "_view_module": "@jupyter-widgets/base",
            "overflow": null,
            "_model_module_version": "1.2.0",
            "_view_count": null,
            "flex_flow": null,
            "width": null,
            "min_width": null,
            "border": null,
            "align_items": null,
            "bottom": null,
            "_model_module": "@jupyter-widgets/base",
            "top": null,
            "grid_column": null,
            "overflow_y": null,
            "overflow_x": null,
            "grid_auto_flow": null,
            "grid_area": null,
            "grid_template_columns": null,
            "flex": null,
            "_model_name": "LayoutModel",
            "justify_items": null,
            "grid_row": null,
            "max_height": null,
            "align_content": null,
            "visibility": null,
            "align_self": null,
            "height": null,
            "min_height": null,
            "padding": null,
            "grid_auto_rows": null,
            "grid_gap": null,
            "max_width": null,
            "order": null,
            "_view_module_version": "1.2.0",
            "grid_template_areas": null,
            "object_position": null,
            "object_fit": null,
            "grid_auto_columns": null,
            "margin": null,
            "display": null,
            "left": null
          }
        },
        "3e8b7ec6aee948a5a76d9a12242fd1ca": {
          "model_module": "@jupyter-widgets/controls",
          "model_name": "HTMLModel",
          "model_module_version": "1.5.0",
          "state": {
            "_view_name": "HTMLView",
            "style": "IPY_MODEL_18d09a35742844b584821b5a75fc28b8",
            "_dom_classes": [],
            "description": "",
            "_model_name": "HTMLModel",
            "placeholder": "​",
            "_view_module": "@jupyter-widgets/controls",
            "_model_module_version": "1.5.0",
            "value": "Dl Completed...: 100%",
            "_view_count": null,
            "_view_module_version": "1.5.0",
            "description_tooltip": null,
            "_model_module": "@jupyter-widgets/controls",
            "layout": "IPY_MODEL_40acd265779b46bba64211626ebe9545"
          }
        },
        "f1227656b2b749aea3ee8e5033243a18": {
          "model_module": "@jupyter-widgets/controls",
          "model_name": "FloatProgressModel",
          "model_module_version": "1.5.0",
          "state": {
            "_view_name": "ProgressView",
            "style": "IPY_MODEL_3481a223d68144238d56efd1dee01bb3",
            "_dom_classes": [],
            "description": "",
            "_model_name": "FloatProgressModel",
            "bar_style": "success",
            "max": 1,
            "_view_module": "@jupyter-widgets/controls",
            "_model_module_version": "1.5.0",
            "value": 1,
            "_view_count": null,
            "_view_module_version": "1.5.0",
            "orientation": "horizontal",
            "min": 0,
            "description_tooltip": null,
            "_model_module": "@jupyter-widgets/controls",
            "layout": "IPY_MODEL_9a3c1a3686f045d8a151357abd9f90ec"
          }
        },
        "ebf08a0bb3c94062b7fa30cd92f7ed83": {
          "model_module": "@jupyter-widgets/controls",
          "model_name": "HTMLModel",
          "model_module_version": "1.5.0",
          "state": {
            "_view_name": "HTMLView",
            "style": "IPY_MODEL_47b2b1590d6b408f81e50527cd846ccb",
            "_dom_classes": [],
            "description": "",
            "_model_name": "HTMLModel",
            "placeholder": "​",
            "_view_module": "@jupyter-widgets/controls",
            "_model_module_version": "1.5.0",
            "value": " 1/1 [00:02&lt;00:00,  2.74s/ url]",
            "_view_count": null,
            "_view_module_version": "1.5.0",
            "description_tooltip": null,
            "_model_module": "@jupyter-widgets/controls",
            "layout": "IPY_MODEL_befbc2cdeda943839093b40341c0d4fa"
          }
        },
        "18d09a35742844b584821b5a75fc28b8": {
          "model_module": "@jupyter-widgets/controls",
          "model_name": "DescriptionStyleModel",
          "model_module_version": "1.5.0",
          "state": {
            "_view_name": "StyleView",
            "_model_name": "DescriptionStyleModel",
            "description_width": "",
            "_view_module": "@jupyter-widgets/base",
            "_model_module_version": "1.5.0",
            "_view_count": null,
            "_view_module_version": "1.2.0",
            "_model_module": "@jupyter-widgets/controls"
          }
        },
        "40acd265779b46bba64211626ebe9545": {
          "model_module": "@jupyter-widgets/base",
          "model_name": "LayoutModel",
          "model_module_version": "1.2.0",
          "state": {
            "_view_name": "LayoutView",
            "grid_template_rows": null,
            "right": null,
            "justify_content": null,
            "_view_module": "@jupyter-widgets/base",
            "overflow": null,
            "_model_module_version": "1.2.0",
            "_view_count": null,
            "flex_flow": null,
            "width": null,
            "min_width": null,
            "border": null,
            "align_items": null,
            "bottom": null,
            "_model_module": "@jupyter-widgets/base",
            "top": null,
            "grid_column": null,
            "overflow_y": null,
            "overflow_x": null,
            "grid_auto_flow": null,
            "grid_area": null,
            "grid_template_columns": null,
            "flex": null,
            "_model_name": "LayoutModel",
            "justify_items": null,
            "grid_row": null,
            "max_height": null,
            "align_content": null,
            "visibility": null,
            "align_self": null,
            "height": null,
            "min_height": null,
            "padding": null,
            "grid_auto_rows": null,
            "grid_gap": null,
            "max_width": null,
            "order": null,
            "_view_module_version": "1.2.0",
            "grid_template_areas": null,
            "object_position": null,
            "object_fit": null,
            "grid_auto_columns": null,
            "margin": null,
            "display": null,
            "left": null
          }
        },
        "3481a223d68144238d56efd1dee01bb3": {
          "model_module": "@jupyter-widgets/controls",
          "model_name": "ProgressStyleModel",
          "model_module_version": "1.5.0",
          "state": {
            "_view_name": "StyleView",
            "_model_name": "ProgressStyleModel",
            "description_width": "",
            "_view_module": "@jupyter-widgets/base",
            "_model_module_version": "1.5.0",
            "_view_count": null,
            "_view_module_version": "1.2.0",
            "bar_color": null,
            "_model_module": "@jupyter-widgets/controls"
          }
        },
        "9a3c1a3686f045d8a151357abd9f90ec": {
          "model_module": "@jupyter-widgets/base",
          "model_name": "LayoutModel",
          "model_module_version": "1.2.0",
          "state": {
            "_view_name": "LayoutView",
            "grid_template_rows": null,
            "right": null,
            "justify_content": null,
            "_view_module": "@jupyter-widgets/base",
            "overflow": null,
            "_model_module_version": "1.2.0",
            "_view_count": null,
            "flex_flow": null,
            "width": "20px",
            "min_width": null,
            "border": null,
            "align_items": null,
            "bottom": null,
            "_model_module": "@jupyter-widgets/base",
            "top": null,
            "grid_column": null,
            "overflow_y": null,
            "overflow_x": null,
            "grid_auto_flow": null,
            "grid_area": null,
            "grid_template_columns": null,
            "flex": null,
            "_model_name": "LayoutModel",
            "justify_items": null,
            "grid_row": null,
            "max_height": null,
            "align_content": null,
            "visibility": null,
            "align_self": null,
            "height": null,
            "min_height": null,
            "padding": null,
            "grid_auto_rows": null,
            "grid_gap": null,
            "max_width": null,
            "order": null,
            "_view_module_version": "1.2.0",
            "grid_template_areas": null,
            "object_position": null,
            "object_fit": null,
            "grid_auto_columns": null,
            "margin": null,
            "display": null,
            "left": null
          }
        },
        "47b2b1590d6b408f81e50527cd846ccb": {
          "model_module": "@jupyter-widgets/controls",
          "model_name": "DescriptionStyleModel",
          "model_module_version": "1.5.0",
          "state": {
            "_view_name": "StyleView",
            "_model_name": "DescriptionStyleModel",
            "description_width": "",
            "_view_module": "@jupyter-widgets/base",
            "_model_module_version": "1.5.0",
            "_view_count": null,
            "_view_module_version": "1.2.0",
            "_model_module": "@jupyter-widgets/controls"
          }
        },
        "befbc2cdeda943839093b40341c0d4fa": {
          "model_module": "@jupyter-widgets/base",
          "model_name": "LayoutModel",
          "model_module_version": "1.2.0",
          "state": {
            "_view_name": "LayoutView",
            "grid_template_rows": null,
            "right": null,
            "justify_content": null,
            "_view_module": "@jupyter-widgets/base",
            "overflow": null,
            "_model_module_version": "1.2.0",
            "_view_count": null,
            "flex_flow": null,
            "width": null,
            "min_width": null,
            "border": null,
            "align_items": null,
            "bottom": null,
            "_model_module": "@jupyter-widgets/base",
            "top": null,
            "grid_column": null,
            "overflow_y": null,
            "overflow_x": null,
            "grid_auto_flow": null,
            "grid_area": null,
            "grid_template_columns": null,
            "flex": null,
            "_model_name": "LayoutModel",
            "justify_items": null,
            "grid_row": null,
            "max_height": null,
            "align_content": null,
            "visibility": null,
            "align_self": null,
            "height": null,
            "min_height": null,
            "padding": null,
            "grid_auto_rows": null,
            "grid_gap": null,
            "max_width": null,
            "order": null,
            "_view_module_version": "1.2.0",
            "grid_template_areas": null,
            "object_position": null,
            "object_fit": null,
            "grid_auto_columns": null,
            "margin": null,
            "display": null,
            "left": null
          }
        },
        "fe1ea0a80b2d4d7f872198e71b9f53d5": {
          "model_module": "@jupyter-widgets/controls",
          "model_name": "HBoxModel",
          "model_module_version": "1.5.0",
          "state": {
            "_view_name": "HBoxView",
            "_dom_classes": [],
            "_model_name": "HBoxModel",
            "_view_module": "@jupyter-widgets/controls",
            "_model_module_version": "1.5.0",
            "_view_count": null,
            "_view_module_version": "1.5.0",
            "box_style": "",
            "layout": "IPY_MODEL_0c679699be8446fb8912b91dd3823328",
            "_model_module": "@jupyter-widgets/controls",
            "children": [
              "IPY_MODEL_995280b706fa43508c4d9a6b4aa1df04",
              "IPY_MODEL_43e282df35b24e5aa6439bb01610cf33",
              "IPY_MODEL_463955fd3cd146e7a0e735d216eca2c0"
            ]
          }
        },
        "0c679699be8446fb8912b91dd3823328": {
          "model_module": "@jupyter-widgets/base",
          "model_name": "LayoutModel",
          "model_module_version": "1.2.0",
          "state": {
            "_view_name": "LayoutView",
            "grid_template_rows": null,
            "right": null,
            "justify_content": null,
            "_view_module": "@jupyter-widgets/base",
            "overflow": null,
            "_model_module_version": "1.2.0",
            "_view_count": null,
            "flex_flow": null,
            "width": null,
            "min_width": null,
            "border": null,
            "align_items": null,
            "bottom": null,
            "_model_module": "@jupyter-widgets/base",
            "top": null,
            "grid_column": null,
            "overflow_y": null,
            "overflow_x": null,
            "grid_auto_flow": null,
            "grid_area": null,
            "grid_template_columns": null,
            "flex": null,
            "_model_name": "LayoutModel",
            "justify_items": null,
            "grid_row": null,
            "max_height": null,
            "align_content": null,
            "visibility": null,
            "align_self": null,
            "height": null,
            "min_height": null,
            "padding": null,
            "grid_auto_rows": null,
            "grid_gap": null,
            "max_width": null,
            "order": null,
            "_view_module_version": "1.2.0",
            "grid_template_areas": null,
            "object_position": null,
            "object_fit": null,
            "grid_auto_columns": null,
            "margin": null,
            "display": null,
            "left": null
          }
        },
        "995280b706fa43508c4d9a6b4aa1df04": {
          "model_module": "@jupyter-widgets/controls",
          "model_name": "HTMLModel",
          "model_module_version": "1.5.0",
          "state": {
            "_view_name": "HTMLView",
            "style": "IPY_MODEL_b6d8fbf7726e488fb689698501f5324a",
            "_dom_classes": [],
            "description": "",
            "_model_name": "HTMLModel",
            "placeholder": "​",
            "_view_module": "@jupyter-widgets/controls",
            "_model_module_version": "1.5.0",
            "value": "Dl Size...: 100%",
            "_view_count": null,
            "_view_module_version": "1.5.0",
            "description_tooltip": null,
            "_model_module": "@jupyter-widgets/controls",
            "layout": "IPY_MODEL_49e11044001f4f56ad8e67d8ce1a021c"
          }
        },
        "43e282df35b24e5aa6439bb01610cf33": {
          "model_module": "@jupyter-widgets/controls",
          "model_name": "FloatProgressModel",
          "model_module_version": "1.5.0",
          "state": {
            "_view_name": "ProgressView",
            "style": "IPY_MODEL_11a7700b5b9a44f0a2561b72eb72d737",
            "_dom_classes": [],
            "description": "",
            "_model_name": "FloatProgressModel",
            "bar_style": "success",
            "max": 1,
            "_view_module": "@jupyter-widgets/controls",
            "_model_module_version": "1.5.0",
            "value": 1,
            "_view_count": null,
            "_view_module_version": "1.5.0",
            "orientation": "horizontal",
            "min": 0,
            "description_tooltip": null,
            "_model_module": "@jupyter-widgets/controls",
            "layout": "IPY_MODEL_fafe3685517544b88a34467e14c30069"
          }
        },
        "463955fd3cd146e7a0e735d216eca2c0": {
          "model_module": "@jupyter-widgets/controls",
          "model_name": "HTMLModel",
          "model_module_version": "1.5.0",
          "state": {
            "_view_name": "HTMLView",
            "style": "IPY_MODEL_607a7136b7974128a8ddd7a0f2d48b61",
            "_dom_classes": [],
            "description": "",
            "_model_name": "HTMLModel",
            "placeholder": "​",
            "_view_module": "@jupyter-widgets/controls",
            "_model_module_version": "1.5.0",
            "value": " 80/80 [00:02&lt;00:00, 40.35 MiB/s]",
            "_view_count": null,
            "_view_module_version": "1.5.0",
            "description_tooltip": null,
            "_model_module": "@jupyter-widgets/controls",
            "layout": "IPY_MODEL_56c8c5aa8957479880ecc73a53be5c1d"
          }
        },
        "b6d8fbf7726e488fb689698501f5324a": {
          "model_module": "@jupyter-widgets/controls",
          "model_name": "DescriptionStyleModel",
          "model_module_version": "1.5.0",
          "state": {
            "_view_name": "StyleView",
            "_model_name": "DescriptionStyleModel",
            "description_width": "",
            "_view_module": "@jupyter-widgets/base",
            "_model_module_version": "1.5.0",
            "_view_count": null,
            "_view_module_version": "1.2.0",
            "_model_module": "@jupyter-widgets/controls"
          }
        },
        "49e11044001f4f56ad8e67d8ce1a021c": {
          "model_module": "@jupyter-widgets/base",
          "model_name": "LayoutModel",
          "model_module_version": "1.2.0",
          "state": {
            "_view_name": "LayoutView",
            "grid_template_rows": null,
            "right": null,
            "justify_content": null,
            "_view_module": "@jupyter-widgets/base",
            "overflow": null,
            "_model_module_version": "1.2.0",
            "_view_count": null,
            "flex_flow": null,
            "width": null,
            "min_width": null,
            "border": null,
            "align_items": null,
            "bottom": null,
            "_model_module": "@jupyter-widgets/base",
            "top": null,
            "grid_column": null,
            "overflow_y": null,
            "overflow_x": null,
            "grid_auto_flow": null,
            "grid_area": null,
            "grid_template_columns": null,
            "flex": null,
            "_model_name": "LayoutModel",
            "justify_items": null,
            "grid_row": null,
            "max_height": null,
            "align_content": null,
            "visibility": null,
            "align_self": null,
            "height": null,
            "min_height": null,
            "padding": null,
            "grid_auto_rows": null,
            "grid_gap": null,
            "max_width": null,
            "order": null,
            "_view_module_version": "1.2.0",
            "grid_template_areas": null,
            "object_position": null,
            "object_fit": null,
            "grid_auto_columns": null,
            "margin": null,
            "display": null,
            "left": null
          }
        },
        "11a7700b5b9a44f0a2561b72eb72d737": {
          "model_module": "@jupyter-widgets/controls",
          "model_name": "ProgressStyleModel",
          "model_module_version": "1.5.0",
          "state": {
            "_view_name": "StyleView",
            "_model_name": "ProgressStyleModel",
            "description_width": "",
            "_view_module": "@jupyter-widgets/base",
            "_model_module_version": "1.5.0",
            "_view_count": null,
            "_view_module_version": "1.2.0",
            "bar_color": null,
            "_model_module": "@jupyter-widgets/controls"
          }
        },
        "fafe3685517544b88a34467e14c30069": {
          "model_module": "@jupyter-widgets/base",
          "model_name": "LayoutModel",
          "model_module_version": "1.2.0",
          "state": {
            "_view_name": "LayoutView",
            "grid_template_rows": null,
            "right": null,
            "justify_content": null,
            "_view_module": "@jupyter-widgets/base",
            "overflow": null,
            "_model_module_version": "1.2.0",
            "_view_count": null,
            "flex_flow": null,
            "width": "20px",
            "min_width": null,
            "border": null,
            "align_items": null,
            "bottom": null,
            "_model_module": "@jupyter-widgets/base",
            "top": null,
            "grid_column": null,
            "overflow_y": null,
            "overflow_x": null,
            "grid_auto_flow": null,
            "grid_area": null,
            "grid_template_columns": null,
            "flex": null,
            "_model_name": "LayoutModel",
            "justify_items": null,
            "grid_row": null,
            "max_height": null,
            "align_content": null,
            "visibility": null,
            "align_self": null,
            "height": null,
            "min_height": null,
            "padding": null,
            "grid_auto_rows": null,
            "grid_gap": null,
            "max_width": null,
            "order": null,
            "_view_module_version": "1.2.0",
            "grid_template_areas": null,
            "object_position": null,
            "object_fit": null,
            "grid_auto_columns": null,
            "margin": null,
            "display": null,
            "left": null
          }
        },
        "607a7136b7974128a8ddd7a0f2d48b61": {
          "model_module": "@jupyter-widgets/controls",
          "model_name": "DescriptionStyleModel",
          "model_module_version": "1.5.0",
          "state": {
            "_view_name": "StyleView",
            "_model_name": "DescriptionStyleModel",
            "description_width": "",
            "_view_module": "@jupyter-widgets/base",
            "_model_module_version": "1.5.0",
            "_view_count": null,
            "_view_module_version": "1.2.0",
            "_model_module": "@jupyter-widgets/controls"
          }
        },
        "56c8c5aa8957479880ecc73a53be5c1d": {
          "model_module": "@jupyter-widgets/base",
          "model_name": "LayoutModel",
          "model_module_version": "1.2.0",
          "state": {
            "_view_name": "LayoutView",
            "grid_template_rows": null,
            "right": null,
            "justify_content": null,
            "_view_module": "@jupyter-widgets/base",
            "overflow": null,
            "_model_module_version": "1.2.0",
            "_view_count": null,
            "flex_flow": null,
            "width": null,
            "min_width": null,
            "border": null,
            "align_items": null,
            "bottom": null,
            "_model_module": "@jupyter-widgets/base",
            "top": null,
            "grid_column": null,
            "overflow_y": null,
            "overflow_x": null,
            "grid_auto_flow": null,
            "grid_area": null,
            "grid_template_columns": null,
            "flex": null,
            "_model_name": "LayoutModel",
            "justify_items": null,
            "grid_row": null,
            "max_height": null,
            "align_content": null,
            "visibility": null,
            "align_self": null,
            "height": null,
            "min_height": null,
            "padding": null,
            "grid_auto_rows": null,
            "grid_gap": null,
            "max_width": null,
            "order": null,
            "_view_module_version": "1.2.0",
            "grid_template_areas": null,
            "object_position": null,
            "object_fit": null,
            "grid_auto_columns": null,
            "margin": null,
            "display": null,
            "left": null
          }
        }
      }
    }
  },
  "cells": [
    {
      "cell_type": "code",
      "metadata": {
        "id": "P-AhVYeBWgQ3",
        "colab": {
          "base_uri": "https://localhost:8080/"
        },
        "outputId": "00cc8537-1f4b-44b3-b0f5-9dae29c15ea1"
      },
      "source": [
        "import tensorflow as tf\n",
        "print(tf.__version__)\n",
        "\n",
        "# !pip install -q tensorflow-datasets"
      ],
      "execution_count": 1,
      "outputs": [
        {
          "output_type": "stream",
          "name": "stdout",
          "text": [
            "2.6.0\n"
          ]
        }
      ]
    },
    {
      "cell_type": "code",
      "metadata": {
        "id": "_IoM4VFxWpMR",
        "colab": {
          "base_uri": "https://localhost:8080/",
          "height": 331,
          "referenced_widgets": [
            "60d2f59eb1d44253ba5b364b9a16d1c4",
            "5e4b6e685aff4d4586e19401741cb44d",
            "3e8b7ec6aee948a5a76d9a12242fd1ca",
            "f1227656b2b749aea3ee8e5033243a18",
            "ebf08a0bb3c94062b7fa30cd92f7ed83",
            "18d09a35742844b584821b5a75fc28b8",
            "40acd265779b46bba64211626ebe9545",
            "3481a223d68144238d56efd1dee01bb3",
            "9a3c1a3686f045d8a151357abd9f90ec",
            "47b2b1590d6b408f81e50527cd846ccb",
            "befbc2cdeda943839093b40341c0d4fa",
            "fe1ea0a80b2d4d7f872198e71b9f53d5",
            "0c679699be8446fb8912b91dd3823328",
            "995280b706fa43508c4d9a6b4aa1df04",
            "43e282df35b24e5aa6439bb01610cf33",
            "463955fd3cd146e7a0e735d216eca2c0",
            "b6d8fbf7726e488fb689698501f5324a",
            "49e11044001f4f56ad8e67d8ce1a021c",
            "11a7700b5b9a44f0a2561b72eb72d737",
            "fafe3685517544b88a34467e14c30069",
            "607a7136b7974128a8ddd7a0f2d48b61",
            "56c8c5aa8957479880ecc73a53be5c1d"
          ]
        },
        "outputId": "4e3b0d5b-e61f-4b77-f0c1-7c0c39266a54"
      },
      "source": [
        "import tensorflow_datasets as tfds\n",
        "imdb, info = tfds.load(\"imdb_reviews\", with_info=True, as_supervised=True)\n"
      ],
      "execution_count": 2,
      "outputs": [
        {
          "output_type": "stream",
          "name": "stdout",
          "text": [
            "\u001b[1mDownloading and preparing dataset imdb_reviews/plain_text/1.0.0 (download: 80.23 MiB, generated: Unknown size, total: 80.23 MiB) to /root/tensorflow_datasets/imdb_reviews/plain_text/1.0.0...\u001b[0m\n"
          ]
        },
        {
          "output_type": "display_data",
          "data": {
            "application/vnd.jupyter.widget-view+json": {
              "model_id": "60d2f59eb1d44253ba5b364b9a16d1c4",
              "version_minor": 0,
              "version_major": 2
            },
            "text/plain": [
              "Dl Completed...: 0 url [00:00, ? url/s]"
            ]
          },
          "metadata": {}
        },
        {
          "output_type": "display_data",
          "data": {
            "application/vnd.jupyter.widget-view+json": {
              "model_id": "fe1ea0a80b2d4d7f872198e71b9f53d5",
              "version_minor": 0,
              "version_major": 2
            },
            "text/plain": [
              "Dl Size...: 0 MiB [00:00, ? MiB/s]"
            ]
          },
          "metadata": {}
        },
        {
          "output_type": "stream",
          "name": "stdout",
          "text": [
            "\n",
            "\n"
          ]
        },
        {
          "output_type": "display_data",
          "data": {
            "application/vnd.jupyter.widget-view+json": {
              "model_id": "3d18b19c1bb4486d962100373f341278",
              "version_minor": 0,
              "version_major": 2
            },
            "text/plain": [
              "0 examples [00:00, ? examples/s]"
            ]
          },
          "metadata": {}
        },
        {
          "output_type": "stream",
          "name": "stdout",
          "text": [
            "Shuffling and writing examples to /root/tensorflow_datasets/imdb_reviews/plain_text/1.0.0.incompleteBFBNHS/imdb_reviews-train.tfrecord\n"
          ]
        },
        {
          "output_type": "display_data",
          "data": {
            "application/vnd.jupyter.widget-view+json": {
              "model_id": "7abc893cfa38433fa82bff2b59480b96",
              "version_minor": 0,
              "version_major": 2
            },
            "text/plain": [
              "  0%|          | 0/25000 [00:00<?, ? examples/s]"
            ]
          },
          "metadata": {}
        },
        {
          "output_type": "display_data",
          "data": {
            "application/vnd.jupyter.widget-view+json": {
              "model_id": "77f94fcf1d7a48ff81e1cb124c4f1f0d",
              "version_minor": 0,
              "version_major": 2
            },
            "text/plain": [
              "0 examples [00:00, ? examples/s]"
            ]
          },
          "metadata": {}
        },
        {
          "output_type": "stream",
          "name": "stdout",
          "text": [
            "Shuffling and writing examples to /root/tensorflow_datasets/imdb_reviews/plain_text/1.0.0.incompleteBFBNHS/imdb_reviews-test.tfrecord\n"
          ]
        },
        {
          "output_type": "display_data",
          "data": {
            "application/vnd.jupyter.widget-view+json": {
              "model_id": "5d83757ef8994c58a4767775dec83be4",
              "version_minor": 0,
              "version_major": 2
            },
            "text/plain": [
              "  0%|          | 0/25000 [00:00<?, ? examples/s]"
            ]
          },
          "metadata": {}
        },
        {
          "output_type": "display_data",
          "data": {
            "application/vnd.jupyter.widget-view+json": {
              "model_id": "645f2a6f79f3452f8616a2285612bd49",
              "version_minor": 0,
              "version_major": 2
            },
            "text/plain": [
              "0 examples [00:00, ? examples/s]"
            ]
          },
          "metadata": {}
        },
        {
          "output_type": "stream",
          "name": "stdout",
          "text": [
            "Shuffling and writing examples to /root/tensorflow_datasets/imdb_reviews/plain_text/1.0.0.incompleteBFBNHS/imdb_reviews-unsupervised.tfrecord\n"
          ]
        },
        {
          "output_type": "display_data",
          "data": {
            "application/vnd.jupyter.widget-view+json": {
              "model_id": "3c493717cdfc428397b0fd0023a6e1e7",
              "version_minor": 0,
              "version_major": 2
            },
            "text/plain": [
              "  0%|          | 0/50000 [00:00<?, ? examples/s]"
            ]
          },
          "metadata": {}
        },
        {
          "output_type": "stream",
          "name": "stderr",
          "text": [
            "WARNING:absl:Dataset is using deprecated text encoder API which will be removed soon. Please use the plain_text version of the dataset and migrate to `tensorflow_text`.\n"
          ]
        },
        {
          "output_type": "stream",
          "name": "stdout",
          "text": [
            "\u001b[1mDataset imdb_reviews downloaded and prepared to /root/tensorflow_datasets/imdb_reviews/plain_text/1.0.0. Subsequent calls will reuse this data.\u001b[0m\n"
          ]
        }
      ]
    },
    {
      "cell_type": "code",
      "metadata": {
        "colab": {
          "base_uri": "https://localhost:8080/"
        },
        "id": "nx1Lrzj9HoQZ",
        "outputId": "2eb03ff4-54db-45b7-d8be-061310ec446c"
      },
      "source": [
        "! python --version"
      ],
      "execution_count": 5,
      "outputs": [
        {
          "output_type": "stream",
          "name": "stdout",
          "text": [
            "Python 3.7.12\n"
          ]
        }
      ]
    },
    {
      "cell_type": "code",
      "metadata": {
        "id": "wHQ2Ko0zl7M4"
      },
      "source": [
        "import numpy as np\n",
        "\n",
        "train_data, test_data = imdb['train'], imdb['test']\n",
        "\n",
        "training_sentences = []\n",
        "training_labels = []\n",
        "\n",
        "testing_sentences = []\n",
        "testing_labels = []\n",
        "\n",
        "for s,l in train_data:\n",
        "  training_sentences.append(s.numpy().decode('utf8'))\n",
        "  training_labels.append(l.numpy())\n",
        "  \n",
        "for s,l in test_data:\n",
        "  testing_sentences.append(s.numpy().decode('utf8'))\n",
        "  testing_labels.append(l.numpy())\n",
        "  \n",
        "training_labels_final = np.array(training_labels)\n",
        "testing_labels_final = np.array(testing_labels)\n"
      ],
      "execution_count": 6,
      "outputs": []
    },
    {
      "cell_type": "code",
      "metadata": {
        "colab": {
          "base_uri": "https://localhost:8080/"
        },
        "id": "S2HKYjBHIHsN",
        "outputId": "16b832c9-8fbe-4d0d-d646-040e11d8fbe1"
      },
      "source": [
        "training_labels_final  # binary Classification!"
      ],
      "execution_count": 7,
      "outputs": [
        {
          "output_type": "execute_result",
          "data": {
            "text/plain": [
              "array([0, 0, 0, ..., 0, 0, 1])"
            ]
          },
          "metadata": {},
          "execution_count": 7
        }
      ]
    },
    {
      "cell_type": "code",
      "metadata": {
        "colab": {
          "base_uri": "https://localhost:8080/"
        },
        "id": "aan2t-mBIHm0",
        "outputId": "b495481e-a24a-4786-daaf-269d5bc82506"
      },
      "source": [
        "type(testing_sentences)"
      ],
      "execution_count": 9,
      "outputs": [
        {
          "output_type": "execute_result",
          "data": {
            "text/plain": [
              "list"
            ]
          },
          "metadata": {},
          "execution_count": 9
        }
      ]
    },
    {
      "cell_type": "code",
      "metadata": {
        "colab": {
          "base_uri": "https://localhost:8080/"
        },
        "id": "Ju5B3WdlIHiO",
        "outputId": "d4e65e35-d429-428a-df69-5a18bf93a86e"
      },
      "source": [
        "len(testing_sentences)"
      ],
      "execution_count": 10,
      "outputs": [
        {
          "output_type": "execute_result",
          "data": {
            "text/plain": [
              "25000"
            ]
          },
          "metadata": {},
          "execution_count": 10
        }
      ]
    },
    {
      "cell_type": "code",
      "metadata": {
        "colab": {
          "base_uri": "https://localhost:8080/",
          "height": 136
        },
        "id": "9XFGI_d4IHbp",
        "outputId": "7477dd52-5ddc-4926-f07e-43f6fd4b1f6e"
      },
      "source": [
        "testing_sentences[0]"
      ],
      "execution_count": 11,
      "outputs": [
        {
          "output_type": "execute_result",
          "data": {
            "application/vnd.google.colaboratory.intrinsic+json": {
              "type": "string"
            },
            "text/plain": [
              "\"There are films that make careers. For George Romero, it was NIGHT OF THE LIVING DEAD; for Kevin Smith, CLERKS; for Robert Rodriguez, EL MARIACHI. Add to that list Onur Tukel's absolutely amazing DING-A-LING-LESS. Flawless film-making, and as assured and as professional as any of the aforementioned movies. I haven't laughed this hard since I saw THE FULL MONTY. (And, even then, I don't think I laughed quite this hard... So to speak.) Tukel's talent is considerable: DING-A-LING-LESS is so chock full of double entendres that one would have to sit down with a copy of this script and do a line-by-line examination of it to fully appreciate the, uh, breadth and width of it. Every shot is beautifully composed (a clear sign of a sure-handed director), and the performances all around are solid (there's none of the over-the-top scenery chewing one might've expected from a film like this). DING-A-LING-LESS is a film whose time has come.\""
            ]
          },
          "metadata": {},
          "execution_count": 11
        }
      ]
    },
    {
      "cell_type": "code",
      "metadata": {
        "id": "7n15yyMdmoH1"
      },
      "source": [
        "vocab_size = 10000\n",
        "embedding_dim = 16\n",
        "max_length = 140\n",
        "trunc_type='post'\n",
        "oov_tok = \"<OOV>\"\n",
        "\n",
        "\n",
        "from tensorflow.keras.preprocessing.text import Tokenizer\n",
        "from tensorflow.keras.preprocessing.sequence import pad_sequences\n",
        "\n",
        "tokenizer = Tokenizer(num_words = vocab_size, oov_token=oov_tok)\n",
        "tokenizer.fit_on_texts(training_sentences) # fitting is done only on training set ; \n",
        "word_index = tokenizer.word_index\n",
        "sequences = tokenizer.texts_to_sequences(training_sentences) # tts is called for both training set as well as test set va the same tokenizer\n",
        "padded = pad_sequences(sequences,maxlen=max_length, truncating=trunc_type)\n",
        "\n",
        "testing_sequences = tokenizer.texts_to_sequences(testing_sentences)\n",
        "testing_padded = pad_sequences(testing_sequences,maxlen=max_length)\n"
      ],
      "execution_count": 12,
      "outputs": []
    },
    {
      "cell_type": "code",
      "metadata": {
        "colab": {
          "base_uri": "https://localhost:8080/"
        },
        "id": "YNOOL8CVI4t1",
        "outputId": "13e1a7d8-d103-4168-9daf-85fd5ce62174"
      },
      "source": [
        "word_index"
      ],
      "execution_count": 13,
      "outputs": [
        {
          "output_type": "execute_result",
          "data": {
            "text/plain": [
              "{'<OOV>': 1,\n",
              " 'the': 2,\n",
              " 'and': 3,\n",
              " 'a': 4,\n",
              " 'of': 5,\n",
              " 'to': 6,\n",
              " 'is': 7,\n",
              " 'br': 8,\n",
              " 'in': 9,\n",
              " 'it': 10,\n",
              " 'i': 11,\n",
              " 'this': 12,\n",
              " 'that': 13,\n",
              " 'was': 14,\n",
              " 'as': 15,\n",
              " 'for': 16,\n",
              " 'with': 17,\n",
              " 'movie': 18,\n",
              " 'but': 19,\n",
              " 'film': 20,\n",
              " 'on': 21,\n",
              " 'not': 22,\n",
              " 'you': 23,\n",
              " 'are': 24,\n",
              " 'his': 25,\n",
              " 'have': 26,\n",
              " 'he': 27,\n",
              " 'be': 28,\n",
              " 'one': 29,\n",
              " 'all': 30,\n",
              " 'at': 31,\n",
              " 'by': 32,\n",
              " 'an': 33,\n",
              " 'they': 34,\n",
              " 'who': 35,\n",
              " 'so': 36,\n",
              " 'from': 37,\n",
              " 'like': 38,\n",
              " 'her': 39,\n",
              " 'or': 40,\n",
              " 'just': 41,\n",
              " 'about': 42,\n",
              " \"it's\": 43,\n",
              " 'out': 44,\n",
              " 'if': 45,\n",
              " 'has': 46,\n",
              " 'some': 47,\n",
              " 'there': 48,\n",
              " 'what': 49,\n",
              " 'good': 50,\n",
              " 'more': 51,\n",
              " 'when': 52,\n",
              " 'very': 53,\n",
              " 'up': 54,\n",
              " 'no': 55,\n",
              " 'time': 56,\n",
              " 'she': 57,\n",
              " 'even': 58,\n",
              " 'my': 59,\n",
              " 'would': 60,\n",
              " 'which': 61,\n",
              " 'only': 62,\n",
              " 'story': 63,\n",
              " 'really': 64,\n",
              " 'see': 65,\n",
              " 'their': 66,\n",
              " 'had': 67,\n",
              " 'can': 68,\n",
              " 'were': 69,\n",
              " 'me': 70,\n",
              " 'well': 71,\n",
              " 'than': 72,\n",
              " 'we': 73,\n",
              " 'much': 74,\n",
              " 'been': 75,\n",
              " 'bad': 76,\n",
              " 'get': 77,\n",
              " 'will': 78,\n",
              " 'do': 79,\n",
              " 'also': 80,\n",
              " 'into': 81,\n",
              " 'people': 82,\n",
              " 'other': 83,\n",
              " 'first': 84,\n",
              " 'great': 85,\n",
              " 'because': 86,\n",
              " 'how': 87,\n",
              " 'him': 88,\n",
              " 'most': 89,\n",
              " \"don't\": 90,\n",
              " 'made': 91,\n",
              " 'its': 92,\n",
              " 'then': 93,\n",
              " 'way': 94,\n",
              " 'make': 95,\n",
              " 'them': 96,\n",
              " 'too': 97,\n",
              " 'could': 98,\n",
              " 'any': 99,\n",
              " 'movies': 100,\n",
              " 'after': 101,\n",
              " 'think': 102,\n",
              " 'characters': 103,\n",
              " 'watch': 104,\n",
              " 'two': 105,\n",
              " 'films': 106,\n",
              " 'character': 107,\n",
              " 'seen': 108,\n",
              " 'many': 109,\n",
              " 'being': 110,\n",
              " 'life': 111,\n",
              " 'plot': 112,\n",
              " 'never': 113,\n",
              " 'acting': 114,\n",
              " 'little': 115,\n",
              " 'best': 116,\n",
              " 'love': 117,\n",
              " 'over': 118,\n",
              " 'where': 119,\n",
              " 'did': 120,\n",
              " 'show': 121,\n",
              " 'know': 122,\n",
              " 'off': 123,\n",
              " 'ever': 124,\n",
              " 'does': 125,\n",
              " 'better': 126,\n",
              " 'your': 127,\n",
              " 'end': 128,\n",
              " 'still': 129,\n",
              " 'man': 130,\n",
              " 'here': 131,\n",
              " 'these': 132,\n",
              " 'say': 133,\n",
              " 'scene': 134,\n",
              " 'while': 135,\n",
              " 'why': 136,\n",
              " 'scenes': 137,\n",
              " 'go': 138,\n",
              " 'such': 139,\n",
              " 'something': 140,\n",
              " 'through': 141,\n",
              " 'should': 142,\n",
              " 'back': 143,\n",
              " \"i'm\": 144,\n",
              " 'real': 145,\n",
              " 'those': 146,\n",
              " 'watching': 147,\n",
              " 'now': 148,\n",
              " 'though': 149,\n",
              " \"doesn't\": 150,\n",
              " 'years': 151,\n",
              " 'old': 152,\n",
              " 'thing': 153,\n",
              " 'actors': 154,\n",
              " 'work': 155,\n",
              " '10': 156,\n",
              " 'before': 157,\n",
              " 'another': 158,\n",
              " \"didn't\": 159,\n",
              " 'new': 160,\n",
              " 'funny': 161,\n",
              " 'nothing': 162,\n",
              " 'actually': 163,\n",
              " 'makes': 164,\n",
              " 'director': 165,\n",
              " 'look': 166,\n",
              " 'find': 167,\n",
              " 'going': 168,\n",
              " 'few': 169,\n",
              " 'same': 170,\n",
              " 'part': 171,\n",
              " 'again': 172,\n",
              " 'every': 173,\n",
              " 'lot': 174,\n",
              " 'cast': 175,\n",
              " 'us': 176,\n",
              " 'quite': 177,\n",
              " 'down': 178,\n",
              " 'want': 179,\n",
              " 'world': 180,\n",
              " 'things': 181,\n",
              " 'pretty': 182,\n",
              " 'young': 183,\n",
              " 'seems': 184,\n",
              " 'around': 185,\n",
              " 'got': 186,\n",
              " 'horror': 187,\n",
              " 'however': 188,\n",
              " \"can't\": 189,\n",
              " 'fact': 190,\n",
              " 'take': 191,\n",
              " 'big': 192,\n",
              " 'enough': 193,\n",
              " 'long': 194,\n",
              " 'thought': 195,\n",
              " \"that's\": 196,\n",
              " 'both': 197,\n",
              " 'between': 198,\n",
              " 'series': 199,\n",
              " 'give': 200,\n",
              " 'may': 201,\n",
              " 'original': 202,\n",
              " 'own': 203,\n",
              " 'action': 204,\n",
              " \"i've\": 205,\n",
              " 'right': 206,\n",
              " 'without': 207,\n",
              " 'always': 208,\n",
              " 'times': 209,\n",
              " 'comedy': 210,\n",
              " 'point': 211,\n",
              " 'gets': 212,\n",
              " 'must': 213,\n",
              " 'come': 214,\n",
              " 'role': 215,\n",
              " \"isn't\": 216,\n",
              " 'saw': 217,\n",
              " 'almost': 218,\n",
              " 'interesting': 219,\n",
              " 'least': 220,\n",
              " 'family': 221,\n",
              " 'done': 222,\n",
              " \"there's\": 223,\n",
              " 'whole': 224,\n",
              " 'bit': 225,\n",
              " 'music': 226,\n",
              " 'script': 227,\n",
              " 'far': 228,\n",
              " 'making': 229,\n",
              " 'anything': 230,\n",
              " 'guy': 231,\n",
              " 'minutes': 232,\n",
              " 'feel': 233,\n",
              " 'last': 234,\n",
              " 'since': 235,\n",
              " 'might': 236,\n",
              " 'performance': 237,\n",
              " \"he's\": 238,\n",
              " '2': 239,\n",
              " 'probably': 240,\n",
              " 'kind': 241,\n",
              " 'am': 242,\n",
              " 'away': 243,\n",
              " 'yet': 244,\n",
              " 'rather': 245,\n",
              " 'tv': 246,\n",
              " 'worst': 247,\n",
              " 'girl': 248,\n",
              " 'day': 249,\n",
              " 'sure': 250,\n",
              " 'fun': 251,\n",
              " 'hard': 252,\n",
              " 'woman': 253,\n",
              " 'played': 254,\n",
              " 'each': 255,\n",
              " 'found': 256,\n",
              " 'anyone': 257,\n",
              " 'having': 258,\n",
              " 'especially': 259,\n",
              " 'although': 260,\n",
              " 'our': 261,\n",
              " 'course': 262,\n",
              " 'believe': 263,\n",
              " 'comes': 264,\n",
              " 'looking': 265,\n",
              " 'screen': 266,\n",
              " 'trying': 267,\n",
              " 'set': 268,\n",
              " 'goes': 269,\n",
              " 'looks': 270,\n",
              " 'place': 271,\n",
              " 'book': 272,\n",
              " 'different': 273,\n",
              " 'put': 274,\n",
              " 'ending': 275,\n",
              " 'money': 276,\n",
              " 'maybe': 277,\n",
              " 'once': 278,\n",
              " 'sense': 279,\n",
              " 'reason': 280,\n",
              " 'true': 281,\n",
              " 'actor': 282,\n",
              " 'everything': 283,\n",
              " \"wasn't\": 284,\n",
              " 'shows': 285,\n",
              " 'dvd': 286,\n",
              " 'three': 287,\n",
              " 'worth': 288,\n",
              " 'year': 289,\n",
              " 'job': 290,\n",
              " 'main': 291,\n",
              " 'someone': 292,\n",
              " 'together': 293,\n",
              " 'watched': 294,\n",
              " 'play': 295,\n",
              " 'american': 296,\n",
              " 'plays': 297,\n",
              " '1': 298,\n",
              " 'said': 299,\n",
              " 'effects': 300,\n",
              " 'later': 301,\n",
              " 'takes': 302,\n",
              " 'instead': 303,\n",
              " 'seem': 304,\n",
              " 'beautiful': 305,\n",
              " 'john': 306,\n",
              " 'himself': 307,\n",
              " 'version': 308,\n",
              " 'audience': 309,\n",
              " 'high': 310,\n",
              " 'house': 311,\n",
              " 'night': 312,\n",
              " 'during': 313,\n",
              " 'everyone': 314,\n",
              " 'left': 315,\n",
              " 'special': 316,\n",
              " 'seeing': 317,\n",
              " 'half': 318,\n",
              " 'excellent': 319,\n",
              " 'wife': 320,\n",
              " 'star': 321,\n",
              " 'shot': 322,\n",
              " 'war': 323,\n",
              " 'idea': 324,\n",
              " 'nice': 325,\n",
              " 'black': 326,\n",
              " 'less': 327,\n",
              " 'mind': 328,\n",
              " 'simply': 329,\n",
              " 'read': 330,\n",
              " 'second': 331,\n",
              " 'else': 332,\n",
              " \"you're\": 333,\n",
              " 'father': 334,\n",
              " 'fan': 335,\n",
              " 'help': 336,\n",
              " 'poor': 337,\n",
              " 'completely': 338,\n",
              " 'death': 339,\n",
              " '3': 340,\n",
              " 'used': 341,\n",
              " 'home': 342,\n",
              " 'either': 343,\n",
              " 'short': 344,\n",
              " 'line': 345,\n",
              " 'given': 346,\n",
              " 'men': 347,\n",
              " 'top': 348,\n",
              " 'dead': 349,\n",
              " 'budget': 350,\n",
              " 'try': 351,\n",
              " 'performances': 352,\n",
              " 'wrong': 353,\n",
              " 'classic': 354,\n",
              " 'boring': 355,\n",
              " 'enjoy': 356,\n",
              " 'need': 357,\n",
              " 'rest': 358,\n",
              " 'use': 359,\n",
              " 'hollywood': 360,\n",
              " 'kids': 361,\n",
              " 'low': 362,\n",
              " 'production': 363,\n",
              " 'until': 364,\n",
              " 'along': 365,\n",
              " 'full': 366,\n",
              " 'friends': 367,\n",
              " 'camera': 368,\n",
              " 'truly': 369,\n",
              " 'women': 370,\n",
              " 'awful': 371,\n",
              " 'video': 372,\n",
              " 'next': 373,\n",
              " 'tell': 374,\n",
              " 'remember': 375,\n",
              " 'couple': 376,\n",
              " 'stupid': 377,\n",
              " 'start': 378,\n",
              " 'stars': 379,\n",
              " 'perhaps': 380,\n",
              " 'mean': 381,\n",
              " 'sex': 382,\n",
              " 'came': 383,\n",
              " 'recommend': 384,\n",
              " 'let': 385,\n",
              " 'moments': 386,\n",
              " 'wonderful': 387,\n",
              " 'episode': 388,\n",
              " 'understand': 389,\n",
              " 'small': 390,\n",
              " 'face': 391,\n",
              " 'terrible': 392,\n",
              " 'school': 393,\n",
              " 'playing': 394,\n",
              " 'getting': 395,\n",
              " 'written': 396,\n",
              " 'often': 397,\n",
              " 'doing': 398,\n",
              " 'keep': 399,\n",
              " 'early': 400,\n",
              " 'name': 401,\n",
              " 'perfect': 402,\n",
              " 'style': 403,\n",
              " 'human': 404,\n",
              " 'definitely': 405,\n",
              " 'others': 406,\n",
              " 'gives': 407,\n",
              " 'itself': 408,\n",
              " 'lines': 409,\n",
              " 'live': 410,\n",
              " 'become': 411,\n",
              " 'person': 412,\n",
              " 'dialogue': 413,\n",
              " 'lost': 414,\n",
              " 'finally': 415,\n",
              " 'piece': 416,\n",
              " 'head': 417,\n",
              " 'case': 418,\n",
              " 'felt': 419,\n",
              " 'yes': 420,\n",
              " 'liked': 421,\n",
              " 'supposed': 422,\n",
              " 'title': 423,\n",
              " \"couldn't\": 424,\n",
              " 'absolutely': 425,\n",
              " 'white': 426,\n",
              " 'against': 427,\n",
              " 'boy': 428,\n",
              " 'picture': 429,\n",
              " 'sort': 430,\n",
              " 'worse': 431,\n",
              " 'certainly': 432,\n",
              " 'went': 433,\n",
              " 'entire': 434,\n",
              " 'cinema': 435,\n",
              " 'waste': 436,\n",
              " 'problem': 437,\n",
              " 'hope': 438,\n",
              " \"she's\": 439,\n",
              " 'entertaining': 440,\n",
              " 'mr': 441,\n",
              " 'overall': 442,\n",
              " 'evil': 443,\n",
              " 'called': 444,\n",
              " 'loved': 445,\n",
              " 'based': 446,\n",
              " 'oh': 447,\n",
              " 'several': 448,\n",
              " 'fans': 449,\n",
              " 'mother': 450,\n",
              " 'drama': 451,\n",
              " 'beginning': 452,\n",
              " 'killer': 453,\n",
              " 'lives': 454,\n",
              " '5': 455,\n",
              " 'direction': 456,\n",
              " 'care': 457,\n",
              " 'becomes': 458,\n",
              " 'already': 459,\n",
              " 'laugh': 460,\n",
              " 'example': 461,\n",
              " 'friend': 462,\n",
              " 'dark': 463,\n",
              " 'despite': 464,\n",
              " 'under': 465,\n",
              " 'seemed': 466,\n",
              " 'throughout': 467,\n",
              " '4': 468,\n",
              " 'turn': 469,\n",
              " 'unfortunately': 470,\n",
              " 'wanted': 471,\n",
              " \"i'd\": 472,\n",
              " '\\x96': 473,\n",
              " 'children': 474,\n",
              " 'final': 475,\n",
              " 'fine': 476,\n",
              " 'history': 477,\n",
              " 'amazing': 478,\n",
              " 'sound': 479,\n",
              " 'guess': 480,\n",
              " 'heart': 481,\n",
              " 'totally': 482,\n",
              " 'humor': 483,\n",
              " 'lead': 484,\n",
              " 'writing': 485,\n",
              " 'michael': 486,\n",
              " 'quality': 487,\n",
              " \"you'll\": 488,\n",
              " 'close': 489,\n",
              " 'son': 490,\n",
              " 'wants': 491,\n",
              " 'guys': 492,\n",
              " 'works': 493,\n",
              " 'behind': 494,\n",
              " 'tries': 495,\n",
              " 'art': 496,\n",
              " 'side': 497,\n",
              " 'game': 498,\n",
              " 'past': 499,\n",
              " 'able': 500,\n",
              " 'b': 501,\n",
              " 'days': 502,\n",
              " 'turns': 503,\n",
              " \"they're\": 504,\n",
              " 'child': 505,\n",
              " 'hand': 506,\n",
              " 'flick': 507,\n",
              " 'enjoyed': 508,\n",
              " 'act': 509,\n",
              " 'genre': 510,\n",
              " 'town': 511,\n",
              " 'favorite': 512,\n",
              " 'soon': 513,\n",
              " 'kill': 514,\n",
              " 'starts': 515,\n",
              " 'sometimes': 516,\n",
              " 'gave': 517,\n",
              " 'car': 518,\n",
              " 'run': 519,\n",
              " 'late': 520,\n",
              " 'eyes': 521,\n",
              " 'etc': 522,\n",
              " 'actress': 523,\n",
              " 'directed': 524,\n",
              " 'horrible': 525,\n",
              " \"won't\": 526,\n",
              " 'brilliant': 527,\n",
              " 'viewer': 528,\n",
              " 'parts': 529,\n",
              " 'themselves': 530,\n",
              " 'self': 531,\n",
              " 'hour': 532,\n",
              " 'expect': 533,\n",
              " 'thinking': 534,\n",
              " 'stories': 535,\n",
              " 'stuff': 536,\n",
              " 'girls': 537,\n",
              " 'obviously': 538,\n",
              " 'blood': 539,\n",
              " 'decent': 540,\n",
              " 'city': 541,\n",
              " 'voice': 542,\n",
              " 'highly': 543,\n",
              " 'myself': 544,\n",
              " 'feeling': 545,\n",
              " 'fight': 546,\n",
              " 'except': 547,\n",
              " 'slow': 548,\n",
              " 'matter': 549,\n",
              " 'type': 550,\n",
              " 'anyway': 551,\n",
              " 'kid': 552,\n",
              " 'roles': 553,\n",
              " 'killed': 554,\n",
              " 'heard': 555,\n",
              " 'age': 556,\n",
              " 'says': 557,\n",
              " 'god': 558,\n",
              " 'moment': 559,\n",
              " 'took': 560,\n",
              " 'leave': 561,\n",
              " 'writer': 562,\n",
              " 'strong': 563,\n",
              " 'cannot': 564,\n",
              " 'violence': 565,\n",
              " 'police': 566,\n",
              " 'hit': 567,\n",
              " 'stop': 568,\n",
              " 'happens': 569,\n",
              " 'particularly': 570,\n",
              " 'known': 571,\n",
              " 'happened': 572,\n",
              " 'involved': 573,\n",
              " 'extremely': 574,\n",
              " 'daughter': 575,\n",
              " 'obvious': 576,\n",
              " 'told': 577,\n",
              " 'chance': 578,\n",
              " 'living': 579,\n",
              " 'coming': 580,\n",
              " 'lack': 581,\n",
              " 'experience': 582,\n",
              " 'alone': 583,\n",
              " 'including': 584,\n",
              " \"wouldn't\": 585,\n",
              " 'murder': 586,\n",
              " 'attempt': 587,\n",
              " 's': 588,\n",
              " 'james': 589,\n",
              " 'please': 590,\n",
              " 'happen': 591,\n",
              " 'wonder': 592,\n",
              " 'crap': 593,\n",
              " 'ago': 594,\n",
              " \"film's\": 595,\n",
              " 'brother': 596,\n",
              " 'gore': 597,\n",
              " 'complete': 598,\n",
              " 'none': 599,\n",
              " 'interest': 600,\n",
              " 'score': 601,\n",
              " 'group': 602,\n",
              " 'cut': 603,\n",
              " 'simple': 604,\n",
              " 'save': 605,\n",
              " 'ok': 606,\n",
              " 'hell': 607,\n",
              " 'looked': 608,\n",
              " 'number': 609,\n",
              " 'career': 610,\n",
              " 'song': 611,\n",
              " 'possible': 612,\n",
              " 'seriously': 613,\n",
              " 'annoying': 614,\n",
              " 'shown': 615,\n",
              " 'exactly': 616,\n",
              " 'sad': 617,\n",
              " 'running': 618,\n",
              " 'musical': 619,\n",
              " 'serious': 620,\n",
              " 'yourself': 621,\n",
              " 'taken': 622,\n",
              " 'released': 623,\n",
              " 'whose': 624,\n",
              " 'david': 625,\n",
              " 'cinematography': 626,\n",
              " 'scary': 627,\n",
              " 'ends': 628,\n",
              " 'usually': 629,\n",
              " 'hero': 630,\n",
              " 'english': 631,\n",
              " 'hours': 632,\n",
              " 'reality': 633,\n",
              " 'opening': 634,\n",
              " \"i'll\": 635,\n",
              " 'today': 636,\n",
              " 'light': 637,\n",
              " 'across': 638,\n",
              " 'jokes': 639,\n",
              " 'hilarious': 640,\n",
              " 'somewhat': 641,\n",
              " 'usual': 642,\n",
              " 'ridiculous': 643,\n",
              " 'body': 644,\n",
              " 'cool': 645,\n",
              " 'started': 646,\n",
              " 'level': 647,\n",
              " 'view': 648,\n",
              " 'relationship': 649,\n",
              " 'change': 650,\n",
              " 'opinion': 651,\n",
              " 'happy': 652,\n",
              " 'middle': 653,\n",
              " 'taking': 654,\n",
              " 'wish': 655,\n",
              " 'finds': 656,\n",
              " 'husband': 657,\n",
              " 'order': 658,\n",
              " 'saying': 659,\n",
              " 'talking': 660,\n",
              " 'shots': 661,\n",
              " 'ones': 662,\n",
              " 'documentary': 663,\n",
              " 'huge': 664,\n",
              " 'novel': 665,\n",
              " 'mostly': 666,\n",
              " 'female': 667,\n",
              " 'robert': 668,\n",
              " 'power': 669,\n",
              " 'episodes': 670,\n",
              " 'room': 671,\n",
              " 'important': 672,\n",
              " 'rating': 673,\n",
              " 'talent': 674,\n",
              " 'five': 675,\n",
              " 'major': 676,\n",
              " 'turned': 677,\n",
              " 'strange': 678,\n",
              " 'word': 679,\n",
              " 'modern': 680,\n",
              " 'call': 681,\n",
              " 'apparently': 682,\n",
              " 'disappointed': 683,\n",
              " 'single': 684,\n",
              " 'events': 685,\n",
              " 'due': 686,\n",
              " 'four': 687,\n",
              " 'songs': 688,\n",
              " 'basically': 689,\n",
              " 'attention': 690,\n",
              " '7': 691,\n",
              " 'knows': 692,\n",
              " 'clearly': 693,\n",
              " 'supporting': 694,\n",
              " 'knew': 695,\n",
              " 'comic': 696,\n",
              " 'non': 697,\n",
              " 'british': 698,\n",
              " 'television': 699,\n",
              " 'fast': 700,\n",
              " 'earth': 701,\n",
              " 'country': 702,\n",
              " 'cheap': 703,\n",
              " 'class': 704,\n",
              " 'future': 705,\n",
              " 'silly': 706,\n",
              " 'thriller': 707,\n",
              " '8': 708,\n",
              " 'king': 709,\n",
              " 'problems': 710,\n",
              " \"aren't\": 711,\n",
              " 'easily': 712,\n",
              " 'words': 713,\n",
              " 'tells': 714,\n",
              " 'miss': 715,\n",
              " 'jack': 716,\n",
              " 'local': 717,\n",
              " 'sequence': 718,\n",
              " 'bring': 719,\n",
              " 'entertainment': 720,\n",
              " 'paul': 721,\n",
              " 'beyond': 722,\n",
              " 'upon': 723,\n",
              " 'whether': 724,\n",
              " 'predictable': 725,\n",
              " 'moving': 726,\n",
              " 'straight': 727,\n",
              " 'sets': 728,\n",
              " 'similar': 729,\n",
              " 'romantic': 730,\n",
              " 'review': 731,\n",
              " 'oscar': 732,\n",
              " 'falls': 733,\n",
              " 'mystery': 734,\n",
              " 'enjoyable': 735,\n",
              " 'needs': 736,\n",
              " 'rock': 737,\n",
              " 'appears': 738,\n",
              " 'talk': 739,\n",
              " 'george': 740,\n",
              " 'giving': 741,\n",
              " 'eye': 742,\n",
              " 'within': 743,\n",
              " 'richard': 744,\n",
              " 'ten': 745,\n",
              " 'animation': 746,\n",
              " 'message': 747,\n",
              " 'near': 748,\n",
              " 'theater': 749,\n",
              " 'above': 750,\n",
              " 'dull': 751,\n",
              " 'nearly': 752,\n",
              " 'sequel': 753,\n",
              " 'theme': 754,\n",
              " 'points': 755,\n",
              " \"'\": 756,\n",
              " 'stand': 757,\n",
              " 'mention': 758,\n",
              " 'lady': 759,\n",
              " 'bunch': 760,\n",
              " 'add': 761,\n",
              " 'feels': 762,\n",
              " 'herself': 763,\n",
              " 'release': 764,\n",
              " 'red': 765,\n",
              " 'team': 766,\n",
              " 'storyline': 767,\n",
              " 'surprised': 768,\n",
              " 'ways': 769,\n",
              " 'named': 770,\n",
              " 'using': 771,\n",
              " \"haven't\": 772,\n",
              " 'lots': 773,\n",
              " 'easy': 774,\n",
              " 'fantastic': 775,\n",
              " 'begins': 776,\n",
              " 'actual': 777,\n",
              " 'working': 778,\n",
              " 'effort': 779,\n",
              " 'york': 780,\n",
              " 'die': 781,\n",
              " 'hate': 782,\n",
              " 'french': 783,\n",
              " 'tale': 784,\n",
              " 'minute': 785,\n",
              " 'stay': 786,\n",
              " '9': 787,\n",
              " 'clear': 788,\n",
              " 'feature': 789,\n",
              " 'elements': 790,\n",
              " 'among': 791,\n",
              " 'follow': 792,\n",
              " 're': 793,\n",
              " 'comments': 794,\n",
              " 'viewers': 795,\n",
              " 'avoid': 796,\n",
              " 'sister': 797,\n",
              " 'typical': 798,\n",
              " 'showing': 799,\n",
              " 'editing': 800,\n",
              " \"what's\": 801,\n",
              " 'famous': 802,\n",
              " 'tried': 803,\n",
              " 'sorry': 804,\n",
              " 'fall': 805,\n",
              " 'dialog': 806,\n",
              " 'check': 807,\n",
              " 'period': 808,\n",
              " 'form': 809,\n",
              " 'season': 810,\n",
              " 'certain': 811,\n",
              " 'filmed': 812,\n",
              " 'weak': 813,\n",
              " 'soundtrack': 814,\n",
              " 'means': 815,\n",
              " 'material': 816,\n",
              " 'buy': 817,\n",
              " 'somehow': 818,\n",
              " 'realistic': 819,\n",
              " 'figure': 820,\n",
              " 'crime': 821,\n",
              " 'gone': 822,\n",
              " 'doubt': 823,\n",
              " 'peter': 824,\n",
              " 'tom': 825,\n",
              " 'kept': 826,\n",
              " 'viewing': 827,\n",
              " 't': 828,\n",
              " 'general': 829,\n",
              " 'leads': 830,\n",
              " 'greatest': 831,\n",
              " 'space': 832,\n",
              " 'lame': 833,\n",
              " 'suspense': 834,\n",
              " 'dance': 835,\n",
              " 'brought': 836,\n",
              " 'imagine': 837,\n",
              " 'third': 838,\n",
              " 'atmosphere': 839,\n",
              " 'hear': 840,\n",
              " 'particular': 841,\n",
              " 'sequences': 842,\n",
              " 'whatever': 843,\n",
              " 'parents': 844,\n",
              " 'move': 845,\n",
              " 'lee': 846,\n",
              " 'indeed': 847,\n",
              " 'rent': 848,\n",
              " 'de': 849,\n",
              " 'eventually': 850,\n",
              " 'learn': 851,\n",
              " 'note': 852,\n",
              " 'wait': 853,\n",
              " 'deal': 854,\n",
              " 'forget': 855,\n",
              " 'reviews': 856,\n",
              " 'average': 857,\n",
              " 'japanese': 858,\n",
              " 'sexual': 859,\n",
              " 'poorly': 860,\n",
              " 'okay': 861,\n",
              " 'premise': 862,\n",
              " 'zombie': 863,\n",
              " 'surprise': 864,\n",
              " 'believable': 865,\n",
              " 'stage': 866,\n",
              " 'sit': 867,\n",
              " 'possibly': 868,\n",
              " \"who's\": 869,\n",
              " 'decided': 870,\n",
              " 'expected': 871,\n",
              " \"you've\": 872,\n",
              " 'subject': 873,\n",
              " 'nature': 874,\n",
              " 'became': 875,\n",
              " 'difficult': 876,\n",
              " 'free': 877,\n",
              " 'killing': 878,\n",
              " 'screenplay': 879,\n",
              " 'truth': 880,\n",
              " 'romance': 881,\n",
              " 'dr': 882,\n",
              " 'nor': 883,\n",
              " 'reading': 884,\n",
              " 'needed': 885,\n",
              " 'question': 886,\n",
              " 'leaves': 887,\n",
              " 'street': 888,\n",
              " '20': 889,\n",
              " 'meets': 890,\n",
              " 'hot': 891,\n",
              " 'unless': 892,\n",
              " 'begin': 893,\n",
              " 'baby': 894,\n",
              " 'superb': 895,\n",
              " 'credits': 896,\n",
              " 'otherwise': 897,\n",
              " 'imdb': 898,\n",
              " 'write': 899,\n",
              " 'shame': 900,\n",
              " \"let's\": 901,\n",
              " 'situation': 902,\n",
              " 'dramatic': 903,\n",
              " 'memorable': 904,\n",
              " 'directors': 905,\n",
              " 'earlier': 906,\n",
              " 'badly': 907,\n",
              " 'disney': 908,\n",
              " 'meet': 909,\n",
              " 'open': 910,\n",
              " 'dog': 911,\n",
              " 'male': 912,\n",
              " 'weird': 913,\n",
              " 'joe': 914,\n",
              " 'acted': 915,\n",
              " 'forced': 916,\n",
              " 'emotional': 917,\n",
              " 'sci': 918,\n",
              " 'laughs': 919,\n",
              " 'older': 920,\n",
              " 'realize': 921,\n",
              " 'fi': 922,\n",
              " 'dream': 923,\n",
              " 'society': 924,\n",
              " 'interested': 925,\n",
              " 'writers': 926,\n",
              " 'comment': 927,\n",
              " 'forward': 928,\n",
              " 'footage': 929,\n",
              " 'crazy': 930,\n",
              " 'deep': 931,\n",
              " 'whom': 932,\n",
              " 'sounds': 933,\n",
              " 'beauty': 934,\n",
              " 'america': 935,\n",
              " 'plus': 936,\n",
              " 'fantasy': 937,\n",
              " 'directing': 938,\n",
              " 'keeps': 939,\n",
              " 'development': 940,\n",
              " 'ask': 941,\n",
              " 'features': 942,\n",
              " 'air': 943,\n",
              " 'quickly': 944,\n",
              " 'mess': 945,\n",
              " 'creepy': 946,\n",
              " 'perfectly': 947,\n",
              " 'towards': 948,\n",
              " 'mark': 949,\n",
              " 'worked': 950,\n",
              " 'box': 951,\n",
              " 'cheesy': 952,\n",
              " 'unique': 953,\n",
              " 'setting': 954,\n",
              " 'hands': 955,\n",
              " 'plenty': 956,\n",
              " 'brings': 957,\n",
              " 'previous': 958,\n",
              " 'result': 959,\n",
              " 'e': 960,\n",
              " 'effect': 961,\n",
              " 'total': 962,\n",
              " 'personal': 963,\n",
              " 'incredibly': 964,\n",
              " 'rate': 965,\n",
              " 'fire': 966,\n",
              " 'monster': 967,\n",
              " 'business': 968,\n",
              " 'leading': 969,\n",
              " 'apart': 970,\n",
              " 'casting': 971,\n",
              " 'admit': 972,\n",
              " 'appear': 973,\n",
              " 'joke': 974,\n",
              " 'background': 975,\n",
              " 'powerful': 976,\n",
              " 'telling': 977,\n",
              " 'meant': 978,\n",
              " 'girlfriend': 979,\n",
              " 'christmas': 980,\n",
              " 'present': 981,\n",
              " 'hardly': 982,\n",
              " 'potential': 983,\n",
              " 'battle': 984,\n",
              " 'create': 985,\n",
              " 'bill': 986,\n",
              " 'break': 987,\n",
              " 'pay': 988,\n",
              " 'masterpiece': 989,\n",
              " 'dumb': 990,\n",
              " 'return': 991,\n",
              " 'political': 992,\n",
              " 'gay': 993,\n",
              " 'fails': 994,\n",
              " 'fighting': 995,\n",
              " 'various': 996,\n",
              " 'era': 997,\n",
              " 'portrayed': 998,\n",
              " 'secret': 999,\n",
              " 'cop': 1000,\n",
              " ...}"
            ]
          },
          "metadata": {},
          "execution_count": 13
        }
      ]
    },
    {
      "cell_type": "code",
      "metadata": {
        "colab": {
          "base_uri": "https://localhost:8080/"
        },
        "id": "2CQxLHqNJWQS",
        "outputId": "1097b3d5-19c4-4d97-c6da-c45f21118cf5"
      },
      "source": [
        "padded[3]"
      ],
      "execution_count": 15,
      "outputs": [
        {
          "output_type": "execute_result",
          "data": {
            "text/plain": [
              "array([   0,    0,    0,    0,    0,    0,    0,    0,    0,    0,    0,\n",
              "          0,    0,    0,    0,    0,    0,    0,    0,    0,    0,    0,\n",
              "          0,    0,    0,    0,    0,    0,    0,    0,    0,    0,    0,\n",
              "          0,    0,    0,    0,    0,    0,    0,    0,    0,    0,    0,\n",
              "          0,    0,    0,    0,    0,    0,    0,   12,    7,    2,  241,\n",
              "          5,   20,   16,    4, 8776, 2707, 2653,   52,    2,  358,    5,\n",
              "          2,  180,   68,  138, 1401,   17,   92,  203,  968,   15,   23,\n",
              "          1,   81,    4,  192, 3109, 3037,    3,    1,   16,    4,  376,\n",
              "          5,  632,  387,  352,   37, 6355,    3, 5559, 1928,   15,  208,\n",
              "       8596, 3433,    2,  112,  365,   48,   24,   55,    1,    6, 1657,\n",
              "         55, 1818, 4312,   41,    4, 2263,    3, 1908,    1,  141,  160,\n",
              "        780,  111,   31,   92,  116,    4,  221,   20,    9,  173,  279,\n",
              "          3,   29,   13, 1012,    2, 2814,   10, 1985], dtype=int32)"
            ]
          },
          "metadata": {},
          "execution_count": 15
        }
      ]
    },
    {
      "cell_type": "markdown",
      "metadata": {
        "id": "E5heveGWJwYl"
      },
      "source": [
        "# Syntax\n",
        "dictionary.get(keyname, value)\n",
        "\n",
        "Parameter Values\n",
        "## Parameter\t       Description\n",
        "* keyname\t          Required. The keyname of the item you want to return the value from\n",
        "* value\t           Optional. A value to return if the specified key does not exist. Default value None\n"
      ]
    },
    {
      "cell_type": "code",
      "metadata": {
        "id": "9axf0uIXVMhO",
        "colab": {
          "base_uri": "https://localhost:8080/"
        },
        "outputId": "16a49dad-f780-4db4-cde0-5b1519b7edfb"
      },
      "source": [
        "reverse_word_index = dict([(value, key) for (key, value) in word_index.items()])\n",
        "\n",
        "def decode_review(text):\n",
        "    return ' '.join([reverse_word_index.get(i, '?') for i in text]) \n",
        "\n",
        "print(decode_review(padded[3]))\n",
        "print(training_sentences[3])"
      ],
      "execution_count": 14,
      "outputs": [
        {
          "output_type": "stream",
          "name": "stdout",
          "text": [
            "? ? ? ? ? ? ? ? ? ? ? ? ? ? ? ? ? ? ? ? ? ? ? ? ? ? ? ? ? ? ? ? ? ? ? ? ? ? ? ? ? ? ? ? ? ? ? ? ? ? ? this is the kind of film for a snowy sunday afternoon when the rest of the world can go ahead with its own business as you <OOV> into a big arm chair and <OOV> for a couple of hours wonderful performances from cher and nicolas cage as always gently row the plot along there are no <OOV> to cross no dangerous waters just a warm and witty <OOV> through new york life at its best a family film in every sense and one that deserves the praise it received\n",
            "This is the kind of film for a snowy Sunday afternoon when the rest of the world can go ahead with its own business as you descend into a big arm-chair and mellow for a couple of hours. Wonderful performances from Cher and Nicolas Cage (as always) gently row the plot along. There are no rapids to cross, no dangerous waters, just a warm and witty paddle through New York life at its best. A family film in every sense and one that deserves the praise it received.\n"
          ]
        }
      ]
    },
    {
      "cell_type": "code",
      "metadata": {
        "id": "5NEpdhb8AxID",
        "colab": {
          "base_uri": "https://localhost:8080/"
        },
        "outputId": "3e5c9d8d-3b1f-4ea1-9dcf-795fa8e842d4"
      },
      "source": [
        "model = tf.keras.Sequential([\n",
        "    tf.keras.layers.Embedding(vocab_size, embedding_dim, input_length=max_length),\n",
        "    tf.keras.layers.Flatten(),\n",
        "    tf.keras.layers.Dense(6, activation='relu'),\n",
        "    tf.keras.layers.Dense(1, activation='sigmoid')\n",
        "])\n",
        "model.compile(loss='binary_crossentropy',optimizer='adam',metrics=['accuracy'])\n",
        "model.summary()\n"
      ],
      "execution_count": 16,
      "outputs": [
        {
          "output_type": "stream",
          "name": "stdout",
          "text": [
            "Model: \"sequential\"\n",
            "_________________________________________________________________\n",
            "Layer (type)                 Output Shape              Param #   \n",
            "=================================================================\n",
            "embedding (Embedding)        (None, 140, 16)           160000    \n",
            "_________________________________________________________________\n",
            "flatten (Flatten)            (None, 2240)              0         \n",
            "_________________________________________________________________\n",
            "dense (Dense)                (None, 6)                 13446     \n",
            "_________________________________________________________________\n",
            "dense_1 (Dense)              (None, 1)                 7         \n",
            "=================================================================\n",
            "Total params: 173,453\n",
            "Trainable params: 173,453\n",
            "Non-trainable params: 0\n",
            "_________________________________________________________________\n"
          ]
        }
      ]
    },
    {
      "cell_type": "code",
      "metadata": {
        "id": "V5LLrXC-uNX6",
        "colab": {
          "base_uri": "https://localhost:8080/"
        },
        "outputId": "f2889256-8366-4573-d368-acf279e1376b"
      },
      "source": [
        "num_epochs = 10\n",
        "model.fit(padded, training_labels_final, epochs=num_epochs, validation_data=(testing_padded, testing_labels_final))"
      ],
      "execution_count": 17,
      "outputs": [
        {
          "output_type": "stream",
          "name": "stdout",
          "text": [
            "Epoch 1/10\n",
            "782/782 [==============================] - 10s 9ms/step - loss: 0.4681 - accuracy: 0.7626 - val_loss: 0.3250 - val_accuracy: 0.8582\n",
            "Epoch 2/10\n",
            "782/782 [==============================] - 6s 8ms/step - loss: 0.2206 - accuracy: 0.9179 - val_loss: 0.3469 - val_accuracy: 0.8505\n",
            "Epoch 3/10\n",
            "782/782 [==============================] - 7s 9ms/step - loss: 0.0813 - accuracy: 0.9801 - val_loss: 0.4175 - val_accuracy: 0.8404\n",
            "Epoch 4/10\n",
            "782/782 [==============================] - 6s 7ms/step - loss: 0.0193 - accuracy: 0.9980 - val_loss: 0.4951 - val_accuracy: 0.8415\n",
            "Epoch 5/10\n",
            "782/782 [==============================] - 7s 9ms/step - loss: 0.0049 - accuracy: 0.9997 - val_loss: 0.5518 - val_accuracy: 0.8420\n",
            "Epoch 6/10\n",
            "782/782 [==============================] - 6s 7ms/step - loss: 0.0017 - accuracy: 1.0000 - val_loss: 0.5943 - val_accuracy: 0.8435\n",
            "Epoch 7/10\n",
            "782/782 [==============================] - 6s 7ms/step - loss: 8.0678e-04 - accuracy: 1.0000 - val_loss: 0.6356 - val_accuracy: 0.8436\n",
            "Epoch 8/10\n",
            "782/782 [==============================] - 6s 7ms/step - loss: 4.4660e-04 - accuracy: 1.0000 - val_loss: 0.6701 - val_accuracy: 0.8440\n",
            "Epoch 9/10\n",
            "782/782 [==============================] - 6s 7ms/step - loss: 2.6171e-04 - accuracy: 1.0000 - val_loss: 0.7054 - val_accuracy: 0.8441\n",
            "Epoch 10/10\n",
            "782/782 [==============================] - 6s 7ms/step - loss: 1.5546e-04 - accuracy: 1.0000 - val_loss: 0.7417 - val_accuracy: 0.8437\n"
          ]
        },
        {
          "output_type": "execute_result",
          "data": {
            "text/plain": [
              "<keras.callbacks.History at 0x7f3997da75d0>"
            ]
          },
          "metadata": {},
          "execution_count": 17
        }
      ]
    },
    {
      "cell_type": "code",
      "metadata": {
        "id": "yAmjJqEyCOF_",
        "colab": {
          "base_uri": "https://localhost:8080/"
        },
        "outputId": "1ada8225-66c5-4489-f9f5-1c793f7b7e07"
      },
      "source": [
        "e = model.layers[0]\n",
        "weights = e.get_weights()[0]\n",
        "print(weights.shape) # shape: (vocab_size, embedding_dim)"
      ],
      "execution_count": 18,
      "outputs": [
        {
          "output_type": "stream",
          "name": "stdout",
          "text": [
            "(10000, 16)\n"
          ]
        }
      ]
    },
    {
      "cell_type": "code",
      "metadata": {
        "id": "jmB0Uxk0ycP6"
      },
      "source": [
        "import io\n",
        "\n",
        "out_v = io.open('vecs.tsv', 'w', encoding='utf-8')\n",
        "out_m = io.open('meta.tsv', 'w', encoding='utf-8')\n",
        "for word_num in range(1, vocab_size):\n",
        "  word = reverse_word_index[word_num]\n",
        "  embeddings = weights[word_num]\n",
        "  out_m.write(word + \"\\n\")\n",
        "  out_v.write('\\t'.join([str(x) for x in embeddings]) + \"\\n\")\n",
        "out_v.close()\n",
        "out_m.close()"
      ],
      "execution_count": 19,
      "outputs": []
    },
    {
      "cell_type": "code",
      "metadata": {
        "id": "VDeqpOCVydtq",
        "colab": {
          "base_uri": "https://localhost:8080/",
          "height": 17
        },
        "outputId": "46ce8f75-9917-4e27-a581-d37881afde68"
      },
      "source": [
        "try:\n",
        "  from google.colab import files\n",
        "except ImportError:\n",
        "  pass\n",
        "else:\n",
        "  files.download('vecs.tsv')\n",
        "  files.download('meta.tsv')"
      ],
      "execution_count": 20,
      "outputs": [
        {
          "output_type": "display_data",
          "data": {
            "application/javascript": [
              "\n",
              "    async function download(id, filename, size) {\n",
              "      if (!google.colab.kernel.accessAllowed) {\n",
              "        return;\n",
              "      }\n",
              "      const div = document.createElement('div');\n",
              "      const label = document.createElement('label');\n",
              "      label.textContent = `Downloading \"${filename}\": `;\n",
              "      div.appendChild(label);\n",
              "      const progress = document.createElement('progress');\n",
              "      progress.max = size;\n",
              "      div.appendChild(progress);\n",
              "      document.body.appendChild(div);\n",
              "\n",
              "      const buffers = [];\n",
              "      let downloaded = 0;\n",
              "\n",
              "      const channel = await google.colab.kernel.comms.open(id);\n",
              "      // Send a message to notify the kernel that we're ready.\n",
              "      channel.send({})\n",
              "\n",
              "      for await (const message of channel.messages) {\n",
              "        // Send a message to notify the kernel that we're ready.\n",
              "        channel.send({})\n",
              "        if (message.buffers) {\n",
              "          for (const buffer of message.buffers) {\n",
              "            buffers.push(buffer);\n",
              "            downloaded += buffer.byteLength;\n",
              "            progress.value = downloaded;\n",
              "          }\n",
              "        }\n",
              "      }\n",
              "      const blob = new Blob(buffers, {type: 'application/binary'});\n",
              "      const a = document.createElement('a');\n",
              "      a.href = window.URL.createObjectURL(blob);\n",
              "      a.download = filename;\n",
              "      div.appendChild(a);\n",
              "      a.click();\n",
              "      div.remove();\n",
              "    }\n",
              "  "
            ],
            "text/plain": [
              "<IPython.core.display.Javascript object>"
            ]
          },
          "metadata": {}
        },
        {
          "output_type": "display_data",
          "data": {
            "application/javascript": [
              "download(\"download_97a47ad4-b3bc-4888-938f-3fffdf3b3cbf\", \"vecs.tsv\", 1915241)"
            ],
            "text/plain": [
              "<IPython.core.display.Javascript object>"
            ]
          },
          "metadata": {}
        },
        {
          "output_type": "display_data",
          "data": {
            "application/javascript": [
              "\n",
              "    async function download(id, filename, size) {\n",
              "      if (!google.colab.kernel.accessAllowed) {\n",
              "        return;\n",
              "      }\n",
              "      const div = document.createElement('div');\n",
              "      const label = document.createElement('label');\n",
              "      label.textContent = `Downloading \"${filename}\": `;\n",
              "      div.appendChild(label);\n",
              "      const progress = document.createElement('progress');\n",
              "      progress.max = size;\n",
              "      div.appendChild(progress);\n",
              "      document.body.appendChild(div);\n",
              "\n",
              "      const buffers = [];\n",
              "      let downloaded = 0;\n",
              "\n",
              "      const channel = await google.colab.kernel.comms.open(id);\n",
              "      // Send a message to notify the kernel that we're ready.\n",
              "      channel.send({})\n",
              "\n",
              "      for await (const message of channel.messages) {\n",
              "        // Send a message to notify the kernel that we're ready.\n",
              "        channel.send({})\n",
              "        if (message.buffers) {\n",
              "          for (const buffer of message.buffers) {\n",
              "            buffers.push(buffer);\n",
              "            downloaded += buffer.byteLength;\n",
              "            progress.value = downloaded;\n",
              "          }\n",
              "        }\n",
              "      }\n",
              "      const blob = new Blob(buffers, {type: 'application/binary'});\n",
              "      const a = document.createElement('a');\n",
              "      a.href = window.URL.createObjectURL(blob);\n",
              "      a.download = filename;\n",
              "      div.appendChild(a);\n",
              "      a.click();\n",
              "      div.remove();\n",
              "    }\n",
              "  "
            ],
            "text/plain": [
              "<IPython.core.display.Javascript object>"
            ]
          },
          "metadata": {}
        },
        {
          "output_type": "display_data",
          "data": {
            "application/javascript": [
              "download(\"download_dda9aed7-ce83-4e84-a555-e2793113402c\", \"meta.tsv\", 76186)"
            ],
            "text/plain": [
              "<IPython.core.display.Javascript object>"
            ]
          },
          "metadata": {}
        }
      ]
    },
    {
      "cell_type": "code",
      "metadata": {
        "id": "YRxoxc2apscY",
        "colab": {
          "base_uri": "https://localhost:8080/"
        },
        "outputId": "97ee178a-9494-4de0-c3f7-bf55cb054cf3"
      },
      "source": [
        "sentence = \"I really think this is amazing. honest.\"\n",
        "sequence = tokenizer.texts_to_sequences([sentence])\n",
        "padded_sent =  pad_sequences(sequence,maxlen=max_length, truncating=trunc_type)\n",
        "print(padded_sent)"
      ],
      "execution_count": 24,
      "outputs": [
        {
          "output_type": "stream",
          "name": "stdout",
          "text": [
            "[[   0    0    0    0    0    0    0    0    0    0    0    0    0    0\n",
            "     0    0    0    0    0    0    0    0    0    0    0    0    0    0\n",
            "     0    0    0    0    0    0    0    0    0    0    0    0    0    0\n",
            "     0    0    0    0    0    0    0    0    0    0    0    0    0    0\n",
            "     0    0    0    0    0    0    0    0    0    0    0    0    0    0\n",
            "     0    0    0    0    0    0    0    0    0    0    0    0    0    0\n",
            "     0    0    0    0    0    0    0    0    0    0    0    0    0    0\n",
            "     0    0    0    0    0    0    0    0    0    0    0    0    0    0\n",
            "     0    0    0    0    0    0    0    0    0    0    0    0    0    0\n",
            "     0    0    0    0    0    0    0   11   64  102   12    7  478 1200]]\n"
          ]
        }
      ]
    },
    {
      "cell_type": "code",
      "metadata": {
        "id": "lDHphRogSLgB",
        "colab": {
          "base_uri": "https://localhost:8080/"
        },
        "outputId": "28365135-4ea2-4733-be02-3a63448fee0c"
      },
      "source": [
        "model.predict(padded_sent)  # close to 1 -> positive review"
      ],
      "execution_count": 25,
      "outputs": [
        {
          "output_type": "execute_result",
          "data": {
            "text/plain": [
              "array([[0.99139273]], dtype=float32)"
            ]
          },
          "metadata": {},
          "execution_count": 25
        }
      ]
    },
    {
      "cell_type": "code",
      "metadata": {
        "colab": {
          "base_uri": "https://localhost:8080/"
        },
        "id": "4o79h0RCK5JK",
        "outputId": "3dccd924-609a-4981-dba0-5baeeb0477e2"
      },
      "source": [
        "sentence = \"This is a really terrible movie. It feels like they did not put enough efforts.\"\n",
        "sequence = tokenizer.texts_to_sequences([sentence])\n",
        "padded_sent =  pad_sequences(sequence,maxlen=max_length, truncating=trunc_type)\n",
        "print(padded_sent)"
      ],
      "execution_count": 26,
      "outputs": [
        {
          "output_type": "stream",
          "name": "stdout",
          "text": [
            "[[   0    0    0    0    0    0    0    0    0    0    0    0    0    0\n",
            "     0    0    0    0    0    0    0    0    0    0    0    0    0    0\n",
            "     0    0    0    0    0    0    0    0    0    0    0    0    0    0\n",
            "     0    0    0    0    0    0    0    0    0    0    0    0    0    0\n",
            "     0    0    0    0    0    0    0    0    0    0    0    0    0    0\n",
            "     0    0    0    0    0    0    0    0    0    0    0    0    0    0\n",
            "     0    0    0    0    0    0    0    0    0    0    0    0    0    0\n",
            "     0    0    0    0    0    0    0    0    0    0    0    0    0    0\n",
            "     0    0    0    0    0    0    0    0    0    0    0    0    0   12\n",
            "     7    4   64  392   18   10  762   38   34  120   22  274  193 2048]]\n"
          ]
        }
      ]
    },
    {
      "cell_type": "code",
      "metadata": {
        "colab": {
          "base_uri": "https://localhost:8080/"
        },
        "id": "bPtBufCsLaqz",
        "outputId": "1ae00cf3-213d-484c-d5a1-cd42ff6e6e88"
      },
      "source": [
        "model.predict(padded_sent)  # close to 0 -> negative review"
      ],
      "execution_count": 27,
      "outputs": [
        {
          "output_type": "execute_result",
          "data": {
            "text/plain": [
              "array([[0.01084818]], dtype=float32)"
            ]
          },
          "metadata": {},
          "execution_count": 27
        }
      ]
    },
    {
      "cell_type": "code",
      "metadata": {
        "id": "TFNwrBmjLcwF"
      },
      "source": [
        ""
      ],
      "execution_count": null,
      "outputs": []
    }
  ]
}