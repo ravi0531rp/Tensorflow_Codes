{
 "cells": [
  {
   "cell_type": "code",
   "execution_count": 17,
   "metadata": {},
   "outputs": [],
   "source": [
    "import numpy as np\n",
    "import matplotlib.pyplot as plt\n",
    "from tensorflow.keras.models import Model \n",
    "from tensorflow.keras.layers import Dense, Input , SimpleRNN \n"
   ]
  },
  {
   "cell_type": "code",
   "execution_count": 96,
   "metadata": {},
   "outputs": [],
   "source": [
    "series = np.sin(0.1*np.arange(1000)) + np.random.randn(1000)*0.3"
   ]
  },
  {
   "cell_type": "code",
   "execution_count": 97,
   "metadata": {},
   "outputs": [
    {
     "data": {
      "text/plain": [
       "[<matplotlib.lines.Line2D at 0x196ee0032b0>]"
      ]
     },
     "execution_count": 97,
     "metadata": {},
     "output_type": "execute_result"
    },
    {
     "data": {
      "image/png": "[encoded data removed]",
      "text/plain": [
       "<Figure size 432x288 with 1 Axes>"
      ]
     },
     "metadata": {
      "needs_background": "light"
     },
     "output_type": "display_data"
    }
   ],
   "source": [
    "plt.plot(series)"
   ]
  },
  {
   "cell_type": "code",
   "execution_count": 98,
   "metadata": {},
   "outputs": [],
   "source": [
    "T = 10\n",
    "\n",
    "X = []\n",
    "Y = []\n",
    "for t in range(len(series)-T):\n",
    "    x = series[t:t+T]\n",
    "    X.append(x)\n",
    "    y = series[t+T]\n",
    "    Y.append(y)"
   ]
  },
  {
   "cell_type": "code",
   "execution_count": 99,
   "metadata": {},
   "outputs": [],
   "source": [
    "X = np.array(X).reshape(-1,T,1)\n",
    "Y = np.array(Y)"
   ]
  },
  {
   "cell_type": "code",
   "execution_count": 100,
   "metadata": {},
   "outputs": [
    {
     "data": {
      "text/plain": [
       "(990, 10, 1)"
      ]
     },
     "execution_count": 100,
     "metadata": {},
     "output_type": "execute_result"
    }
   ],
   "source": [
    "X.shape"
   ]
  },
  {
   "cell_type": "code",
   "execution_count": 101,
   "metadata": {},
   "outputs": [
    {
     "data": {
      "text/plain": [
       "(10, 1)"
      ]
     },
     "execution_count": 101,
     "metadata": {},
     "output_type": "execute_result"
    }
   ],
   "source": [
    "X[0].shape"
   ]
  },
  {
   "cell_type": "code",
   "execution_count": 102,
   "metadata": {},
   "outputs": [
    {
     "data": {
      "text/plain": [
       "(990,)"
      ]
     },
     "execution_count": 102,
     "metadata": {},
     "output_type": "execute_result"
    }
   ],
   "source": [
    "Y.shape"
   ]
  },
  {
   "cell_type": "code",
   "execution_count": 103,
   "metadata": {},
   "outputs": [
    {
     "data": {
      "text/plain": [
       "990"
      ]
     },
     "execution_count": 103,
     "metadata": {},
     "output_type": "execute_result"
    }
   ],
   "source": [
    "N = len(X)\n",
    "N"
   ]
  },
  {
   "cell_type": "code",
   "execution_count": 104,
   "metadata": {},
   "outputs": [
    {
     "data": {
      "text/plain": [
       "(495, 10, 1)"
      ]
     },
     "execution_count": 104,
     "metadata": {},
     "output_type": "execute_result"
    }
   ],
   "source": [
    "X[:N//2].shape  # we can slice multidim arrays in this fashion as well along any dimension"
   ]
  },
  {
   "cell_type": "code",
   "execution_count": 105,
   "metadata": {},
   "outputs": [
    {
     "name": "stdout",
     "output_type": "stream",
     "text": [
      "Epoch 1/80\n",
      "16/16 [==============================] - 0s 14ms/step - loss: 0.4300 - val_loss: 0.3472\n",
      "Epoch 2/80\n",
      "16/16 [==============================] - 0s 5ms/step - loss: 0.2887 - val_loss: 0.2078\n",
      "Epoch 3/80\n",
      "16/16 [==============================] - 0s 5ms/step - loss: 0.1858 - val_loss: 0.1468\n",
      "Epoch 4/80\n",
      "16/16 [==============================] - 0s 5ms/step - loss: 0.1525 - val_loss: 0.1338\n",
      "Epoch 5/80\n",
      "16/16 [==============================] - 0s 6ms/step - loss: 0.1442 - val_loss: 0.1256\n",
      "Epoch 6/80\n",
      "16/16 [==============================] - 0s 5ms/step - loss: 0.1386 - val_loss: 0.1221\n",
      "Epoch 7/80\n",
      "16/16 [==============================] - 0s 5ms/step - loss: 0.1354 - val_loss: 0.1194\n",
      "Epoch 8/80\n",
      "16/16 [==============================] - 0s 5ms/step - loss: 0.1328 - val_loss: 0.1182\n",
      "Epoch 9/80\n",
      "16/16 [==============================] - 0s 5ms/step - loss: 0.1311 - val_loss: 0.1174\n",
      "Epoch 10/80\n",
      "16/16 [==============================] - 0s 5ms/step - loss: 0.1310 - val_loss: 0.1158\n",
      "Epoch 11/80\n",
      "16/16 [==============================] - 0s 5ms/step - loss: 0.1282 - val_loss: 0.1171\n",
      "Epoch 12/80\n",
      "16/16 [==============================] - 0s 5ms/step - loss: 0.1277 - val_loss: 0.1182\n",
      "Epoch 13/80\n",
      "16/16 [==============================] - 0s 5ms/step - loss: 0.1269 - val_loss: 0.1151\n",
      "Epoch 14/80\n",
      "16/16 [==============================] - 0s 5ms/step - loss: 0.1239 - val_loss: 0.1144\n",
      "Epoch 15/80\n",
      "16/16 [==============================] - 0s 5ms/step - loss: 0.1227 - val_loss: 0.1158\n",
      "Epoch 16/80\n",
      "16/16 [==============================] - 0s 6ms/step - loss: 0.1229 - val_loss: 0.1155\n",
      "Epoch 17/80\n",
      "16/16 [==============================] - 0s 5ms/step - loss: 0.1217 - val_loss: 0.1144\n",
      "Epoch 18/80\n",
      "16/16 [==============================] - 0s 5ms/step - loss: 0.1205 - val_loss: 0.1150\n",
      "Epoch 19/80\n",
      "16/16 [==============================] - 0s 5ms/step - loss: 0.1192 - val_loss: 0.1145\n",
      "Epoch 20/80\n",
      "16/16 [==============================] - 0s 6ms/step - loss: 0.1192 - val_loss: 0.1150\n",
      "Epoch 21/80\n",
      "16/16 [==============================] - 0s 7ms/step - loss: 0.1187 - val_loss: 0.1146\n",
      "Epoch 22/80\n",
      "16/16 [==============================] - 0s 5ms/step - loss: 0.1174 - val_loss: 0.1155\n",
      "Epoch 23/80\n",
      "16/16 [==============================] - 0s 6ms/step - loss: 0.1176 - val_loss: 0.1148\n",
      "Epoch 24/80\n",
      "16/16 [==============================] - 0s 5ms/step - loss: 0.1208 - val_loss: 0.1147\n",
      "Epoch 25/80\n",
      "16/16 [==============================] - 0s 6ms/step - loss: 0.1177 - val_loss: 0.1147\n",
      "Epoch 26/80\n",
      "16/16 [==============================] - 0s 6ms/step - loss: 0.1178 - val_loss: 0.1137\n",
      "Epoch 27/80\n",
      "16/16 [==============================] - 0s 5ms/step - loss: 0.1163 - val_loss: 0.1180\n",
      "Epoch 28/80\n",
      "16/16 [==============================] - 0s 6ms/step - loss: 0.1175 - val_loss: 0.1136\n",
      "Epoch 29/80\n",
      "16/16 [==============================] - 0s 6ms/step - loss: 0.1154 - val_loss: 0.1140\n",
      "Epoch 30/80\n",
      "16/16 [==============================] - 0s 5ms/step - loss: 0.1140 - val_loss: 0.1139\n",
      "Epoch 31/80\n",
      "16/16 [==============================] - 0s 5ms/step - loss: 0.1148 - val_loss: 0.1145\n",
      "Epoch 32/80\n",
      "16/16 [==============================] - 0s 5ms/step - loss: 0.1136 - val_loss: 0.1154\n",
      "Epoch 33/80\n",
      "16/16 [==============================] - 0s 5ms/step - loss: 0.1154 - val_loss: 0.1192\n",
      "Epoch 34/80\n",
      "16/16 [==============================] - 0s 5ms/step - loss: 0.1156 - val_loss: 0.1178\n",
      "Epoch 35/80\n",
      "16/16 [==============================] - 0s 5ms/step - loss: 0.1159 - val_loss: 0.1144\n",
      "Epoch 36/80\n",
      "16/16 [==============================] - 0s 6ms/step - loss: 0.1134 - val_loss: 0.1152\n",
      "Epoch 37/80\n",
      "16/16 [==============================] - 0s 5ms/step - loss: 0.1156 - val_loss: 0.1140\n",
      "Epoch 38/80\n",
      "16/16 [==============================] - 0s 5ms/step - loss: 0.1141 - val_loss: 0.1176\n",
      "Epoch 39/80\n",
      "16/16 [==============================] - 0s 5ms/step - loss: 0.1181 - val_loss: 0.1134\n",
      "Epoch 40/80\n",
      "16/16 [==============================] - 0s 5ms/step - loss: 0.1112 - val_loss: 0.1138\n",
      "Epoch 41/80\n",
      "16/16 [==============================] - 0s 5ms/step - loss: 0.1114 - val_loss: 0.1169\n",
      "Epoch 42/80\n",
      "16/16 [==============================] - 0s 5ms/step - loss: 0.1136 - val_loss: 0.1159\n",
      "Epoch 43/80\n",
      "16/16 [==============================] - 0s 5ms/step - loss: 0.1108 - val_loss: 0.1145\n",
      "Epoch 44/80\n",
      "16/16 [==============================] - 0s 5ms/step - loss: 0.1114 - val_loss: 0.1144\n",
      "Epoch 45/80\n",
      "16/16 [==============================] - 0s 5ms/step - loss: 0.1101 - val_loss: 0.1144\n",
      "Epoch 46/80\n",
      "16/16 [==============================] - 0s 5ms/step - loss: 0.1100 - val_loss: 0.1167\n",
      "Epoch 47/80\n",
      "16/16 [==============================] - 0s 5ms/step - loss: 0.1075 - val_loss: 0.1168\n",
      "Epoch 48/80\n",
      "16/16 [==============================] - 0s 5ms/step - loss: 0.1090 - val_loss: 0.1150\n",
      "Epoch 49/80\n",
      "16/16 [==============================] - 0s 6ms/step - loss: 0.1068 - val_loss: 0.1144\n",
      "Epoch 50/80\n",
      "16/16 [==============================] - 0s 5ms/step - loss: 0.1072 - val_loss: 0.1142\n",
      "Epoch 51/80\n",
      "16/16 [==============================] - 0s 5ms/step - loss: 0.1073 - val_loss: 0.1158\n",
      "Epoch 52/80\n",
      "16/16 [==============================] - 0s 6ms/step - loss: 0.1073 - val_loss: 0.1162\n",
      "Epoch 53/80\n",
      "16/16 [==============================] - 0s 5ms/step - loss: 0.1069 - val_loss: 0.1150\n",
      "Epoch 54/80\n",
      "16/16 [==============================] - 0s 6ms/step - loss: 0.1066 - val_loss: 0.1151\n",
      "Epoch 55/80\n",
      "16/16 [==============================] - 0s 5ms/step - loss: 0.1054 - val_loss: 0.1184\n",
      "Epoch 56/80\n",
      "16/16 [==============================] - 0s 6ms/step - loss: 0.1079 - val_loss: 0.1154\n",
      "Epoch 57/80\n",
      "16/16 [==============================] - 0s 5ms/step - loss: 0.1055 - val_loss: 0.1159\n",
      "Epoch 58/80\n",
      "16/16 [==============================] - 0s 5ms/step - loss: 0.1055 - val_loss: 0.1161\n",
      "Epoch 59/80\n",
      "16/16 [==============================] - 0s 6ms/step - loss: 0.1081 - val_loss: 0.1154\n",
      "Epoch 60/80\n",
      "16/16 [==============================] - 0s 5ms/step - loss: 0.1083 - val_loss: 0.1176\n",
      "Epoch 61/80\n",
      "16/16 [==============================] - 0s 6ms/step - loss: 0.1063 - val_loss: 0.1151\n",
      "Epoch 62/80\n",
      "16/16 [==============================] - 0s 6ms/step - loss: 0.1066 - val_loss: 0.1163\n",
      "Epoch 63/80\n",
      "16/16 [==============================] - 0s 5ms/step - loss: 0.1043 - val_loss: 0.1154\n",
      "Epoch 64/80\n",
      "16/16 [==============================] - 0s 5ms/step - loss: 0.1032 - val_loss: 0.1159\n",
      "Epoch 65/80\n",
      "16/16 [==============================] - 0s 6ms/step - loss: 0.1024 - val_loss: 0.1158\n",
      "Epoch 66/80\n",
      "16/16 [==============================] - 0s 6ms/step - loss: 0.1053 - val_loss: 0.1210\n",
      "Epoch 67/80\n",
      "16/16 [==============================] - 0s 6ms/step - loss: 0.1091 - val_loss: 0.1160\n",
      "Epoch 68/80\n",
      "16/16 [==============================] - 0s 5ms/step - loss: 0.1018 - val_loss: 0.1167\n",
      "Epoch 69/80\n",
      "16/16 [==============================] - 0s 6ms/step - loss: 0.1031 - val_loss: 0.1159\n",
      "Epoch 70/80\n",
      "16/16 [==============================] - 0s 5ms/step - loss: 0.1039 - val_loss: 0.1160\n",
      "Epoch 71/80\n",
      "16/16 [==============================] - 0s 5ms/step - loss: 0.1038 - val_loss: 0.1168\n",
      "Epoch 72/80\n",
      "16/16 [==============================] - 0s 5ms/step - loss: 0.1041 - val_loss: 0.1163\n",
      "Epoch 73/80\n",
      "16/16 [==============================] - 0s 5ms/step - loss: 0.1011 - val_loss: 0.1177\n",
      "Epoch 74/80\n",
      "16/16 [==============================] - 0s 5ms/step - loss: 0.1010 - val_loss: 0.1195\n",
      "Epoch 75/80\n",
      "16/16 [==============================] - 0s 5ms/step - loss: 0.1024 - val_loss: 0.1169\n",
      "Epoch 76/80\n",
      "16/16 [==============================] - 0s 5ms/step - loss: 0.1005 - val_loss: 0.1209\n",
      "Epoch 77/80\n",
      "16/16 [==============================] - 0s 5ms/step - loss: 0.1019 - val_loss: 0.1179\n",
      "Epoch 78/80\n",
      "16/16 [==============================] - 0s 5ms/step - loss: 0.1010 - val_loss: 0.1191\n",
      "Epoch 79/80\n",
      "16/16 [==============================] - 0s 6ms/step - loss: 0.1006 - val_loss: 0.1184\n",
      "Epoch 80/80\n",
      "16/16 [==============================] - 0s 5ms/step - loss: 0.0988 - val_loss: 0.1192\n"
     ]
    }
   ],
   "source": [
    "import tensorflow as tf \n",
    "i = Input(shape=(X[0].shape))\n",
    "x = SimpleRNN(20 , activation='relu')(i)\n",
    "x = Dense(1)(x)\n",
    "\n",
    "model = Model(i,x)\n",
    "\n",
    "model.compile(optimizer = tf.keras.optimizers.Adam(lr=0.001) , loss = 'mse' )\n",
    "\n",
    "r = model.fit(X[:N//2] , Y[: N//2] , epochs = 80 , validation_data = (X[N//2:] , Y[N//2 :]) )"
   ]
  },
  {
   "cell_type": "code",
   "execution_count": 106,
   "metadata": {},
   "outputs": [
    {
     "data": {
      "text/plain": [
       "[<matplotlib.lines.Line2D at 0x196ee990ac8>]"
      ]
     },
     "execution_count": 106,
     "metadata": {},
     "output_type": "execute_result"
    },
    {
     "data": {
      "image/png": "[encoded data removed]",
      "text/plain": [
       "<Figure size 432x288 with 1 Axes>"
      ]
     },
     "metadata": {
      "needs_background": "light"
     },
     "output_type": "display_data"
    }
   ],
   "source": [
    "plt.plot(r.history['loss'] , color = 'green')\n",
    "plt.plot(r.history['val_loss'] , color = 'red')"
   ]
  },
  {
   "cell_type": "code",
   "execution_count": 107,
   "metadata": {},
   "outputs": [
    {
     "data": {
      "text/plain": [
       "0.40773007"
      ]
     },
     "execution_count": 107,
     "metadata": {},
     "output_type": "execute_result"
    }
   ],
   "source": [
    "model.predict(X[N//2].reshape(-1,T,1))[0,0]"
   ]
  },
  {
   "cell_type": "code",
   "execution_count": 108,
   "metadata": {},
   "outputs": [],
   "source": [
    "pred_vals = []\n",
    "target_vals = Y[N//2:]\n",
    "\n",
    "x_last = X[N//2]\n",
    "\n",
    "while len(pred_vals) < len(target_vals):\n",
    "    p = model.predict(x_last.reshape(-1,T,1))[0,0]\n",
    "    pred_vals.append(p)\n",
    "    x_last = np.roll(x_last , -1)\n",
    "    x_last[-1] = p"
   ]
  },
  {
   "cell_type": "code",
   "execution_count": 109,
   "metadata": {},
   "outputs": [
    {
     "data": {
      "text/plain": [
       "[<matplotlib.lines.Line2D at 0x196f0327470>]"
      ]
     },
     "execution_count": 109,
     "metadata": {},
     "output_type": "execute_result"
    },
    {
     "data": {
      "image/png": "[encoded data removed]",
      "text/plain": [
       "<Figure size 432x288 with 1 Axes>"
      ]
     },
     "metadata": {
      "needs_background": "light"
     },
     "output_type": "display_data"
    }
   ],
   "source": [
    "plt.plot(pred_vals , color = 'red')\n",
    "plt.plot(target_vals , color = 'green')"
   ]
  },
  {
   "cell_type": "markdown",
   "metadata": {},
   "source": [
    "## result\n",
    "Not the best model, but something to begin with"
   ]
  },
  {
   "cell_type": "code",
   "execution_count": null,
   "metadata": {},
   "outputs": [],
   "source": []
  }
 ],
 "metadata": {
  "kernelspec": {
   "display_name": "Python 3",
   "language": "python",
   "name": "python3"
  },
  "language_info": {
   "codemirror_mode": {
    "name": "ipython",
    "version": 3
   },
   "file_extension": ".py",
   "mimetype": "text/x-python",
   "name": "python",
   "nbconvert_exporter": "python",
   "pygments_lexer": "ipython3",
   "version": "3.6.10"
  }
 },
 "nbformat": 4,
 "nbformat_minor": 4
}
