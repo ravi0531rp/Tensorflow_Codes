{
 "cells": [
  {
   "cell_type": "code",
   "execution_count": 1,
   "metadata": {},
   "outputs": [],
   "source": [
    "import numpy as np\n",
    "import pandas as pd\n",
    "import matplotlib.pyplot as plt"
   ]
  },
  {
   "cell_type": "code",
   "execution_count": 2,
   "metadata": {},
   "outputs": [],
   "source": [
    "from tensorflow.keras.models import Model\n",
    "from tensorflow.keras.layers import Input, LSTM, Dense, GRU, SimpleRNN, GlobalMaxPool1D\n",
    "from tensorflow.keras.optimizers import Adam,SGD\n",
    "from sklearn.preprocessing import StandardScaler"
   ]
  },
  {
   "cell_type": "code",
   "execution_count": 3,
   "metadata": {},
   "outputs": [],
   "source": [
    "df = pd.read_csv('https://raw.githubusercontent.com/lazyprogrammer/machine_learning_examples/master/tf2.0/sbux.csv')"
   ]
  },
  {
   "cell_type": "code",
   "execution_count": 4,
   "metadata": {},
   "outputs": [
    {
     "data": {
      "text/html": [
       "<div>\n",
       "<style scoped>\n",
       "    .dataframe tbody tr th:only-of-type {\n",
       "        vertical-align: middle;\n",
       "    }\n",
       "\n",
       "    .dataframe tbody tr th {\n",
       "        vertical-align: top;\n",
       "    }\n",
       "\n",
       "    .dataframe thead th {\n",
       "        text-align: right;\n",
       "    }\n",
       "</style>\n",
       "<table border=\"1\" class=\"dataframe\">\n",
       "  <thead>\n",
       "    <tr style=\"text-align: right;\">\n",
       "      <th></th>\n",
       "      <th>date</th>\n",
       "      <th>open</th>\n",
       "      <th>high</th>\n",
       "      <th>low</th>\n",
       "      <th>close</th>\n",
       "      <th>volume</th>\n",
       "      <th>Name</th>\n",
       "    </tr>\n",
       "  </thead>\n",
       "  <tbody>\n",
       "    <tr>\n",
       "      <th>0</th>\n",
       "      <td>2013-02-08</td>\n",
       "      <td>27.920</td>\n",
       "      <td>28.325</td>\n",
       "      <td>27.920</td>\n",
       "      <td>28.185</td>\n",
       "      <td>7146296</td>\n",
       "      <td>SBUX</td>\n",
       "    </tr>\n",
       "    <tr>\n",
       "      <th>1</th>\n",
       "      <td>2013-02-11</td>\n",
       "      <td>28.260</td>\n",
       "      <td>28.260</td>\n",
       "      <td>27.930</td>\n",
       "      <td>28.070</td>\n",
       "      <td>5457354</td>\n",
       "      <td>SBUX</td>\n",
       "    </tr>\n",
       "    <tr>\n",
       "      <th>2</th>\n",
       "      <td>2013-02-12</td>\n",
       "      <td>28.000</td>\n",
       "      <td>28.275</td>\n",
       "      <td>27.975</td>\n",
       "      <td>28.130</td>\n",
       "      <td>8665592</td>\n",
       "      <td>SBUX</td>\n",
       "    </tr>\n",
       "    <tr>\n",
       "      <th>3</th>\n",
       "      <td>2013-02-13</td>\n",
       "      <td>28.230</td>\n",
       "      <td>28.230</td>\n",
       "      <td>27.750</td>\n",
       "      <td>27.915</td>\n",
       "      <td>7022056</td>\n",
       "      <td>SBUX</td>\n",
       "    </tr>\n",
       "    <tr>\n",
       "      <th>4</th>\n",
       "      <td>2013-02-14</td>\n",
       "      <td>27.765</td>\n",
       "      <td>27.905</td>\n",
       "      <td>27.675</td>\n",
       "      <td>27.775</td>\n",
       "      <td>8899188</td>\n",
       "      <td>SBUX</td>\n",
       "    </tr>\n",
       "  </tbody>\n",
       "</table>\n",
       "</div>"
      ],
      "text/plain": [
       "         date    open    high     low   close   volume  Name\n",
       "0  2013-02-08  27.920  28.325  27.920  28.185  7146296  SBUX\n",
       "1  2013-02-11  28.260  28.260  27.930  28.070  5457354  SBUX\n",
       "2  2013-02-12  28.000  28.275  27.975  28.130  8665592  SBUX\n",
       "3  2013-02-13  28.230  28.230  27.750  27.915  7022056  SBUX\n",
       "4  2013-02-14  27.765  27.905  27.675  27.775  8899188  SBUX"
      ]
     },
     "execution_count": 4,
     "metadata": {},
     "output_type": "execute_result"
    }
   ],
   "source": [
    "df.head()"
   ]
  },
  {
   "cell_type": "code",
   "execution_count": 5,
   "metadata": {},
   "outputs": [
    {
     "data": {
      "text/html": [
       "<div>\n",
       "<style scoped>\n",
       "    .dataframe tbody tr th:only-of-type {\n",
       "        vertical-align: middle;\n",
       "    }\n",
       "\n",
       "    .dataframe tbody tr th {\n",
       "        vertical-align: top;\n",
       "    }\n",
       "\n",
       "    .dataframe thead th {\n",
       "        text-align: right;\n",
       "    }\n",
       "</style>\n",
       "<table border=\"1\" class=\"dataframe\">\n",
       "  <thead>\n",
       "    <tr style=\"text-align: right;\">\n",
       "      <th></th>\n",
       "      <th>date</th>\n",
       "      <th>open</th>\n",
       "      <th>high</th>\n",
       "      <th>low</th>\n",
       "      <th>close</th>\n",
       "      <th>volume</th>\n",
       "      <th>Name</th>\n",
       "    </tr>\n",
       "  </thead>\n",
       "  <tbody>\n",
       "    <tr>\n",
       "      <th>1254</th>\n",
       "      <td>2018-02-01</td>\n",
       "      <td>56.280</td>\n",
       "      <td>56.42</td>\n",
       "      <td>55.89</td>\n",
       "      <td>56.00</td>\n",
       "      <td>14690146</td>\n",
       "      <td>SBUX</td>\n",
       "    </tr>\n",
       "    <tr>\n",
       "      <th>1255</th>\n",
       "      <td>2018-02-02</td>\n",
       "      <td>55.900</td>\n",
       "      <td>56.32</td>\n",
       "      <td>55.70</td>\n",
       "      <td>55.77</td>\n",
       "      <td>15358909</td>\n",
       "      <td>SBUX</td>\n",
       "    </tr>\n",
       "    <tr>\n",
       "      <th>1256</th>\n",
       "      <td>2018-02-05</td>\n",
       "      <td>55.530</td>\n",
       "      <td>56.26</td>\n",
       "      <td>54.57</td>\n",
       "      <td>54.69</td>\n",
       "      <td>16059955</td>\n",
       "      <td>SBUX</td>\n",
       "    </tr>\n",
       "    <tr>\n",
       "      <th>1257</th>\n",
       "      <td>2018-02-06</td>\n",
       "      <td>53.685</td>\n",
       "      <td>56.06</td>\n",
       "      <td>53.56</td>\n",
       "      <td>55.61</td>\n",
       "      <td>17415065</td>\n",
       "      <td>SBUX</td>\n",
       "    </tr>\n",
       "    <tr>\n",
       "      <th>1258</th>\n",
       "      <td>2018-02-07</td>\n",
       "      <td>55.080</td>\n",
       "      <td>55.43</td>\n",
       "      <td>54.44</td>\n",
       "      <td>54.46</td>\n",
       "      <td>13927022</td>\n",
       "      <td>SBUX</td>\n",
       "    </tr>\n",
       "  </tbody>\n",
       "</table>\n",
       "</div>"
      ],
      "text/plain": [
       "            date    open   high    low  close    volume  Name\n",
       "1254  2018-02-01  56.280  56.42  55.89  56.00  14690146  SBUX\n",
       "1255  2018-02-02  55.900  56.32  55.70  55.77  15358909  SBUX\n",
       "1256  2018-02-05  55.530  56.26  54.57  54.69  16059955  SBUX\n",
       "1257  2018-02-06  53.685  56.06  53.56  55.61  17415065  SBUX\n",
       "1258  2018-02-07  55.080  55.43  54.44  54.46  13927022  SBUX"
      ]
     },
     "execution_count": 5,
     "metadata": {},
     "output_type": "execute_result"
    }
   ],
   "source": [
    "df.tail()"
   ]
  },
  {
   "cell_type": "markdown",
   "metadata": {},
   "source": [
    "# Trying the Wrong approach : Using only 1 value(closing price) & doing 1 step prediction to fool ourselves"
   ]
  },
  {
   "cell_type": "code",
   "execution_count": 6,
   "metadata": {},
   "outputs": [],
   "source": [
    "series = df['close'].values"
   ]
  },
  {
   "cell_type": "code",
   "execution_count": 7,
   "metadata": {},
   "outputs": [
    {
     "data": {
      "text/plain": [
       "(1259,)"
      ]
     },
     "execution_count": 7,
     "metadata": {},
     "output_type": "execute_result"
    }
   ],
   "source": [
    "series.shape"
   ]
  },
  {
   "cell_type": "code",
   "execution_count": 8,
   "metadata": {},
   "outputs": [],
   "source": [
    "series = series.reshape(-1,1)"
   ]
  },
  {
   "cell_type": "code",
   "execution_count": 9,
   "metadata": {},
   "outputs": [
    {
     "data": {
      "text/plain": [
       "(1259, 1)"
      ]
     },
     "execution_count": 9,
     "metadata": {},
     "output_type": "execute_result"
    }
   ],
   "source": [
    "series.shape"
   ]
  },
  {
   "cell_type": "code",
   "execution_count": 10,
   "metadata": {},
   "outputs": [],
   "source": [
    "scaler = StandardScaler()\n",
    "scaler.fit(series[:len(series)//2])\n",
    "series = scaler.fit_transform(series)"
   ]
  },
  {
   "cell_type": "code",
   "execution_count": 11,
   "metadata": {},
   "outputs": [],
   "source": [
    "T = 10\n",
    "D = 1\n",
    "X = []\n",
    "Y = []\n",
    "\n",
    "for i in range(len(series) - T):\n",
    "    x = series[i:i+T]\n",
    "    X.append(x)\n",
    "    \n",
    "    y = series[i+T]\n",
    "    Y.append(y)\n",
    "    "
   ]
  },
  {
   "cell_type": "code",
   "execution_count": 12,
   "metadata": {},
   "outputs": [
    {
     "data": {
      "text/plain": [
       "1249"
      ]
     },
     "execution_count": 12,
     "metadata": {},
     "output_type": "execute_result"
    }
   ],
   "source": [
    "N = len(X)\n",
    "N"
   ]
  },
  {
   "cell_type": "code",
   "execution_count": 13,
   "metadata": {},
   "outputs": [],
   "source": [
    "X = np.array(X).reshape(-1,T,D)\n",
    "Y = np.array(Y)"
   ]
  },
  {
   "cell_type": "code",
   "execution_count": 14,
   "metadata": {},
   "outputs": [
    {
     "name": "stdout",
     "output_type": "stream",
     "text": [
      "Epoch 1/80\n",
      "20/20 [==============================] - 1s 32ms/step - loss: 0.1422 - val_loss: 0.0248\n",
      "Epoch 2/80\n",
      "20/20 [==============================] - 0s 6ms/step - loss: 0.0074 - val_loss: 0.0265\n",
      "Epoch 3/80\n",
      "20/20 [==============================] - 0s 6ms/step - loss: 0.0044 - val_loss: 0.0202\n",
      "Epoch 4/80\n",
      "20/20 [==============================] - 0s 6ms/step - loss: 0.0035 - val_loss: 0.0201\n",
      "Epoch 5/80\n",
      "20/20 [==============================] - 0s 6ms/step - loss: 0.0033 - val_loss: 0.0169\n",
      "Epoch 6/80\n",
      "20/20 [==============================] - 0s 6ms/step - loss: 0.0027 - val_loss: 0.0186\n",
      "Epoch 7/80\n",
      "20/20 [==============================] - 0s 6ms/step - loss: 0.0026 - val_loss: 0.0160\n",
      "Epoch 8/80\n",
      "20/20 [==============================] - 0s 6ms/step - loss: 0.0027 - val_loss: 0.0139\n",
      "Epoch 9/80\n",
      "20/20 [==============================] - 0s 6ms/step - loss: 0.0029 - val_loss: 0.0156\n",
      "Epoch 10/80\n",
      "20/20 [==============================] - 0s 6ms/step - loss: 0.0024 - val_loss: 0.0170\n",
      "Epoch 11/80\n",
      "20/20 [==============================] - 0s 6ms/step - loss: 0.0032 - val_loss: 0.0133\n",
      "Epoch 12/80\n",
      "20/20 [==============================] - 0s 6ms/step - loss: 0.0030 - val_loss: 0.0122\n",
      "Epoch 13/80\n",
      "20/20 [==============================] - 0s 6ms/step - loss: 0.0027 - val_loss: 0.0161\n",
      "Epoch 14/80\n",
      "20/20 [==============================] - 0s 6ms/step - loss: 0.0024 - val_loss: 0.0113\n",
      "Epoch 15/80\n",
      "20/20 [==============================] - 0s 6ms/step - loss: 0.0025 - val_loss: 0.0122\n",
      "Epoch 16/80\n",
      "20/20 [==============================] - 0s 6ms/step - loss: 0.0026 - val_loss: 0.0127\n",
      "Epoch 17/80\n",
      "20/20 [==============================] - 0s 6ms/step - loss: 0.0035 - val_loss: 0.0132\n",
      "Epoch 18/80\n",
      "20/20 [==============================] - 0s 6ms/step - loss: 0.0026 - val_loss: 0.0202\n",
      "Epoch 19/80\n",
      "20/20 [==============================] - 0s 6ms/step - loss: 0.0022 - val_loss: 0.0146\n",
      "Epoch 20/80\n",
      "20/20 [==============================] - 0s 6ms/step - loss: 0.0023 - val_loss: 0.0177\n",
      "Epoch 21/80\n",
      "20/20 [==============================] - 0s 6ms/step - loss: 0.0023 - val_loss: 0.0220\n",
      "Epoch 22/80\n",
      "20/20 [==============================] - 0s 6ms/step - loss: 0.0024 - val_loss: 0.0225\n",
      "Epoch 23/80\n",
      "20/20 [==============================] - 0s 6ms/step - loss: 0.0024 - val_loss: 0.0169\n",
      "Epoch 24/80\n",
      "20/20 [==============================] - 0s 6ms/step - loss: 0.0026 - val_loss: 0.0259\n",
      "Epoch 25/80\n",
      "20/20 [==============================] - 0s 7ms/step - loss: 0.0034 - val_loss: 0.0220\n",
      "Epoch 26/80\n",
      "20/20 [==============================] - 0s 6ms/step - loss: 0.0026 - val_loss: 0.0323\n",
      "Epoch 27/80\n",
      "20/20 [==============================] - 0s 6ms/step - loss: 0.0023 - val_loss: 0.0281\n",
      "Epoch 28/80\n",
      "20/20 [==============================] - 0s 6ms/step - loss: 0.0024 - val_loss: 0.0290\n",
      "Epoch 29/80\n",
      "20/20 [==============================] - 0s 6ms/step - loss: 0.0023 - val_loss: 0.0217\n",
      "Epoch 30/80\n",
      "20/20 [==============================] - 0s 6ms/step - loss: 0.0037 - val_loss: 0.0224\n",
      "Epoch 31/80\n",
      "20/20 [==============================] - 0s 6ms/step - loss: 0.0029 - val_loss: 0.0289\n",
      "Epoch 32/80\n",
      "20/20 [==============================] - 0s 6ms/step - loss: 0.0024 - val_loss: 0.0409\n",
      "Epoch 33/80\n",
      "20/20 [==============================] - 0s 6ms/step - loss: 0.0031 - val_loss: 0.0354\n",
      "Epoch 34/80\n",
      "20/20 [==============================] - 0s 6ms/step - loss: 0.0030 - val_loss: 0.0403\n",
      "Epoch 35/80\n",
      "20/20 [==============================] - 0s 6ms/step - loss: 0.0026 - val_loss: 0.0259\n",
      "Epoch 36/80\n",
      "20/20 [==============================] - 0s 6ms/step - loss: 0.0024 - val_loss: 0.0254\n",
      "Epoch 37/80\n",
      "20/20 [==============================] - 0s 6ms/step - loss: 0.0032 - val_loss: 0.0290\n",
      "Epoch 38/80\n",
      "20/20 [==============================] - 0s 6ms/step - loss: 0.0023 - val_loss: 0.0250\n",
      "Epoch 39/80\n",
      "20/20 [==============================] - 0s 6ms/step - loss: 0.0023 - val_loss: 0.0428\n",
      "Epoch 40/80\n",
      "20/20 [==============================] - 0s 6ms/step - loss: 0.0030 - val_loss: 0.0316\n",
      "Epoch 41/80\n",
      "20/20 [==============================] - 0s 5ms/step - loss: 0.0024 - val_loss: 0.0261\n",
      "Epoch 42/80\n",
      "20/20 [==============================] - 0s 6ms/step - loss: 0.0025 - val_loss: 0.0330\n",
      "Epoch 43/80\n",
      "20/20 [==============================] - 0s 6ms/step - loss: 0.0030 - val_loss: 0.0255\n",
      "Epoch 44/80\n",
      "20/20 [==============================] - 0s 6ms/step - loss: 0.0029 - val_loss: 0.0140\n",
      "Epoch 45/80\n",
      "20/20 [==============================] - 0s 6ms/step - loss: 0.0027 - val_loss: 0.0198\n",
      "Epoch 46/80\n",
      "20/20 [==============================] - 0s 5ms/step - loss: 0.0030 - val_loss: 0.0313\n",
      "Epoch 47/80\n",
      "20/20 [==============================] - 0s 6ms/step - loss: 0.0024 - val_loss: 0.0352\n",
      "Epoch 48/80\n",
      "20/20 [==============================] - 0s 6ms/step - loss: 0.0030 - val_loss: 0.0340\n",
      "Epoch 49/80\n",
      "20/20 [==============================] - 0s 6ms/step - loss: 0.0026 - val_loss: 0.0266\n",
      "Epoch 50/80\n",
      "20/20 [==============================] - 0s 6ms/step - loss: 0.0026 - val_loss: 0.0316\n",
      "Epoch 51/80\n",
      "20/20 [==============================] - 0s 6ms/step - loss: 0.0023 - val_loss: 0.0226\n",
      "Epoch 52/80\n",
      "20/20 [==============================] - 0s 6ms/step - loss: 0.0024 - val_loss: 0.0334\n",
      "Epoch 53/80\n",
      "20/20 [==============================] - 0s 6ms/step - loss: 0.0026 - val_loss: 0.0165\n",
      "Epoch 54/80\n",
      "20/20 [==============================] - 0s 6ms/step - loss: 0.0026 - val_loss: 0.0087\n",
      "Epoch 55/80\n",
      "20/20 [==============================] - 0s 6ms/step - loss: 0.0024 - val_loss: 0.0065\n",
      "Epoch 56/80\n",
      "20/20 [==============================] - ETA: 0s - loss: 0.002 - 0s 6ms/step - loss: 0.0027 - val_loss: 0.0086\n",
      "Epoch 57/80\n",
      "20/20 [==============================] - 0s 6ms/step - loss: 0.0025 - val_loss: 0.0103\n",
      "Epoch 58/80\n",
      "20/20 [==============================] - 0s 6ms/step - loss: 0.0027 - val_loss: 0.0063\n",
      "Epoch 59/80\n",
      "20/20 [==============================] - 0s 6ms/step - loss: 0.0023 - val_loss: 0.0128\n",
      "Epoch 60/80\n",
      "20/20 [==============================] - 0s 6ms/step - loss: 0.0023 - val_loss: 0.0071\n",
      "Epoch 61/80\n",
      "20/20 [==============================] - 0s 6ms/step - loss: 0.0023 - val_loss: 0.0074\n",
      "Epoch 62/80\n",
      "20/20 [==============================] - 0s 6ms/step - loss: 0.0023 - val_loss: 0.0083\n",
      "Epoch 63/80\n",
      "20/20 [==============================] - 0s 6ms/step - loss: 0.0026 - val_loss: 0.0061\n",
      "Epoch 64/80\n",
      "20/20 [==============================] - 0s 6ms/step - loss: 0.0027 - val_loss: 0.0088\n",
      "Epoch 65/80\n",
      "20/20 [==============================] - 0s 12ms/step - loss: 0.0022 - val_loss: 0.0073\n",
      "Epoch 66/80\n",
      "20/20 [==============================] - 0s 6ms/step - loss: 0.0023 - val_loss: 0.0110\n",
      "Epoch 67/80\n",
      "20/20 [==============================] - 0s 6ms/step - loss: 0.0025 - val_loss: 0.0071\n",
      "Epoch 68/80\n",
      "20/20 [==============================] - 0s 6ms/step - loss: 0.0027 - val_loss: 0.0066\n",
      "Epoch 69/80\n",
      "20/20 [==============================] - 0s 6ms/step - loss: 0.0027 - val_loss: 0.0063\n",
      "Epoch 70/80\n",
      "20/20 [==============================] - 0s 6ms/step - loss: 0.0024 - val_loss: 0.0079\n",
      "Epoch 71/80\n",
      "20/20 [==============================] - 0s 6ms/step - loss: 0.0023 - val_loss: 0.0067\n",
      "Epoch 72/80\n",
      "20/20 [==============================] - 0s 6ms/step - loss: 0.0032 - val_loss: 0.0068\n",
      "Epoch 73/80\n",
      "20/20 [==============================] - 0s 6ms/step - loss: 0.0026 - val_loss: 0.0118\n",
      "Epoch 74/80\n",
      "20/20 [==============================] - 0s 6ms/step - loss: 0.0040 - val_loss: 0.0067\n",
      "Epoch 75/80\n",
      "20/20 [==============================] - 0s 6ms/step - loss: 0.0029 - val_loss: 0.0187\n",
      "Epoch 76/80\n",
      "20/20 [==============================] - 0s 6ms/step - loss: 0.0032 - val_loss: 0.0067\n",
      "Epoch 77/80\n",
      "20/20 [==============================] - 0s 6ms/step - loss: 0.0023 - val_loss: 0.0060\n",
      "Epoch 78/80\n",
      "20/20 [==============================] - 0s 6ms/step - loss: 0.0031 - val_loss: 0.0061\n",
      "Epoch 79/80\n",
      "20/20 [==============================] - 0s 6ms/step - loss: 0.0031 - val_loss: 0.0064\n",
      "Epoch 80/80\n",
      "20/20 [==============================] - 0s 6ms/step - loss: 0.0028 - val_loss: 0.0115\n"
     ]
    }
   ],
   "source": [
    "i = Input(shape=(X[0].shape))\n",
    "x = LSTM(10)(i)\n",
    "x = Dense(1)(x)\n",
    "\n",
    "model = Model(i,x)\n",
    "\n",
    "model.compile(loss = 'mse' , optimizer = Adam(lr=0.1))\n",
    "\n",
    "r = model.fit(X[:N//2] , Y[:N//2] , epochs = 80 , validation_data=(X[N//2:],Y[N//2:]))"
   ]
  },
  {
   "cell_type": "code",
   "execution_count": 15,
   "metadata": {},
   "outputs": [
    {
     "data": {
      "text/plain": [
       "[<matplotlib.lines.Line2D at 0x1ed9bbbf320>]"
      ]
     },
     "execution_count": 15,
     "metadata": {},
     "output_type": "execute_result"
    },
    {
     "data": {
      "image/png": "[encoded data removed]",
      "text/plain": [
       "<Figure size 432x288 with 1 Axes>"
      ]
     },
     "metadata": {
      "needs_background": "light"
     },
     "output_type": "display_data"
    }
   ],
   "source": [
    "plt.plot(r.history['loss'] , label = 'loss' , color = 'red')\n",
    "plt.plot(r.history['val_loss'] , label = 'Val loss' , color = 'blue')"
   ]
  },
  {
   "cell_type": "code",
   "execution_count": 16,
   "metadata": {},
   "outputs": [
    {
     "data": {
      "text/plain": [
       "-2.0257776"
      ]
     },
     "execution_count": 16,
     "metadata": {},
     "output_type": "execute_result"
    }
   ],
   "source": [
    "model.predict(X[0].reshape(-1,T,D))[0,0]"
   ]
  },
  {
   "cell_type": "code",
   "execution_count": 17,
   "metadata": {},
   "outputs": [],
   "source": [
    "# Single step prediction on test data\n",
    "\n",
    "i = N//2\n",
    "\n",
    "pred_vals = []\n",
    "\n",
    "while len(pred_vals) < len(Y[N//2:]):\n",
    "    v = model.predict(X[i].reshape(-1,T,D))[0,0]\n",
    "    pred_vals.append(v)\n",
    "    i+=1\n"
   ]
  },
  {
   "cell_type": "code",
   "execution_count": 18,
   "metadata": {},
   "outputs": [
    {
     "data": {
      "text/plain": [
       "[<matplotlib.lines.Line2D at 0x1eda7b5dc88>]"
      ]
     },
     "execution_count": 18,
     "metadata": {},
     "output_type": "execute_result"
    },
    {
     "data": {
      "image/png": "[encoded data removed]",
      "text/plain": [
       "<Figure size 432x288 with 1 Axes>"
      ]
     },
     "metadata": {
      "needs_background": "light"
     },
     "output_type": "display_data"
    }
   ],
   "source": [
    "plt.plot(pred_vals, label = 'pred' , color = 'red')\n",
    "plt.plot(Y[N//2:], label = 'orig' , color = 'blue')"
   ]
  },
  {
   "cell_type": "code",
   "execution_count": 19,
   "metadata": {},
   "outputs": [],
   "source": [
    "# Multi step forecast\n",
    "\n",
    "i = X[N//2]\n",
    "\n",
    "pred_vals = []\n",
    "\n",
    "while len(pred_vals) < len(Y[N//2:]):\n",
    "    v = model.predict(i.reshape(-1,T,D))[0,0]\n",
    "    pred_vals.append(v)\n",
    "    \n",
    "    i = np.roll(i,-1)\n",
    "    i[-1] = v\n",
    "    \n"
   ]
  },
  {
   "cell_type": "code",
   "execution_count": 20,
   "metadata": {},
   "outputs": [
    {
     "data": {
      "text/plain": [
       "[<matplotlib.lines.Line2D at 0x1eda7f78d30>]"
      ]
     },
     "execution_count": 20,
     "metadata": {},
     "output_type": "execute_result"
    },
    {
     "data": {
      "image/png": "[encoded data removed]",
      "text/plain": [
       "<Figure size 432x288 with 1 Axes>"
      ]
     },
     "metadata": {
      "needs_background": "light"
     },
     "output_type": "display_data"
    }
   ],
   "source": [
    "plt.plot(pred_vals , label = 'preds' , color = 'red')\n",
    "plt.plot(Y[N//2:] , label = 'orig' , color = 'blue')"
   ]
  },
  {
   "cell_type": "markdown",
   "metadata": {},
   "source": [
    "### This messed up, right?"
   ]
  },
  {
   "cell_type": "markdown",
   "metadata": {},
   "source": [
    "### What we really want to predict is the return , i.e. ,  (V_final - V_initial)/V_initial"
   ]
  },
  {
   "cell_type": "code",
   "execution_count": 21,
   "metadata": {},
   "outputs": [],
   "source": [
    "df['PrevClose'] = df['close'].shift(1) # move everything up 1 as we need data from consec rows inthe same column to subtract"
   ]
  },
  {
   "cell_type": "code",
   "execution_count": 22,
   "metadata": {},
   "outputs": [],
   "source": [
    "# then the return is\n",
    "# (x[t] - x[t-1]) / x[t-1]\n",
    "df['Return'] = (df['close'] - df['PrevClose']) / df['PrevClose']"
   ]
  },
  {
   "cell_type": "code",
   "execution_count": 23,
   "metadata": {},
   "outputs": [
    {
     "data": {
      "text/plain": [
       "<matplotlib.axes._subplots.AxesSubplot at 0x1eda9cf2668>"
      ]
     },
     "execution_count": 23,
     "metadata": {},
     "output_type": "execute_result"
    },
    {
     "data": {
      "image/png": "[encoded data removed]",
      "text/plain": [
       "<Figure size 432x288 with 1 Axes>"
      ]
     },
     "metadata": {
      "needs_background": "light"
     },
     "output_type": "display_data"
    }
   ],
   "source": [
    "df['Return'].hist()"
   ]
  },
  {
   "cell_type": "code",
   "execution_count": 24,
   "metadata": {},
   "outputs": [],
   "source": [
    "series = df['Return'].values[1:].reshape(-1, 1)\n",
    "\n",
    "# Normalize the data\n",
    "# Note: I didn't think about where the true boundary is, this is just approx.\n",
    "scaler = StandardScaler()\n",
    "scaler.fit(series[:len(series) // 2])\n",
    "series = scaler.transform(series).flatten()"
   ]
  },
  {
   "cell_type": "code",
   "execution_count": 25,
   "metadata": {},
   "outputs": [
    {
     "name": "stdout",
     "output_type": "stream",
     "text": [
      "X.shape (1248, 10, 1) Y.shape (1248,)\n"
     ]
    }
   ],
   "source": [
    "### build the dataset\n",
    "# let's see if we can use T past values to predict the next value\n",
    "T = 10\n",
    "D = 1\n",
    "X = []\n",
    "Y = []\n",
    "for t in range(len(series) - T):\n",
    "  x = series[t:t+T]\n",
    "  X.append(x)\n",
    "  y = series[t+T]\n",
    "  Y.append(y)\n",
    "\n",
    "X = np.array(X).reshape(-1, T, 1) # Now the data should be N x T x D\n",
    "Y = np.array(Y)\n",
    "N = len(X)\n",
    "print(\"X.shape\", X.shape, \"Y.shape\", Y.shape)"
   ]
  },
  {
   "cell_type": "code",
   "execution_count": 26,
   "metadata": {},
   "outputs": [
    {
     "name": "stdout",
     "output_type": "stream",
     "text": [
      "Epoch 1/80\n",
      "20/20 [==============================] - 1s 25ms/step - loss: 0.9961 - val_loss: 1.1356\n",
      "Epoch 2/80\n",
      "20/20 [==============================] - 0s 6ms/step - loss: 0.9856 - val_loss: 1.1292\n",
      "Epoch 3/80\n",
      "20/20 [==============================] - 0s 6ms/step - loss: 0.9866 - val_loss: 1.1376\n",
      "Epoch 4/80\n",
      "20/20 [==============================] - 0s 6ms/step - loss: 0.9851 - val_loss: 1.1370\n",
      "Epoch 5/80\n",
      "20/20 [==============================] - 0s 5ms/step - loss: 0.9856 - val_loss: 1.1485\n",
      "Epoch 6/80\n",
      "20/20 [==============================] - 0s 6ms/step - loss: 0.9833 - val_loss: 1.1341\n",
      "Epoch 7/80\n",
      "20/20 [==============================] - 0s 5ms/step - loss: 0.9839 - val_loss: 1.1410\n",
      "Epoch 8/80\n",
      "20/20 [==============================] - 0s 6ms/step - loss: 0.9827 - val_loss: 1.1393\n",
      "Epoch 9/80\n",
      "20/20 [==============================] - 0s 6ms/step - loss: 0.9821 - val_loss: 1.1402\n",
      "Epoch 10/80\n",
      "20/20 [==============================] - 0s 5ms/step - loss: 0.9787 - val_loss: 1.1582\n",
      "Epoch 11/80\n",
      "20/20 [==============================] - 0s 6ms/step - loss: 0.9793 - val_loss: 1.1429\n",
      "Epoch 12/80\n",
      "20/20 [==============================] - 0s 6ms/step - loss: 0.9787 - val_loss: 1.1372\n",
      "Epoch 13/80\n",
      "20/20 [==============================] - 0s 6ms/step - loss: 0.9784 - val_loss: 1.1507\n",
      "Epoch 14/80\n",
      "20/20 [==============================] - 0s 5ms/step - loss: 0.9761 - val_loss: 1.1561\n",
      "Epoch 15/80\n",
      "20/20 [==============================] - 0s 6ms/step - loss: 0.9765 - val_loss: 1.1739\n",
      "Epoch 16/80\n",
      "20/20 [==============================] - 0s 6ms/step - loss: 0.9704 - val_loss: 1.1645\n",
      "Epoch 17/80\n",
      "20/20 [==============================] - 0s 6ms/step - loss: 0.9689 - val_loss: 1.1660\n",
      "Epoch 18/80\n",
      "20/20 [==============================] - 0s 5ms/step - loss: 0.9611 - val_loss: 1.1871\n",
      "Epoch 19/80\n",
      "20/20 [==============================] - 0s 6ms/step - loss: 0.9602 - val_loss: 1.1878\n",
      "Epoch 20/80\n",
      "20/20 [==============================] - 0s 6ms/step - loss: 0.9518 - val_loss: 1.2050\n",
      "Epoch 21/80\n",
      "20/20 [==============================] - 0s 6ms/step - loss: 0.9417 - val_loss: 1.2018\n",
      "Epoch 22/80\n",
      "20/20 [==============================] - 0s 6ms/step - loss: 0.9393 - val_loss: 1.1886\n",
      "Epoch 23/80\n",
      "20/20 [==============================] - 0s 6ms/step - loss: 0.9366 - val_loss: 1.1833\n",
      "Epoch 24/80\n",
      "20/20 [==============================] - 0s 6ms/step - loss: 0.9368 - val_loss: 1.2203\n",
      "Epoch 25/80\n",
      "20/20 [==============================] - 0s 5ms/step - loss: 0.9265 - val_loss: 1.2034\n",
      "Epoch 26/80\n",
      "20/20 [==============================] - 0s 6ms/step - loss: 0.9326 - val_loss: 1.2454\n",
      "Epoch 27/80\n",
      "20/20 [==============================] - 0s 6ms/step - loss: 0.9301 - val_loss: 1.2705\n",
      "Epoch 28/80\n",
      "20/20 [==============================] - 0s 5ms/step - loss: 0.9152 - val_loss: 1.2468\n",
      "Epoch 29/80\n",
      "20/20 [==============================] - 0s 6ms/step - loss: 0.9155 - val_loss: 1.2703\n",
      "Epoch 30/80\n",
      "20/20 [==============================] - 0s 6ms/step - loss: 0.9143 - val_loss: 1.2920\n",
      "Epoch 31/80\n",
      "20/20 [==============================] - 0s 6ms/step - loss: 0.9074 - val_loss: 1.2265\n",
      "Epoch 32/80\n",
      "20/20 [==============================] - 0s 6ms/step - loss: 0.9030 - val_loss: 1.2753\n",
      "Epoch 33/80\n",
      "20/20 [==============================] - 0s 6ms/step - loss: 0.8921 - val_loss: 1.2509\n",
      "Epoch 34/80\n",
      "20/20 [==============================] - 0s 6ms/step - loss: 0.9239 - val_loss: 1.3236\n",
      "Epoch 35/80\n",
      "20/20 [==============================] - 0s 6ms/step - loss: 0.8952 - val_loss: 1.2761\n",
      "Epoch 36/80\n",
      "20/20 [==============================] - 0s 6ms/step - loss: 0.9009 - val_loss: 1.3128\n",
      "Epoch 37/80\n",
      "20/20 [==============================] - 0s 6ms/step - loss: 0.8876 - val_loss: 1.3196\n",
      "Epoch 38/80\n",
      "20/20 [==============================] - 0s 6ms/step - loss: 0.8831 - val_loss: 1.3299\n",
      "Epoch 39/80\n",
      "20/20 [==============================] - 0s 6ms/step - loss: 0.8867 - val_loss: 1.2701\n",
      "Epoch 40/80\n",
      "20/20 [==============================] - 0s 7ms/step - loss: 0.9129 - val_loss: 1.3077\n",
      "Epoch 41/80\n",
      "20/20 [==============================] - 0s 6ms/step - loss: 0.8864 - val_loss: 1.3192\n",
      "Epoch 42/80\n",
      "20/20 [==============================] - 0s 5ms/step - loss: 0.8846 - val_loss: 1.3356\n",
      "Epoch 43/80\n",
      "20/20 [==============================] - 0s 6ms/step - loss: 0.8767 - val_loss: 1.3384\n",
      "Epoch 44/80\n",
      "20/20 [==============================] - 0s 6ms/step - loss: 0.8721 - val_loss: 1.3852\n",
      "Epoch 45/80\n",
      "20/20 [==============================] - 0s 6ms/step - loss: 0.8599 - val_loss: 1.3434\n",
      "Epoch 46/80\n",
      "20/20 [==============================] - 0s 6ms/step - loss: 0.8588 - val_loss: 1.3847\n",
      "Epoch 47/80\n",
      "20/20 [==============================] - 0s 6ms/step - loss: 0.8570 - val_loss: 1.3396\n",
      "Epoch 48/80\n",
      "20/20 [==============================] - 0s 6ms/step - loss: 0.8564 - val_loss: 1.3821\n",
      "Epoch 49/80\n",
      "20/20 [==============================] - 0s 6ms/step - loss: 0.8634 - val_loss: 1.3963\n",
      "Epoch 50/80\n",
      "20/20 [==============================] - 0s 6ms/step - loss: 0.8506 - val_loss: 1.3686\n",
      "Epoch 51/80\n",
      "20/20 [==============================] - 0s 6ms/step - loss: 0.8466 - val_loss: 1.4346\n",
      "Epoch 52/80\n",
      "20/20 [==============================] - 0s 6ms/step - loss: 0.8464 - val_loss: 1.4051\n",
      "Epoch 53/80\n",
      "20/20 [==============================] - 0s 6ms/step - loss: 0.8406 - val_loss: 1.4028\n",
      "Epoch 54/80\n",
      "20/20 [==============================] - 0s 6ms/step - loss: 0.8485 - val_loss: 1.3706\n",
      "Epoch 55/80\n",
      "20/20 [==============================] - 0s 6ms/step - loss: 0.8444 - val_loss: 1.4414\n",
      "Epoch 56/80\n",
      "20/20 [==============================] - 0s 6ms/step - loss: 0.8399 - val_loss: 1.3913\n",
      "Epoch 57/80\n",
      "20/20 [==============================] - 0s 6ms/step - loss: 0.8331 - val_loss: 1.4034\n",
      "Epoch 58/80\n",
      "20/20 [==============================] - 0s 6ms/step - loss: 0.8251 - val_loss: 1.4165\n",
      "Epoch 59/80\n",
      "20/20 [==============================] - 0s 6ms/step - loss: 0.8343 - val_loss: 1.3747\n",
      "Epoch 60/80\n",
      "20/20 [==============================] - 0s 6ms/step - loss: 0.8498 - val_loss: 1.4411\n",
      "Epoch 61/80\n",
      "20/20 [==============================] - 0s 6ms/step - loss: 0.8234 - val_loss: 1.4115\n",
      "Epoch 62/80\n",
      "20/20 [==============================] - 0s 6ms/step - loss: 0.8148 - val_loss: 1.4355\n",
      "Epoch 63/80\n",
      "20/20 [==============================] - 0s 6ms/step - loss: 0.8190 - val_loss: 1.4454\n",
      "Epoch 64/80\n",
      "20/20 [==============================] - 0s 5ms/step - loss: 0.8056 - val_loss: 1.4287\n",
      "Epoch 65/80\n",
      "20/20 [==============================] - 0s 6ms/step - loss: 0.8097 - val_loss: 1.4427\n",
      "Epoch 66/80\n",
      "20/20 [==============================] - 0s 6ms/step - loss: 0.8036 - val_loss: 1.4833\n",
      "Epoch 67/80\n",
      "20/20 [==============================] - 0s 6ms/step - loss: 0.7944 - val_loss: 1.4659\n",
      "Epoch 68/80\n",
      "20/20 [==============================] - 0s 6ms/step - loss: 0.7996 - val_loss: 1.5271\n",
      "Epoch 69/80\n",
      "20/20 [==============================] - 0s 6ms/step - loss: 0.7926 - val_loss: 1.4783\n",
      "Epoch 70/80\n",
      "20/20 [==============================] - 0s 5ms/step - loss: 0.7918 - val_loss: 1.4981\n",
      "Epoch 71/80\n",
      "20/20 [==============================] - 0s 6ms/step - loss: 0.7971 - val_loss: 1.4966\n",
      "Epoch 72/80\n",
      "20/20 [==============================] - 0s 6ms/step - loss: 0.8089 - val_loss: 1.4409\n",
      "Epoch 73/80\n",
      "20/20 [==============================] - 0s 6ms/step - loss: 0.8046 - val_loss: 1.5386\n",
      "Epoch 74/80\n",
      "20/20 [==============================] - 0s 6ms/step - loss: 0.7901 - val_loss: 1.5030\n",
      "Epoch 75/80\n",
      "20/20 [==============================] - 0s 6ms/step - loss: 0.7983 - val_loss: 1.5551\n",
      "Epoch 76/80\n",
      "20/20 [==============================] - 0s 6ms/step - loss: 0.7897 - val_loss: 1.4852\n",
      "Epoch 77/80\n",
      "20/20 [==============================] - 0s 6ms/step - loss: 0.7707 - val_loss: 1.5607\n",
      "Epoch 78/80\n",
      "20/20 [==============================] - 0s 6ms/step - loss: 0.7684 - val_loss: 1.5153\n",
      "Epoch 79/80\n",
      "20/20 [==============================] - 0s 6ms/step - loss: 0.7705 - val_loss: 1.5747\n",
      "Epoch 80/80\n",
      "20/20 [==============================] - 0s 5ms/step - loss: 0.7672 - val_loss: 1.5044\n"
     ]
    }
   ],
   "source": [
    "### try autoregressive RNN model\n",
    "i = Input(shape=(T, 1))\n",
    "x = LSTM(5)(i)\n",
    "x = Dense(1)(x)\n",
    "model = Model(i, x)\n",
    "model.compile(\n",
    "  loss='mse',\n",
    "  optimizer=Adam(lr=0.01),\n",
    ")\n",
    "\n",
    "# train the RNN\n",
    "r = model.fit(\n",
    "  X[:-N//2], Y[:-N//2],\n",
    "  epochs=80,\n",
    "  validation_data=(X[-N//2:], Y[-N//2:]),\n",
    ")"
   ]
  },
  {
   "cell_type": "code",
   "execution_count": 27,
   "metadata": {},
   "outputs": [
    {
     "data": {
      "text/plain": [
       "<matplotlib.legend.Legend at 0x1edaf7bd0f0>"
      ]
     },
     "execution_count": 27,
     "metadata": {},
     "output_type": "execute_result"
    },
    {
     "data": {
      "image/png": "[encoded data removed]",
      "text/plain": [
       "<Figure size 432x288 with 1 Axes>"
      ]
     },
     "metadata": {
      "needs_background": "light"
     },
     "output_type": "display_data"
    }
   ],
   "source": [
    "# Plot loss per iteration\n",
    "import matplotlib.pyplot as plt\n",
    "plt.plot(r.history['loss'], label='loss')\n",
    "plt.plot(r.history['val_loss'], label='val_loss')\n",
    "plt.legend()"
   ]
  },
  {
   "cell_type": "code",
   "execution_count": 28,
   "metadata": {},
   "outputs": [
    {
     "name": "stdout",
     "output_type": "stream",
     "text": [
      "(1248, 1)\n"
     ]
    },
    {
     "data": {
      "image/png": "[encoded data removed]",
      "text/plain": [
       "<Figure size 432x288 with 1 Axes>"
      ]
     },
     "metadata": {
      "needs_background": "light"
     },
     "output_type": "display_data"
    }
   ],
   "source": [
    "# One-step forecast using true targets\n",
    "outputs = model.predict(X)\n",
    "print(outputs.shape)\n",
    "predictions = outputs[:,0]\n",
    "\n",
    "plt.plot(Y, label='targets')\n",
    "plt.plot(predictions, label='predictions')\n",
    "plt.legend()\n",
    "plt.show()"
   ]
  },
  {
   "cell_type": "code",
   "execution_count": 29,
   "metadata": {},
   "outputs": [
    {
     "data": {
      "text/plain": [
       "<matplotlib.legend.Legend at 0x1eda514a668>"
      ]
     },
     "execution_count": 29,
     "metadata": {},
     "output_type": "execute_result"
    },
    {
     "data": {
      "image/png": "[encoded data removed]",
      "text/plain": [
       "<Figure size 432x288 with 1 Axes>"
      ]
     },
     "metadata": {
      "needs_background": "light"
     },
     "output_type": "display_data"
    }
   ],
   "source": [
    "# Multi-step forecast\n",
    "validation_target = Y[-N//2:]\n",
    "validation_predictions = []\n",
    "\n",
    "# first validation input\n",
    "last_x = X[-N//2] # 1-D array of length T\n",
    "\n",
    "while len(validation_predictions) < len(validation_target):\n",
    "  p = model.predict(last_x.reshape(1, T, 1))[0,0] # 1x1 array -> scalar\n",
    "  \n",
    "  # update the predictions list\n",
    "  validation_predictions.append(p)\n",
    "  \n",
    "  # make the new input\n",
    "  last_x = np.roll(last_x, -1)\n",
    "  last_x[-1] = p\n",
    "\n",
    "plt.plot(validation_target, label='forecast target')\n",
    "plt.plot(validation_predictions, label='forecast prediction')\n",
    "plt.legend()"
   ]
  },
  {
   "cell_type": "code",
   "execution_count": null,
   "metadata": {},
   "outputs": [],
   "source": [
    "## It still messed up! Though we can improve by adding multiple layers"
   ]
  },
  {
   "cell_type": "markdown",
   "metadata": {},
   "source": [
    "# Method 3\n",
    "## Now we include all the features!\n",
    "\n",
    "Regression is harder than classification! So, instead of predicting value, we can predict if it wll go up or down"
   ]
  },
  {
   "cell_type": "code",
   "execution_count": 32,
   "metadata": {},
   "outputs": [
    {
     "data": {
      "text/plain": [
       "['date',\n",
       " 'open',\n",
       " 'high',\n",
       " 'low',\n",
       " 'close',\n",
       " 'volume',\n",
       " 'Name',\n",
       " 'PrevClose',\n",
       " 'Return']"
      ]
     },
     "execution_count": 32,
     "metadata": {},
     "output_type": "execute_result"
    }
   ],
   "source": [
    "list(df.columns)"
   ]
  },
  {
   "cell_type": "code",
   "execution_count": 33,
   "metadata": {},
   "outputs": [],
   "source": [
    "input_data = df[['open' , 'high' , 'low' , 'close' , 'volume']].values\n"
   ]
  },
  {
   "cell_type": "code",
   "execution_count": 35,
   "metadata": {},
   "outputs": [
    {
     "data": {
      "text/plain": [
       "(1259, 5)"
      ]
     },
     "execution_count": 35,
     "metadata": {},
     "output_type": "execute_result"
    }
   ],
   "source": [
    "input_data.shape"
   ]
  },
  {
   "cell_type": "code",
   "execution_count": 34,
   "metadata": {},
   "outputs": [],
   "source": [
    "targets = df['Return'].values"
   ]
  },
  {
   "cell_type": "code",
   "execution_count": 36,
   "metadata": {},
   "outputs": [],
   "source": [
    "T = 10\n",
    "D = input_data.shape[1]\n",
    "N = len(input_data) - T"
   ]
  },
  {
   "cell_type": "code",
   "execution_count": 37,
   "metadata": {},
   "outputs": [],
   "source": [
    "Ntrain = len(input_data) * 2//3\n",
    "scaler = StandardScaler()\n",
    "scaler.fit(input_data[:Ntrain+T])\n",
    "input_data = scaler.transform(input_data)"
   ]
  },
  {
   "cell_type": "code",
   "execution_count": 38,
   "metadata": {},
   "outputs": [],
   "source": [
    "X_train = np.zeros((Ntrain,T,D))\n",
    "Y_train = np.zeros(Ntrain)"
   ]
  },
  {
   "cell_type": "code",
   "execution_count": 39,
   "metadata": {},
   "outputs": [],
   "source": [
    "for n in range(Ntrain):\n",
    "    X_train[n , : , :] = input_data[n:n+T]\n",
    "    Y_train[n] = (targets[n+T] > 0 )"
   ]
  },
  {
   "cell_type": "code",
   "execution_count": 44,
   "metadata": {},
   "outputs": [],
   "source": [
    "X_test = np.zeros((N - Ntrain,T,D))\n",
    "Y_test = np.zeros(N - Ntrain)"
   ]
  },
  {
   "cell_type": "code",
   "execution_count": 46,
   "metadata": {},
   "outputs": [],
   "source": [
    "for u in range(N-Ntrain):\n",
    "    n= u + Ntrain\n",
    "    X_test[u , : , :] = input_data[n : n+T]\n",
    "    Y_test[u] = (targets[n+T] >0)"
   ]
  },
  {
   "cell_type": "code",
   "execution_count": 58,
   "metadata": {},
   "outputs": [],
   "source": [
    "i = Input(shape=(X_train[0].shape))\n",
    "x = LSTM(32 , return_sequences = True)(i)\n",
    "x = LSTM(32 , return_sequences = True)(x)\n",
    "x = LSTM(32)(x)\n",
    "x = Dense(1 , activation = 'sigmoid')(x)\n",
    "\n",
    "model = Model(i,x)\n",
    "\n",
    "model.compile(optimizer = Adam(lr = 0.001) , loss = 'binary_crossentropy' , metrics = ['accuracy'])"
   ]
  },
  {
   "cell_type": "code",
   "execution_count": 59,
   "metadata": {
    "scrolled": false
   },
   "outputs": [
    {
     "name": "stdout",
     "output_type": "stream",
     "text": [
      "Epoch 1/300\n",
      "27/27 [==============================] - 2s 56ms/step - loss: 0.6942 - accuracy: 0.4732 - val_loss: 0.6942 - val_accuracy: 0.4854\n",
      "Epoch 2/300\n",
      "27/27 [==============================] - 0s 12ms/step - loss: 0.6922 - accuracy: 0.5244 - val_loss: 0.6941 - val_accuracy: 0.4854\n",
      "Epoch 3/300\n",
      "27/27 [==============================] - 0s 12ms/step - loss: 0.6929 - accuracy: 0.5232 - val_loss: 0.6935 - val_accuracy: 0.4854\n",
      "Epoch 4/300\n",
      "27/27 [==============================] - 0s 12ms/step - loss: 0.6928 - accuracy: 0.5244 - val_loss: 0.6957 - val_accuracy: 0.4854\n",
      "Epoch 5/300\n",
      "27/27 [==============================] - 0s 12ms/step - loss: 0.6920 - accuracy: 0.5244 - val_loss: 0.6949 - val_accuracy: 0.4854\n",
      "Epoch 6/300\n",
      "27/27 [==============================] - 0s 12ms/step - loss: 0.6923 - accuracy: 0.5244 - val_loss: 0.6937 - val_accuracy: 0.4854\n",
      "Epoch 7/300\n",
      "27/27 [==============================] - 0s 12ms/step - loss: 0.6917 - accuracy: 0.5244 - val_loss: 0.6942 - val_accuracy: 0.4854\n",
      "Epoch 8/300\n",
      "27/27 [==============================] - 0s 12ms/step - loss: 0.6916 - accuracy: 0.5256 - val_loss: 0.6945 - val_accuracy: 0.4854\n",
      "Epoch 9/300\n",
      "27/27 [==============================] - 0s 12ms/step - loss: 0.6921 - accuracy: 0.5173 - val_loss: 0.6938 - val_accuracy: 0.5000\n",
      "Epoch 10/300\n",
      "27/27 [==============================] - 0s 12ms/step - loss: 0.6917 - accuracy: 0.5244 - val_loss: 0.6950 - val_accuracy: 0.4854\n",
      "Epoch 11/300\n",
      "27/27 [==============================] - 0s 12ms/step - loss: 0.6912 - accuracy: 0.5244 - val_loss: 0.6919 - val_accuracy: 0.5024\n",
      "Epoch 12/300\n",
      "27/27 [==============================] - 0s 12ms/step - loss: 0.6922 - accuracy: 0.5221 - val_loss: 0.6942 - val_accuracy: 0.4976\n",
      "Epoch 13/300\n",
      "27/27 [==============================] - 0s 12ms/step - loss: 0.6922 - accuracy: 0.5316 - val_loss: 0.6942 - val_accuracy: 0.4976\n",
      "Epoch 14/300\n",
      "27/27 [==============================] - 0s 12ms/step - loss: 0.6909 - accuracy: 0.5268 - val_loss: 0.6963 - val_accuracy: 0.4854\n",
      "Epoch 15/300\n",
      "27/27 [==============================] - 0s 12ms/step - loss: 0.6914 - accuracy: 0.5304 - val_loss: 0.6929 - val_accuracy: 0.5098\n",
      "Epoch 16/300\n",
      "27/27 [==============================] - 0s 12ms/step - loss: 0.6906 - accuracy: 0.5328 - val_loss: 0.6969 - val_accuracy: 0.5049\n",
      "Epoch 17/300\n",
      "27/27 [==============================] - 0s 12ms/step - loss: 0.6898 - accuracy: 0.5340 - val_loss: 0.6923 - val_accuracy: 0.5098\n",
      "Epoch 18/300\n",
      "27/27 [==============================] - 0s 12ms/step - loss: 0.6897 - accuracy: 0.5316 - val_loss: 0.6921 - val_accuracy: 0.5146\n",
      "Epoch 19/300\n",
      "27/27 [==============================] - 0s 12ms/step - loss: 0.6892 - accuracy: 0.5352 - val_loss: 0.6953 - val_accuracy: 0.5098\n",
      "Epoch 20/300\n",
      "27/27 [==============================] - 0s 12ms/step - loss: 0.6899 - accuracy: 0.5185 - val_loss: 0.6932 - val_accuracy: 0.5073\n",
      "Epoch 21/300\n",
      "27/27 [==============================] - 0s 12ms/step - loss: 0.6912 - accuracy: 0.5399 - val_loss: 0.6914 - val_accuracy: 0.5268\n",
      "Epoch 22/300\n",
      "27/27 [==============================] - 0s 11ms/step - loss: 0.6903 - accuracy: 0.5256 - val_loss: 0.6923 - val_accuracy: 0.5122\n",
      "Epoch 23/300\n",
      "27/27 [==============================] - 0s 12ms/step - loss: 0.6891 - accuracy: 0.5209 - val_loss: 0.6972 - val_accuracy: 0.5220\n",
      "Epoch 24/300\n",
      "27/27 [==============================] - 0s 12ms/step - loss: 0.6885 - accuracy: 0.5399 - val_loss: 0.6941 - val_accuracy: 0.5146\n",
      "Epoch 25/300\n",
      "27/27 [==============================] - 0s 12ms/step - loss: 0.6884 - accuracy: 0.5340 - val_loss: 0.6921 - val_accuracy: 0.5098\n",
      "Epoch 26/300\n",
      "27/27 [==============================] - 0s 12ms/step - loss: 0.6879 - accuracy: 0.5399 - val_loss: 0.6969 - val_accuracy: 0.5122\n",
      "Epoch 27/300\n",
      "27/27 [==============================] - 0s 12ms/step - loss: 0.6887 - accuracy: 0.5387 - val_loss: 0.6943 - val_accuracy: 0.5024\n",
      "Epoch 28/300\n",
      "27/27 [==============================] - 0s 12ms/step - loss: 0.6867 - accuracy: 0.5399 - val_loss: 0.6971 - val_accuracy: 0.5000\n",
      "Epoch 29/300\n",
      "27/27 [==============================] - 0s 12ms/step - loss: 0.6865 - accuracy: 0.5375 - val_loss: 0.7001 - val_accuracy: 0.5073\n",
      "Epoch 30/300\n",
      "27/27 [==============================] - 0s 12ms/step - loss: 0.6884 - accuracy: 0.5316 - val_loss: 0.7035 - val_accuracy: 0.5098\n",
      "Epoch 31/300\n",
      "27/27 [==============================] - 0s 12ms/step - loss: 0.6866 - accuracy: 0.5399 - val_loss: 0.6982 - val_accuracy: 0.5122\n",
      "Epoch 32/300\n",
      "27/27 [==============================] - 0s 12ms/step - loss: 0.6870 - accuracy: 0.5495 - val_loss: 0.6948 - val_accuracy: 0.5146\n",
      "Epoch 33/300\n",
      "27/27 [==============================] - 0s 12ms/step - loss: 0.6847 - accuracy: 0.5662 - val_loss: 0.6986 - val_accuracy: 0.5122\n",
      "Epoch 34/300\n",
      "27/27 [==============================] - 0s 12ms/step - loss: 0.6848 - accuracy: 0.5364 - val_loss: 0.6973 - val_accuracy: 0.4878\n",
      "Epoch 35/300\n",
      "27/27 [==============================] - 0s 12ms/step - loss: 0.6836 - accuracy: 0.5662 - val_loss: 0.6985 - val_accuracy: 0.5000\n",
      "Epoch 36/300\n",
      "27/27 [==============================] - 0s 12ms/step - loss: 0.6873 - accuracy: 0.5375 - val_loss: 0.6996 - val_accuracy: 0.5049\n",
      "Epoch 37/300\n",
      "27/27 [==============================] - 0s 12ms/step - loss: 0.6837 - accuracy: 0.5709 - val_loss: 0.6977 - val_accuracy: 0.5122\n",
      "Epoch 38/300\n",
      "27/27 [==============================] - 0s 12ms/step - loss: 0.6831 - accuracy: 0.5650 - val_loss: 0.6984 - val_accuracy: 0.5024\n",
      "Epoch 39/300\n",
      "27/27 [==============================] - 0s 12ms/step - loss: 0.6826 - accuracy: 0.5518 - val_loss: 0.7042 - val_accuracy: 0.5244\n",
      "Epoch 40/300\n",
      "27/27 [==============================] - 0s 12ms/step - loss: 0.6830 - accuracy: 0.5685 - val_loss: 0.6939 - val_accuracy: 0.5073\n",
      "Epoch 41/300\n",
      "27/27 [==============================] - 0s 12ms/step - loss: 0.6825 - accuracy: 0.5662 - val_loss: 0.6964 - val_accuracy: 0.5171\n",
      "Epoch 42/300\n",
      "27/27 [==============================] - 0s 12ms/step - loss: 0.6794 - accuracy: 0.5638 - val_loss: 0.6960 - val_accuracy: 0.5146\n",
      "Epoch 43/300\n",
      "27/27 [==============================] - 0s 12ms/step - loss: 0.6799 - accuracy: 0.5483 - val_loss: 0.6969 - val_accuracy: 0.5098\n",
      "Epoch 44/300\n",
      "27/27 [==============================] - 0s 12ms/step - loss: 0.6823 - accuracy: 0.5495 - val_loss: 0.7001 - val_accuracy: 0.5073\n",
      "Epoch 45/300\n",
      "27/27 [==============================] - 0s 12ms/step - loss: 0.6781 - accuracy: 0.5840 - val_loss: 0.6997 - val_accuracy: 0.5000\n",
      "Epoch 46/300\n",
      "27/27 [==============================] - 0s 12ms/step - loss: 0.6776 - accuracy: 0.5745 - val_loss: 0.7011 - val_accuracy: 0.5122\n",
      "Epoch 47/300\n",
      "27/27 [==============================] - 0s 12ms/step - loss: 0.6759 - accuracy: 0.5769 - val_loss: 0.7029 - val_accuracy: 0.5098\n",
      "Epoch 48/300\n",
      "27/27 [==============================] - 0s 12ms/step - loss: 0.6790 - accuracy: 0.5709 - val_loss: 0.6997 - val_accuracy: 0.5195\n",
      "Epoch 49/300\n",
      "27/27 [==============================] - 0s 12ms/step - loss: 0.6755 - accuracy: 0.5781 - val_loss: 0.6968 - val_accuracy: 0.5293\n",
      "Epoch 50/300\n",
      "27/27 [==============================] - 0s 12ms/step - loss: 0.6760 - accuracy: 0.5852 - val_loss: 0.6945 - val_accuracy: 0.5268\n",
      "Epoch 51/300\n",
      "27/27 [==============================] - 0s 12ms/step - loss: 0.6784 - accuracy: 0.5638 - val_loss: 0.6961 - val_accuracy: 0.4902\n",
      "Epoch 52/300\n",
      "27/27 [==============================] - 0s 12ms/step - loss: 0.6755 - accuracy: 0.5638 - val_loss: 0.6944 - val_accuracy: 0.5122\n",
      "Epoch 53/300\n",
      "27/27 [==============================] - 0s 12ms/step - loss: 0.6729 - accuracy: 0.5709 - val_loss: 0.7032 - val_accuracy: 0.4902\n",
      "Epoch 54/300\n",
      "27/27 [==============================] - 0s 12ms/step - loss: 0.6712 - accuracy: 0.5828 - val_loss: 0.6992 - val_accuracy: 0.5195\n",
      "Epoch 55/300\n",
      "27/27 [==============================] - 0s 12ms/step - loss: 0.6700 - accuracy: 0.5721 - val_loss: 0.6996 - val_accuracy: 0.5244\n",
      "Epoch 56/300\n",
      "27/27 [==============================] - 0s 12ms/step - loss: 0.6733 - accuracy: 0.5721 - val_loss: 0.7020 - val_accuracy: 0.5146\n",
      "Epoch 57/300\n",
      "27/27 [==============================] - 0s 12ms/step - loss: 0.6731 - accuracy: 0.5757 - val_loss: 0.7002 - val_accuracy: 0.5122\n",
      "Epoch 58/300\n"
     ]
    },
    {
     "name": "stdout",
     "output_type": "stream",
     "text": [
      "27/27 [==============================] - 0s 12ms/step - loss: 0.6728 - accuracy: 0.5733 - val_loss: 0.6968 - val_accuracy: 0.5098\n",
      "Epoch 59/300\n",
      "27/27 [==============================] - 0s 11ms/step - loss: 0.6682 - accuracy: 0.5769 - val_loss: 0.6985 - val_accuracy: 0.5073\n",
      "Epoch 60/300\n",
      "27/27 [==============================] - 0s 12ms/step - loss: 0.6668 - accuracy: 0.5936 - val_loss: 0.6954 - val_accuracy: 0.5146\n",
      "Epoch 61/300\n",
      "27/27 [==============================] - 0s 11ms/step - loss: 0.6692 - accuracy: 0.5995 - val_loss: 0.6949 - val_accuracy: 0.5073\n",
      "Epoch 62/300\n",
      "27/27 [==============================] - 0s 11ms/step - loss: 0.6653 - accuracy: 0.5876 - val_loss: 0.6989 - val_accuracy: 0.5268\n",
      "Epoch 63/300\n",
      "27/27 [==============================] - 0s 12ms/step - loss: 0.6686 - accuracy: 0.5793 - val_loss: 0.7070 - val_accuracy: 0.4951\n",
      "Epoch 64/300\n",
      "27/27 [==============================] - 0s 11ms/step - loss: 0.6691 - accuracy: 0.5816 - val_loss: 0.7002 - val_accuracy: 0.4927\n",
      "Epoch 65/300\n",
      "27/27 [==============================] - 0s 11ms/step - loss: 0.6647 - accuracy: 0.5864 - val_loss: 0.6950 - val_accuracy: 0.5000\n",
      "Epoch 66/300\n",
      "27/27 [==============================] - 0s 11ms/step - loss: 0.6687 - accuracy: 0.5888 - val_loss: 0.7047 - val_accuracy: 0.4927\n",
      "Epoch 67/300\n",
      "27/27 [==============================] - 0s 11ms/step - loss: 0.6652 - accuracy: 0.5971 - val_loss: 0.7058 - val_accuracy: 0.4805\n",
      "Epoch 68/300\n",
      "27/27 [==============================] - 0s 11ms/step - loss: 0.6674 - accuracy: 0.5959 - val_loss: 0.7023 - val_accuracy: 0.4805\n",
      "Epoch 69/300\n",
      "27/27 [==============================] - 0s 11ms/step - loss: 0.6619 - accuracy: 0.5983 - val_loss: 0.7039 - val_accuracy: 0.4878\n",
      "Epoch 70/300\n",
      "27/27 [==============================] - 0s 11ms/step - loss: 0.6658 - accuracy: 0.5876 - val_loss: 0.7035 - val_accuracy: 0.5000\n",
      "Epoch 71/300\n",
      "27/27 [==============================] - 0s 12ms/step - loss: 0.6591 - accuracy: 0.5948 - val_loss: 0.7063 - val_accuracy: 0.4780\n",
      "Epoch 72/300\n",
      "27/27 [==============================] - 0s 12ms/step - loss: 0.6621 - accuracy: 0.6019 - val_loss: 0.7075 - val_accuracy: 0.4805\n",
      "Epoch 73/300\n",
      "27/27 [==============================] - 0s 12ms/step - loss: 0.6598 - accuracy: 0.5864 - val_loss: 0.7002 - val_accuracy: 0.4854\n",
      "Epoch 74/300\n",
      "27/27 [==============================] - 0s 12ms/step - loss: 0.6561 - accuracy: 0.5995 - val_loss: 0.7121 - val_accuracy: 0.4878\n",
      "Epoch 75/300\n",
      "27/27 [==============================] - 0s 11ms/step - loss: 0.6534 - accuracy: 0.6103 - val_loss: 0.7097 - val_accuracy: 0.4902\n",
      "Epoch 76/300\n",
      "27/27 [==============================] - 0s 12ms/step - loss: 0.6543 - accuracy: 0.6150 - val_loss: 0.7043 - val_accuracy: 0.5098\n",
      "Epoch 77/300\n",
      "27/27 [==============================] - 0s 12ms/step - loss: 0.6537 - accuracy: 0.6031 - val_loss: 0.7111 - val_accuracy: 0.4780\n",
      "Epoch 78/300\n",
      "27/27 [==============================] - 0s 12ms/step - loss: 0.6489 - accuracy: 0.6174 - val_loss: 0.7017 - val_accuracy: 0.5122\n",
      "Epoch 79/300\n",
      "27/27 [==============================] - 0s 11ms/step - loss: 0.6487 - accuracy: 0.6126 - val_loss: 0.7127 - val_accuracy: 0.4805\n",
      "Epoch 80/300\n",
      "27/27 [==============================] - 0s 11ms/step - loss: 0.6479 - accuracy: 0.6269 - val_loss: 0.7122 - val_accuracy: 0.5024\n",
      "Epoch 81/300\n",
      "27/27 [==============================] - 0s 12ms/step - loss: 0.6459 - accuracy: 0.6162 - val_loss: 0.7149 - val_accuracy: 0.5024\n",
      "Epoch 82/300\n",
      "27/27 [==============================] - 0s 12ms/step - loss: 0.6534 - accuracy: 0.6019 - val_loss: 0.7109 - val_accuracy: 0.4805\n",
      "Epoch 83/300\n",
      "27/27 [==============================] - 0s 12ms/step - loss: 0.6423 - accuracy: 0.6234 - val_loss: 0.7171 - val_accuracy: 0.4732\n",
      "Epoch 84/300\n",
      "27/27 [==============================] - 0s 11ms/step - loss: 0.6438 - accuracy: 0.6329 - val_loss: 0.7080 - val_accuracy: 0.4951\n",
      "Epoch 85/300\n",
      "27/27 [==============================] - 0s 12ms/step - loss: 0.6404 - accuracy: 0.6246 - val_loss: 0.7244 - val_accuracy: 0.4976\n",
      "Epoch 86/300\n",
      "27/27 [==============================] - 0s 11ms/step - loss: 0.6348 - accuracy: 0.6281 - val_loss: 0.7157 - val_accuracy: 0.4854\n",
      "Epoch 87/300\n",
      "27/27 [==============================] - 0s 11ms/step - loss: 0.6368 - accuracy: 0.6150 - val_loss: 0.7167 - val_accuracy: 0.4878\n",
      "Epoch 88/300\n",
      "27/27 [==============================] - 0s 13ms/step - loss: 0.6334 - accuracy: 0.6353 - val_loss: 0.7258 - val_accuracy: 0.4732\n",
      "Epoch 89/300\n",
      "27/27 [==============================] - 0s 12ms/step - loss: 0.6367 - accuracy: 0.6257 - val_loss: 0.7165 - val_accuracy: 0.4854\n",
      "Epoch 90/300\n",
      "27/27 [==============================] - 0s 13ms/step - loss: 0.6299 - accuracy: 0.6424 - val_loss: 0.7314 - val_accuracy: 0.4659\n",
      "Epoch 91/300\n",
      "27/27 [==============================] - 0s 13ms/step - loss: 0.6284 - accuracy: 0.6257 - val_loss: 0.7331 - val_accuracy: 0.4756\n",
      "Epoch 92/300\n",
      "27/27 [==============================] - 0s 12ms/step - loss: 0.6213 - accuracy: 0.6365 - val_loss: 0.7208 - val_accuracy: 0.5049\n",
      "Epoch 93/300\n",
      "27/27 [==============================] - 0s 12ms/step - loss: 0.6218 - accuracy: 0.6389 - val_loss: 0.7208 - val_accuracy: 0.4878\n",
      "Epoch 94/300\n",
      "27/27 [==============================] - 0s 12ms/step - loss: 0.6123 - accuracy: 0.6508 - val_loss: 0.7548 - val_accuracy: 0.5024\n",
      "Epoch 95/300\n",
      "27/27 [==============================] - 0s 12ms/step - loss: 0.6219 - accuracy: 0.6448 - val_loss: 0.7208 - val_accuracy: 0.5341\n",
      "Epoch 96/300\n",
      "27/27 [==============================] - 0s 12ms/step - loss: 0.6253 - accuracy: 0.6400 - val_loss: 0.7327 - val_accuracy: 0.4585\n",
      "Epoch 97/300\n",
      "27/27 [==============================] - 0s 12ms/step - loss: 0.6137 - accuracy: 0.6389 - val_loss: 0.7378 - val_accuracy: 0.4634\n",
      "Epoch 98/300\n",
      "27/27 [==============================] - 0s 12ms/step - loss: 0.6069 - accuracy: 0.6603 - val_loss: 0.7587 - val_accuracy: 0.4707\n",
      "Epoch 99/300\n",
      "27/27 [==============================] - 0s 12ms/step - loss: 0.6109 - accuracy: 0.6389 - val_loss: 0.7528 - val_accuracy: 0.4707\n",
      "Epoch 100/300\n",
      "27/27 [==============================] - 0s 11ms/step - loss: 0.6059 - accuracy: 0.6424 - val_loss: 0.7388 - val_accuracy: 0.5024\n",
      "Epoch 101/300\n",
      "27/27 [==============================] - 0s 12ms/step - loss: 0.6079 - accuracy: 0.6317 - val_loss: 0.7502 - val_accuracy: 0.4951\n",
      "Epoch 102/300\n",
      "27/27 [==============================] - 0s 12ms/step - loss: 0.5941 - accuracy: 0.6579 - val_loss: 0.7514 - val_accuracy: 0.4805\n",
      "Epoch 103/300\n",
      "27/27 [==============================] - 0s 11ms/step - loss: 0.5943 - accuracy: 0.6627 - val_loss: 0.7431 - val_accuracy: 0.4829\n",
      "Epoch 104/300\n",
      "27/27 [==============================] - 0s 12ms/step - loss: 0.5930 - accuracy: 0.6496 - val_loss: 0.7762 - val_accuracy: 0.4829\n",
      "Epoch 105/300\n",
      "27/27 [==============================] - 0s 12ms/step - loss: 0.5895 - accuracy: 0.6675 - val_loss: 0.7870 - val_accuracy: 0.4585\n",
      "Epoch 106/300\n",
      "27/27 [==============================] - 0s 12ms/step - loss: 0.5865 - accuracy: 0.6615 - val_loss: 0.7577 - val_accuracy: 0.4854\n",
      "Epoch 107/300\n",
      "27/27 [==============================] - 0s 12ms/step - loss: 0.5879 - accuracy: 0.6651 - val_loss: 0.7798 - val_accuracy: 0.4634\n",
      "Epoch 108/300\n",
      "27/27 [==============================] - 0s 12ms/step - loss: 0.5960 - accuracy: 0.6532 - val_loss: 0.7720 - val_accuracy: 0.4585\n",
      "Epoch 109/300\n",
      "27/27 [==============================] - 1s 26ms/step - loss: 0.5744 - accuracy: 0.6496 - val_loss: 0.7616 - val_accuracy: 0.5049\n",
      "Epoch 110/300\n",
      "27/27 [==============================] - 0s 12ms/step - loss: 0.5635 - accuracy: 0.6818 - val_loss: 0.8488 - val_accuracy: 0.4463\n",
      "Epoch 111/300\n",
      "27/27 [==============================] - 0s 11ms/step - loss: 0.5658 - accuracy: 0.6818 - val_loss: 0.7915 - val_accuracy: 0.4829\n",
      "Epoch 112/300\n",
      "27/27 [==============================] - 0s 12ms/step - loss: 0.5761 - accuracy: 0.6591 - val_loss: 0.7972 - val_accuracy: 0.4707\n",
      "Epoch 113/300\n",
      "27/27 [==============================] - 0s 11ms/step - loss: 0.5587 - accuracy: 0.6830 - val_loss: 0.8198 - val_accuracy: 0.4829\n",
      "Epoch 114/300\n",
      "27/27 [==============================] - 0s 12ms/step - loss: 0.5650 - accuracy: 0.6818 - val_loss: 0.8217 - val_accuracy: 0.5024\n",
      "Epoch 115/300\n"
     ]
    },
    {
     "name": "stdout",
     "output_type": "stream",
     "text": [
      "27/27 [==============================] - 0s 12ms/step - loss: 0.5620 - accuracy: 0.6687 - val_loss: 0.8099 - val_accuracy: 0.4780\n",
      "Epoch 116/300\n",
      "27/27 [==============================] - 0s 11ms/step - loss: 0.5690 - accuracy: 0.6734 - val_loss: 0.8279 - val_accuracy: 0.4683\n",
      "Epoch 117/300\n",
      "27/27 [==============================] - 0s 12ms/step - loss: 0.5575 - accuracy: 0.6698 - val_loss: 0.8455 - val_accuracy: 0.4732\n",
      "Epoch 118/300\n",
      "27/27 [==============================] - 0s 12ms/step - loss: 0.5559 - accuracy: 0.6651 - val_loss: 0.8053 - val_accuracy: 0.4951\n",
      "Epoch 119/300\n",
      "27/27 [==============================] - 0s 12ms/step - loss: 0.5483 - accuracy: 0.6782 - val_loss: 0.8417 - val_accuracy: 0.4854\n",
      "Epoch 120/300\n",
      "27/27 [==============================] - 0s 12ms/step - loss: 0.5411 - accuracy: 0.6937 - val_loss: 0.8379 - val_accuracy: 0.4732\n",
      "Epoch 121/300\n",
      "27/27 [==============================] - 0s 12ms/step - loss: 0.5351 - accuracy: 0.6770 - val_loss: 0.8691 - val_accuracy: 0.4927\n",
      "Epoch 122/300\n",
      "27/27 [==============================] - 0s 12ms/step - loss: 0.5306 - accuracy: 0.6841 - val_loss: 0.8839 - val_accuracy: 0.4927\n",
      "Epoch 123/300\n",
      "27/27 [==============================] - 0s 12ms/step - loss: 0.5235 - accuracy: 0.7044 - val_loss: 0.8776 - val_accuracy: 0.5122\n",
      "Epoch 124/300\n",
      "27/27 [==============================] - 0s 12ms/step - loss: 0.5176 - accuracy: 0.7068 - val_loss: 0.9094 - val_accuracy: 0.4610\n",
      "Epoch 125/300\n",
      "27/27 [==============================] - 0s 11ms/step - loss: 0.5247 - accuracy: 0.6985 - val_loss: 0.9134 - val_accuracy: 0.4780\n",
      "Epoch 126/300\n",
      "27/27 [==============================] - 0s 11ms/step - loss: 0.5195 - accuracy: 0.7116 - val_loss: 0.9058 - val_accuracy: 0.4902\n",
      "Epoch 127/300\n",
      "27/27 [==============================] - 0s 12ms/step - loss: 0.5088 - accuracy: 0.7116 - val_loss: 0.8652 - val_accuracy: 0.5220\n",
      "Epoch 128/300\n",
      "27/27 [==============================] - 0s 12ms/step - loss: 0.5031 - accuracy: 0.7187 - val_loss: 0.9289 - val_accuracy: 0.4634\n",
      "Epoch 129/300\n",
      "27/27 [==============================] - 0s 12ms/step - loss: 0.4940 - accuracy: 0.7235 - val_loss: 0.9064 - val_accuracy: 0.4829\n",
      "Epoch 130/300\n",
      "27/27 [==============================] - 0s 11ms/step - loss: 0.5259 - accuracy: 0.7104 - val_loss: 0.9133 - val_accuracy: 0.4634\n",
      "Epoch 131/300\n",
      "27/27 [==============================] - 0s 12ms/step - loss: 0.5097 - accuracy: 0.7211 - val_loss: 0.9497 - val_accuracy: 0.4732\n",
      "Epoch 132/300\n",
      "27/27 [==============================] - 0s 12ms/step - loss: 0.5137 - accuracy: 0.7282 - val_loss: 0.9240 - val_accuracy: 0.4707\n",
      "Epoch 133/300\n",
      "27/27 [==============================] - 0s 11ms/step - loss: 0.5134 - accuracy: 0.7128 - val_loss: 0.9103 - val_accuracy: 0.4805\n",
      "Epoch 134/300\n",
      "27/27 [==============================] - 0s 12ms/step - loss: 0.5050 - accuracy: 0.7259 - val_loss: 0.9626 - val_accuracy: 0.4732\n",
      "Epoch 135/300\n",
      "27/27 [==============================] - 0s 11ms/step - loss: 0.4876 - accuracy: 0.7342 - val_loss: 0.9590 - val_accuracy: 0.4902\n",
      "Epoch 136/300\n",
      "27/27 [==============================] - 0s 11ms/step - loss: 0.4726 - accuracy: 0.7402 - val_loss: 0.9949 - val_accuracy: 0.4829\n",
      "Epoch 137/300\n",
      "27/27 [==============================] - 0s 12ms/step - loss: 0.4779 - accuracy: 0.7271 - val_loss: 1.0005 - val_accuracy: 0.4976\n",
      "Epoch 138/300\n",
      "27/27 [==============================] - 0s 12ms/step - loss: 0.4772 - accuracy: 0.7485 - val_loss: 1.0498 - val_accuracy: 0.4902\n",
      "Epoch 139/300\n",
      "27/27 [==============================] - 0s 11ms/step - loss: 0.4642 - accuracy: 0.7473 - val_loss: 0.9605 - val_accuracy: 0.4683\n",
      "Epoch 140/300\n",
      "27/27 [==============================] - 0s 12ms/step - loss: 0.4661 - accuracy: 0.7414 - val_loss: 1.0542 - val_accuracy: 0.4659\n",
      "Epoch 141/300\n",
      "27/27 [==============================] - 0s 12ms/step - loss: 0.4541 - accuracy: 0.7592 - val_loss: 1.0973 - val_accuracy: 0.4829\n",
      "Epoch 142/300\n",
      "27/27 [==============================] - 0s 12ms/step - loss: 0.4727 - accuracy: 0.7426 - val_loss: 1.0533 - val_accuracy: 0.4829\n",
      "Epoch 143/300\n",
      "27/27 [==============================] - 0s 12ms/step - loss: 0.4688 - accuracy: 0.7414 - val_loss: 1.0744 - val_accuracy: 0.4610\n",
      "Epoch 144/300\n",
      "27/27 [==============================] - 0s 12ms/step - loss: 0.4688 - accuracy: 0.7414 - val_loss: 1.1238 - val_accuracy: 0.4805\n",
      "Epoch 145/300\n",
      "27/27 [==============================] - 0s 12ms/step - loss: 0.5030 - accuracy: 0.7366 - val_loss: 1.0523 - val_accuracy: 0.4854\n",
      "Epoch 146/300\n",
      "27/27 [==============================] - 0s 12ms/step - loss: 0.4664 - accuracy: 0.7437 - val_loss: 1.0642 - val_accuracy: 0.4854\n",
      "Epoch 147/300\n",
      "27/27 [==============================] - 0s 12ms/step - loss: 0.4420 - accuracy: 0.7664 - val_loss: 1.0869 - val_accuracy: 0.4951\n",
      "Epoch 148/300\n",
      "27/27 [==============================] - 0s 12ms/step - loss: 0.4229 - accuracy: 0.7819 - val_loss: 1.1718 - val_accuracy: 0.4732\n",
      "Epoch 149/300\n",
      "27/27 [==============================] - 0s 12ms/step - loss: 0.4114 - accuracy: 0.7855 - val_loss: 1.1691 - val_accuracy: 0.5073\n",
      "Epoch 150/300\n",
      "27/27 [==============================] - 0s 11ms/step - loss: 0.4211 - accuracy: 0.7723 - val_loss: 1.2011 - val_accuracy: 0.5073\n",
      "Epoch 151/300\n",
      "27/27 [==============================] - 0s 12ms/step - loss: 0.4307 - accuracy: 0.7652 - val_loss: 1.1128 - val_accuracy: 0.5122\n",
      "Epoch 152/300\n",
      "27/27 [==============================] - 0s 12ms/step - loss: 0.4492 - accuracy: 0.7628 - val_loss: 1.0950 - val_accuracy: 0.4732\n",
      "Epoch 153/300\n",
      "27/27 [==============================] - 0s 12ms/step - loss: 0.4289 - accuracy: 0.7771 - val_loss: 1.1919 - val_accuracy: 0.4780\n",
      "Epoch 154/300\n",
      "27/27 [==============================] - 0s 12ms/step - loss: 0.4216 - accuracy: 0.7759 - val_loss: 1.1336 - val_accuracy: 0.4902\n",
      "Epoch 155/300\n",
      "27/27 [==============================] - 0s 11ms/step - loss: 0.4051 - accuracy: 0.7938 - val_loss: 1.2015 - val_accuracy: 0.4854\n",
      "Epoch 156/300\n",
      "27/27 [==============================] - 0s 11ms/step - loss: 0.4011 - accuracy: 0.7962 - val_loss: 1.2497 - val_accuracy: 0.5220\n",
      "Epoch 157/300\n",
      "27/27 [==============================] - 0s 11ms/step - loss: 0.4029 - accuracy: 0.7867 - val_loss: 1.1777 - val_accuracy: 0.4927\n",
      "Epoch 158/300\n",
      "27/27 [==============================] - 0s 12ms/step - loss: 0.4054 - accuracy: 0.7867 - val_loss: 1.3204 - val_accuracy: 0.4829\n",
      "Epoch 159/300\n",
      "27/27 [==============================] - 0s 12ms/step - loss: 0.3892 - accuracy: 0.8021 - val_loss: 1.3093 - val_accuracy: 0.4927\n",
      "Epoch 160/300\n",
      "27/27 [==============================] - 0s 12ms/step - loss: 0.3658 - accuracy: 0.8248 - val_loss: 1.2981 - val_accuracy: 0.5098\n",
      "Epoch 161/300\n",
      "27/27 [==============================] - 0s 12ms/step - loss: 0.3651 - accuracy: 0.8200 - val_loss: 1.3496 - val_accuracy: 0.4829\n",
      "Epoch 162/300\n",
      "27/27 [==============================] - 0s 11ms/step - loss: 0.3508 - accuracy: 0.8164 - val_loss: 1.3599 - val_accuracy: 0.5171\n",
      "Epoch 163/300\n",
      "27/27 [==============================] - 0s 12ms/step - loss: 0.3633 - accuracy: 0.8188 - val_loss: 1.3966 - val_accuracy: 0.5049\n",
      "Epoch 164/300\n",
      "27/27 [==============================] - 0s 11ms/step - loss: 0.3451 - accuracy: 0.8296 - val_loss: 1.4215 - val_accuracy: 0.4951\n",
      "Epoch 165/300\n",
      "27/27 [==============================] - 0s 12ms/step - loss: 0.3676 - accuracy: 0.8260 - val_loss: 1.3585 - val_accuracy: 0.4805\n",
      "Epoch 166/300\n",
      "27/27 [==============================] - 0s 11ms/step - loss: 0.3587 - accuracy: 0.8272 - val_loss: 1.3811 - val_accuracy: 0.5049\n",
      "Epoch 167/300\n",
      "27/27 [==============================] - 0s 12ms/step - loss: 0.3375 - accuracy: 0.8308 - val_loss: 1.4110 - val_accuracy: 0.5000\n",
      "Epoch 168/300\n",
      "27/27 [==============================] - 0s 12ms/step - loss: 0.3375 - accuracy: 0.8391 - val_loss: 1.4113 - val_accuracy: 0.4976\n",
      "Epoch 169/300\n",
      "27/27 [==============================] - 0s 12ms/step - loss: 0.3312 - accuracy: 0.8343 - val_loss: 1.4344 - val_accuracy: 0.5049\n",
      "Epoch 170/300\n",
      "27/27 [==============================] - 0s 12ms/step - loss: 0.3293 - accuracy: 0.8367 - val_loss: 1.5525 - val_accuracy: 0.5024\n",
      "Epoch 171/300\n",
      "27/27 [==============================] - 0s 12ms/step - loss: 0.3924 - accuracy: 0.8057 - val_loss: 1.4930 - val_accuracy: 0.4707\n"
     ]
    },
    {
     "name": "stdout",
     "output_type": "stream",
     "text": [
      "Epoch 172/300\n",
      "27/27 [==============================] - 0s 12ms/step - loss: 0.3687 - accuracy: 0.8117 - val_loss: 1.4358 - val_accuracy: 0.4951\n",
      "Epoch 173/300\n",
      "27/27 [==============================] - 0s 12ms/step - loss: 0.3374 - accuracy: 0.8331 - val_loss: 1.4554 - val_accuracy: 0.5073\n",
      "Epoch 174/300\n",
      "27/27 [==============================] - 0s 12ms/step - loss: 0.3119 - accuracy: 0.8546 - val_loss: 1.4625 - val_accuracy: 0.5073\n",
      "Epoch 175/300\n",
      "27/27 [==============================] - 0s 12ms/step - loss: 0.3132 - accuracy: 0.8522 - val_loss: 1.5580 - val_accuracy: 0.4805\n",
      "Epoch 176/300\n",
      "27/27 [==============================] - 0s 12ms/step - loss: 0.2998 - accuracy: 0.8605 - val_loss: 1.5658 - val_accuracy: 0.5024\n",
      "Epoch 177/300\n",
      "27/27 [==============================] - 0s 12ms/step - loss: 0.3036 - accuracy: 0.8534 - val_loss: 1.5878 - val_accuracy: 0.4756\n",
      "Epoch 178/300\n",
      "27/27 [==============================] - 0s 12ms/step - loss: 0.3115 - accuracy: 0.8474 - val_loss: 1.6034 - val_accuracy: 0.4927\n",
      "Epoch 179/300\n",
      "27/27 [==============================] - 0s 12ms/step - loss: 0.2990 - accuracy: 0.8629 - val_loss: 1.5892 - val_accuracy: 0.4854\n",
      "Epoch 180/300\n",
      "27/27 [==============================] - 0s 12ms/step - loss: 0.2855 - accuracy: 0.8570 - val_loss: 1.5528 - val_accuracy: 0.5244\n",
      "Epoch 181/300\n",
      "27/27 [==============================] - 0s 12ms/step - loss: 0.2761 - accuracy: 0.8629 - val_loss: 1.6478 - val_accuracy: 0.4902\n",
      "Epoch 182/300\n",
      "27/27 [==============================] - 0s 12ms/step - loss: 0.2677 - accuracy: 0.8582 - val_loss: 1.6071 - val_accuracy: 0.5098\n",
      "Epoch 183/300\n",
      "27/27 [==============================] - 0s 12ms/step - loss: 0.2667 - accuracy: 0.8701 - val_loss: 1.6823 - val_accuracy: 0.4683\n",
      "Epoch 184/300\n",
      "27/27 [==============================] - 0s 12ms/step - loss: 0.2845 - accuracy: 0.8665 - val_loss: 1.7116 - val_accuracy: 0.5098\n",
      "Epoch 185/300\n",
      "27/27 [==============================] - 0s 12ms/step - loss: 0.2667 - accuracy: 0.8689 - val_loss: 1.6818 - val_accuracy: 0.4878\n",
      "Epoch 186/300\n",
      "27/27 [==============================] - 0s 12ms/step - loss: 0.2995 - accuracy: 0.8474 - val_loss: 1.6787 - val_accuracy: 0.4634\n",
      "Epoch 187/300\n",
      "27/27 [==============================] - 0s 12ms/step - loss: 0.2992 - accuracy: 0.8605 - val_loss: 1.6910 - val_accuracy: 0.4902\n",
      "Epoch 188/300\n",
      "27/27 [==============================] - 0s 12ms/step - loss: 0.2913 - accuracy: 0.8594 - val_loss: 1.7771 - val_accuracy: 0.4805\n",
      "Epoch 189/300\n",
      "27/27 [==============================] - 0s 12ms/step - loss: 0.2692 - accuracy: 0.8653 - val_loss: 1.6976 - val_accuracy: 0.4976\n",
      "Epoch 190/300\n",
      "27/27 [==============================] - 0s 12ms/step - loss: 0.2748 - accuracy: 0.8665 - val_loss: 1.7203 - val_accuracy: 0.4756\n",
      "Epoch 191/300\n",
      "27/27 [==============================] - 0s 12ms/step - loss: 0.2797 - accuracy: 0.8677 - val_loss: 1.7680 - val_accuracy: 0.5024\n",
      "Epoch 192/300\n",
      "27/27 [==============================] - 0s 12ms/step - loss: 0.2566 - accuracy: 0.8820 - val_loss: 1.7423 - val_accuracy: 0.5024\n",
      "Epoch 193/300\n",
      "27/27 [==============================] - 0s 11ms/step - loss: 0.2494 - accuracy: 0.8927 - val_loss: 1.7661 - val_accuracy: 0.4927\n",
      "Epoch 194/300\n",
      "27/27 [==============================] - 0s 12ms/step - loss: 0.2203 - accuracy: 0.8987 - val_loss: 1.8236 - val_accuracy: 0.4878\n",
      "Epoch 195/300\n",
      "27/27 [==============================] - 0s 11ms/step - loss: 0.2141 - accuracy: 0.9070 - val_loss: 1.8338 - val_accuracy: 0.4976\n",
      "Epoch 196/300\n",
      "27/27 [==============================] - 0s 11ms/step - loss: 0.2129 - accuracy: 0.9046 - val_loss: 1.8836 - val_accuracy: 0.4927\n",
      "Epoch 197/300\n",
      "27/27 [==============================] - ETA: 0s - loss: 0.1994 - accuracy: 0.90 - 0s 11ms/step - loss: 0.2027 - accuracy: 0.9058 - val_loss: 1.8936 - val_accuracy: 0.4951\n",
      "Epoch 198/300\n",
      "27/27 [==============================] - 0s 12ms/step - loss: 0.2308 - accuracy: 0.8927 - val_loss: 1.9048 - val_accuracy: 0.5000\n",
      "Epoch 199/300\n",
      "27/27 [==============================] - 0s 12ms/step - loss: 0.2136 - accuracy: 0.9011 - val_loss: 2.0305 - val_accuracy: 0.4829\n",
      "Epoch 200/300\n",
      "27/27 [==============================] - 0s 11ms/step - loss: 0.2440 - accuracy: 0.8880 - val_loss: 1.9957 - val_accuracy: 0.4707\n",
      "Epoch 201/300\n",
      "27/27 [==============================] - 0s 12ms/step - loss: 0.2282 - accuracy: 0.9035 - val_loss: 1.8336 - val_accuracy: 0.4829\n",
      "Epoch 202/300\n",
      "27/27 [==============================] - 0s 12ms/step - loss: 0.2026 - accuracy: 0.9130 - val_loss: 1.9806 - val_accuracy: 0.4878\n",
      "Epoch 203/300\n",
      "27/27 [==============================] - 0s 11ms/step - loss: 0.2092 - accuracy: 0.9106 - val_loss: 1.8856 - val_accuracy: 0.4854\n",
      "Epoch 204/300\n",
      "27/27 [==============================] - 0s 12ms/step - loss: 0.2457 - accuracy: 0.8844 - val_loss: 1.8431 - val_accuracy: 0.4878\n",
      "Epoch 205/300\n",
      "27/27 [==============================] - 0s 12ms/step - loss: 0.2568 - accuracy: 0.8760 - val_loss: 1.9282 - val_accuracy: 0.4902\n",
      "Epoch 206/300\n",
      "27/27 [==============================] - 0s 12ms/step - loss: 0.2127 - accuracy: 0.9023 - val_loss: 1.9917 - val_accuracy: 0.4829\n",
      "Epoch 207/300\n",
      "27/27 [==============================] - 0s 12ms/step - loss: 0.2066 - accuracy: 0.9130 - val_loss: 2.0158 - val_accuracy: 0.4805\n",
      "Epoch 208/300\n",
      "27/27 [==============================] - 0s 12ms/step - loss: 0.1922 - accuracy: 0.9142 - val_loss: 2.0918 - val_accuracy: 0.4756\n",
      "Epoch 209/300\n",
      "27/27 [==============================] - 0s 12ms/step - loss: 0.1808 - accuracy: 0.9154 - val_loss: 2.1092 - val_accuracy: 0.4902\n",
      "Epoch 210/300\n",
      "27/27 [==============================] - 0s 12ms/step - loss: 0.1729 - accuracy: 0.9213 - val_loss: 2.0414 - val_accuracy: 0.5049\n",
      "Epoch 211/300\n",
      "27/27 [==============================] - 0s 13ms/step - loss: 0.1788 - accuracy: 0.9225 - val_loss: 2.1290 - val_accuracy: 0.4683\n",
      "Epoch 212/300\n",
      "27/27 [==============================] - 0s 12ms/step - loss: 0.1783 - accuracy: 0.9201 - val_loss: 2.1388 - val_accuracy: 0.4878\n",
      "Epoch 213/300\n",
      "27/27 [==============================] - 0s 12ms/step - loss: 0.1672 - accuracy: 0.9249 - val_loss: 2.1894 - val_accuracy: 0.4854\n",
      "Epoch 214/300\n",
      "27/27 [==============================] - 0s 12ms/step - loss: 0.1585 - accuracy: 0.9356 - val_loss: 2.2067 - val_accuracy: 0.4780\n",
      "Epoch 215/300\n",
      "27/27 [==============================] - 0s 12ms/step - loss: 0.1572 - accuracy: 0.9404 - val_loss: 2.2787 - val_accuracy: 0.4854\n",
      "Epoch 216/300\n",
      "27/27 [==============================] - 0s 12ms/step - loss: 0.1697 - accuracy: 0.9237 - val_loss: 2.2741 - val_accuracy: 0.5049\n",
      "Epoch 217/300\n",
      "27/27 [==============================] - 0s 12ms/step - loss: 0.1632 - accuracy: 0.9285 - val_loss: 2.2000 - val_accuracy: 0.5098\n",
      "Epoch 218/300\n",
      "27/27 [==============================] - 0s 12ms/step - loss: 0.1727 - accuracy: 0.9273 - val_loss: 2.2072 - val_accuracy: 0.4878\n",
      "Epoch 219/300\n",
      "27/27 [==============================] - 0s 12ms/step - loss: 0.2278 - accuracy: 0.8939 - val_loss: 2.0061 - val_accuracy: 0.4976\n",
      "Epoch 220/300\n",
      "27/27 [==============================] - 0s 12ms/step - loss: 0.2101 - accuracy: 0.9082 - val_loss: 1.9793 - val_accuracy: 0.4829\n",
      "Epoch 221/300\n",
      "27/27 [==============================] - 0s 12ms/step - loss: 0.2405 - accuracy: 0.9082 - val_loss: 2.1061 - val_accuracy: 0.4927\n",
      "Epoch 222/300\n",
      "27/27 [==============================] - 0s 12ms/step - loss: 0.2361 - accuracy: 0.8999 - val_loss: 2.0254 - val_accuracy: 0.4805\n",
      "Epoch 223/300\n",
      "27/27 [==============================] - 0s 12ms/step - loss: 0.1906 - accuracy: 0.9249 - val_loss: 2.0191 - val_accuracy: 0.4951\n",
      "Epoch 224/300\n",
      "27/27 [==============================] - 0s 12ms/step - loss: 0.1891 - accuracy: 0.9190 - val_loss: 1.9720 - val_accuracy: 0.5098\n",
      "Epoch 225/300\n",
      "27/27 [==============================] - 0s 12ms/step - loss: 0.2156 - accuracy: 0.9094 - val_loss: 2.0335 - val_accuracy: 0.4927\n",
      "Epoch 226/300\n",
      "27/27 [==============================] - 0s 12ms/step - loss: 0.1988 - accuracy: 0.9118 - val_loss: 2.0882 - val_accuracy: 0.4976\n",
      "Epoch 227/300\n",
      "27/27 [==============================] - 0s 12ms/step - loss: 0.1934 - accuracy: 0.9273 - val_loss: 2.0546 - val_accuracy: 0.4756\n",
      "Epoch 228/300\n"
     ]
    },
    {
     "name": "stdout",
     "output_type": "stream",
     "text": [
      "27/27 [==============================] - 0s 12ms/step - loss: 0.2004 - accuracy: 0.9261 - val_loss: 2.1601 - val_accuracy: 0.4902\n",
      "Epoch 229/300\n",
      "27/27 [==============================] - 0s 12ms/step - loss: 0.1819 - accuracy: 0.9237 - val_loss: 2.0748 - val_accuracy: 0.4756\n",
      "Epoch 230/300\n",
      "27/27 [==============================] - 0s 12ms/step - loss: 0.1430 - accuracy: 0.9428 - val_loss: 2.0969 - val_accuracy: 0.5122\n",
      "Epoch 231/300\n",
      "27/27 [==============================] - 0s 12ms/step - loss: 0.1328 - accuracy: 0.9487 - val_loss: 2.2478 - val_accuracy: 0.4951\n",
      "Epoch 232/300\n",
      "27/27 [==============================] - 0s 12ms/step - loss: 0.1581 - accuracy: 0.9321 - val_loss: 2.2491 - val_accuracy: 0.4902\n",
      "Epoch 233/300\n",
      "27/27 [==============================] - 0s 12ms/step - loss: 0.1375 - accuracy: 0.9487 - val_loss: 2.2348 - val_accuracy: 0.4976\n",
      "Epoch 234/300\n",
      "27/27 [==============================] - 0s 12ms/step - loss: 0.1276 - accuracy: 0.9547 - val_loss: 2.3045 - val_accuracy: 0.4878\n",
      "Epoch 235/300\n",
      "27/27 [==============================] - 0s 12ms/step - loss: 0.1310 - accuracy: 0.9511 - val_loss: 2.3756 - val_accuracy: 0.5098\n",
      "Epoch 236/300\n",
      "27/27 [==============================] - 0s 12ms/step - loss: 0.1284 - accuracy: 0.9571 - val_loss: 2.3872 - val_accuracy: 0.4976\n",
      "Epoch 237/300\n",
      "27/27 [==============================] - 0s 12ms/step - loss: 0.1302 - accuracy: 0.9583 - val_loss: 2.2444 - val_accuracy: 0.4976\n",
      "Epoch 238/300\n",
      "27/27 [==============================] - 0s 12ms/step - loss: 0.1479 - accuracy: 0.9416 - val_loss: 2.2834 - val_accuracy: 0.4976\n",
      "Epoch 239/300\n",
      "27/27 [==============================] - 0s 12ms/step - loss: 0.1466 - accuracy: 0.9476 - val_loss: 2.4300 - val_accuracy: 0.4829\n",
      "Epoch 240/300\n",
      "27/27 [==============================] - 0s 12ms/step - loss: 0.1601 - accuracy: 0.9368 - val_loss: 2.3031 - val_accuracy: 0.4951\n",
      "Epoch 241/300\n",
      "27/27 [==============================] - 0s 12ms/step - loss: 0.1200 - accuracy: 0.9607 - val_loss: 2.3309 - val_accuracy: 0.4829\n",
      "Epoch 242/300\n",
      "27/27 [==============================] - 0s 12ms/step - loss: 0.1014 - accuracy: 0.9666 - val_loss: 2.5234 - val_accuracy: 0.5024\n",
      "Epoch 243/300\n",
      "27/27 [==============================] - 0s 12ms/step - loss: 0.1100 - accuracy: 0.9583 - val_loss: 2.4293 - val_accuracy: 0.4756\n",
      "Epoch 244/300\n",
      "27/27 [==============================] - 0s 13ms/step - loss: 0.1027 - accuracy: 0.9690 - val_loss: 2.5021 - val_accuracy: 0.4902\n",
      "Epoch 245/300\n",
      "27/27 [==============================] - 0s 12ms/step - loss: 0.1066 - accuracy: 0.9583 - val_loss: 2.5700 - val_accuracy: 0.4805\n",
      "Epoch 246/300\n",
      "27/27 [==============================] - 0s 11ms/step - loss: 0.0910 - accuracy: 0.9642 - val_loss: 2.4926 - val_accuracy: 0.4927\n",
      "Epoch 247/300\n",
      "27/27 [==============================] - 0s 12ms/step - loss: 0.0796 - accuracy: 0.9785 - val_loss: 2.5792 - val_accuracy: 0.4854\n",
      "Epoch 248/300\n",
      "27/27 [==============================] - 0s 12ms/step - loss: 0.0754 - accuracy: 0.9785 - val_loss: 2.5862 - val_accuracy: 0.4756\n",
      "Epoch 249/300\n",
      "27/27 [==============================] - 0s 12ms/step - loss: 0.0745 - accuracy: 0.9797 - val_loss: 2.6184 - val_accuracy: 0.4780\n",
      "Epoch 250/300\n",
      "27/27 [==============================] - 0s 12ms/step - loss: 0.0746 - accuracy: 0.9762 - val_loss: 2.6291 - val_accuracy: 0.4927\n",
      "Epoch 251/300\n",
      "27/27 [==============================] - 0s 12ms/step - loss: 0.0691 - accuracy: 0.9821 - val_loss: 2.6316 - val_accuracy: 0.4829\n",
      "Epoch 252/300\n",
      "27/27 [==============================] - 0s 12ms/step - loss: 0.0698 - accuracy: 0.9762 - val_loss: 2.6489 - val_accuracy: 0.4902\n",
      "Epoch 253/300\n",
      "27/27 [==============================] - 0s 12ms/step - loss: 0.0711 - accuracy: 0.9785 - val_loss: 2.7275 - val_accuracy: 0.4756\n",
      "Epoch 254/300\n",
      "27/27 [==============================] - 0s 12ms/step - loss: 0.0699 - accuracy: 0.9785 - val_loss: 2.7355 - val_accuracy: 0.4854\n",
      "Epoch 255/300\n",
      "27/27 [==============================] - 0s 12ms/step - loss: 0.0657 - accuracy: 0.9809 - val_loss: 2.7846 - val_accuracy: 0.4854\n",
      "Epoch 256/300\n",
      "27/27 [==============================] - 0s 12ms/step - loss: 0.0621 - accuracy: 0.9821 - val_loss: 2.6620 - val_accuracy: 0.4756\n",
      "Epoch 257/300\n",
      "27/27 [==============================] - 0s 12ms/step - loss: 0.0613 - accuracy: 0.9857 - val_loss: 2.7796 - val_accuracy: 0.4756\n",
      "Epoch 258/300\n",
      "27/27 [==============================] - 0s 12ms/step - loss: 0.0545 - accuracy: 0.9893 - val_loss: 2.8100 - val_accuracy: 0.4780\n",
      "Epoch 259/300\n",
      "27/27 [==============================] - 0s 11ms/step - loss: 0.0529 - accuracy: 0.9881 - val_loss: 2.8352 - val_accuracy: 0.4707\n",
      "Epoch 260/300\n",
      "27/27 [==============================] - 0s 12ms/step - loss: 0.0496 - accuracy: 0.9869 - val_loss: 2.7230 - val_accuracy: 0.4854\n",
      "Epoch 261/300\n",
      "27/27 [==============================] - 0s 12ms/step - loss: 0.0597 - accuracy: 0.9833 - val_loss: 2.8163 - val_accuracy: 0.4902\n",
      "Epoch 262/300\n",
      "27/27 [==============================] - 0s 12ms/step - loss: 0.1482 - accuracy: 0.9452 - val_loss: 2.7538 - val_accuracy: 0.4976\n",
      "Epoch 263/300\n",
      "27/27 [==============================] - 0s 12ms/step - loss: 0.1923 - accuracy: 0.9273 - val_loss: 2.5172 - val_accuracy: 0.4878\n",
      "Epoch 264/300\n",
      "27/27 [==============================] - 0s 12ms/step - loss: 0.1292 - accuracy: 0.9547 - val_loss: 2.8823 - val_accuracy: 0.4732\n",
      "Epoch 265/300\n",
      "27/27 [==============================] - 0s 12ms/step - loss: 0.3232 - accuracy: 0.9118 - val_loss: 2.6363 - val_accuracy: 0.5000\n",
      "Epoch 266/300\n",
      "27/27 [==============================] - 0s 12ms/step - loss: 0.3386 - accuracy: 0.8868 - val_loss: 2.0236 - val_accuracy: 0.5049\n",
      "Epoch 267/300\n",
      "27/27 [==============================] - 0s 12ms/step - loss: 0.1962 - accuracy: 0.9344 - val_loss: 2.1240 - val_accuracy: 0.5341\n",
      "Epoch 268/300\n",
      "27/27 [==============================] - 0s 12ms/step - loss: 0.1573 - accuracy: 0.9428 - val_loss: 2.1824 - val_accuracy: 0.5439\n",
      "Epoch 269/300\n",
      "27/27 [==============================] - 0s 12ms/step - loss: 0.1360 - accuracy: 0.9535 - val_loss: 2.1712 - val_accuracy: 0.4829\n",
      "Epoch 270/300\n",
      "27/27 [==============================] - 0s 12ms/step - loss: 0.1085 - accuracy: 0.9642 - val_loss: 2.1935 - val_accuracy: 0.4927\n",
      "Epoch 271/300\n",
      "27/27 [==============================] - 0s 13ms/step - loss: 0.0778 - accuracy: 0.9797 - val_loss: 2.3776 - val_accuracy: 0.4976\n",
      "Epoch 272/300\n",
      "27/27 [==============================] - 0s 12ms/step - loss: 0.0700 - accuracy: 0.9809 - val_loss: 2.2898 - val_accuracy: 0.5024\n",
      "Epoch 273/300\n",
      "27/27 [==============================] - 0s 12ms/step - loss: 0.0583 - accuracy: 0.9881 - val_loss: 2.4652 - val_accuracy: 0.5049\n",
      "Epoch 274/300\n",
      "27/27 [==============================] - 0s 12ms/step - loss: 0.0540 - accuracy: 0.9833 - val_loss: 2.4957 - val_accuracy: 0.4902\n",
      "Epoch 275/300\n",
      "27/27 [==============================] - 0s 12ms/step - loss: 0.0481 - accuracy: 0.9869 - val_loss: 2.5157 - val_accuracy: 0.4976\n",
      "Epoch 276/300\n",
      "27/27 [==============================] - 0s 12ms/step - loss: 0.0423 - accuracy: 0.9905 - val_loss: 2.5079 - val_accuracy: 0.4902\n",
      "Epoch 277/300\n",
      "27/27 [==============================] - 0s 12ms/step - loss: 0.0381 - accuracy: 0.9928 - val_loss: 2.5669 - val_accuracy: 0.4902\n",
      "Epoch 278/300\n",
      "27/27 [==============================] - 0s 12ms/step - loss: 0.0362 - accuracy: 0.9952 - val_loss: 2.5432 - val_accuracy: 0.4780\n",
      "Epoch 279/300\n",
      "27/27 [==============================] - 0s 12ms/step - loss: 0.0552 - accuracy: 0.9809 - val_loss: 2.5787 - val_accuracy: 0.4976\n",
      "Epoch 280/300\n",
      "27/27 [==============================] - 0s 13ms/step - loss: 0.1136 - accuracy: 0.9702 - val_loss: 2.5595 - val_accuracy: 0.4707\n",
      "Epoch 281/300\n",
      "27/27 [==============================] - 0s 14ms/step - loss: 0.0578 - accuracy: 0.9833 - val_loss: 2.4876 - val_accuracy: 0.4951\n",
      "Epoch 282/300\n",
      "27/27 [==============================] - 0s 14ms/step - loss: 0.0368 - accuracy: 0.9893 - val_loss: 2.6165 - val_accuracy: 0.4976\n",
      "Epoch 283/300\n",
      "27/27 [==============================] - 0s 14ms/step - loss: 0.0309 - accuracy: 0.9928 - val_loss: 2.6341 - val_accuracy: 0.4951\n",
      "Epoch 284/300\n",
      "27/27 [==============================] - 0s 14ms/step - loss: 0.0356 - accuracy: 0.9917 - val_loss: 2.6432 - val_accuracy: 0.4951\n"
     ]
    },
    {
     "name": "stdout",
     "output_type": "stream",
     "text": [
      "Epoch 285/300\n",
      "27/27 [==============================] - 0s 13ms/step - loss: 0.0358 - accuracy: 0.9881 - val_loss: 2.6817 - val_accuracy: 0.4854\n",
      "Epoch 286/300\n",
      "27/27 [==============================] - 0s 13ms/step - loss: 0.0377 - accuracy: 0.9917 - val_loss: 2.7595 - val_accuracy: 0.4976\n",
      "Epoch 287/300\n",
      "27/27 [==============================] - 0s 13ms/step - loss: 0.0311 - accuracy: 0.9940 - val_loss: 2.7370 - val_accuracy: 0.5000\n",
      "Epoch 288/300\n",
      "27/27 [==============================] - 0s 13ms/step - loss: 0.0263 - accuracy: 0.9964 - val_loss: 2.6670 - val_accuracy: 0.4951\n",
      "Epoch 289/300\n",
      "27/27 [==============================] - 0s 13ms/step - loss: 0.0312 - accuracy: 0.9940 - val_loss: 2.7324 - val_accuracy: 0.4927\n",
      "Epoch 290/300\n",
      "27/27 [==============================] - 0s 13ms/step - loss: 0.0476 - accuracy: 0.9905 - val_loss: 2.7346 - val_accuracy: 0.5049\n",
      "Epoch 291/300\n",
      "27/27 [==============================] - 0s 13ms/step - loss: 0.0485 - accuracy: 0.9845 - val_loss: 2.8376 - val_accuracy: 0.4951\n",
      "Epoch 292/300\n",
      "27/27 [==============================] - 0s 13ms/step - loss: 0.0591 - accuracy: 0.9821 - val_loss: 2.8153 - val_accuracy: 0.4805\n",
      "Epoch 293/300\n",
      "27/27 [==============================] - 0s 13ms/step - loss: 0.0495 - accuracy: 0.9869 - val_loss: 2.8912 - val_accuracy: 0.5073\n",
      "Epoch 294/300\n",
      "27/27 [==============================] - 0s 13ms/step - loss: 0.0813 - accuracy: 0.9785 - val_loss: 2.7739 - val_accuracy: 0.4805\n",
      "Epoch 295/300\n",
      "27/27 [==============================] - 0s 12ms/step - loss: 0.2029 - accuracy: 0.9368 - val_loss: 2.7188 - val_accuracy: 0.5000\n",
      "Epoch 296/300\n",
      "27/27 [==============================] - 0s 12ms/step - loss: 0.1881 - accuracy: 0.9356 - val_loss: 2.7895 - val_accuracy: 0.4902\n",
      "Epoch 297/300\n",
      "27/27 [==============================] - 0s 12ms/step - loss: 0.1266 - accuracy: 0.9583 - val_loss: 2.7334 - val_accuracy: 0.5049\n",
      "Epoch 298/300\n",
      "27/27 [==============================] - 0s 12ms/step - loss: 0.1327 - accuracy: 0.9583 - val_loss: 2.6902 - val_accuracy: 0.4829\n",
      "Epoch 299/300\n",
      "27/27 [==============================] - 0s 12ms/step - loss: 0.0868 - accuracy: 0.9750 - val_loss: 2.7125 - val_accuracy: 0.5024\n",
      "Epoch 300/300\n",
      "27/27 [==============================] - 0s 12ms/step - loss: 0.1096 - accuracy: 0.9750 - val_loss: 2.6898 - val_accuracy: 0.5244\n"
     ]
    }
   ],
   "source": [
    "r = model.fit(X_train , Y_train ,  batch_size = 32 ,epochs = 300 , validation_data = (X_test,Y_test))"
   ]
  },
  {
   "cell_type": "code",
   "execution_count": 60,
   "metadata": {},
   "outputs": [
    {
     "data": {
      "image/png": "[encoded data removed]",
      "text/plain": [
       "<Figure size 432x288 with 1 Axes>"
      ]
     },
     "metadata": {
      "needs_background": "light"
     },
     "output_type": "display_data"
    }
   ],
   "source": [
    "# plot the loss\n",
    "plt.plot(r.history['loss'], label='loss')\n",
    "plt.plot(r.history['val_loss'], label='val_loss')\n",
    "plt.legend()\n",
    "plt.show()"
   ]
  },
  {
   "cell_type": "code",
   "execution_count": 61,
   "metadata": {},
   "outputs": [
    {
     "data": {
      "image/png": "[encoded data removed]",
      "text/plain": [
       "<Figure size 432x288 with 1 Axes>"
      ]
     },
     "metadata": {
      "needs_background": "light"
     },
     "output_type": "display_data"
    }
   ],
   "source": [
    "# Plot accuracy per iteration\n",
    "plt.plot(r.history['accuracy'], label='accuracy')\n",
    "plt.plot(r.history['val_accuracy'], label='val_accuracy')\n",
    "plt.legend()\n",
    "plt.show()"
   ]
  },
  {
   "cell_type": "code",
   "execution_count": 56,
   "metadata": {},
   "outputs": [],
   "source": [
    "## For binary classification , the worst accuracy is 50% not 0 %"
   ]
  },
  {
   "cell_type": "code",
   "execution_count": null,
   "metadata": {},
   "outputs": [],
   "source": []
  }
 ],
 "metadata": {
  "kernelspec": {
   "display_name": "Python 3",
   "language": "python",
   "name": "python3"
  },
  "language_info": {
   "codemirror_mode": {
    "name": "ipython",
    "version": 3
   },
   "file_extension": ".py",
   "mimetype": "text/x-python",
   "name": "python",
   "nbconvert_exporter": "python",
   "pygments_lexer": "ipython3",
   "version": "3.6.10"
  }
 },
 "nbformat": 4,
 "nbformat_minor": 4
}
