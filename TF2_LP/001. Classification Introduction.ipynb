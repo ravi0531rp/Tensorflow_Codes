{
 "cells": [
  {
   "cell_type": "code",
   "execution_count": 1,
   "metadata": {},
   "outputs": [],
   "source": [
    "from sklearn.datasets import load_breast_cancer"
   ]
  },
  {
   "cell_type": "code",
   "execution_count": 2,
   "metadata": {},
   "outputs": [],
   "source": [
    "data = load_breast_cancer()"
   ]
  },
  {
   "cell_type": "code",
   "execution_count": 3,
   "metadata": {},
   "outputs": [
    {
     "data": {
      "text/plain": [
       "sklearn.utils.Bunch"
      ]
     },
     "execution_count": 3,
     "metadata": {},
     "output_type": "execute_result"
    }
   ],
   "source": [
    "type(data)"
   ]
  },
  {
   "cell_type": "code",
   "execution_count": 4,
   "metadata": {},
   "outputs": [
    {
     "data": {
      "text/plain": [
       "dict_keys(['data', 'target', 'frame', 'target_names', 'DESCR', 'feature_names', 'filename'])"
      ]
     },
     "execution_count": 4,
     "metadata": {},
     "output_type": "execute_result"
    }
   ],
   "source": [
    "data.keys()"
   ]
  },
  {
   "cell_type": "code",
   "execution_count": 5,
   "metadata": {},
   "outputs": [
    {
     "data": {
      "text/plain": [
       "(569, 30)"
      ]
     },
     "execution_count": 5,
     "metadata": {},
     "output_type": "execute_result"
    }
   ],
   "source": [
    "data.data.shape  # 569 samples & 30 features"
   ]
  },
  {
   "cell_type": "code",
   "execution_count": 6,
   "metadata": {},
   "outputs": [
    {
     "data": {
      "text/plain": [
       "array([0, 0, 0, 0, 0, 0, 0, 0, 0, 0, 0, 0, 0, 0, 0, 0, 0, 0, 0, 1, 1, 1,\n",
       "       0, 0, 0, 0, 0, 0, 0, 0, 0, 0, 0, 0, 0, 0, 0, 1, 0, 0, 0, 0, 0, 0,\n",
       "       0, 0, 1, 0, 1, 1, 1, 1, 1, 0, 0, 1, 0, 0, 1, 1, 1, 1, 0, 1, 0, 0,\n",
       "       1, 1, 1, 1, 0, 1, 0, 0, 1, 0, 1, 0, 0, 1, 1, 1, 0, 0, 1, 0, 0, 0,\n",
       "       1, 1, 1, 0, 1, 1, 0, 0, 1, 1, 1, 0, 0, 1, 1, 1, 1, 0, 1, 1, 0, 1,\n",
       "       1, 1, 1, 1, 1, 1, 1, 0, 0, 0, 1, 0, 0, 1, 1, 1, 0, 0, 1, 0, 1, 0,\n",
       "       0, 1, 0, 0, 1, 1, 0, 1, 1, 0, 1, 1, 1, 1, 0, 1, 1, 1, 1, 1, 1, 1,\n",
       "       1, 1, 0, 1, 1, 1, 1, 0, 0, 1, 0, 1, 1, 0, 0, 1, 1, 0, 0, 1, 1, 1,\n",
       "       1, 0, 1, 1, 0, 0, 0, 1, 0, 1, 0, 1, 1, 1, 0, 1, 1, 0, 0, 1, 0, 0,\n",
       "       0, 0, 1, 0, 0, 0, 1, 0, 1, 0, 1, 1, 0, 1, 0, 0, 0, 0, 1, 1, 0, 0,\n",
       "       1, 1, 1, 0, 1, 1, 1, 1, 1, 0, 0, 1, 1, 0, 1, 1, 0, 0, 1, 0, 1, 1,\n",
       "       1, 1, 0, 1, 1, 1, 1, 1, 0, 1, 0, 0, 0, 0, 0, 0, 0, 0, 0, 0, 0, 0,\n",
       "       0, 0, 1, 1, 1, 1, 1, 1, 0, 1, 0, 1, 1, 0, 1, 1, 0, 1, 0, 0, 1, 1,\n",
       "       1, 1, 1, 1, 1, 1, 1, 1, 1, 1, 1, 0, 1, 1, 0, 1, 0, 1, 1, 1, 1, 1,\n",
       "       1, 1, 1, 1, 1, 1, 1, 1, 1, 0, 1, 1, 1, 0, 1, 0, 1, 1, 1, 1, 0, 0,\n",
       "       0, 1, 1, 1, 1, 0, 1, 0, 1, 0, 1, 1, 1, 0, 1, 1, 1, 1, 1, 1, 1, 0,\n",
       "       0, 0, 1, 1, 1, 1, 1, 1, 1, 1, 1, 1, 1, 0, 0, 1, 0, 0, 0, 1, 0, 0,\n",
       "       1, 1, 1, 1, 1, 0, 1, 1, 1, 1, 1, 0, 1, 1, 1, 0, 1, 1, 0, 0, 1, 1,\n",
       "       1, 1, 1, 1, 0, 1, 1, 1, 1, 1, 1, 1, 0, 1, 1, 1, 1, 1, 0, 1, 1, 0,\n",
       "       1, 1, 1, 1, 1, 1, 1, 1, 1, 1, 1, 1, 0, 1, 0, 0, 1, 0, 1, 1, 1, 1,\n",
       "       1, 0, 1, 1, 0, 1, 0, 1, 1, 0, 1, 0, 1, 1, 1, 1, 1, 1, 1, 1, 0, 0,\n",
       "       1, 1, 1, 1, 1, 1, 0, 1, 1, 1, 1, 1, 1, 1, 1, 1, 1, 0, 1, 1, 1, 1,\n",
       "       1, 1, 1, 0, 1, 0, 1, 1, 0, 1, 1, 1, 1, 1, 0, 0, 1, 0, 1, 0, 1, 1,\n",
       "       1, 1, 1, 0, 1, 1, 0, 1, 0, 1, 0, 0, 1, 1, 1, 0, 1, 1, 1, 1, 1, 1,\n",
       "       1, 1, 1, 1, 1, 0, 1, 0, 0, 1, 1, 1, 1, 1, 1, 1, 1, 1, 1, 1, 1, 1,\n",
       "       1, 1, 1, 1, 1, 1, 1, 1, 1, 1, 1, 1, 0, 0, 0, 0, 0, 0, 1])"
      ]
     },
     "execution_count": 6,
     "metadata": {},
     "output_type": "execute_result"
    }
   ],
   "source": [
    "data.target"
   ]
  },
  {
   "cell_type": "code",
   "execution_count": 7,
   "metadata": {},
   "outputs": [
    {
     "data": {
      "text/plain": [
       "array(['malignant', 'benign'], dtype='<U9')"
      ]
     },
     "execution_count": 7,
     "metadata": {},
     "output_type": "execute_result"
    }
   ],
   "source": [
    "data.target_names"
   ]
  },
  {
   "cell_type": "code",
   "execution_count": 8,
   "metadata": {},
   "outputs": [
    {
     "data": {
      "text/plain": [
       "(569,)"
      ]
     },
     "execution_count": 8,
     "metadata": {},
     "output_type": "execute_result"
    }
   ],
   "source": [
    "data.target.shape"
   ]
  },
  {
   "cell_type": "code",
   "execution_count": 9,
   "metadata": {},
   "outputs": [
    {
     "data": {
      "text/plain": [
       "array(['mean radius', 'mean texture', 'mean perimeter', 'mean area',\n",
       "       'mean smoothness', 'mean compactness', 'mean concavity',\n",
       "       'mean concave points', 'mean symmetry', 'mean fractal dimension',\n",
       "       'radius error', 'texture error', 'perimeter error', 'area error',\n",
       "       'smoothness error', 'compactness error', 'concavity error',\n",
       "       'concave points error', 'symmetry error',\n",
       "       'fractal dimension error', 'worst radius', 'worst texture',\n",
       "       'worst perimeter', 'worst area', 'worst smoothness',\n",
       "       'worst compactness', 'worst concavity', 'worst concave points',\n",
       "       'worst symmetry', 'worst fractal dimension'], dtype='<U23')"
      ]
     },
     "execution_count": 9,
     "metadata": {},
     "output_type": "execute_result"
    }
   ],
   "source": [
    "data.feature_names"
   ]
  },
  {
   "cell_type": "code",
   "execution_count": 10,
   "metadata": {},
   "outputs": [],
   "source": [
    "from sklearn.model_selection import train_test_split"
   ]
  },
  {
   "cell_type": "code",
   "execution_count": 11,
   "metadata": {},
   "outputs": [],
   "source": [
    "X_train, X_test , y_train , y_test = train_test_split(data.data, data.target , test_size = 0.33)"
   ]
  },
  {
   "cell_type": "code",
   "execution_count": 12,
   "metadata": {},
   "outputs": [
    {
     "data": {
      "text/plain": [
       "(381, 30)"
      ]
     },
     "execution_count": 12,
     "metadata": {},
     "output_type": "execute_result"
    }
   ],
   "source": [
    "X_train.shape"
   ]
  },
  {
   "cell_type": "code",
   "execution_count": 13,
   "metadata": {},
   "outputs": [
    {
     "data": {
      "text/plain": [
       "(381,)"
      ]
     },
     "execution_count": 13,
     "metadata": {},
     "output_type": "execute_result"
    }
   ],
   "source": [
    "y_train.shape"
   ]
  },
  {
   "cell_type": "code",
   "execution_count": 14,
   "metadata": {},
   "outputs": [],
   "source": [
    "from sklearn.preprocessing import StandardScaler"
   ]
  },
  {
   "cell_type": "code",
   "execution_count": 15,
   "metadata": {},
   "outputs": [],
   "source": [
    "scaler = StandardScaler()"
   ]
  },
  {
   "cell_type": "code",
   "execution_count": 16,
   "metadata": {},
   "outputs": [],
   "source": [
    "X_train = scaler.fit_transform(X_train)\n",
    "X_test = scaler.transform(X_test)"
   ]
  },
  {
   "cell_type": "code",
   "execution_count": 17,
   "metadata": {},
   "outputs": [],
   "source": [
    "import tensorflow as tf"
   ]
  },
  {
   "cell_type": "code",
   "execution_count": 18,
   "metadata": {},
   "outputs": [],
   "source": [
    "model = tf.keras.models.Sequential()\n",
    "model.add(tf.keras.layers.Dense(1,input_shape=(30,) , activation= 'sigmoid'))\n"
   ]
  },
  {
   "cell_type": "code",
   "execution_count": 19,
   "metadata": {},
   "outputs": [],
   "source": [
    "model.compile(optimizer = 'adam' , loss = 'binary_crossentropy' , metrics=['accuracy'])"
   ]
  },
  {
   "cell_type": "code",
   "execution_count": 20,
   "metadata": {},
   "outputs": [
    {
     "name": "stdout",
     "output_type": "stream",
     "text": [
      "Epoch 1/100\n",
      "12/12 [==============================] - 0s 32ms/step - loss: 0.5814 - accuracy: 0.6719 - val_loss: 0.6056 - val_accuracy: 0.7447\n",
      "Epoch 2/100\n",
      "12/12 [==============================] - 0s 4ms/step - loss: 0.5319 - accuracy: 0.7323 - val_loss: 0.5579 - val_accuracy: 0.7819\n",
      "Epoch 3/100\n",
      "12/12 [==============================] - 0s 4ms/step - loss: 0.4914 - accuracy: 0.7664 - val_loss: 0.5153 - val_accuracy: 0.7979\n",
      "Epoch 4/100\n",
      "12/12 [==============================] - 0s 4ms/step - loss: 0.4552 - accuracy: 0.8031 - val_loss: 0.4790 - val_accuracy: 0.8085\n",
      "Epoch 5/100\n",
      "12/12 [==============================] - 0s 4ms/step - loss: 0.4245 - accuracy: 0.8294 - val_loss: 0.4475 - val_accuracy: 0.8085\n",
      "Epoch 6/100\n",
      "12/12 [==============================] - 0s 10ms/step - loss: 0.3981 - accuracy: 0.8451 - val_loss: 0.4198 - val_accuracy: 0.8245\n",
      "Epoch 7/100\n",
      "12/12 [==============================] - 0s 4ms/step - loss: 0.3748 - accuracy: 0.8635 - val_loss: 0.3954 - val_accuracy: 0.8298\n",
      "Epoch 8/100\n",
      "12/12 [==============================] - 0s 4ms/step - loss: 0.3545 - accuracy: 0.8871 - val_loss: 0.3741 - val_accuracy: 0.8457\n",
      "Epoch 9/100\n",
      "12/12 [==============================] - 0s 4ms/step - loss: 0.3366 - accuracy: 0.8950 - val_loss: 0.3544 - val_accuracy: 0.8670\n",
      "Epoch 10/100\n",
      "12/12 [==============================] - 0s 4ms/step - loss: 0.3205 - accuracy: 0.9029 - val_loss: 0.3371 - val_accuracy: 0.8723\n",
      "Epoch 11/100\n",
      "12/12 [==============================] - 0s 5ms/step - loss: 0.3062 - accuracy: 0.9081 - val_loss: 0.3211 - val_accuracy: 0.8830\n",
      "Epoch 12/100\n",
      "12/12 [==============================] - 0s 5ms/step - loss: 0.2928 - accuracy: 0.9108 - val_loss: 0.3069 - val_accuracy: 0.8989\n",
      "Epoch 13/100\n",
      "12/12 [==============================] - 0s 6ms/step - loss: 0.2812 - accuracy: 0.9134 - val_loss: 0.2938 - val_accuracy: 0.9043\n",
      "Epoch 14/100\n",
      "12/12 [==============================] - 0s 5ms/step - loss: 0.2705 - accuracy: 0.9186 - val_loss: 0.2820 - val_accuracy: 0.9149\n",
      "Epoch 15/100\n",
      "12/12 [==============================] - 0s 4ms/step - loss: 0.2608 - accuracy: 0.9186 - val_loss: 0.2709 - val_accuracy: 0.9255\n",
      "Epoch 16/100\n",
      "12/12 [==============================] - 0s 4ms/step - loss: 0.2517 - accuracy: 0.9239 - val_loss: 0.2609 - val_accuracy: 0.9255\n",
      "Epoch 17/100\n",
      "12/12 [==============================] - 0s 4ms/step - loss: 0.2435 - accuracy: 0.9265 - val_loss: 0.2516 - val_accuracy: 0.9309\n",
      "Epoch 18/100\n",
      "12/12 [==============================] - 0s 4ms/step - loss: 0.2360 - accuracy: 0.9291 - val_loss: 0.2430 - val_accuracy: 0.9309\n",
      "Epoch 19/100\n",
      "12/12 [==============================] - 0s 5ms/step - loss: 0.2287 - accuracy: 0.9318 - val_loss: 0.2353 - val_accuracy: 0.9362\n",
      "Epoch 20/100\n",
      "12/12 [==============================] - 0s 5ms/step - loss: 0.2224 - accuracy: 0.9344 - val_loss: 0.2279 - val_accuracy: 0.9415\n",
      "Epoch 21/100\n",
      "12/12 [==============================] - 0s 5ms/step - loss: 0.2161 - accuracy: 0.9423 - val_loss: 0.2211 - val_accuracy: 0.9415\n",
      "Epoch 22/100\n",
      "12/12 [==============================] - 0s 5ms/step - loss: 0.2104 - accuracy: 0.9423 - val_loss: 0.2149 - val_accuracy: 0.9415\n",
      "Epoch 23/100\n",
      "12/12 [==============================] - 0s 6ms/step - loss: 0.2052 - accuracy: 0.9449 - val_loss: 0.2091 - val_accuracy: 0.9415\n",
      "Epoch 24/100\n",
      "12/12 [==============================] - 0s 4ms/step - loss: 0.2001 - accuracy: 0.9475 - val_loss: 0.2037 - val_accuracy: 0.9468\n",
      "Epoch 25/100\n",
      "12/12 [==============================] - 0s 5ms/step - loss: 0.1954 - accuracy: 0.9475 - val_loss: 0.1988 - val_accuracy: 0.9468\n",
      "Epoch 26/100\n",
      "12/12 [==============================] - 0s 4ms/step - loss: 0.1912 - accuracy: 0.9475 - val_loss: 0.1940 - val_accuracy: 0.9521\n",
      "Epoch 27/100\n",
      "12/12 [==============================] - 0s 5ms/step - loss: 0.1871 - accuracy: 0.9475 - val_loss: 0.1895 - val_accuracy: 0.9521\n",
      "Epoch 28/100\n",
      "12/12 [==============================] - 0s 5ms/step - loss: 0.1830 - accuracy: 0.9475 - val_loss: 0.1853 - val_accuracy: 0.9521\n",
      "Epoch 29/100\n",
      "12/12 [==============================] - ETA: 0s - loss: 0.1414 - accuracy: 0.96 - 0s 5ms/step - loss: 0.1793 - accuracy: 0.9475 - val_loss: 0.1813 - val_accuracy: 0.9468\n",
      "Epoch 30/100\n",
      "12/12 [==============================] - 0s 5ms/step - loss: 0.1758 - accuracy: 0.9475 - val_loss: 0.1775 - val_accuracy: 0.9521\n",
      "Epoch 31/100\n",
      "12/12 [==============================] - 0s 5ms/step - loss: 0.1726 - accuracy: 0.9501 - val_loss: 0.1738 - val_accuracy: 0.9521\n",
      "Epoch 32/100\n",
      "12/12 [==============================] - 0s 5ms/step - loss: 0.1694 - accuracy: 0.9501 - val_loss: 0.1706 - val_accuracy: 0.9521\n",
      "Epoch 33/100\n",
      "12/12 [==============================] - 0s 5ms/step - loss: 0.1665 - accuracy: 0.9501 - val_loss: 0.1674 - val_accuracy: 0.9628\n",
      "Epoch 34/100\n",
      "12/12 [==============================] - 0s 5ms/step - loss: 0.1635 - accuracy: 0.9501 - val_loss: 0.1645 - val_accuracy: 0.9628\n",
      "Epoch 35/100\n",
      "12/12 [==============================] - 0s 5ms/step - loss: 0.1608 - accuracy: 0.9528 - val_loss: 0.1618 - val_accuracy: 0.9628\n",
      "Epoch 36/100\n",
      "12/12 [==============================] - 0s 4ms/step - loss: 0.1583 - accuracy: 0.9528 - val_loss: 0.1591 - val_accuracy: 0.9681\n",
      "Epoch 37/100\n",
      "12/12 [==============================] - 0s 4ms/step - loss: 0.1559 - accuracy: 0.9528 - val_loss: 0.1565 - val_accuracy: 0.9681\n",
      "Epoch 38/100\n",
      "12/12 [==============================] - 0s 4ms/step - loss: 0.1535 - accuracy: 0.9554 - val_loss: 0.1540 - val_accuracy: 0.9734\n",
      "Epoch 39/100\n",
      "12/12 [==============================] - 0s 4ms/step - loss: 0.1511 - accuracy: 0.9554 - val_loss: 0.1518 - val_accuracy: 0.9734\n",
      "Epoch 40/100\n",
      "12/12 [==============================] - 0s 4ms/step - loss: 0.1491 - accuracy: 0.9554 - val_loss: 0.1496 - val_accuracy: 0.9734\n",
      "Epoch 41/100\n",
      "12/12 [==============================] - 0s 4ms/step - loss: 0.1469 - accuracy: 0.9554 - val_loss: 0.1474 - val_accuracy: 0.9734\n",
      "Epoch 42/100\n",
      "12/12 [==============================] - 0s 5ms/step - loss: 0.1450 - accuracy: 0.9554 - val_loss: 0.1454 - val_accuracy: 0.9734\n",
      "Epoch 43/100\n",
      "12/12 [==============================] - 0s 5ms/step - loss: 0.1431 - accuracy: 0.9554 - val_loss: 0.1433 - val_accuracy: 0.9734\n",
      "Epoch 44/100\n",
      "12/12 [==============================] - 0s 4ms/step - loss: 0.1412 - accuracy: 0.9554 - val_loss: 0.1414 - val_accuracy: 0.9734\n",
      "Epoch 45/100\n",
      "12/12 [==============================] - 0s 4ms/step - loss: 0.1396 - accuracy: 0.9580 - val_loss: 0.1398 - val_accuracy: 0.9734\n",
      "Epoch 46/100\n",
      "12/12 [==============================] - ETA: 0s - loss: 0.1185 - accuracy: 0.96 - 0s 4ms/step - loss: 0.1378 - accuracy: 0.9606 - val_loss: 0.1380 - val_accuracy: 0.9734\n",
      "Epoch 47/100\n",
      "12/12 [==============================] - 0s 4ms/step - loss: 0.1361 - accuracy: 0.9606 - val_loss: 0.1363 - val_accuracy: 0.9734\n",
      "Epoch 48/100\n",
      "12/12 [==============================] - 0s 4ms/step - loss: 0.1346 - accuracy: 0.9633 - val_loss: 0.1348 - val_accuracy: 0.9734\n",
      "Epoch 49/100\n",
      "12/12 [==============================] - 0s 4ms/step - loss: 0.1330 - accuracy: 0.9659 - val_loss: 0.1333 - val_accuracy: 0.9681\n",
      "Epoch 50/100\n",
      "12/12 [==============================] - 0s 5ms/step - loss: 0.1316 - accuracy: 0.9659 - val_loss: 0.1318 - val_accuracy: 0.9681\n",
      "Epoch 51/100\n",
      "12/12 [==============================] - 0s 5ms/step - loss: 0.1301 - accuracy: 0.9685 - val_loss: 0.1303 - val_accuracy: 0.9681\n",
      "Epoch 52/100\n",
      "12/12 [==============================] - 0s 5ms/step - loss: 0.1288 - accuracy: 0.9685 - val_loss: 0.1288 - val_accuracy: 0.9734\n",
      "Epoch 53/100\n",
      "12/12 [==============================] - 0s 5ms/step - loss: 0.1275 - accuracy: 0.9685 - val_loss: 0.1275 - val_accuracy: 0.9734\n",
      "Epoch 54/100\n",
      "12/12 [==============================] - 0s 4ms/step - loss: 0.1262 - accuracy: 0.9685 - val_loss: 0.1263 - val_accuracy: 0.9734\n",
      "Epoch 55/100\n",
      "12/12 [==============================] - 0s 4ms/step - loss: 0.1250 - accuracy: 0.9685 - val_loss: 0.1250 - val_accuracy: 0.9734\n",
      "Epoch 56/100\n",
      "12/12 [==============================] - 0s 4ms/step - loss: 0.1238 - accuracy: 0.9685 - val_loss: 0.1238 - val_accuracy: 0.9734\n",
      "Epoch 57/100\n",
      "12/12 [==============================] - 0s 4ms/step - loss: 0.1226 - accuracy: 0.9685 - val_loss: 0.1227 - val_accuracy: 0.9734\n",
      "Epoch 58/100\n"
     ]
    },
    {
     "name": "stdout",
     "output_type": "stream",
     "text": [
      "12/12 [==============================] - 0s 4ms/step - loss: 0.1215 - accuracy: 0.9685 - val_loss: 0.1215 - val_accuracy: 0.9734\n",
      "Epoch 59/100\n",
      "12/12 [==============================] - 0s 4ms/step - loss: 0.1204 - accuracy: 0.9685 - val_loss: 0.1205 - val_accuracy: 0.9734\n",
      "Epoch 60/100\n",
      "12/12 [==============================] - 0s 4ms/step - loss: 0.1194 - accuracy: 0.9711 - val_loss: 0.1194 - val_accuracy: 0.9734\n",
      "Epoch 61/100\n",
      "12/12 [==============================] - 0s 4ms/step - loss: 0.1183 - accuracy: 0.9711 - val_loss: 0.1185 - val_accuracy: 0.9734\n",
      "Epoch 62/100\n",
      "12/12 [==============================] - 0s 5ms/step - loss: 0.1173 - accuracy: 0.9711 - val_loss: 0.1173 - val_accuracy: 0.9734\n",
      "Epoch 63/100\n",
      "12/12 [==============================] - 0s 6ms/step - loss: 0.1163 - accuracy: 0.9711 - val_loss: 0.1163 - val_accuracy: 0.9734\n",
      "Epoch 64/100\n",
      "12/12 [==============================] - 0s 5ms/step - loss: 0.1155 - accuracy: 0.9711 - val_loss: 0.1155 - val_accuracy: 0.9734\n",
      "Epoch 65/100\n",
      "12/12 [==============================] - 0s 4ms/step - loss: 0.1145 - accuracy: 0.9738 - val_loss: 0.1146 - val_accuracy: 0.9734\n",
      "Epoch 66/100\n",
      "12/12 [==============================] - 0s 4ms/step - loss: 0.1137 - accuracy: 0.9738 - val_loss: 0.1137 - val_accuracy: 0.9734\n",
      "Epoch 67/100\n",
      "12/12 [==============================] - 0s 4ms/step - loss: 0.1127 - accuracy: 0.9738 - val_loss: 0.1129 - val_accuracy: 0.9734\n",
      "Epoch 68/100\n",
      "12/12 [==============================] - 0s 4ms/step - loss: 0.1119 - accuracy: 0.9738 - val_loss: 0.1119 - val_accuracy: 0.9734\n",
      "Epoch 69/100\n",
      "12/12 [==============================] - 0s 5ms/step - loss: 0.1111 - accuracy: 0.9738 - val_loss: 0.1110 - val_accuracy: 0.9734\n",
      "Epoch 70/100\n",
      "12/12 [==============================] - 0s 5ms/step - loss: 0.1103 - accuracy: 0.9738 - val_loss: 0.1102 - val_accuracy: 0.9734\n",
      "Epoch 71/100\n",
      "12/12 [==============================] - 0s 5ms/step - loss: 0.1095 - accuracy: 0.9738 - val_loss: 0.1095 - val_accuracy: 0.9734\n",
      "Epoch 72/100\n",
      "12/12 [==============================] - 0s 5ms/step - loss: 0.1087 - accuracy: 0.9738 - val_loss: 0.1087 - val_accuracy: 0.9734\n",
      "Epoch 73/100\n",
      "12/12 [==============================] - 0s 5ms/step - loss: 0.1080 - accuracy: 0.9738 - val_loss: 0.1079 - val_accuracy: 0.9734\n",
      "Epoch 74/100\n",
      "12/12 [==============================] - 0s 4ms/step - loss: 0.1073 - accuracy: 0.9738 - val_loss: 0.1073 - val_accuracy: 0.9734\n",
      "Epoch 75/100\n",
      "12/12 [==============================] - 0s 4ms/step - loss: 0.1066 - accuracy: 0.9738 - val_loss: 0.1064 - val_accuracy: 0.9734\n",
      "Epoch 76/100\n",
      "12/12 [==============================] - 0s 4ms/step - loss: 0.1059 - accuracy: 0.9738 - val_loss: 0.1059 - val_accuracy: 0.9734\n",
      "Epoch 77/100\n",
      "12/12 [==============================] - 0s 4ms/step - loss: 0.1052 - accuracy: 0.9738 - val_loss: 0.1052 - val_accuracy: 0.9734\n",
      "Epoch 78/100\n",
      "12/12 [==============================] - 0s 4ms/step - loss: 0.1046 - accuracy: 0.9738 - val_loss: 0.1045 - val_accuracy: 0.9734\n",
      "Epoch 79/100\n",
      "12/12 [==============================] - 0s 4ms/step - loss: 0.1039 - accuracy: 0.9738 - val_loss: 0.1041 - val_accuracy: 0.9734\n",
      "Epoch 80/100\n",
      "12/12 [==============================] - 0s 4ms/step - loss: 0.1033 - accuracy: 0.9738 - val_loss: 0.1034 - val_accuracy: 0.9734\n",
      "Epoch 81/100\n",
      "12/12 [==============================] - 0s 4ms/step - loss: 0.1027 - accuracy: 0.9738 - val_loss: 0.1028 - val_accuracy: 0.9734\n",
      "Epoch 82/100\n",
      "12/12 [==============================] - 0s 4ms/step - loss: 0.1021 - accuracy: 0.9738 - val_loss: 0.1023 - val_accuracy: 0.9734\n",
      "Epoch 83/100\n",
      "12/12 [==============================] - 0s 5ms/step - loss: 0.1015 - accuracy: 0.9738 - val_loss: 0.1016 - val_accuracy: 0.9734\n",
      "Epoch 84/100\n",
      "12/12 [==============================] - 0s 5ms/step - loss: 0.1010 - accuracy: 0.9738 - val_loss: 0.1011 - val_accuracy: 0.9734\n",
      "Epoch 85/100\n",
      "12/12 [==============================] - 0s 5ms/step - loss: 0.1004 - accuracy: 0.9738 - val_loss: 0.1004 - val_accuracy: 0.9734\n",
      "Epoch 86/100\n",
      "12/12 [==============================] - 0s 5ms/step - loss: 0.0999 - accuracy: 0.9738 - val_loss: 0.1000 - val_accuracy: 0.9734\n",
      "Epoch 87/100\n",
      "12/12 [==============================] - 0s 4ms/step - loss: 0.0993 - accuracy: 0.9738 - val_loss: 0.0994 - val_accuracy: 0.9681\n",
      "Epoch 88/100\n",
      "12/12 [==============================] - 0s 4ms/step - loss: 0.0988 - accuracy: 0.9738 - val_loss: 0.0989 - val_accuracy: 0.9681\n",
      "Epoch 89/100\n",
      "12/12 [==============================] - 0s 4ms/step - loss: 0.0983 - accuracy: 0.9738 - val_loss: 0.0983 - val_accuracy: 0.9681\n",
      "Epoch 90/100\n",
      "12/12 [==============================] - 0s 4ms/step - loss: 0.0978 - accuracy: 0.9738 - val_loss: 0.0978 - val_accuracy: 0.9681\n",
      "Epoch 91/100\n",
      "12/12 [==============================] - 0s 5ms/step - loss: 0.0973 - accuracy: 0.9738 - val_loss: 0.0973 - val_accuracy: 0.9681\n",
      "Epoch 92/100\n",
      "12/12 [==============================] - 0s 4ms/step - loss: 0.0968 - accuracy: 0.9738 - val_loss: 0.0967 - val_accuracy: 0.9681\n",
      "Epoch 93/100\n",
      "12/12 [==============================] - 0s 4ms/step - loss: 0.0963 - accuracy: 0.9764 - val_loss: 0.0964 - val_accuracy: 0.9681\n",
      "Epoch 94/100\n",
      "12/12 [==============================] - 0s 4ms/step - loss: 0.0958 - accuracy: 0.9764 - val_loss: 0.0959 - val_accuracy: 0.9681\n",
      "Epoch 95/100\n",
      "12/12 [==============================] - 0s 4ms/step - loss: 0.0954 - accuracy: 0.9764 - val_loss: 0.0958 - val_accuracy: 0.9681\n",
      "Epoch 96/100\n",
      "12/12 [==============================] - 0s 4ms/step - loss: 0.0949 - accuracy: 0.9764 - val_loss: 0.0953 - val_accuracy: 0.9681\n",
      "Epoch 97/100\n",
      "12/12 [==============================] - 0s 4ms/step - loss: 0.0945 - accuracy: 0.9764 - val_loss: 0.0948 - val_accuracy: 0.9681\n",
      "Epoch 98/100\n",
      "12/12 [==============================] - 0s 4ms/step - loss: 0.0941 - accuracy: 0.9764 - val_loss: 0.0942 - val_accuracy: 0.9681\n",
      "Epoch 99/100\n",
      "12/12 [==============================] - 0s 4ms/step - loss: 0.0936 - accuracy: 0.9764 - val_loss: 0.0939 - val_accuracy: 0.9681\n",
      "Epoch 100/100\n",
      "12/12 [==============================] - 0s 5ms/step - loss: 0.0932 - accuracy: 0.9764 - val_loss: 0.0936 - val_accuracy: 0.9681\n"
     ]
    }
   ],
   "source": [
    "r = model.fit(X_train , y_train , validation_data=(X_test,y_test) , epochs=100)"
   ]
  },
  {
   "cell_type": "code",
   "execution_count": 21,
   "metadata": {},
   "outputs": [
    {
     "data": {
      "text/plain": [
       "[<matplotlib.lines.Line2D at 0x16a4e0e9710>]"
      ]
     },
     "execution_count": 21,
     "metadata": {},
     "output_type": "execute_result"
    },
    {
     "data": {
      "image/png": "[encoded data removed]",
      "text/plain": [
       "<Figure size 432x288 with 1 Axes>"
      ]
     },
     "metadata": {
      "needs_background": "light"
     },
     "output_type": "display_data"
    }
   ],
   "source": [
    "import matplotlib.pyplot as plt \n",
    "\n",
    "plt.plot(r.history['loss'] , label='loss')\n",
    "plt.plot(r.history['val_loss'] , label='val_loss')"
   ]
  },
  {
   "cell_type": "code",
   "execution_count": 22,
   "metadata": {},
   "outputs": [
    {
     "data": {
      "text/plain": [
       "[<matplotlib.lines.Line2D at 0x16a4dfd5438>]"
      ]
     },
     "execution_count": 22,
     "metadata": {},
     "output_type": "execute_result"
    },
    {
     "data": {
      "image/png": "[encoded data removed]",
      "text/plain": [
       "<Figure size 432x288 with 1 Axes>"
      ]
     },
     "metadata": {
      "needs_background": "light"
     },
     "output_type": "display_data"
    }
   ],
   "source": [
    "plt.plot(r.history['accuracy'] , label='accuracy')\n",
    "plt.plot(r.history['val_accuracy'] , label='val_accuracy')"
   ]
  },
  {
   "cell_type": "code",
   "execution_count": 23,
   "metadata": {},
   "outputs": [],
   "source": [
    "model.save('ClassificationModel.h5')"
   ]
  },
  {
   "cell_type": "code",
   "execution_count": 24,
   "metadata": {},
   "outputs": [
    {
     "name": "stdout",
     "output_type": "stream",
     "text": [
      "6/6 [==============================] - 0s 998us/step - loss: 0.0936 - accuracy: 0.9681\n"
     ]
    },
    {
     "data": {
      "text/plain": [
       "[0.09361419081687927, 0.9680851101875305]"
      ]
     },
     "execution_count": 24,
     "metadata": {},
     "output_type": "execute_result"
    }
   ],
   "source": [
    "model.evaluate(X_test,y_test)"
   ]
  },
  {
   "cell_type": "code",
   "execution_count": 26,
   "metadata": {},
   "outputs": [],
   "source": [
    "pred = model.predict(X_test)"
   ]
  },
  {
   "cell_type": "code",
   "execution_count": 27,
   "metadata": {},
   "outputs": [],
   "source": [
    "import numpy as np\n",
    "\n",
    "predNew = np.round(pred)"
   ]
  },
  {
   "cell_type": "code",
   "execution_count": 28,
   "metadata": {},
   "outputs": [
    {
     "name": "stdout",
     "output_type": "stream",
     "text": [
      "(188, 1)\n",
      "(188,)\n"
     ]
    }
   ],
   "source": [
    "print(predNew.shape)\n",
    "print(y_test.shape)"
   ]
  },
  {
   "cell_type": "code",
   "execution_count": 29,
   "metadata": {},
   "outputs": [],
   "source": [
    "predNew = np.round(pred).flatten()"
   ]
  },
  {
   "cell_type": "code",
   "execution_count": 30,
   "metadata": {},
   "outputs": [
    {
     "name": "stdout",
     "output_type": "stream",
     "text": [
      "(188,)\n",
      "(188,)\n"
     ]
    }
   ],
   "source": [
    "print(predNew.shape)\n",
    "print(y_test.shape)"
   ]
  },
  {
   "cell_type": "code",
   "execution_count": 31,
   "metadata": {},
   "outputs": [
    {
     "name": "stdout",
     "output_type": "stream",
     "text": [
      "0.9680851063829787\n"
     ]
    }
   ],
   "source": [
    "print(np.mean(y_test==predNew))"
   ]
  },
  {
   "cell_type": "code",
   "execution_count": 32,
   "metadata": {},
   "outputs": [
    {
     "name": "stdout",
     "output_type": "stream",
     "text": [
      "6/6 [==============================] - 0s 2ms/step - loss: 0.0936 - accuracy: 0.9681\n"
     ]
    },
    {
     "data": {
      "text/plain": [
       "[0.09361419081687927, 0.9680851101875305]"
      ]
     },
     "execution_count": 32,
     "metadata": {},
     "output_type": "execute_result"
    }
   ],
   "source": [
    "model.evaluate(X_test,y_test)"
   ]
  },
  {
   "cell_type": "code",
   "execution_count": 34,
   "metadata": {},
   "outputs": [
    {
     "name": "stdout",
     "output_type": "stream",
     "text": [
      "Help on method evaluate in module tensorflow.python.keras.engine.training:\n",
      "\n",
      "evaluate(x=None, y=None, batch_size=None, verbose=1, sample_weight=None, steps=None, callbacks=None, max_queue_size=10, workers=1, use_multiprocessing=False, return_dict=False) method of tensorflow.python.keras.engine.sequential.Sequential instance\n",
      "    Returns the loss value & metrics values for the model in test mode.\n",
      "    \n",
      "    Computation is done in batches.\n",
      "    \n",
      "    Arguments:\n",
      "        x: Input data. It could be: - A Numpy array (or array-like), or a list\n",
      "          of arrays (in case the model has multiple inputs). - A TensorFlow\n",
      "          tensor, or a list of tensors (in case the model has multiple inputs).\n",
      "          - A dict mapping input names to the corresponding array/tensors, if\n",
      "          the model has named inputs. - A `tf.data` dataset. - A generator or\n",
      "          `keras.utils.Sequence` instance. A more detailed description of\n",
      "          unpacking behavior for iterator types (Dataset, generator, Sequence)\n",
      "          is given in the `Unpacking behavior for iterator-like inputs` section\n",
      "          of `Model.fit`.\n",
      "        y: Target data. Like the input data `x`, it could be either Numpy\n",
      "          array(s) or TensorFlow tensor(s). It should be consistent with `x`\n",
      "          (you cannot have Numpy inputs and tensor targets, or inversely). If\n",
      "          `x` is a dataset, generator or `keras.utils.Sequence` instance, `y`\n",
      "          should not be specified (since targets will be obtained from the\n",
      "          iterator/dataset).\n",
      "        batch_size: Integer or `None`. Number of samples per gradient update. If\n",
      "          unspecified, `batch_size` will default to 32. Do not specify the\n",
      "          `batch_size` if your data is in the form of a dataset, generators,\n",
      "          or `keras.utils.Sequence` instances (since they generate batches).\n",
      "        verbose: 0 or 1. Verbosity mode. 0 = silent, 1 = progress bar.\n",
      "        sample_weight: Optional Numpy array of weights for the test samples,\n",
      "          used for weighting the loss function. You can either pass a flat (1D)\n",
      "          Numpy array with the same length as the input samples\n",
      "            (1:1 mapping between weights and samples), or in the case of\n",
      "              temporal data, you can pass a 2D array with shape `(samples,\n",
      "              sequence_length)`, to apply a different weight to every timestep\n",
      "              of every sample. In this case you should make sure to specify\n",
      "              `sample_weight_mode=\"temporal\"` in `compile()`. This argument is\n",
      "              not supported when `x` is a dataset, instead pass sample weights\n",
      "              as the third element of `x`.\n",
      "        steps: Integer or `None`. Total number of steps (batches of samples)\n",
      "          before declaring the evaluation round finished. Ignored with the\n",
      "          default value of `None`. If x is a `tf.data` dataset and `steps` is\n",
      "          None, 'evaluate' will run until the dataset is exhausted. This\n",
      "          argument is not supported with array inputs.\n",
      "        callbacks: List of `keras.callbacks.Callback` instances. List of\n",
      "          callbacks to apply during evaluation. See\n",
      "          [callbacks](/api_docs/python/tf/keras/callbacks).\n",
      "        max_queue_size: Integer. Used for generator or `keras.utils.Sequence`\n",
      "          input only. Maximum size for the generator queue. If unspecified,\n",
      "          `max_queue_size` will default to 10.\n",
      "        workers: Integer. Used for generator or `keras.utils.Sequence` input\n",
      "          only. Maximum number of processes to spin up when using process-based\n",
      "          threading. If unspecified, `workers` will default to 1. If 0, will\n",
      "          execute the generator on the main thread.\n",
      "        use_multiprocessing: Boolean. Used for generator or\n",
      "          `keras.utils.Sequence` input only. If `True`, use process-based\n",
      "          threading. If unspecified, `use_multiprocessing` will default to\n",
      "          `False`. Note that because this implementation relies on\n",
      "          multiprocessing, you should not pass non-picklable arguments to the\n",
      "          generator as they can't be passed easily to children processes.\n",
      "        return_dict: If `True`, loss and metric results are returned as a dict,\n",
      "          with each key being the name of the metric. If `False`, they are\n",
      "          returned as a list.\n",
      "    \n",
      "    See the discussion of `Unpacking behavior for iterator-like inputs` for\n",
      "    `Model.fit`.\n",
      "    \n",
      "    Returns:\n",
      "        Scalar test loss (if the model has a single output and no metrics)\n",
      "        or list of scalars (if the model has multiple outputs\n",
      "        and/or metrics). The attribute `model.metrics_names` will give you\n",
      "        the display labels for the scalar outputs.\n",
      "    \n",
      "    Raises:\n",
      "        ValueError: in case of invalid arguments.\n",
      "\n"
     ]
    }
   ],
   "source": [
    "help(model.evaluate)"
   ]
  },
  {
   "cell_type": "code",
   "execution_count": null,
   "metadata": {},
   "outputs": [],
   "source": []
  }
 ],
 "metadata": {
  "kernelspec": {
   "display_name": "Python 3",
   "language": "python",
   "name": "python3"
  },
  "language_info": {
   "codemirror_mode": {
    "name": "ipython",
    "version": 3
   },
   "file_extension": ".py",
   "mimetype": "text/x-python",
   "name": "python",
   "nbconvert_exporter": "python",
   "pygments_lexer": "ipython3",
   "version": "3.6.10"
  }
 },
 "nbformat": 4,
 "nbformat_minor": 4
}
