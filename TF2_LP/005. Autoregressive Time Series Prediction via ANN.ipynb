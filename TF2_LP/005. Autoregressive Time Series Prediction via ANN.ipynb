{
 "cells": [
  {
   "cell_type": "code",
   "execution_count": 23,
   "metadata": {},
   "outputs": [],
   "source": [
    "import numpy as np\n",
    "import matplotlib.pyplot as plt\n",
    "from tensorflow.keras.models import Model\n",
    "from tensorflow.keras.layers import Input , Dense \n",
    "from tensorflow.keras.optimizers import SGD, Adam"
   ]
  },
  {
   "cell_type": "code",
   "execution_count": 26,
   "metadata": {},
   "outputs": [],
   "source": [
    "series = np.sin(0.1*np.arange(200)) + np.random.randn(200)*0.2"
   ]
  },
  {
   "cell_type": "code",
   "execution_count": 27,
   "metadata": {},
   "outputs": [
    {
     "data": {
      "text/plain": [
       "[<matplotlib.lines.Line2D at 0x2af96737710>]"
      ]
     },
     "execution_count": 27,
     "metadata": {},
     "output_type": "execute_result"
    },
    {
     "data": {
      "image/png": "[encoded data removed]",
      "text/plain": [
       "<Figure size 432x288 with 1 Axes>"
      ]
     },
     "metadata": {
      "needs_background": "light"
     },
     "output_type": "display_data"
    }
   ],
   "source": [
    "plt.plot(series)"
   ]
  },
  {
   "cell_type": "markdown",
   "metadata": {},
   "source": [
    "## Build dataset"
   ]
  },
  {
   "cell_type": "code",
   "execution_count": 28,
   "metadata": {},
   "outputs": [],
   "source": [
    "T = 10\n",
    "X = []\n",
    "Y = []\n",
    "\n",
    "for t in range(len(series) - T):\n",
    "    x = series[t:t+T]\n",
    "    X.append(x)\n",
    "    y = series[t+T]\n",
    "    Y.append(y)\n",
    "    \n",
    "    "
   ]
  },
  {
   "cell_type": "code",
   "execution_count": 29,
   "metadata": {},
   "outputs": [
    {
     "data": {
      "text/plain": [
       "(190, 10)"
      ]
     },
     "execution_count": 29,
     "metadata": {},
     "output_type": "execute_result"
    }
   ],
   "source": [
    "X = np.array(X)\n",
    "X.shape"
   ]
  },
  {
   "cell_type": "code",
   "execution_count": 30,
   "metadata": {},
   "outputs": [],
   "source": [
    "X = X.reshape(-1,T)"
   ]
  },
  {
   "cell_type": "code",
   "execution_count": 31,
   "metadata": {},
   "outputs": [
    {
     "data": {
      "text/plain": [
       "(190, 10)"
      ]
     },
     "execution_count": 31,
     "metadata": {},
     "output_type": "execute_result"
    }
   ],
   "source": [
    "X.shape"
   ]
  },
  {
   "cell_type": "code",
   "execution_count": 32,
   "metadata": {},
   "outputs": [],
   "source": [
    "Y = np.array(Y)"
   ]
  },
  {
   "cell_type": "code",
   "execution_count": 33,
   "metadata": {},
   "outputs": [],
   "source": [
    "N = len(X)"
   ]
  },
  {
   "cell_type": "code",
   "execution_count": 34,
   "metadata": {},
   "outputs": [
    {
     "data": {
      "text/plain": [
       "190"
      ]
     },
     "execution_count": 34,
     "metadata": {},
     "output_type": "execute_result"
    }
   ],
   "source": [
    "N"
   ]
  },
  {
   "cell_type": "code",
   "execution_count": 35,
   "metadata": {},
   "outputs": [
    {
     "data": {
      "text/plain": [
       "(10,)"
      ]
     },
     "execution_count": 35,
     "metadata": {},
     "output_type": "execute_result"
    }
   ],
   "source": [
    "X[0].shape"
   ]
  },
  {
   "cell_type": "code",
   "execution_count": 44,
   "metadata": {},
   "outputs": [
    {
     "data": {
      "text/plain": [
       "array([0.04243575, 0.46235049, 0.32627964, 0.25541739, 0.52386265,\n",
       "       0.7307417 , 0.50597723, 0.74624019, 1.0211953 , 0.86254081])"
      ]
     },
     "execution_count": 44,
     "metadata": {},
     "output_type": "execute_result"
    }
   ],
   "source": [
    "X[0]"
   ]
  },
  {
   "cell_type": "code",
   "execution_count": 43,
   "metadata": {},
   "outputs": [
    {
     "data": {
      "text/plain": [
       "0.4211912201106762"
      ]
     },
     "execution_count": 43,
     "metadata": {},
     "output_type": "execute_result"
    }
   ],
   "source": [
    "Y[0]"
   ]
  },
  {
   "cell_type": "markdown",
   "metadata": {},
   "source": [
    "## Model "
   ]
  },
  {
   "cell_type": "code",
   "execution_count": 36,
   "metadata": {},
   "outputs": [],
   "source": [
    "i = Input(shape=(X[0].shape))\n",
    "x = Dense(1)(i)\n",
    "\n"
   ]
  },
  {
   "cell_type": "code",
   "execution_count": 37,
   "metadata": {},
   "outputs": [],
   "source": [
    "model = Model(i,x)"
   ]
  },
  {
   "cell_type": "code",
   "execution_count": 38,
   "metadata": {},
   "outputs": [],
   "source": [
    "model.compile(optimizer = Adam(lr=0.1) , loss = 'mse')"
   ]
  },
  {
   "cell_type": "code",
   "execution_count": 39,
   "metadata": {},
   "outputs": [
    {
     "name": "stdout",
     "output_type": "stream",
     "text": [
      "Epoch 1/80\n",
      "3/3 [==============================] - 0s 27ms/step - loss: 0.2133 - val_loss: 0.2599\n",
      "Epoch 2/80\n",
      "3/3 [==============================] - 0s 18ms/step - loss: 0.1845 - val_loss: 0.1639\n",
      "Epoch 3/80\n",
      "3/3 [==============================] - 0s 13ms/step - loss: 0.1630 - val_loss: 0.1132\n",
      "Epoch 4/80\n",
      "3/3 [==============================] - 0s 14ms/step - loss: 0.1157 - val_loss: 0.1037\n",
      "Epoch 5/80\n",
      "3/3 [==============================] - 0s 13ms/step - loss: 0.0939 - val_loss: 0.0959\n",
      "Epoch 6/80\n",
      "3/3 [==============================] - 0s 14ms/step - loss: 0.0880 - val_loss: 0.0833\n",
      "Epoch 7/80\n",
      "3/3 [==============================] - 0s 15ms/step - loss: 0.0720 - val_loss: 0.0788\n",
      "Epoch 8/80\n",
      "3/3 [==============================] - 0s 14ms/step - loss: 0.0650 - val_loss: 0.0748\n",
      "Epoch 9/80\n",
      "3/3 [==============================] - 0s 26ms/step - loss: 0.0608 - val_loss: 0.0709\n",
      "Epoch 10/80\n",
      "3/3 [==============================] - 0s 15ms/step - loss: 0.0542 - val_loss: 0.0705\n",
      "Epoch 11/80\n",
      "3/3 [==============================] - ETA: 0s - loss: 0.037 - 0s 19ms/step - loss: 0.0513 - val_loss: 0.0700\n",
      "Epoch 12/80\n",
      "3/3 [==============================] - 0s 15ms/step - loss: 0.0488 - val_loss: 0.0689\n",
      "Epoch 13/80\n",
      "3/3 [==============================] - 0s 14ms/step - loss: 0.0482 - val_loss: 0.0684\n",
      "Epoch 14/80\n",
      "3/3 [==============================] - ETA: 0s - loss: 0.042 - 0s 15ms/step - loss: 0.0466 - val_loss: 0.0686\n",
      "Epoch 15/80\n",
      "3/3 [==============================] - 0s 14ms/step - loss: 0.0476 - val_loss: 0.0690\n",
      "Epoch 16/80\n",
      "3/3 [==============================] - 0s 13ms/step - loss: 0.0471 - val_loss: 0.0692\n",
      "Epoch 17/80\n",
      "3/3 [==============================] - 0s 14ms/step - loss: 0.0476 - val_loss: 0.0692\n",
      "Epoch 18/80\n",
      "3/3 [==============================] - 0s 14ms/step - loss: 0.0460 - val_loss: 0.0696\n",
      "Epoch 19/80\n",
      "3/3 [==============================] - 0s 14ms/step - loss: 0.0507 - val_loss: 0.0693\n",
      "Epoch 20/80\n",
      "3/3 [==============================] - 0s 14ms/step - loss: 0.0480 - val_loss: 0.0721\n",
      "Epoch 21/80\n",
      "3/3 [==============================] - ETA: 0s - loss: 0.057 - 0s 15ms/step - loss: 0.0491 - val_loss: 0.0695\n",
      "Epoch 22/80\n",
      "3/3 [==============================] - 0s 13ms/step - loss: 0.0496 - val_loss: 0.0690\n",
      "Epoch 23/80\n",
      "3/3 [==============================] - 0s 15ms/step - loss: 0.0504 - val_loss: 0.0683\n",
      "Epoch 24/80\n",
      "3/3 [==============================] - 0s 15ms/step - loss: 0.0456 - val_loss: 0.0698\n",
      "Epoch 25/80\n",
      "3/3 [==============================] - 0s 16ms/step - loss: 0.0479 - val_loss: 0.0702\n",
      "Epoch 26/80\n",
      "3/3 [==============================] - 0s 17ms/step - loss: 0.0489 - val_loss: 0.0676\n",
      "Epoch 27/80\n",
      "3/3 [==============================] - 0s 15ms/step - loss: 0.0472 - val_loss: 0.0675\n",
      "Epoch 28/80\n",
      "3/3 [==============================] - 0s 14ms/step - loss: 0.0468 - val_loss: 0.0677\n",
      "Epoch 29/80\n",
      "3/3 [==============================] - 0s 13ms/step - loss: 0.0459 - val_loss: 0.0677\n",
      "Epoch 30/80\n",
      "3/3 [==============================] - ETA: 0s - loss: 0.042 - 0s 15ms/step - loss: 0.0525 - val_loss: 0.0676\n",
      "Epoch 31/80\n",
      "3/3 [==============================] - 0s 15ms/step - loss: 0.0534 - val_loss: 0.0673\n",
      "Epoch 32/80\n",
      "3/3 [==============================] - 0s 13ms/step - loss: 0.0495 - val_loss: 0.0680\n",
      "Epoch 33/80\n",
      "3/3 [==============================] - 0s 15ms/step - loss: 0.0516 - val_loss: 0.0689\n",
      "Epoch 34/80\n",
      "3/3 [==============================] - 0s 13ms/step - loss: 0.0456 - val_loss: 0.0724\n",
      "Epoch 35/80\n",
      "3/3 [==============================] - 0s 15ms/step - loss: 0.0502 - val_loss: 0.0691\n",
      "Epoch 36/80\n",
      "3/3 [==============================] - 0s 15ms/step - loss: 0.0476 - val_loss: 0.0678\n",
      "Epoch 37/80\n",
      "3/3 [==============================] - 0s 14ms/step - loss: 0.0463 - val_loss: 0.0678\n",
      "Epoch 38/80\n",
      "3/3 [==============================] - 0s 14ms/step - loss: 0.0459 - val_loss: 0.0677\n",
      "Epoch 39/80\n",
      "3/3 [==============================] - 0s 15ms/step - loss: 0.0474 - val_loss: 0.0677\n",
      "Epoch 40/80\n",
      "3/3 [==============================] - 0s 16ms/step - loss: 0.0484 - val_loss: 0.0678\n",
      "Epoch 41/80\n",
      "3/3 [==============================] - 0s 15ms/step - loss: 0.0488 - val_loss: 0.0677\n",
      "Epoch 42/80\n",
      "3/3 [==============================] - 0s 16ms/step - loss: 0.0459 - val_loss: 0.0678\n",
      "Epoch 43/80\n",
      "3/3 [==============================] - 0s 16ms/step - loss: 0.0502 - val_loss: 0.0689\n",
      "Epoch 44/80\n",
      "3/3 [==============================] - 0s 17ms/step - loss: 0.0478 - val_loss: 0.0675\n",
      "Epoch 45/80\n",
      "3/3 [==============================] - 0s 14ms/step - loss: 0.0506 - val_loss: 0.0677\n",
      "Epoch 46/80\n",
      "3/3 [==============================] - 0s 13ms/step - loss: 0.0450 - val_loss: 0.0703\n",
      "Epoch 47/80\n",
      "3/3 [==============================] - 0s 15ms/step - loss: 0.0479 - val_loss: 0.0751\n",
      "Epoch 48/80\n",
      "3/3 [==============================] - 0s 13ms/step - loss: 0.0503 - val_loss: 0.0739\n",
      "Epoch 49/80\n",
      "3/3 [==============================] - 0s 13ms/step - loss: 0.0555 - val_loss: 0.0793\n",
      "Epoch 50/80\n",
      "3/3 [==============================] - 0s 15ms/step - loss: 0.0577 - val_loss: 0.0684\n",
      "Epoch 51/80\n",
      "3/3 [==============================] - 0s 13ms/step - loss: 0.0468 - val_loss: 0.0700\n",
      "Epoch 52/80\n",
      "3/3 [==============================] - 0s 15ms/step - loss: 0.0515 - val_loss: 0.0719\n",
      "Epoch 53/80\n",
      "3/3 [==============================] - 0s 16ms/step - loss: 0.0493 - val_loss: 0.0708\n",
      "Epoch 54/80\n",
      "3/3 [==============================] - 0s 16ms/step - loss: 0.0484 - val_loss: 0.0687\n",
      "Epoch 55/80\n",
      "3/3 [==============================] - 0s 13ms/step - loss: 0.0465 - val_loss: 0.0678\n",
      "Epoch 56/80\n",
      "3/3 [==============================] - 0s 14ms/step - loss: 0.0466 - val_loss: 0.0677\n",
      "Epoch 57/80\n",
      "3/3 [==============================] - 0s 14ms/step - loss: 0.0472 - val_loss: 0.0681\n",
      "Epoch 58/80\n",
      "3/3 [==============================] - 0s 14ms/step - loss: 0.0478 - val_loss: 0.0690\n",
      "Epoch 59/80\n",
      "3/3 [==============================] - 0s 15ms/step - loss: 0.0535 - val_loss: 0.0738\n",
      "Epoch 60/80\n",
      "3/3 [==============================] - 0s 14ms/step - loss: 0.0632 - val_loss: 0.0738\n",
      "Epoch 61/80\n",
      "3/3 [==============================] - ETA: 0s - loss: 0.037 - 0s 14ms/step - loss: 0.0686 - val_loss: 0.0709\n",
      "Epoch 62/80\n",
      "3/3 [==============================] - 0s 13ms/step - loss: 0.0636 - val_loss: 0.0686\n",
      "Epoch 63/80\n",
      "3/3 [==============================] - 0s 14ms/step - loss: 0.0508 - val_loss: 0.0696\n",
      "Epoch 64/80\n",
      "3/3 [==============================] - 0s 15ms/step - loss: 0.0527 - val_loss: 0.0690\n",
      "Epoch 65/80\n",
      "3/3 [==============================] - 0s 15ms/step - loss: 0.0474 - val_loss: 0.0757\n",
      "Epoch 66/80\n",
      "3/3 [==============================] - 0s 14ms/step - loss: 0.0495 - val_loss: 0.0701\n",
      "Epoch 67/80\n",
      "3/3 [==============================] - 0s 13ms/step - loss: 0.0511 - val_loss: 0.0724\n",
      "Epoch 68/80\n",
      "3/3 [==============================] - 0s 15ms/step - loss: 0.0517 - val_loss: 0.0726\n",
      "Epoch 69/80\n",
      "3/3 [==============================] - 0s 14ms/step - loss: 0.0460 - val_loss: 0.0720\n",
      "Epoch 70/80\n",
      "3/3 [==============================] - 0s 13ms/step - loss: 0.0493 - val_loss: 0.0690\n",
      "Epoch 71/80\n",
      "3/3 [==============================] - 0s 15ms/step - loss: 0.0479 - val_loss: 0.0676\n",
      "Epoch 72/80\n",
      "3/3 [==============================] - 0s 14ms/step - loss: 0.0478 - val_loss: 0.0704\n",
      "Epoch 73/80\n",
      "3/3 [==============================] - 0s 13ms/step - loss: 0.0491 - val_loss: 0.0697\n",
      "Epoch 74/80\n",
      "3/3 [==============================] - 0s 13ms/step - loss: 0.0495 - val_loss: 0.0684\n",
      "Epoch 75/80\n",
      "3/3 [==============================] - 0s 13ms/step - loss: 0.0487 - val_loss: 0.0684\n",
      "Epoch 76/80\n",
      "3/3 [==============================] - 0s 13ms/step - loss: 0.0472 - val_loss: 0.0679\n",
      "Epoch 77/80\n",
      "3/3 [==============================] - 0s 13ms/step - loss: 0.0507 - val_loss: 0.0689\n",
      "Epoch 78/80\n",
      "3/3 [==============================] - ETA: 0s - loss: 0.059 - 0s 15ms/step - loss: 0.0481 - val_loss: 0.0674\n",
      "Epoch 79/80\n",
      "3/3 [==============================] - 0s 17ms/step - loss: 0.0501 - val_loss: 0.0673\n",
      "Epoch 80/80\n",
      "3/3 [==============================] - 0s 15ms/step - loss: 0.0543 - val_loss: 0.0691\n"
     ]
    }
   ],
   "source": [
    "r = model.fit(X[:N//2] , Y[:N//2] , epochs = 80 , validation_data=(X[N//2:] , Y[N//2:]))"
   ]
  },
  {
   "cell_type": "code",
   "execution_count": 42,
   "metadata": {},
   "outputs": [
    {
     "data": {
      "text/plain": [
       "[<matplotlib.lines.Line2D at 0x2af96b05710>]"
      ]
     },
     "execution_count": 42,
     "metadata": {},
     "output_type": "execute_result"
    },
    {
     "data": {
      "image/png": "[encoded data removed]",
      "text/plain": [
       "<Figure size 432x288 with 1 Axes>"
      ]
     },
     "metadata": {
      "needs_background": "light"
     },
     "output_type": "display_data"
    }
   ],
   "source": [
    "plt.plot(r.history['loss'] , color = 'blue')\n",
    "plt.plot(r.history['val_loss'] , color = 'green')\n"
   ]
  },
  {
   "cell_type": "markdown",
   "metadata": {},
   "source": [
    "## Prediction - The Wrong Way : Single outcome everytime "
   ]
  },
  {
   "cell_type": "code",
   "execution_count": 45,
   "metadata": {},
   "outputs": [],
   "source": [
    "val_target = Y[N//2:]\n",
    "val_forecast = []\n",
    "\n",
    "i = N//2 \n",
    "while len(val_forecast) < len(val_target):\n",
    "    p = model.predict(X[i].reshape(1,-1))[0,0]  # 1x1 array -> scalar\n",
    "    i+=1\n",
    "    val_forecast.append(p)"
   ]
  },
  {
   "cell_type": "code",
   "execution_count": 46,
   "metadata": {},
   "outputs": [
    {
     "data": {
      "text/plain": [
       "[<matplotlib.lines.Line2D at 0x2af9701ef28>]"
      ]
     },
     "execution_count": 46,
     "metadata": {},
     "output_type": "execute_result"
    },
    {
     "data": {
      "image/png": "[encoded data removed]",
      "text/plain": [
       "<Figure size 432x288 with 1 Axes>"
      ]
     },
     "metadata": {
      "needs_background": "light"
     },
     "output_type": "display_data"
    }
   ],
   "source": [
    "plt.plot(val_forecast , label = 'val_forecast' , color ='green')\n",
    "plt.plot(val_target , label = 'val_target' , color ='red')"
   ]
  },
  {
   "cell_type": "code",
   "execution_count": 49,
   "metadata": {},
   "outputs": [
    {
     "data": {
      "text/plain": [
       "95"
      ]
     },
     "execution_count": 49,
     "metadata": {},
     "output_type": "execute_result"
    }
   ],
   "source": [
    "len(val_forecast)"
   ]
  },
  {
   "cell_type": "markdown",
   "metadata": {},
   "source": [
    "## Prediction - The Right Way : Single outcome everytime "
   ]
  },
  {
   "cell_type": "code",
   "execution_count": 50,
   "metadata": {},
   "outputs": [],
   "source": [
    "val_target = Y[N//2:]\n",
    "val_forecast = []\n",
    "\n",
    "x_last = X[N//2] \n",
    "while len(val_forecast) < len(val_target):\n",
    "    p = model.predict(x_last.reshape(1,-1))[0,0]  # 1x1 array -> scalar  ; get the first prediction\n",
    "    val_forecast.append(p)  # append to list\n",
    "    x_last = np.roll(x_last,-1) # shift the list left or get rid of the first element leaving last spot vacant\n",
    "    x_last[-1] = p # fill the last spot with our prediction \n",
    "    \n",
    "# This way we do not use the training data for prediction and get to see what our model can actually do.."
   ]
  },
  {
   "cell_type": "code",
   "execution_count": 51,
   "metadata": {},
   "outputs": [
    {
     "data": {
      "text/plain": [
       "[<matplotlib.lines.Line2D at 0x2af94f864e0>]"
      ]
     },
     "execution_count": 51,
     "metadata": {},
     "output_type": "execute_result"
    },
    {
     "data": {
      "image/png": "[encoded data removed]",
      "text/plain": [
       "<Figure size 432x288 with 1 Axes>"
      ]
     },
     "metadata": {
      "needs_background": "light"
     },
     "output_type": "display_data"
    }
   ],
   "source": [
    "plt.plot(val_forecast , label = 'val_forecast' , color ='green')\n",
    "plt.plot(val_target , label = 'val_target' , color ='red')"
   ]
  },
  {
   "cell_type": "code",
   "execution_count": null,
   "metadata": {},
   "outputs": [],
   "source": []
  }
 ],
 "metadata": {
  "kernelspec": {
   "display_name": "Python 3",
   "language": "python",
   "name": "python3"
  },
  "language_info": {
   "codemirror_mode": {
    "name": "ipython",
    "version": 3
   },
   "file_extension": ".py",
   "mimetype": "text/x-python",
   "name": "python",
   "nbconvert_exporter": "python",
   "pygments_lexer": "ipython3",
   "version": "3.6.10"
  }
 },
 "nbformat": 4,
 "nbformat_minor": 4
}
