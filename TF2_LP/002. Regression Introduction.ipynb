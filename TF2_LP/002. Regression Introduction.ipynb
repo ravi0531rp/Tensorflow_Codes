{
 "cells": [
  {
   "cell_type": "code",
   "execution_count": 1,
   "metadata": {},
   "outputs": [],
   "source": [
    "import tensorflow as tf"
   ]
  },
  {
   "cell_type": "code",
   "execution_count": 4,
   "metadata": {},
   "outputs": [],
   "source": [
    "import numpy as np\n",
    "import matplotlib.pyplot as plt\n",
    "import pandas as pd"
   ]
  },
  {
   "cell_type": "code",
   "execution_count": 17,
   "metadata": {},
   "outputs": [
    {
     "name": "stderr",
     "output_type": "stream",
     "text": [
      "b'Skipping line 7: expected 9 fields, saw 11\\nSkipping line 23: expected 9 fields, saw 10\\nSkipping line 24: expected 9 fields, saw 11\\nSkipping line 36: expected 9 fields, saw 10\\nSkipping line 37: expected 9 fields, saw 10\\nSkipping line 41: expected 9 fields, saw 11\\nSkipping line 42: expected 9 fields, saw 10\\nSkipping line 43: expected 9 fields, saw 10\\nSkipping line 44: expected 9 fields, saw 10\\nSkipping line 45: expected 9 fields, saw 10\\nSkipping line 46: expected 9 fields, saw 10\\nSkipping line 47: expected 9 fields, saw 10\\nSkipping line 50: expected 9 fields, saw 11\\nSkipping line 51: expected 9 fields, saw 13\\nSkipping line 52: expected 9 fields, saw 10\\nSkipping line 53: expected 9 fields, saw 10\\nSkipping line 54: expected 9 fields, saw 10\\nSkipping line 56: expected 9 fields, saw 11\\nSkipping line 57: expected 9 fields, saw 10\\nSkipping line 58: expected 9 fields, saw 11\\nSkipping line 59: expected 9 fields, saw 10\\nSkipping line 60: expected 9 fields, saw 12\\nSkipping line 62: expected 9 fields, saw 11\\nSkipping line 63: expected 9 fields, saw 11\\nSkipping line 65: expected 9 fields, saw 12\\nSkipping line 67: expected 9 fields, saw 12\\nSkipping line 68: expected 9 fields, saw 10\\nSkipping line 69: expected 9 fields, saw 10\\nSkipping line 70: expected 9 fields, saw 10\\nSkipping line 71: expected 9 fields, saw 10\\nSkipping line 72: expected 9 fields, saw 11\\nSkipping line 73: expected 9 fields, saw 10\\nSkipping line 74: expected 9 fields, saw 10\\nSkipping line 76: expected 9 fields, saw 11\\nSkipping line 77: expected 9 fields, saw 10\\nSkipping line 78: expected 9 fields, saw 12\\nSkipping line 79: expected 9 fields, saw 14\\nSkipping line 80: expected 9 fields, saw 10\\nSkipping line 81: expected 9 fields, saw 10\\nSkipping line 82: expected 9 fields, saw 10\\nSkipping line 83: expected 9 fields, saw 13\\nSkipping line 84: expected 9 fields, saw 12\\nSkipping line 85: expected 9 fields, saw 14\\nSkipping line 88: expected 9 fields, saw 12\\nSkipping line 89: expected 9 fields, saw 13\\nSkipping line 90: expected 9 fields, saw 11\\nSkipping line 91: expected 9 fields, saw 11\\nSkipping line 92: expected 9 fields, saw 10\\nSkipping line 93: expected 9 fields, saw 11\\nSkipping line 94: expected 9 fields, saw 12\\nSkipping line 95: expected 9 fields, saw 12\\nSkipping line 96: expected 9 fields, saw 13\\nSkipping line 97: expected 9 fields, saw 14\\nSkipping line 99: expected 9 fields, saw 11\\nSkipping line 100: expected 9 fields, saw 16\\nSkipping line 102: expected 9 fields, saw 10\\n'\n"
     ]
    }
   ],
   "source": [
    "data = pd.read_csv('moore.csv' , header=None ,  delim_whitespace=True, error_bad_lines=False).values"
   ]
  },
  {
   "cell_type": "code",
   "execution_count": 18,
   "metadata": {},
   "outputs": [
    {
     "data": {
      "text/plain": [
       "(46, 9)"
      ]
     },
     "execution_count": 18,
     "metadata": {},
     "output_type": "execute_result"
    }
   ],
   "source": [
    "data.shape"
   ]
  },
  {
   "cell_type": "code",
   "execution_count": 19,
   "metadata": {},
   "outputs": [
    {
     "data": {
      "text/plain": [
       "array([['Intel', '4004', '2,300', '1971', 'Intel', '10,000', 'nm', '12',\n",
       "        'mm²'],\n",
       "       ['Intel', '8008', '3,500', '1972', 'Intel', '10,000', 'nm', '14',\n",
       "        'mm²'],\n",
       "       ['Intel', '8080', '4,500', '1974', 'Intel', '6,000', 'nm', '20',\n",
       "        'mm²'],\n",
       "       ['Motorola', '6800', '4,100', '1974', 'Motorola', '6,000', 'nm',\n",
       "        '16', 'mm²'],\n",
       "       ['RCA', '1802', '5,000', '1974', 'RCA', '5,000', 'nm', '27',\n",
       "        'mm²'],\n",
       "       ['TMS', '1000', '8,000', '1974[7]', 'Texas', 'Instruments',\n",
       "        '8,000', 'nm', nan],\n",
       "       ['Intel', '8085', '6,500', '1976', 'Intel', '3,000', 'nm', '20',\n",
       "        'mm²'],\n",
       "       ['Zilog', 'Z80', '8,500', '1976', 'Zilog', '4,000', 'nm', '18',\n",
       "        'mm²'],\n",
       "       ['Intel', '8086', '29,000', '1978', 'Intel', '3,000', 'nm', '33',\n",
       "        'mm²'],\n",
       "       ['Motorola', '6809', '9,000', '1978', 'Motorola', '5,000', 'nm',\n",
       "        '21', 'mm²'],\n",
       "       ['Intel', '8088', '29,000', '1979', 'Intel', '3,000', 'nm', '33',\n",
       "        'mm²'],\n",
       "       ['Motorola', '68000', '68,000', '1979', 'Motorola', '3,500', 'nm',\n",
       "        '44', 'mm²'],\n",
       "       ['WDC', '65C02', '11,500[9]', '1981', 'WDC', '3,000', 'nm', '6',\n",
       "        'mm²'],\n",
       "       ['Intel', '80186', '55,000', '1982', 'Intel', '3,000', 'nm', '60',\n",
       "        'mm²'],\n",
       "       ['Intel', '80286', '134,000', '1982', 'Intel', '1,500', 'nm',\n",
       "        '49', 'mm²'],\n",
       "       ['WDC', '65C816', '22,000[10]', '1983', 'WDC', '9', 'mm²', nan,\n",
       "        nan],\n",
       "       ['Motorola', '68020', '190,000[11]', '1984', 'Motorola', '2,000',\n",
       "        'nm', '85', 'mm²'],\n",
       "       ['ARM', '1', '25,000[11]', '1985', 'Acorn', '3,000', 'nm', '50',\n",
       "        'mm²'],\n",
       "       ['Intel', '80386', '275,000', '1985', 'Intel', '1,500', 'nm',\n",
       "        '104', 'mm²'],\n",
       "       ['Novix', 'NC4016', '16,000[12]', '1985[13]', 'Harris',\n",
       "        'Corporation', '3,000', 'nm[14]', nan],\n",
       "       ['ARM', '2', '30,000[11]', '1986', 'Acorn', '2,000', 'nm', '30',\n",
       "        'mm²'],\n",
       "       ['Intel', 'i960', '250,000[17]', '1988', 'Intel', '600', 'nm',\n",
       "        nan, nan],\n",
       "       ['ARM', '3', '300,000', '1989', 'Acorn', nan, nan, nan, nan],\n",
       "       ['Intel', '80486', '1,180,235', '1989', 'Intel', '1000', 'nm',\n",
       "        '173', 'mm²'],\n",
       "       ['ARM', '6', '35,000', '1991', 'ARM', nan, nan, nan, nan],\n",
       "       ['R4000', '1,350,000', '1991', 'MIPS', '1,000', 'nm', '213',\n",
       "        'mm²', nan],\n",
       "       ['Pentium', '3,100,000', '1993', 'Intel', '800', 'nm', '294',\n",
       "        'mm²', nan],\n",
       "       ['ARM700', '578,977[18]', '1994', 'ARM', '68.51', 'mm²', nan, nan,\n",
       "        nan],\n",
       "       ['Pentium', 'Pro', '5,500,000[19]', '1995', 'Intel', '500', 'nm',\n",
       "        '307', 'mm²'],\n",
       "       ['SA-110', '2,500,000[11]', '1995', 'Acorn/DEC/Apple', '350',\n",
       "        'nm', '50', 'mm²', nan],\n",
       "       ['AMD', 'K5', '4,300,000', '1996', 'AMD', '500', 'nm', '251',\n",
       "        'mm²'],\n",
       "       ['AMD', 'K6', '8,800,000', '1997', 'AMD', '350', 'nm', '162',\n",
       "        'mm²'],\n",
       "       ['AMD', 'K6-III', '21,300,000', '1999', 'AMD', '250', 'nm', '118',\n",
       "        'mm²'],\n",
       "       ['AMD', 'K7', '22,000,000', '1999', 'AMD', '250', 'nm', '184',\n",
       "        'mm²'],\n",
       "       ['ARM', '9TDMI', '111,000[11]', '1999', 'Acorn', '350', 'nm',\n",
       "        '4.8', 'mm²'],\n",
       "       ['AMD', 'K8', '105,900,000', '2003', 'AMD', '130', 'nm', '193',\n",
       "        'mm²'],\n",
       "       ['Barton', '54,300,000', '2003', 'AMD', '130', 'nm', '101', 'mm²',\n",
       "        nan],\n",
       "       ['Cell', '241,000,000', '2006', 'Sony/IBM/Toshiba', '90', 'nm',\n",
       "        '221', 'mm²', nan],\n",
       "       ['ARM', 'Cortex-A9', '26,000,000[21]', '2007', 'ARM', '45', 'nm',\n",
       "        '31', 'mm²'],\n",
       "       ['POWER6', '789,000,000', '2007', 'IBM', '65', 'nm', '341', 'mm²',\n",
       "        nan],\n",
       "       ['Atom', '47,000,000', '2008', 'Intel', '45', 'nm', '24', 'mm²',\n",
       "        nan],\n",
       "       ['Quad-core', 'z196[24]', '1,400,000,000', '2010', 'IBM', '45',\n",
       "        'nm', '512', 'mm²'],\n",
       "       ['Six-core', 'zEC12', '2,750,000,000', '2012', 'IBM', '32', 'nm',\n",
       "        '597', 'mm²'],\n",
       "       ['12-core', 'POWER8', '4,200,000,000', '2013', 'IBM', '22', 'nm',\n",
       "        '650', 'mm²'],\n",
       "       ['IBM', 'z13', '3,990,000,000', '2015', 'IBM', '22', 'nm', '678',\n",
       "        'mm²'],\n",
       "       ['SPARC', 'M7', '10,000,000,000[37]', '2015', 'Oracle', '20',\n",
       "        'nm', nan, nan]], dtype=object)"
      ]
     },
     "execution_count": 19,
     "metadata": {},
     "output_type": "execute_result"
    }
   ],
   "source": [
    "data"
   ]
  },
  {
   "cell_type": "code",
   "execution_count": 21,
   "metadata": {},
   "outputs": [],
   "source": [
    "X = data[:,2].reshape(-1,1)"
   ]
  },
  {
   "cell_type": "code",
   "execution_count": 22,
   "metadata": {},
   "outputs": [],
   "source": [
    "Y = data[:,1]"
   ]
  },
  {
   "cell_type": "code",
   "execution_count": 23,
   "metadata": {},
   "outputs": [
    {
     "data": {
      "text/plain": [
       "array([['2,300'],\n",
       "       ['3,500'],\n",
       "       ['4,500'],\n",
       "       ['4,100'],\n",
       "       ['5,000'],\n",
       "       ['8,000'],\n",
       "       ['6,500'],\n",
       "       ['8,500'],\n",
       "       ['29,000'],\n",
       "       ['9,000'],\n",
       "       ['29,000'],\n",
       "       ['68,000'],\n",
       "       ['11,500[9]'],\n",
       "       ['55,000'],\n",
       "       ['134,000'],\n",
       "       ['22,000[10]'],\n",
       "       ['190,000[11]'],\n",
       "       ['25,000[11]'],\n",
       "       ['275,000'],\n",
       "       ['16,000[12]'],\n",
       "       ['30,000[11]'],\n",
       "       ['250,000[17]'],\n",
       "       ['300,000'],\n",
       "       ['1,180,235'],\n",
       "       ['35,000'],\n",
       "       ['1991'],\n",
       "       ['1993'],\n",
       "       ['1994'],\n",
       "       ['5,500,000[19]'],\n",
       "       ['1995'],\n",
       "       ['4,300,000'],\n",
       "       ['8,800,000'],\n",
       "       ['21,300,000'],\n",
       "       ['22,000,000'],\n",
       "       ['111,000[11]'],\n",
       "       ['105,900,000'],\n",
       "       ['2003'],\n",
       "       ['2006'],\n",
       "       ['26,000,000[21]'],\n",
       "       ['2007'],\n",
       "       ['2008'],\n",
       "       ['1,400,000,000'],\n",
       "       ['2,750,000,000'],\n",
       "       ['4,200,000,000'],\n",
       "       ['3,990,000,000'],\n",
       "       ['10,000,000,000[37]']], dtype=object)"
      ]
     },
     "execution_count": 23,
     "metadata": {},
     "output_type": "execute_result"
    }
   ],
   "source": [
    "X"
   ]
  },
  {
   "cell_type": "code",
   "execution_count": 13,
   "metadata": {},
   "outputs": [],
   "source": [
    "# Dataset is messed up ; Kindly ignore  if u dont wanna clean up"
   ]
  },
  {
   "cell_type": "code",
   "execution_count": null,
   "metadata": {},
   "outputs": [],
   "source": [
    "plt.scatter(X,y)"
   ]
  },
  {
   "cell_type": "code",
   "execution_count": null,
   "metadata": {},
   "outputs": [],
   "source": [
    "Y = np.log(Y)  # since growth was exp, taking log will help make a linear model"
   ]
  },
  {
   "cell_type": "code",
   "execution_count": null,
   "metadata": {},
   "outputs": [],
   "source": [
    "X = X - mean()   # as years are 1978,1979.... we need to centralize it around 0"
   ]
  },
  {
   "cell_type": "code",
   "execution_count": 24,
   "metadata": {},
   "outputs": [],
   "source": [
    "model = tf.keras.models.Sequential()"
   ]
  },
  {
   "cell_type": "code",
   "execution_count": 26,
   "metadata": {},
   "outputs": [],
   "source": [
    "model.add(tf.keras.layers.Dense(1,input_shape = (9,)))"
   ]
  },
  {
   "cell_type": "code",
   "execution_count": 27,
   "metadata": {},
   "outputs": [],
   "source": [
    "model.compile(optimizer=tf.keras.optimizers.SGD(0.001,0.9) , loss = 'mse')"
   ]
  },
  {
   "cell_type": "code",
   "execution_count": 28,
   "metadata": {},
   "outputs": [],
   "source": [
    "def schedule(epoch,lr):\n",
    "    if epoch >=50:\n",
    "        return 0.0001\n",
    "    return 0.001 "
   ]
  },
  {
   "cell_type": "code",
   "execution_count": 29,
   "metadata": {},
   "outputs": [],
   "source": [
    "scheduler = tf.keras.callbacks.LearningRateScheduler(schedule)"
   ]
  },
  {
   "cell_type": "code",
   "execution_count": null,
   "metadata": {},
   "outputs": [],
   "source": [
    "r = model.fit(X,Y,epochs=100 , callbacks=[scheduler])"
   ]
  },
  {
   "cell_type": "code",
   "execution_count": 31,
   "metadata": {},
   "outputs": [
    {
     "data": {
      "text/plain": [
       "[<tensorflow.python.keras.layers.core.Dense at 0x1d374ee0e48>]"
      ]
     },
     "execution_count": 31,
     "metadata": {},
     "output_type": "execute_result"
    }
   ],
   "source": [
    "model.layers"
   ]
  },
  {
   "cell_type": "code",
   "execution_count": 35,
   "metadata": {},
   "outputs": [
    {
     "data": {
      "text/plain": [
       "array([[ 0.03754729],\n",
       "       [-0.3973849 ],\n",
       "       [ 0.00367916],\n",
       "       [ 0.25521016],\n",
       "       [-0.1161325 ],\n",
       "       [ 0.6104611 ],\n",
       "       [-0.26976413],\n",
       "       [-0.229693  ],\n",
       "       [ 0.3162905 ]], dtype=float32)"
      ]
     },
     "execution_count": 35,
     "metadata": {},
     "output_type": "execute_result"
    }
   ],
   "source": [
    "model.layers[0].get_weights()[0]"
   ]
  },
  {
   "cell_type": "code",
   "execution_count": 36,
   "metadata": {},
   "outputs": [
    {
     "data": {
      "text/plain": [
       "array([0.], dtype=float32)"
      ]
     },
     "execution_count": 36,
     "metadata": {},
     "output_type": "execute_result"
    }
   ],
   "source": [
    "model.layers[0].get_weights()[1]"
   ]
  },
  {
   "cell_type": "code",
   "execution_count": null,
   "metadata": {},
   "outputs": [],
   "source": []
  }
 ],
 "metadata": {
  "kernelspec": {
   "display_name": "Python 3",
   "language": "python",
   "name": "python3"
  },
  "language_info": {
   "codemirror_mode": {
    "name": "ipython",
    "version": 3
   },
   "file_extension": ".py",
   "mimetype": "text/x-python",
   "name": "python",
   "nbconvert_exporter": "python",
   "pygments_lexer": "ipython3",
   "version": "3.6.10"
  }
 },
 "nbformat": 4,
 "nbformat_minor": 4
}
