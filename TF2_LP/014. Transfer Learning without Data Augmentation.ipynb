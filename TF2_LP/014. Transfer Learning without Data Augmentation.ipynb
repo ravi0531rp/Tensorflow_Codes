{
 "cells": [
  {
   "cell_type": "code",
   "execution_count": 1,
   "metadata": {},
   "outputs": [],
   "source": [
    "import numpy as np\n",
    "import matplotlib.pyplot as plt\n",
    "import pandas as pd\n",
    "\n",
    "import os\n",
    "import sys\n",
    "from glob import glob\n",
    "\n",
    "from tensorflow.keras.models import Model\n",
    "from tensorflow.keras.layers import Input, Dense, Conv2D, Flatten\n",
    "from tensorflow.keras.optimizers import SGD, Adam\n",
    "\n",
    "from tensorflow.keras.applications.vgg16 import VGG16 as PretrainedModel,preprocess_input\n",
    "from tensorflow.keras.preprocessing import image\n",
    "from tensorflow.keras.preprocessing.image import ImageDataGenerator\n"
   ]
  },
  {
   "cell_type": "code",
   "execution_count": 2,
   "metadata": {},
   "outputs": [],
   "source": [
    "train_path = r\"D:\\OWN_CODES\\003. Deep Learning\\001. Lazy Prog TF 2\\FoodData\\train\"\n",
    "valid_path = r\"D:\\OWN_CODES\\003. Deep Learning\\001. Lazy Prog TF 2\\FoodData\\test\""
   ]
  },
  {
   "cell_type": "code",
   "execution_count": 3,
   "metadata": {},
   "outputs": [],
   "source": [
    "IMAGE_SIZE = [200,200]"
   ]
  },
  {
   "cell_type": "code",
   "execution_count": 4,
   "metadata": {},
   "outputs": [],
   "source": [
    "image_files = glob(train_path + '/*/*.jpg')\n",
    "valid_image_files = glob(valid_path + '/*/*.jpg')"
   ]
  },
  {
   "cell_type": "code",
   "execution_count": 5,
   "metadata": {},
   "outputs": [],
   "source": [
    "folders = glob(train_path + '/*')"
   ]
  },
  {
   "cell_type": "code",
   "execution_count": 6,
   "metadata": {},
   "outputs": [],
   "source": [
    "ptm = PretrainedModel(\n",
    "        input_shape = IMAGE_SIZE + [3],\n",
    "        weights = 'imagenet',\n",
    "        include_top = False\n",
    "\n",
    ")"
   ]
  },
  {
   "cell_type": "code",
   "execution_count": 8,
   "metadata": {},
   "outputs": [],
   "source": [
    "x = Flatten()(ptm.output)"
   ]
  },
  {
   "cell_type": "code",
   "execution_count": 9,
   "metadata": {},
   "outputs": [],
   "source": [
    "model = Model(inputs = ptm.input , outputs = x)"
   ]
  },
  {
   "cell_type": "code",
   "execution_count": 10,
   "metadata": {},
   "outputs": [
    {
     "name": "stdout",
     "output_type": "stream",
     "text": [
      "Model: \"model\"\n",
      "_________________________________________________________________\n",
      "Layer (type)                 Output Shape              Param #   \n",
      "=================================================================\n",
      "input_1 (InputLayer)         [(None, 200, 200, 3)]     0         \n",
      "_________________________________________________________________\n",
      "block1_conv1 (Conv2D)        (None, 200, 200, 64)      1792      \n",
      "_________________________________________________________________\n",
      "block1_conv2 (Conv2D)        (None, 200, 200, 64)      36928     \n",
      "_________________________________________________________________\n",
      "block1_pool (MaxPooling2D)   (None, 100, 100, 64)      0         \n",
      "_________________________________________________________________\n",
      "block2_conv1 (Conv2D)        (None, 100, 100, 128)     73856     \n",
      "_________________________________________________________________\n",
      "block2_conv2 (Conv2D)        (None, 100, 100, 128)     147584    \n",
      "_________________________________________________________________\n",
      "block2_pool (MaxPooling2D)   (None, 50, 50, 128)       0         \n",
      "_________________________________________________________________\n",
      "block3_conv1 (Conv2D)        (None, 50, 50, 256)       295168    \n",
      "_________________________________________________________________\n",
      "block3_conv2 (Conv2D)        (None, 50, 50, 256)       590080    \n",
      "_________________________________________________________________\n",
      "block3_conv3 (Conv2D)        (None, 50, 50, 256)       590080    \n",
      "_________________________________________________________________\n",
      "block3_pool (MaxPooling2D)   (None, 25, 25, 256)       0         \n",
      "_________________________________________________________________\n",
      "block4_conv1 (Conv2D)        (None, 25, 25, 512)       1180160   \n",
      "_________________________________________________________________\n",
      "block4_conv2 (Conv2D)        (None, 25, 25, 512)       2359808   \n",
      "_________________________________________________________________\n",
      "block4_conv3 (Conv2D)        (None, 25, 25, 512)       2359808   \n",
      "_________________________________________________________________\n",
      "block4_pool (MaxPooling2D)   (None, 12, 12, 512)       0         \n",
      "_________________________________________________________________\n",
      "block5_conv1 (Conv2D)        (None, 12, 12, 512)       2359808   \n",
      "_________________________________________________________________\n",
      "block5_conv2 (Conv2D)        (None, 12, 12, 512)       2359808   \n",
      "_________________________________________________________________\n",
      "block5_conv3 (Conv2D)        (None, 12, 12, 512)       2359808   \n",
      "_________________________________________________________________\n",
      "block5_pool (MaxPooling2D)   (None, 6, 6, 512)         0         \n",
      "_________________________________________________________________\n",
      "flatten_1 (Flatten)          (None, 18432)             0         \n",
      "=================================================================\n",
      "Total params: 14,714,688\n",
      "Trainable params: 14,714,688\n",
      "Non-trainable params: 0\n",
      "_________________________________________________________________\n"
     ]
    }
   ],
   "source": [
    "model.summary()"
   ]
  },
  {
   "cell_type": "code",
   "execution_count": 11,
   "metadata": {},
   "outputs": [],
   "source": [
    "gen = ImageDataGenerator(preprocessing_function=preprocess_input)"
   ]
  },
  {
   "cell_type": "code",
   "execution_count": 12,
   "metadata": {},
   "outputs": [],
   "source": [
    "batch_size = 128"
   ]
  },
  {
   "cell_type": "code",
   "execution_count": 14,
   "metadata": {},
   "outputs": [
    {
     "name": "stdout",
     "output_type": "stream",
     "text": [
      "Found 3000 images belonging to 2 classes.\n",
      "Found 1000 images belonging to 2 classes.\n"
     ]
    }
   ],
   "source": [
    "train_gen = gen.flow_from_directory(\n",
    "        train_path,\n",
    "        target_size = IMAGE_SIZE,\n",
    "        batch_size = batch_size,\n",
    "        class_mode = 'binary'\n",
    "\n",
    ")\n",
    "\n",
    "test_gen = gen.flow_from_directory(\n",
    "        valid_path,\n",
    "        target_size = IMAGE_SIZE,\n",
    "        batch_size = batch_size,\n",
    "        class_mode = 'binary'\n",
    "\n",
    ")"
   ]
  },
  {
   "cell_type": "markdown",
   "metadata": {},
   "source": [
    "## Create tabular features for computing Z only once"
   ]
  },
  {
   "cell_type": "code",
   "execution_count": 15,
   "metadata": {},
   "outputs": [],
   "source": [
    "Ntrain = len(image_files)\n",
    "Nvalid = len(valid_image_files)"
   ]
  },
  {
   "cell_type": "code",
   "execution_count": 16,
   "metadata": {},
   "outputs": [],
   "source": [
    "# Now we should figure out the output size of Z stage\n",
    "\n",
    "feat = model.predict(np.random.random([1] + IMAGE_SIZE + [3]))"
   ]
  },
  {
   "cell_type": "code",
   "execution_count": 17,
   "metadata": {},
   "outputs": [],
   "source": [
    "D = feat.shape"
   ]
  },
  {
   "cell_type": "code",
   "execution_count": 18,
   "metadata": {},
   "outputs": [
    {
     "data": {
      "text/plain": [
       "(1, 18432)"
      ]
     },
     "execution_count": 18,
     "metadata": {},
     "output_type": "execute_result"
    }
   ],
   "source": [
    "D"
   ]
  },
  {
   "cell_type": "code",
   "execution_count": 19,
   "metadata": {},
   "outputs": [],
   "source": [
    "D = feat.shape[1]"
   ]
  },
  {
   "cell_type": "code",
   "execution_count": 20,
   "metadata": {},
   "outputs": [
    {
     "data": {
      "text/plain": [
       "18432"
      ]
     },
     "execution_count": 20,
     "metadata": {},
     "output_type": "execute_result"
    }
   ],
   "source": [
    "D"
   ]
  },
  {
   "cell_type": "code",
   "execution_count": 21,
   "metadata": {},
   "outputs": [],
   "source": [
    "X_train = np.zeros((Ntrain,D))\n",
    "y_train = np.zeros(Ntrain)"
   ]
  },
  {
   "cell_type": "code",
   "execution_count": 22,
   "metadata": {},
   "outputs": [],
   "source": [
    "X_valid = np.zeros((Nvalid,D))\n",
    "y_valid = np.zeros(Nvalid)"
   ]
  },
  {
   "cell_type": "code",
   "execution_count": 23,
   "metadata": {},
   "outputs": [
    {
     "name": "stdout",
     "output_type": "stream",
     "text": [
      "128\n",
      "256\n",
      "384\n",
      "512\n",
      "640\n",
      "768\n",
      "896\n",
      "1024\n",
      "1152\n",
      "1280\n",
      "1408\n",
      "1536\n",
      "1664\n",
      "1792\n",
      "1920\n",
      "2048\n",
      "2176\n",
      "2304\n",
      "2432\n",
      "2560\n",
      "2688\n",
      "2816\n",
      "2944\n",
      "3000\n",
      "Done\n"
     ]
    }
   ],
   "source": [
    "i = 0 \n",
    "\n",
    "for x,y in train_gen:\n",
    "    features = model.predict(x)\n",
    "    sz = len(y)\n",
    "    \n",
    "    X_train[i:i+sz] = features\n",
    "    y_train[i:i+sz] = y\n",
    "    \n",
    "    i+=sz \n",
    "    \n",
    "    print(i)\n",
    "    \n",
    "    if i>= Ntrain:\n",
    "        print(\"Done\")\n",
    "        break"
   ]
  },
  {
   "cell_type": "code",
   "execution_count": 24,
   "metadata": {},
   "outputs": [
    {
     "data": {
      "text/plain": [
       "(650.8262939453125, 0.0)"
      ]
     },
     "execution_count": 24,
     "metadata": {},
     "output_type": "execute_result"
    }
   ],
   "source": [
    "X_train.max() , X_train.min()"
   ]
  },
  {
   "cell_type": "code",
   "execution_count": 25,
   "metadata": {},
   "outputs": [
    {
     "name": "stdout",
     "output_type": "stream",
     "text": [
      "128\n",
      "256\n",
      "384\n",
      "512\n",
      "640\n",
      "768\n",
      "896\n",
      "1000\n",
      "Done\n"
     ]
    }
   ],
   "source": [
    "i = 0 \n",
    "\n",
    "for x,y in test_gen:\n",
    "    features = model.predict(x)\n",
    "    sz = len(y)\n",
    "    \n",
    "    X_valid[i:i+sz] = features\n",
    "    y_valid[i:i+sz] = y\n",
    "    \n",
    "    i+=sz \n",
    "    \n",
    "    print(i)\n",
    "    \n",
    "    if i>= Nvalid:\n",
    "        print(\"Done\")\n",
    "        break"
   ]
  },
  {
   "cell_type": "code",
   "execution_count": 26,
   "metadata": {},
   "outputs": [],
   "source": [
    "from sklearn.preprocessing import StandardScaler\n",
    "\n",
    "scaler = StandardScaler()\n",
    "X_train2 = scaler.fit_transform(X_train)\n",
    "X_valid2 = scaler.transform(X_valid)"
   ]
  },
  {
   "cell_type": "code",
   "execution_count": 28,
   "metadata": {},
   "outputs": [
    {
     "name": "stdout",
     "output_type": "stream",
     "text": [
      "1.0\n",
      "0.979\n"
     ]
    }
   ],
   "source": [
    "from sklearn.linear_model import LogisticRegression\n",
    "\n",
    "logr = LogisticRegression()\n",
    "\n",
    "logr.fit(X_train2 , y_train)\n",
    "\n",
    "print(logr.score(X_train2, y_train))\n",
    "print(logr.score(X_valid2, y_valid))"
   ]
  },
  {
   "cell_type": "code",
   "execution_count": 29,
   "metadata": {},
   "outputs": [],
   "source": [
    "i = Input(shape=(D,))\n",
    "x = Dense(1, activation='sigmoid')(i)\n",
    "\n",
    "linearModel = Model(i,x)\n",
    "\n"
   ]
  },
  {
   "cell_type": "code",
   "execution_count": 34,
   "metadata": {},
   "outputs": [],
   "source": [
    "linearModel.compile(\n",
    "        loss = 'binary_crossentropy',\n",
    "        optimizer = 'adam',\n",
    "        metrics = ['accuracy']\n",
    ")"
   ]
  },
  {
   "cell_type": "code",
   "execution_count": 35,
   "metadata": {},
   "outputs": [
    {
     "name": "stdout",
     "output_type": "stream",
     "text": [
      "Epoch 1/10\n",
      "24/24 [==============================] - 1s 28ms/step - loss: 1.4084 - accuracy: 0.9100 - val_loss: 0.2787 - val_accuracy: 0.9740\n",
      "Epoch 2/10\n",
      "24/24 [==============================] - 0s 11ms/step - loss: 0.0724 - accuracy: 0.9923 - val_loss: 0.3087 - val_accuracy: 0.9720\n",
      "Epoch 3/10\n",
      "24/24 [==============================] - 0s 11ms/step - loss: 0.0021 - accuracy: 0.9993 - val_loss: 0.2860 - val_accuracy: 0.9760\n",
      "Epoch 4/10\n",
      "24/24 [==============================] - 0s 11ms/step - loss: 5.8070e-04 - accuracy: 0.9997 - val_loss: 0.3444 - val_accuracy: 0.9720\n",
      "Epoch 5/10\n",
      "24/24 [==============================] - 0s 11ms/step - loss: 3.4953e-05 - accuracy: 1.0000 - val_loss: 0.3351 - val_accuracy: 0.9730\n",
      "Epoch 6/10\n",
      "24/24 [==============================] - 0s 12ms/step - loss: 6.6772e-06 - accuracy: 1.0000 - val_loss: 0.3327 - val_accuracy: 0.9730\n",
      "Epoch 7/10\n",
      "24/24 [==============================] - 0s 12ms/step - loss: 5.2443e-06 - accuracy: 1.0000 - val_loss: 0.3312 - val_accuracy: 0.9730\n",
      "Epoch 8/10\n",
      "24/24 [==============================] - 0s 11ms/step - loss: 4.3078e-06 - accuracy: 1.0000 - val_loss: 0.3302 - val_accuracy: 0.9730\n",
      "Epoch 9/10\n",
      "24/24 [==============================] - 0s 11ms/step - loss: 3.7932e-06 - accuracy: 1.0000 - val_loss: 0.3292 - val_accuracy: 0.9730\n",
      "Epoch 10/10\n",
      "24/24 [==============================] - 0s 11ms/step - loss: 3.3426e-06 - accuracy: 1.0000 - val_loss: 0.3282 - val_accuracy: 0.9730\n"
     ]
    }
   ],
   "source": [
    "r = linearModel.fit(\n",
    "        X_train,y_train,\n",
    "        batch_size = 128,\n",
    "        epochs = 10,\n",
    "        validation_data = (X_valid,y_valid)\n",
    ")"
   ]
  },
  {
   "cell_type": "code",
   "execution_count": 36,
   "metadata": {},
   "outputs": [
    {
     "data": {
      "text/plain": [
       "[<matplotlib.lines.Line2D at 0x16380b93eb8>]"
      ]
     },
     "execution_count": 36,
     "metadata": {},
     "output_type": "execute_result"
    },
    {
     "data": {
      "image/png": "[encoded data removed]",
      "text/plain": [
       "<Figure size 432x288 with 1 Axes>"
      ]
     },
     "metadata": {
      "needs_background": "light"
     },
     "output_type": "display_data"
    }
   ],
   "source": [
    "plt.plot(r.history['loss'] , color = 'red' , label = 'loss')\n",
    "plt.plot(r.history['val_loss'] , color = 'blue' , label = 'val_loss')\n"
   ]
  },
  {
   "cell_type": "code",
   "execution_count": null,
   "metadata": {},
   "outputs": [],
   "source": []
  }
 ],
 "metadata": {
  "kernelspec": {
   "display_name": "Python 3",
   "language": "python",
   "name": "python3"
  },
  "language_info": {
   "codemirror_mode": {
    "name": "ipython",
    "version": 3
   },
   "file_extension": ".py",
   "mimetype": "text/x-python",
   "name": "python",
   "nbconvert_exporter": "python",
   "pygments_lexer": "ipython3",
   "version": "3.6.10"
  }
 },
 "nbformat": 4,
 "nbformat_minor": 4
}
